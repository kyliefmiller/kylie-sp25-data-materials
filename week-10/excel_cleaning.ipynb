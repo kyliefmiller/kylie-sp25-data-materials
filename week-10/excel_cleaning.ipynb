{
 "cells": [
  {
   "cell_type": "code",
   "execution_count": 1,
   "id": "b20ee8b5-a214-4291-ae2d-279e47f6c78f",
   "metadata": {},
   "outputs": [
    {
     "name": "stdout",
     "output_type": "stream",
     "text": [
      "(6, 5)\n",
      "(5, 4)\n",
      "            University  total_students  undergrad_percent  grad_percent  \\\n",
      "0  Stanford University           16937               65.2          34.8   \n",
      "1   harvard university           20050               62.8          37.2   \n",
      "2                MIT             11376               54.5          45.5   \n",
      "3                 Yale           12060               58.3          41.7   \n",
      "4   harvard university           20050               62.8          37.2   \n",
      "\n",
      "   International students  \n",
      "0                    3984  \n",
      "1                    5726  \n",
      "2                    3787  \n",
      "3                    2841  \n",
      "4                    5726  \n",
      "            university  undergrad_tuition  grad_tuition  Average_financial_aid\n",
      "0  Stanford University              56169         54315                  52030\n",
      "1   harvard university              54002         51654                  53604\n",
      "2                MIT                55878         58240                  48264\n",
      "3                 Yale              59950         45700                  55879\n",
      "4          UC Berkeley              14226         14226                  23736\n"
     ]
    }
   ],
   "source": [
    "import pandas as pd\n",
    "\n",
    "# Load both sheets\n",
    "enrollment_df = pd.read_excel('university_data.xlsx', sheet_name='Enrollment')\n",
    "tuition_df = pd.read_excel('university_data.xlsx', sheet_name='Tuition')\n",
    "\n",
    "# View basic information\n",
    "print(enrollment_df.shape)  # Check number of rows and columns\n",
    "print(tuition_df.shape)\n",
    "\n",
    "# Preview the data\n",
    "print(enrollment_df.head())\n",
    "print(tuition_df.head())\n"
   ]
  },
  {
   "cell_type": "code",
   "execution_count": 3,
   "id": "4e0ed45e-c882-401e-99c6-551f09a88616",
   "metadata": {},
   "outputs": [
    {
     "name": "stdout",
     "output_type": "stream",
     "text": [
      "Index(['University', 'total_students', 'undergrad_percent', 'grad_percent',\n",
      "       'International students'],\n",
      "      dtype='object')\n",
      "Index(['university', 'undergrad_tuition', 'grad_tuition',\n",
      "       'Average_financial_aid'],\n",
      "      dtype='object')\n",
      "University                 object\n",
      "total_students              int64\n",
      "undergrad_percent         float64\n",
      "grad_percent              float64\n",
      "International students      int64\n",
      "dtype: object\n",
      "university               object\n",
      "undergrad_tuition         int64\n",
      "grad_tuition              int64\n",
      "Average_financial_aid     int64\n",
      "dtype: object\n"
     ]
    }
   ],
   "source": [
    "# Examine column names\n",
    "print(enrollment_df.columns)\n",
    "print(tuition_df.columns)\n",
    "\n",
    "# Check data types\n",
    "print(enrollment_df.dtypes)\n",
    "print(tuition_df.dtypes)\n"
   ]
  },
  {
   "cell_type": "code",
   "execution_count": 5,
   "id": "197eccf4-43f1-45e9-8c13-92b428585c28",
   "metadata": {},
   "outputs": [
    {
     "name": "stdout",
     "output_type": "stream",
     "text": [
      "0    False\n",
      "1    False\n",
      "2    False\n",
      "3    False\n",
      "4     True\n",
      "5    False\n",
      "dtype: bool\n",
      "Duplicate rows in enrollment data:\n",
      "           University  total_students  undergrad_percent  grad_percent  \\\n",
      "4  harvard university           20050               62.8          37.2   \n",
      "\n",
      "   International students  \n",
      "4                    5726  \n",
      "0    False\n",
      "1    False\n",
      "2    False\n",
      "3    False\n",
      "4    False\n",
      "dtype: bool\n",
      "Duplicate rows in tuition data:\n",
      "Empty DataFrame\n",
      "Columns: [university, undergrad_tuition, grad_tuition, Average_financial_aid]\n",
      "Index: []\n"
     ]
    }
   ],
   "source": [
    "# Check for duplicate rows in the enrollment dataframe\n",
    "print(enrollment_df.duplicated())\n",
    "print(\"Duplicate rows in enrollment data:\")\n",
    "print(enrollment_df[enrollment_df.duplicated()])\n",
    "\n",
    "\n",
    "# Check for duplicate rows in the tuition dataframe\n",
    "print(tuition_df.duplicated())\n",
    "print(\"Duplicate rows in tuition data:\")\n",
    "print(tuition_df[tuition_df.duplicated()])\n"
   ]
  },
  {
   "cell_type": "code",
   "execution_count": 7,
   "id": "31c80dce-522e-448a-84d3-d5cf4ec1013f",
   "metadata": {},
   "outputs": [
    {
     "name": "stdout",
     "output_type": "stream",
     "text": [
      "Column: University\n",
      "['Stanford University' 'harvard university' 'MIT  ' '  Yale' 'UC Berkeley']\n",
      "---\n",
      "Column: total_students\n",
      "[16937 20050 11376 12060 42501]\n",
      "---\n",
      "Column: undergrad_percent\n",
      "[65.2 62.8 54.5 58.3 71.5]\n",
      "---\n",
      "Column: grad_percent\n",
      "[34.8 37.2 45.5 41.7 28.5]\n",
      "---\n",
      "Column: International students\n",
      "[3984 5726 3787 2841 6763]\n",
      "---\n",
      "Column: university\n",
      "['Stanford University' 'harvard university' 'MIT  ' '  Yale' 'UC Berkeley']\n",
      "---\n",
      "Column: undergrad_tuition\n",
      "[56169 54002 55878 59950 14226]\n",
      "---\n",
      "Column: grad_tuition\n",
      "[54315 51654 58240 45700 14226]\n",
      "---\n",
      "Column: Average_financial_aid\n",
      "[52030 53604 48264 55879 23736]\n",
      "---\n"
     ]
    }
   ],
   "source": [
    "# Check unique values in all columns\n",
    "for column in enrollment_df.columns:\n",
    "    print(f\"Column: {column}\")\n",
    "    print(enrollment_df[column].unique())\n",
    "    print(\"---\")\n",
    "\n",
    "for column in tuition_df.columns:\n",
    "    print(f\"Column: {column}\")\n",
    "    print(tuition_df[column].unique())\n",
    "    print(\"---\")\n"
   ]
  },
  {
   "cell_type": "code",
   "execution_count": 9,
   "id": "9f8ddaec-4b54-4ef9-af0d-94ff9228addf",
   "metadata": {},
   "outputs": [
    {
     "name": "stdout",
     "output_type": "stream",
     "text": [
      "Index(['university', 'total_students', 'undergrad_percent', 'grad_percent',\n",
      "       'international_students'],\n",
      "      dtype='object')\n",
      "Index(['university', 'undergradtuition', 'gradtuition', 'averagefinancialaid'], dtype='object')\n"
     ]
    }
   ],
   "source": [
    "# Strip whitespace, standardize case, replace multiple spaces in column names\n",
    "enrollment_df.columns = [col.strip().lower().replace('   ', '_').replace(' ', '_') for col in enrollment_df.columns]\n",
    "tuition_df.columns = [col.strip().lower().replace('_', '').replace(' ', '_') for col in tuition_df.columns]\n",
    "\n",
    "print(enrollment_df.columns)\n",
    "print(tuition_df.columns)\n"
   ]
  },
  {
   "cell_type": "code",
   "execution_count": 11,
   "id": "379ff4cf-ad7e-49ca-b48c-ef3780acfb66",
   "metadata": {},
   "outputs": [],
   "source": [
    "# Remove duplicate rows based on a column\n",
    "enrollment_df = enrollment_df.drop_duplicates(subset=['university'])\n"
   ]
  },
  {
   "cell_type": "code",
   "execution_count": null,
   "id": "59839649-5508-46d2-8361-f3238be86dd2",
   "metadata": {},
   "outputs": [],
   "source": []
  }
 ],
 "metadata": {
  "kernelspec": {
   "display_name": "Python [conda env:base] *",
   "language": "python",
   "name": "conda-base-py"
  },
  "language_info": {
   "codemirror_mode": {
    "name": "ipython",
    "version": 3
   },
   "file_extension": ".py",
   "mimetype": "text/x-python",
   "name": "python",
   "nbconvert_exporter": "python",
   "pygments_lexer": "ipython3",
   "version": "3.12.7"
  }
 },
 "nbformat": 4,
 "nbformat_minor": 5
}
