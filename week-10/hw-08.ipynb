{
 "cells": [
  {
   "cell_type": "markdown",
   "metadata": {},
   "source": [
    "# Homework 08\n"
   ]
  },
  {
   "cell_type": "markdown",
   "metadata": {},
   "source": [
    "### ⚠️ Before you start ⚠️\n",
    "\n",
    "_Duplicate this Jupyter Notebook in your `week-10` folder (right-click -> Duplicate) and then add your last name to the beginning of it (ie. `blevins-hw-08.ipynb` - otherwise you risk having all your work overwritten when you try to sync your GitHub repository with your instructor's repository._\n"
   ]
  },
  {
   "cell_type": "markdown",
   "metadata": {},
   "source": [
    "---\n"
   ]
  },
  {
   "cell_type": "markdown",
   "metadata": {},
   "source": [
    "## Overview\n",
    "\n",
    "In this assignment, you'll synthesize some of the Python skills you've learned over the past month or so, including Pandas and Plotly. You'll be analyzing the opening of new businesses in Colorado during the 1940s.\n",
    "\n",
    "Draw on the following tutorials:\n",
    "\n",
    "- 💻 Walsh, [Pandas Basics Part 1](https://melaniewalsh.github.io/Intro-Cultural-Analytics/03-Data-Analysis/01-Pandas-Basics-Part1.html)\n",
    "- 💻 Walsh, [Pandas Basics Part 2](https://melaniewalsh.github.io/Intro-Cultural-Analytics/03-Data-Analysis/02-Pandas-Basics-Part2.html)\n",
    "- 💻 Walsh, [Pandas Basics Part 3](https://melaniewalsh.github.io/Intro-Cultural-Analytics/03-Data-Analysis/03-Pandas-Basics-Part3.html)\n",
    "- 🐼 [Pandas Concepts](https://cblevins.github.io/sp25-data/modules/pandas-concepts/)\n",
    "- 💻 [Introduction to Plotly](https://cblevins.github.io/sp25-data/modules/plotly-intro/)\n",
    "- 💻 [Cleaning Excel Files](https://cblevins.github.io/sp25-data/modules/excel-cleaning/)\n"
   ]
  },
  {
   "cell_type": "markdown",
   "metadata": {},
   "source": [
    "## The Data\n",
    "\n",
    "First, get the necessary data files from our shared course repository:\n",
    "\n",
    "- Open GitHub Desktop and select your course repository (`lastname-sp25-data-materials`)\n",
    "- Click `Fetch origin` to check for updates\n",
    "- Go to `Branch` → `Merge into current branch` → select `upstream/main` -> `Merge`\n",
    "- Click `Push origin` to sync everything up\n",
    "- Launch Jupyter Lab and navigate to the `week-10` folder\n",
    "\n",
    "You should see a single Excel file that you will be working with: `co-new-businesses-1940s.xlsx`. Inside that Excel file, there are two separate sheets: `New CO Businesses` and `Cities 1940`.\n",
    "\n",
    "- `New CO Businesses`: This is a subset of new businesses that were established in Colorado during the 1940s - a subset of data drawn from [this database](https://data.colorado.gov/Business/Business-Entities-in-Colorado/4ykn-tg5h/about_data).\n",
    "- `Cities 1940`: this contains population statistics for Colorado cities in the 1940 Census.\n"
   ]
  },
  {
   "cell_type": "markdown",
   "metadata": {},
   "source": [
    "### Import Libraries and Load Data\n",
    "\n",
    "- Import the necessary libraries:\n",
    "\n",
    "  - pandas (using the alias `pd`)\n",
    "  - plotly.express (using the alias `px`)\n"
   ]
  },
  {
   "cell_type": "code",
   "execution_count": null,
   "metadata": {},
   "outputs": [],
   "source": [
    "#Your code here"
   ]
  },
  {
   "cell_type": "markdown",
   "metadata": {},
   "source": [
    "- Load both sheets from the Excel file:\n",
    "  - Create a variable called `businesses_df` to store the \"New CO Businesses\" sheet in the Excel file\n",
    "  - Create a variable called `cities_df` to store the \"Cities 1940\" sheet in the Excel file\n",
    "  - Use `pd.read_excel()` with the appropriate parameters\n"
   ]
  },
  {
   "cell_type": "code",
   "execution_count": null,
   "metadata": {},
   "outputs": [],
   "source": [
    "#Your code here"
   ]
  },
  {
   "cell_type": "markdown",
   "metadata": {},
   "source": [
    "### Familiarize Yourself with the Data\n",
    "\n",
    "Familiarize yourself with the data:\n",
    "\n",
    "- Display a sample of 10 rows from each dataframe.\n",
    "- Check the data types for the columns in each dataframe\n"
   ]
  },
  {
   "cell_type": "code",
   "execution_count": null,
   "metadata": {},
   "outputs": [],
   "source": [
    "#Your code here"
   ]
  },
  {
   "cell_type": "markdown",
   "metadata": {},
   "source": [
    "## Data Cleaning and Preparation\n",
    "\n",
    "### Cleaning column names\n",
    "\n",
    "For both datasets, you want to clean and standardize the column names (headers):\n",
    "\n",
    "- Change column names to all lowercase\n",
    "- Replace any whitespace with an underscore (`_`) - ex. `some column` becomes `some_column`\n",
    "- _Hint: Use `str.lower()` and `str.replace()`_\n",
    "- Show the first 10 rows of your dataframe to make sure it worked\n"
   ]
  },
  {
   "cell_type": "code",
   "execution_count": null,
   "metadata": {},
   "outputs": [],
   "source": [
    "#Your code here"
   ]
  },
  {
   "cell_type": "markdown",
   "metadata": {},
   "source": [
    "### Standardize and clean data for cities\n",
    "\n",
    "- Standardize city names in the business data so that it **removes any trailing or leading whitespace** and **changes the values to all lowercase** (hint: use `.str.strip()` and `.str.lower()`)\n",
    "- Show the first 10 rows of your dataframe to make sure it worked\n"
   ]
  },
  {
   "cell_type": "code",
   "execution_count": null,
   "metadata": {},
   "outputs": [],
   "source": [
    "#Your code here"
   ]
  },
  {
   "cell_type": "markdown",
   "metadata": {},
   "source": [
    "## Categorize Cities\n",
    "\n",
    "### Define your function\n",
    "\n",
    "Create a function called `categorize_city_size` that does the following:\n",
    "\n",
    "- Takes in a number that corresponds to the population for a city and returns the following based on the size of the city:\n",
    "  - `Small Town` if population is less than 1,000\n",
    "  - `Medium Town` if population is between 1,000 to 5,000\n",
    "  - `Large Town` if population is between 5,000 to 20,000\n",
    "  - `City` if population greater than or equal to 20,000\n"
   ]
  },
  {
   "cell_type": "markdown",
   "metadata": {},
   "source": [
    "### Test Your Function\n",
    "\n",
    "Test out the function on a single number (`2,000`) to make sure it returns `Medium Town`\n"
   ]
  },
  {
   "cell_type": "code",
   "execution_count": null,
   "metadata": {},
   "outputs": [],
   "source": [
    "#Your code here"
   ]
  },
  {
   "cell_type": "markdown",
   "metadata": {},
   "source": [
    "### Apply the function\n",
    "\n",
    "- Take your `cities_df` dataframe and add a new column called `city_category` that applies your function to the `total_population` column of the dataframe.\n",
    "- _Hint: use `apply()`_\n",
    "- Show the first 10 rows of your dataframe to make sure it worked\n"
   ]
  },
  {
   "cell_type": "code",
   "execution_count": null,
   "metadata": {},
   "outputs": [],
   "source": [
    "#Your code here"
   ]
  },
  {
   "cell_type": "markdown",
   "metadata": {},
   "source": [
    "## Analyze Businesses by Year\n",
    "\n",
    "Let's take a look at how many new businesses were formed in Colorado in each year during the 1940s:\n",
    "\n",
    "### Calculate new businesses by year\n",
    "\n",
    "Create a variable called `businesses_per_year` by:\n",
    "\n",
    "- Counting the number of new businesses based on `year_entity_formed`\n",
    "- _Hint: use `value_counts()` and `reset_index()`_\n",
    "- Show the first 10 rows of your dataframe\n"
   ]
  },
  {
   "cell_type": "code",
   "execution_count": null,
   "metadata": {},
   "outputs": [],
   "source": [
    "#Your code here"
   ]
  },
  {
   "cell_type": "markdown",
   "metadata": {},
   "source": [
    "### Visualize new businesses by year\n",
    "\n",
    "Create a bar chart using Plotly Express showing new businesses per year:\n",
    "\n",
    "- Set x-axis to the year\n",
    "- Set y-axis to the number of new businesses\n",
    "- Add an appropriate title and labels\n",
    "- Display text on each bar\n",
    "- Hint: Use `px.bar()`\n"
   ]
  },
  {
   "cell_type": "code",
   "execution_count": null,
   "metadata": {},
   "outputs": [],
   "source": [
    "#Your code here"
   ]
  },
  {
   "cell_type": "markdown",
   "metadata": {},
   "source": [
    "## Analyze Businesses by City\n",
    "\n",
    "Let's take a look at how many new businesses were formed in each Colorado city during the 1940s:\n",
    "\n",
    "## Calculate number of new businesses by city\n",
    "\n",
    "Create a new variable called `city_businesses` that contains:\n",
    "\n",
    "- A dataframe with counts of the number of new businesses in each city\n",
    "- _Hint: Use `value_counts()` and `reset_index()`_\n",
    "- Show the first 10 rows of your dataframe\n"
   ]
  },
  {
   "cell_type": "code",
   "execution_count": null,
   "metadata": {},
   "outputs": [],
   "source": [
    "#Your code here"
   ]
  },
  {
   "cell_type": "markdown",
   "metadata": {},
   "source": [
    "## Visualize new businesses by city\n",
    "\n",
    "Create a bar chart with Plotly Express showing the top 10 cities with the most new businesses created during the 1940s:\n",
    "\n",
    "- Filter to only show the top 10 cities (hint: use `.head()`)\n",
    "- Set x-axis to `city`\n",
    "- Set y-axis to `count`\n",
    "- Add an appropriate title and labels\n"
   ]
  },
  {
   "cell_type": "code",
   "execution_count": null,
   "metadata": {},
   "outputs": [],
   "source": [
    "#Your code here"
   ]
  },
  {
   "cell_type": "markdown",
   "metadata": {},
   "source": [
    "## Combine Business and City Data\n",
    "\n",
    "We have two datasets, both of which contain information about Colorado cities. Let's combine the two into a single dataframe that contains both information about new businesses and their population in the 1940 census.\n",
    "\n",
    "### Merge dataframes\n",
    "\n",
    "Merge the two dataframes together:\n",
    "\n",
    "- Create a new variable called `merged_df`\n",
    "- Use `pd.merge()` on the `city_businesses` and `cities_df` dataframes\n",
    "- Figure out which column is shared between the two to use as your \"key\" to merge them\n",
    "- ⚠️ **Note: use the `how='inner'` parameter for your merge**\n",
    "- Show the first 10 rows of your new dataframe\n"
   ]
  },
  {
   "cell_type": "code",
   "execution_count": null,
   "metadata": {},
   "outputs": [],
   "source": [
    "#Your code here"
   ]
  },
  {
   "cell_type": "markdown",
   "metadata": {},
   "source": [
    "### Filter out missing values\n",
    "\n",
    "You'll note that several rows of data contain `NaN` or missing values - this means that there was a city listed in the businesses dataframe but it didn't have a corresponding match in the population dataframe. For now, remove these from the `merged_df` dataframe:\n",
    "\n",
    "- Filter out rows where `total_population` is NaN\n",
    "- _Hint: use a filter + `.notna()`_\n"
   ]
  },
  {
   "cell_type": "code",
   "execution_count": null,
   "metadata": {},
   "outputs": [],
   "source": [
    "#Your code here"
   ]
  },
  {
   "cell_type": "markdown",
   "metadata": {},
   "source": [
    "### Calculate new businesses on a per capita rate\n",
    "\n",
    "To make it easier to compare larger cities with smaller cities, you're going to calculate a new column for each city: the number of new businesses per 1,000 residents.\n",
    "\n",
    "- Add a new column to `merged_df` called `biz_per_thousand` that is filled with:\n",
    "  - A calculation dividing the `count` column by the `total_population` column and multiplying by 1,000\n",
    "- Sort the merged dataframe by `biz_per_thousand` in descending order\n",
    "- Show the first 10 rows of the dataframe to check if it worked\n"
   ]
  },
  {
   "cell_type": "code",
   "execution_count": null,
   "metadata": {},
   "outputs": [],
   "source": [
    "#Your code here"
   ]
  },
  {
   "cell_type": "markdown",
   "metadata": {},
   "source": [
    "## Visualize new business creation by city\n",
    "\n",
    "Let's say we want to see the cities with the highest _rate_ of business creation (ie. new businesses per thousand residents)\n",
    "\n",
    "- Create a bar chart in Plotly of `merged_df`:\n",
    "  - Filter to only show the top 10 cities (use `.head(10)`)\n",
    "  - Set x-axis to `city`\n",
    "  - Set y-axis to `biz_per_thousand`\n",
    "  - Use `city_category` for color\n",
    "  - Add an appropriate title and labels\n"
   ]
  },
  {
   "cell_type": "code",
   "execution_count": null,
   "metadata": {},
   "outputs": [],
   "source": [
    "#Your code here"
   ]
  },
  {
   "cell_type": "markdown",
   "metadata": {},
   "source": [
    "## Bonus: New businesses by city category\n",
    "\n",
    "Let's say we want to compare different size categories to see whether new businesses were cropping up in smaller places or bigger cities.\n",
    "\n",
    "### Create a new dataframe\n",
    "\n",
    "First, you'll need to create a new dataframe that consists of four rows, with each row a different category of city containing the total number of businesses created within that category of city.\n",
    "\n",
    "- Create a new dataframe called `city_category_totals`\n",
    "- Start with `merged_df`\n",
    "- Group by `city_category`\n",
    "- Add up (`sum()`) the `count` column\n",
    "- Use `.reset_index()`\n"
   ]
  },
  {
   "cell_type": "code",
   "execution_count": null,
   "metadata": {},
   "outputs": [],
   "source": [
    "#Your code here"
   ]
  },
  {
   "cell_type": "markdown",
   "metadata": {},
   "source": [
    "### Visualize businesses by city category\n",
    "\n",
    "- Create a [pie chart](https://plotly.com/python/pie-charts/) in Plotly:\n",
    "\n",
    "  - Use `px.pie()` with appropriate parameters\n",
    "  - Use `city_category_totals` as your dataframe\n",
    "  - Use `count` for your values\n",
    "  - Use `city_category` for your names\n",
    "  - Add an appropriate title and labels\n"
   ]
  },
  {
   "cell_type": "code",
   "execution_count": null,
   "metadata": {},
   "outputs": [],
   "source": [
    "#Your code here"
   ]
  },
  {
   "cell_type": "markdown",
   "metadata": {},
   "source": [
    "## Bonus Challenge: Create a Scatterplot\n",
    "\n",
    "Create a scatter plot in Plotly showing:\n",
    "\n",
    "- The relationship between city population (x-axis) and new businesses (y-axis)\n",
    "- Only data for towns with a population of 2,000 or more people.\n",
    "- Dots sized according to the number of new businesses in that city\n",
    "- Dots colored according to their size category\n"
   ]
  },
  {
   "cell_type": "code",
   "execution_count": null,
   "metadata": {},
   "outputs": [],
   "source": [
    "#Your code here"
   ]
  },
  {
   "cell_type": "markdown",
   "metadata": {},
   "source": [
    "## Submission Guidelines\n",
    "\n",
    "- Run all code cells and make sure it is outputting without errors\n",
    "- Submit both the notebook file (.ipynb) and a PDF export of your notebook [on Canvas](https://ucdenver.instructure.com/courses/552717/assignments/1932039)\n",
    "- Note: the PDF probably won't display the Plotly figures - that's okay\n"
   ]
  }
 ],
 "metadata": {
  "kernelspec": {
   "display_name": "Python 3",
   "language": "python",
   "name": "python3"
  },
  "language_info": {
   "codemirror_mode": {
    "name": "ipython",
    "version": 3
   },
   "file_extension": ".py",
   "mimetype": "text/x-python",
   "name": "python",
   "nbconvert_exporter": "python",
   "pygments_lexer": "ipython3",
   "version": "3.8.8"
  }
 },
 "nbformat": 4,
 "nbformat_minor": 4
}
