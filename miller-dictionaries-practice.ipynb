{
 "cells": [
  {
   "cell_type": "code",
   "execution_count": 1,
   "id": "c7e2b050-11dd-4406-9320-3fdf352e311c",
   "metadata": {},
   "outputs": [
    {
     "name": "stdout",
     "output_type": "stream",
     "text": [
      "{'Patrick Murphy': 45, 'Mary Kelly': 23, 'Thomas Williams': 16, 'Elizabeth Smith': 34}\n"
     ]
    }
   ],
   "source": [
    "# Create a dictionary mapping names to ages\n",
    "ages_dict = {\n",
    "    \"Patrick Murphy\": 45,\n",
    "    \"Mary Kelly\": 23,\n",
    "    \"Thomas Williams\": 16,\n",
    "    \"Elizabeth Smith\": 34\n",
    "}\n",
    "\n",
    "# Print the entire dictionary\n",
    "print(ages_dict)\n"
   ]
  },
  {
   "cell_type": "code",
   "execution_count": 3,
   "id": "d03e98d7-6f08-469b-86c9-42f9c36a153e",
   "metadata": {},
   "outputs": [
    {
     "name": "stdout",
     "output_type": "stream",
     "text": [
      "{'Taylor Swift': 35, 'Olivia Rodrigo': 22, 'Tom Hanks': 68, 'Meryl Streep': 75}\n"
     ]
    }
   ],
   "source": [
    "celebrity_ages = {\n",
    "    \"Taylor Swift\": 35,\n",
    "    \"Olivia Rodrigo\": 22,\n",
    "    \"Tom Hanks\": 68,\n",
    "    \"Meryl Streep\": 75\n",
    "}\n",
    "\n",
    "print(celebrity_ages)"
   ]
  },
  {
   "cell_type": "code",
   "execution_count": 9,
   "id": "1df6776a-d458-4212-b475-93a06555cb3d",
   "metadata": {},
   "outputs": [
    {
     "name": "stdout",
     "output_type": "stream",
     "text": [
      "Taylor Swift is 35 years old.\n"
     ]
    }
   ],
   "source": [
    "taylors_age = celebrity_ages[\"Taylor Swift\"]\n",
    "print(f\"Taylor Swift is {taylors_age} years old.\")"
   ]
  },
  {
   "cell_type": "code",
   "execution_count": 11,
   "id": "b8e31956-5d8a-4237-8ccd-994991636bc8",
   "metadata": {},
   "outputs": [
    {
     "name": "stdout",
     "output_type": "stream",
     "text": [
      "{'Patrick Murphy': 45, 'Mary Kelly': 23, 'Thomas Williams': 16, 'Elizabeth Smith': 34, 'Michael Sullivan': 64}\n"
     ]
    }
   ],
   "source": [
    "# Add a new person to our ages dictionary\n",
    "ages_dict[\"Michael Sullivan\"] = 64\n",
    "print(ages_dict)\n"
   ]
  },
  {
   "cell_type": "code",
   "execution_count": 13,
   "id": "a5efe344-abba-424b-96f3-a6d621ea8d21",
   "metadata": {},
   "outputs": [
    {
     "name": "stdout",
     "output_type": "stream",
     "text": [
      "Updated age for Thomas: 17\n"
     ]
    }
   ],
   "source": [
    "# Change someone's age\n",
    "ages_dict[\"Thomas Williams\"] = 17  # Thomas just had a birthday!\n",
    "print(f\"Updated age for Thomas: {ages_dict['Thomas Williams']}\")\n"
   ]
  },
  {
   "cell_type": "code",
   "execution_count": 15,
   "id": "79a95136-d4bd-4223-9716-9c782248e95c",
   "metadata": {},
   "outputs": [
    {
     "name": "stdout",
     "output_type": "stream",
     "text": [
      "{'Taylor Swift': 35, 'Olivia Rodrigo': 22, 'Tom Hanks': 68, 'Meryl Streep': 75, 'Trevor Noah': 41}\n"
     ]
    }
   ],
   "source": [
    "celebrity_ages[\"Trevor Noah\"] = 41\n",
    "print(celebrity_ages)"
   ]
  },
  {
   "cell_type": "code",
   "execution_count": 19,
   "id": "f96fe0e3-cbe3-4d35-ade3-7b78410fd3da",
   "metadata": {},
   "outputs": [
    {
     "name": "stdout",
     "output_type": "stream",
     "text": [
      "{'Taylor Swift': 35, 'Olivia Rodrigo': 22, 'Tom Hanks': 69, 'Meryl Streep': 75, 'Trevor Noah': 41}\n"
     ]
    }
   ],
   "source": [
    "celebrity_ages[\"Tom Hanks\"] = 69\n",
    "print(celebrity_ages)"
   ]
  },
  {
   "cell_type": "code",
   "execution_count": 21,
   "id": "93e076d8-55bb-4de7-b453-ccc9e4573817",
   "metadata": {},
   "outputs": [
    {
     "name": "stdout",
     "output_type": "stream",
     "text": [
      "Patrick Murphy is 45 years old.\n",
      "Mary Kelly is 23 years old.\n",
      "Thomas Williams is 17 years old.\n",
      "Elizabeth Smith is 34 years old.\n",
      "Michael Sullivan is 64 years old.\n",
      "Patrick Murphy is 45 years old.\n",
      "Mary Kelly is 23 years old.\n",
      "Thomas Williams is 17 years old.\n",
      "Elizabeth Smith is 34 years old.\n",
      "Michael Sullivan is 64 years old.\n"
     ]
    }
   ],
   "source": [
    "# Loop through all names and ages\n",
    "for name in ages_dict:\n",
    "    print(f\"{name} is {ages_dict[name]} years old.\")\n",
    "\n",
    "# A more elegant way using the .items() method\n",
    "for name, age in ages_dict.items():\n",
    "    print(f\"{name} is {age} years old.\")\n"
   ]
  },
  {
   "cell_type": "code",
   "execution_count": 23,
   "id": "78f22589-23e7-4741-8dba-71811f1f9c66",
   "metadata": {},
   "outputs": [
    {
     "name": "stdout",
     "output_type": "stream",
     "text": [
      "Patrick Murphy is 45 years old.\n",
      "Elizabeth Smith is 34 years old.\n",
      "Michael Sullivan is 64 years old.\n"
     ]
    }
   ],
   "source": [
    "# Find all people over 30\n",
    "for name, age in ages_dict.items():\n",
    "    if age > 30:\n",
    "        print(f\"{name} is {age} years old.\")\n"
   ]
  },
  {
   "cell_type": "markdown",
   "id": "3709915c-4ea8-4516-a5c2-d89c1a8b51bb",
   "metadata": {},
   "source": [
    "Use the .items() method to loop through your dictionary of celebrities. Use a series of if and elif conditionals to print out, for each celebrity, which age cohort they fall in:\n",
    "\n",
    "Gen Z: 13-28\n",
    "Millenial: 29-44\n",
    "Boomer: 61-79"
   ]
  },
  {
   "cell_type": "code",
   "execution_count": 44,
   "id": "adbf5f7a-a241-4a72-bf83-7da828ec4313",
   "metadata": {},
   "outputs": [
    {
     "name": "stdout",
     "output_type": "stream",
     "text": [
      "Taylor Swift is a Millenial.\n",
      "Olivia Rodrigo is in Gen Z.\n",
      "Tom Hanks is a Boomer.\n",
      "Meryl Streep is a Boomer.\n",
      "Trevor Noah is a Millenial.\n"
     ]
    }
   ],
   "source": [
    "for name, age in celebrity_ages.items():\n",
    "    if age >= 13 and age <= 29:\n",
    "        print(f\"{name} is in Gen Z.\")\n",
    "    elif age >= 29 and age <= 44:\n",
    "        print(f\"{name} is a Millenial.\")\n",
    "    elif age >= 61 and age <= 79:\n",
    "        print(f\"{name} is a Boomer.\")"
   ]
  },
  {
   "cell_type": "code",
   "execution_count": 51,
   "id": "ef3cb302-6137-4f4d-a6f0-7e152b9a6faf",
   "metadata": {},
   "outputs": [],
   "source": [
    "# Create one dictionary with all information about each person\n",
    "census_data = {\n",
    "    \"Patrick Murphy\": {\n",
    "        \"age\": 45,\n",
    "        \"birth_place\": \"Ireland\",\n",
    "        \"occupation\": \"farmer\"\n",
    "    },\n",
    "    \"Mary Kelly\": {\n",
    "        \"age\": 23,\n",
    "        \"birth_place\": \"Ireland\",\n",
    "        \"occupation\": \"servant\"\n",
    "    },\n",
    "    \"Thomas Williams\": {\n",
    "        \"age\": 17,\n",
    "        \"birth_place\": \"Wales\",\n",
    "        \"occupation\": \"laborer\"\n",
    "    },\n",
    "    \"Elizabeth Smith\": {\n",
    "    \"age\": 34,\n",
    "    \"birth_place\": \"England\",\n",
    "    \"occupation\": \"servant\"\n",
    "    }\n",
    "}\n"
   ]
  },
  {
   "cell_type": "code",
   "execution_count": 46,
   "id": "9528fc6e-e402-4346-9b84-c7e0988c586e",
   "metadata": {},
   "outputs": [
    {
     "name": "stdout",
     "output_type": "stream",
     "text": [
      "{'age': 45, 'birth_place': 'Ireland', 'occupation': 'farmer'}\n",
      "farmer\n"
     ]
    }
   ],
   "source": [
    "# Access data from our nested dictionary\n",
    "print(census_data[\"Patrick Murphy\"])\n",
    "print(census_data[\"Patrick Murphy\"][\"occupation\"])\n"
   ]
  },
  {
   "cell_type": "markdown",
   "id": "ad906445-7e9d-47af-a96d-a0a3b66e885d",
   "metadata": {},
   "source": [
    "Write a print statement that prints out Mary Kelly’s age."
   ]
  },
  {
   "cell_type": "code",
   "execution_count": 55,
   "id": "70e630ab-5e94-4eb6-ab4f-05e221b99a45",
   "metadata": {},
   "outputs": [
    {
     "name": "stdout",
     "output_type": "stream",
     "text": [
      "23\n"
     ]
    }
   ],
   "source": [
    "print(census_data[\"Mary Kelly\"][\"age\"])"
   ]
  },
  {
   "cell_type": "code",
   "execution_count": 57,
   "id": "f5da7dcf-c79a-4c13-aead-d859a8a05021",
   "metadata": {},
   "outputs": [],
   "source": [
    "# Here are our lists of data\n",
    "names = [\"Patrick Murphy\", \"Mary Kelly\", \"Thomas Williams\", \"Elizabeth Smith\", \"Michael Sullivan\",\n",
    "         \"Anna Schmidt\", \"William Johnson\", \"James O'Connor\", \"Bridget Walsh\", \"Robert Campbell\",\n",
    "         \"Catherine Miller\", \"George Thompson\", \"Sean O'Neill\", \"David Jones\", \"Kevin Burke\",\n",
    "         \"Margaret Wilson\", \"Donald Fraser\", \"Eileen Doyle\", \"Frieda Weber\", \"Timothy Ryan\"]\n",
    "\n",
    "ages = [45, 23, 16, 34, 64, 28, 42, 31, 27, 38, 17, 52, 29, 44, 33, 15, 61, 36, 18, 41]\n",
    "\n",
    "birth_places = ['Ireland', 'Ireland', 'New York', 'England', 'Ireland', 'Germany', 'New York',\n",
    "               'Ireland', 'Ireland', 'Scotland', 'Ireland', 'England', 'Ireland', 'Wales',\n",
    "               'Ireland', 'Ireland', 'Scotland', 'Ireland', 'Germany', 'Ireland']\n",
    "\n",
    "occupations = ['farmer', 'servant', 'laborer', 'merchant', 'farmer', 'servant', 'teacher', 'farmer',\n",
    "              'laborer', 'merchant', 'servant', 'farmer', 'laborer', 'blacksmith', 'carpenter',\n",
    "              'servant', 'farmer', 'weaver', 'servant', 'carpenter']\n"
   ]
  },
  {
   "cell_type": "markdown",
   "id": "2eb3c4e3-3964-4dd8-9247-b2fe78a8eafb",
   "metadata": {},
   "source": [
    "Our goal is to use a for statement to go through these lists, access the same position in each of them, and stitch all this information into a single dictionary. Conceptually, it looks something like this:\n",
    "\n",
    "Create an empty dictionary called auto_census\n",
    "Start a loop that goes through each position (index) in our lists (running sequentially from 0 to 19)\n",
    "\n",
    "For each position:\n",
    "Get the name at that position and add it to a temporary variable\n",
    "Get the age at that position and add it to a temporary variable\n",
    "Get the birth_place at that position and add it to a temporary variable\n",
    "Get the occupation at that position and add it to a temporary variable\n",
    "Add a new entry to our dictionary:\n",
    "Use the person’s name as the main key\n",
    "Create a nested dictionary as the value that contains information about their age, birth place, and occupation"
   ]
  },
  {
   "cell_type": "code",
   "execution_count": 60,
   "id": "3c77d0a6-4b91-4791-8ac8-d2be92be3d1b",
   "metadata": {},
   "outputs": [],
   "source": [
    "auto_census = {}"
   ]
  },
  {
   "cell_type": "code",
   "execution_count": 66,
   "id": "577aaa6f-bdb2-493d-86e9-abe2c6db12ce",
   "metadata": {},
   "outputs": [
    {
     "ename": "KeyError",
     "evalue": "'Patrick Murphy'",
     "output_type": "error",
     "traceback": [
      "\u001b[0;31m---------------------------------------------------------------------------\u001b[0m",
      "\u001b[0;31mKeyError\u001b[0m                                  Traceback (most recent call last)",
      "Cell \u001b[0;32mIn[66], line 2\u001b[0m\n\u001b[1;32m      1\u001b[0m \u001b[38;5;28;01mfor\u001b[39;00m name \u001b[38;5;129;01min\u001b[39;00m names:\n\u001b[0;32m----> 2\u001b[0m     auto_census[name]\n\u001b[1;32m      3\u001b[0m \u001b[38;5;28mprint\u001b[39m(auto_census)\n",
      "\u001b[0;31mKeyError\u001b[0m: 'Patrick Murphy'"
     ]
    }
   ],
   "source": [
    "for name in names:\n",
    "    auto_census[name]\n",
    "print(auto_census)"
   ]
  },
  {
   "cell_type": "code",
   "execution_count": 68,
   "id": "b3a4e6d9-9cff-483b-bbb2-82d619d70934",
   "metadata": {},
   "outputs": [],
   "source": [
    "# Celebrity information\n",
    "names = [\"Taylor Swift\", \"Olivia Rodrigo\", \"Tom Hanks\", \"Meryl Streep\"]\n",
    "ages = [35, 22, 68, 75]\n",
    "birth_places = [\"Pennsylvania\", \"California\", \"California\", \"New Jersey\"]\n",
    "occupations = [\"singer\", \"singer\", \"actor\", \"actor\"]\n"
   ]
  },
  {
   "cell_type": "code",
   "execution_count": 72,
   "id": "30faeecc-ba5e-486f-9f6b-4877d2f0cee0",
   "metadata": {},
   "outputs": [],
   "source": [
    "# Start with an empty dictionary\n",
    "celebrity_info = {}\n",
    "\n",
    "# Loop through the lists to create our nested dictionary\n",
    "for i in range(len(names)):\n",
    "    # Extract the data for this person and temporarily put the data into a series of variables\n",
    "    name = names[i]\n",
    "    age = ages[i]\n",
    "    birth_place = birth_places[i]\n",
    "    occupation = occupations[i]\n",
    "\n",
    "    # Create the nested dictionary for this person\n",
    "    celebrity_info[name] = {\n",
    "        \"age\": age,\n",
    "        \"birth_place\": birth_place,\n",
    "        \"occupation\": occupation\n",
    "    }\n"
   ]
  },
  {
   "cell_type": "code",
   "execution_count": 88,
   "id": "0ba55fc4-ab24-42f8-8868-152cc3b69149",
   "metadata": {},
   "outputs": [],
   "source": [
    "for name, occupation in celebrity_info.items():\n",
    "    if occupation == \"actor\":\n",
    "        print(f\"{celebrity_info[name]} is an actor.\")"
   ]
  },
  {
   "cell_type": "code",
   "execution_count": null,
   "id": "5f9962be-7d4d-40dd-8543-1460e653a9a5",
   "metadata": {},
   "outputs": [],
   "source": []
  }
 ],
 "metadata": {
  "kernelspec": {
   "display_name": "Python [conda env:base] *",
   "language": "python",
   "name": "conda-base-py"
  },
  "language_info": {
   "codemirror_mode": {
    "name": "ipython",
    "version": 3
   },
   "file_extension": ".py",
   "mimetype": "text/x-python",
   "name": "python",
   "nbconvert_exporter": "python",
   "pygments_lexer": "ipython3",
   "version": "3.12.7"
  }
 },
 "nbformat": 4,
 "nbformat_minor": 5
}
