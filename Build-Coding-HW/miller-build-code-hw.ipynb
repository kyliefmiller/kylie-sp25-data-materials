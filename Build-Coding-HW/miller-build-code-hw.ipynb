{
 "cells": [
  {
   "cell_type": "markdown",
   "id": "feb25e61-bc5a-42ec-9f2c-24695a622d9a",
   "metadata": {},
   "source": [
    "# Build Your Own Coding Homework"
   ]
  },
  {
   "cell_type": "markdown",
   "id": "7eceebcb-f0ea-43fa-9456-2283b5a04d37",
   "metadata": {},
   "source": [
    "## Kylie Miller - Spring 2025"
   ]
  },
  {
   "cell_type": "markdown",
   "id": "22022b47-c60d-41c0-811e-83f408714217",
   "metadata": {},
   "source": [
    "For this assignment, you will be using the \"farmworkers_1942_1975.csv\" file.\n",
    "\n",
    "**Here is some context related to the Bracero Program, the topic surrounding the data collected for this file:**\n",
    "\n",
    "In the wake of World War II, people in the United States suddenly had an abundance of employment opportunities. With men joining the military to fight overseas and the creation of many new industrial jobs to support the war effort, the United States workforce was facing an unusual problem of not having enough workers, particularly in agriculture. The United States government found a willing partner to address this problem in the Mexican government, which was eager to boost its economy by providing work for its unemployed citizens. These simultaneous desires led to an agreement between the two nations that would become known as the Bracero Program, lasting from 1942 until its termination long after the end of World War II in 1964.\n",
    "\n",
    "The Bracero Program - a term that comes from the Spanish word \"brazo\" meaning \"arm\" in reference to manual labor - was a temporary work program that would bring Mexican men to the United States under work contracts for periods between six weeks and six months before returning back to Mexico. After going through a screening and documentation process with the Mexican government, the United States would provide transportation, temporary housing, and food for the Bracero workers in addition to their temporary jobs. By 1964, the United States government ended the Bracero Program, partly because people in the United States worried about the impact of Braceros on domestic labor. Throughout the program, there were also concerns about increased unauthorized immigration from Mexico because it was often easier for both the Mexican workers and farm owners, as Mexican workers did not have to go through the tedious process of screening and documentation (that often required bribes) and farm owners  did not have to provide the required housing, food, and transportation for workers not under Bracero contracts.\n",
    "\n",
    "**To start off, I want you to explore the contents of the dataset. Think about what columns exist, what they might mean, how the data might have been collected, etc.**"
   ]
  },
  {
   "cell_type": "code",
   "execution_count": 5,
   "id": "06f145bf-0d9a-4be5-8ef7-22755b624219",
   "metadata": {},
   "outputs": [],
   "source": [
    "## your code here"
   ]
  },
  {
   "cell_type": "markdown",
   "id": "6f56d0bd-4465-4820-8b09-ee0eaf137a9f",
   "metadata": {},
   "source": [
    "Below, write a short response including what you noticed as well as what questions you have about the data."
   ]
  },
  {
   "cell_type": "markdown",
   "id": "6d5a42bc-b5e1-4842-a067-0dd2cb7257c0",
   "metadata": {},
   "source": [
    "***your response here***"
   ]
  },
  {
   "cell_type": "markdown",
   "id": "fab9a380-576d-4bbc-b8ce-aaafb3bb0c02",
   "metadata": {},
   "source": [
    "Here is some context related to some of the columns in this file. This information comes from the creator of this dataset, and while it still leaves questions, it can help further clarify the data:\n",
    "- 'TotalHiredSeasonal' = \"Total Hired Seasonal Workers (Local+Intra+Inter+Foreign, 1953-1973)\"\n",
    "- 'Mexican' = \"Mexican (contract workers only, 1943-1967)\" *(this means that this only counts Mexican workers with contracts through the Bracero Program, not any unauthorized workers)*\n",
    "- 'HiredWorkers' = \"Hired Workers on Farms (total, quarterly 1942-1974)\"\n",
    "- 'Local' = \"Local (nonmigratory domestic, 1948-1973)\"\n",
    "- 'Intrastate' = \"Intrastate (1948-1973)\"\n",
    "- 'Interstate = \"Interstate (1948-1973)\"\n",
    "- 'TotalForeign' = \"Total Foreign Workers (as reported, 1945-1948, 1950-1973)\""
   ]
  },
  {
   "cell_type": "markdown",
   "id": "87def837-8352-406c-bf9a-0e58b54a18e9",
   "metadata": {},
   "source": [
    "### Analysis Questions"
   ]
  },
  {
   "cell_type": "markdown",
   "id": "63fe44fa-96b2-4e37-bfa0-d5952bed4268",
   "metadata": {},
   "source": [
    "#### Part 1: Bracero Worker Analysis"
   ]
  },
  {
   "cell_type": "markdown",
   "id": "d0a90c57-b7d3-4101-9e2d-ad5701dd22c4",
   "metadata": {},
   "source": [
    "**1. Which were the top five states that had the most contracted Bracero workers between 1943 and 1967?**"
   ]
  },
  {
   "cell_type": "code",
   "execution_count": 16,
   "id": "0ea50656-683f-4b0c-9b2c-68e3d5dbcfd5",
   "metadata": {},
   "outputs": [],
   "source": [
    "## your code here"
   ]
  },
  {
   "cell_type": "markdown",
   "id": "104c3dbf-f07c-49eb-aa29-f3ee44b42508",
   "metadata": {},
   "source": [
    "**2. According to this data, which states received Bracero workers through the Bracero Program?**"
   ]
  },
  {
   "cell_type": "code",
   "execution_count": 24,
   "id": "8dc0d6ec-6b6f-42f0-a414-0b9a10ad8dd3",
   "metadata": {},
   "outputs": [],
   "source": [
    "## your code here"
   ]
  },
  {
   "cell_type": "markdown",
   "id": "decaf1de-22e4-463b-a9b9-f72de05e97d0",
   "metadata": {},
   "source": [
    "**3. Create a graph that shows the changes in the number of Bracero workers over time.**\n",
    "*THINGS TO KEEP IN MIND:*\n",
    "- Many rows have 'NaN' data in the Mexican column.\n",
    "- Remember to look at the year constraints of the 'Mexican' column.\n",
    "- You should show these changes referring to *yearly* numbers. Data was collected in specific months, and years often had data collected over many months. However, not all states collected data for the same amount of months. *How will you make sure to represent yearly data without over or under respresenting certain states?*\n",
    "- You should be able to see each state individually in your final graph through different colors."
   ]
  },
  {
   "cell_type": "code",
   "execution_count": null,
   "id": "8a38fb80-a3f8-4ca0-844d-4621aa6b55b5",
   "metadata": {},
   "outputs": [],
   "source": [
    "## your code here"
   ]
  },
  {
   "cell_type": "markdown",
   "id": "299b7952-0f5d-4974-b452-020b7900e984",
   "metadata": {},
   "source": [
    "**4. What trends do you notice looking at this graph? Think about what might explain those trends *and* how this graph may reveal inaccuracies within the data and your previous answers.**"
   ]
  },
  {
   "cell_type": "markdown",
   "id": "64c75338-0d01-4827-8116-a5c1dabb4390",
   "metadata": {},
   "source": [
    "***your response here***"
   ]
  },
  {
   "cell_type": "markdown",
   "id": "6dce1936-ac5a-439c-9adc-a0900a3dcabc",
   "metadata": {},
   "source": [
    "#### Part 2: Foreign Worker Analysis"
   ]
  },
  {
   "cell_type": "markdown",
   "id": "e6182bf9-6618-48f4-bd49-a8ea3e166a19",
   "metadata": {},
   "source": [
    "**1. How many foreign farmworkers were NOT Bracero workers each year?**\n",
    "\n",
    "*Don't panic if some of your results look weird. This reflects some of the limitations of the data, which you will reflect on in question 4.*"
   ]
  },
  {
   "cell_type": "code",
   "execution_count": null,
   "id": "34377bc7-22e4-461a-9346-ce8294c4779f",
   "metadata": {},
   "outputs": [],
   "source": [
    "## your code here"
   ]
  },
  {
   "cell_type": "markdown",
   "id": "79ec8834-876f-4c0f-a4fe-470005ebf530",
   "metadata": {},
   "source": [
    "**2. What percentage of foreign farmworkers were NOT Bracero workers each year?**\n",
    "\n",
    "*Don't panic if some of your results look weird. This reflects some of the limitations of the data, which you will reflect on in question 4.*"
   ]
  },
  {
   "cell_type": "code",
   "execution_count": 38,
   "id": "e7d22d6d-134d-41a0-974e-42d319d043b4",
   "metadata": {},
   "outputs": [],
   "source": [
    "## your code here"
   ]
  },
  {
   "cell_type": "markdown",
   "id": "8afdcb36-e795-4c6c-be06-51d64a6a70cf",
   "metadata": {},
   "source": [
    "**3. Create a graph that shows the changes in the number of foreign workers over time.**\n",
    "\n",
    "*NOTE: This should hopefully be a quick step because you can just adjust your code from question 3 in the previous section!!*"
   ]
  },
  {
   "cell_type": "code",
   "execution_count": 47,
   "id": "8acc6f1c-747e-4bc1-a0b1-d78c0d64185b",
   "metadata": {},
   "outputs": [],
   "source": [
    "## your code here"
   ]
  },
  {
   "cell_type": "markdown",
   "id": "25cc5646-7309-41ea-b88c-e0d602536842",
   "metadata": {},
   "source": [
    "**4. What are some reasons this data may not accurately reflect foreign workers on farms in this time period?**"
   ]
  },
  {
   "cell_type": "markdown",
   "id": "d0bd4dab-d6df-494b-9ca7-da3942de4a82",
   "metadata": {},
   "source": [
    "***your response here***"
   ]
  },
  {
   "cell_type": "markdown",
   "id": "f3b027de-cc5f-4860-bf99-35aed4b4888b",
   "metadata": {},
   "source": [
    "#### Part 3: Domestic Worker Analysis"
   ]
  },
  {
   "cell_type": "markdown",
   "id": "72148302-0a3a-4362-b826-c860786e6ad4",
   "metadata": {},
   "source": [
    "**1. Create a graph that shows the changes in the number of domestic workers over time.**\n",
    "\n",
    "*NOTE: While most of this repeats previous code, keep in mind that there is no \"Domestic\" column. How will you account for all domestic workers?*"
   ]
  },
  {
   "cell_type": "code",
   "execution_count": 13,
   "id": "92b28e9a-bd96-4747-b33e-15293e9e3fce",
   "metadata": {},
   "outputs": [],
   "source": [
    "## your code here"
   ]
  },
  {
   "cell_type": "markdown",
   "id": "72521848-b975-4944-a2c7-fd5715aaec54",
   "metadata": {},
   "source": [
    "**2. A key motivation for ending the Bracero Program was to benefit domestic workers. Based on this data, do you think ending the program succeeded in this goal? Explain why or why not.**\n",
    "*Remember the Bracero Program ended in 1964*"
   ]
  },
  {
   "cell_type": "markdown",
   "id": "26567b4d-f160-413b-8bc8-3fb6c11b1fed",
   "metadata": {},
   "source": [
    "***your response here***"
   ]
  },
  {
   "cell_type": "code",
   "execution_count": null,
   "id": "626c25df-c1c6-43f2-88ce-f32f5971fdbb",
   "metadata": {},
   "outputs": [],
   "source": []
  }
 ],
 "metadata": {
  "kernelspec": {
   "display_name": "Python [conda env:base] *",
   "language": "python",
   "name": "conda-base-py"
  },
  "language_info": {
   "codemirror_mode": {
    "name": "ipython",
    "version": 3
   },
   "file_extension": ".py",
   "mimetype": "text/x-python",
   "name": "python",
   "nbconvert_exporter": "python",
   "pygments_lexer": "ipython3",
   "version": "3.12.7"
  }
 },
 "nbformat": 4,
 "nbformat_minor": 5
}
