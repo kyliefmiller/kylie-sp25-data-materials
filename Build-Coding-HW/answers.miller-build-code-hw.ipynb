{
 "cells": [
  {
   "cell_type": "markdown",
   "id": "feb25e61-bc5a-42ec-9f2c-24695a622d9a",
   "metadata": {},
   "source": [
    "# Build Your Own Coding Homework ***ANSWERS***"
   ]
  },
  {
   "cell_type": "markdown",
   "id": "e1962537-2c86-4be2-9a1c-a9a966cded3e",
   "metadata": {},
   "source": [
    "#### *Note that this coding homework was intentionally not giving students specific functions to give them the experience of testing things out and struggling to figure out what will or will not work. This and the fact that the data has a lot of holes means students may end up approaching solutions in different ways. My personal solution for a lot of things related to averaging the entries each year, but there are plenty of good reasons to approach this in a very different way if students come up with different (valid) solutions.*"
   ]
  },
  {
   "cell_type": "markdown",
   "id": "7eceebcb-f0ea-43fa-9456-2283b5a04d37",
   "metadata": {},
   "source": [
    "## Kylie Miller - Spring 2025"
   ]
  },
  {
   "cell_type": "markdown",
   "id": "22022b47-c60d-41c0-811e-83f408714217",
   "metadata": {},
   "source": [
    "For this assignment, you will be using the \"farmworkers_1942_1975.csv\" file.\n",
    "\n",
    "**Here is some context related to the Bracero Program, the topic surrounding the data collected for this file:**\n",
    "\n",
    "In the wake of World War II, people in the United States suddenly had an abundance of employment opportunities. With men joining the military to fight overseas and the creation of many new industrial jobs to support the war effort, the United States workforce was facing an unusual problem of not having enough workers, particularly in agriculture. The United States government found a willing partner to address this problem in the Mexican government, which was eager to boost its economy by providing work for its unemployed citizens. These simultaneous desires led to an agreement between the two nations that would become known as the Bracero Program, lasting from 1942 until its termination long after the end of World War II in 1964.\n",
    "\n",
    "The Bracero Program - a term that comes from the Spanish word \"brazo\" meaning \"arm\" in reference to manual labor - was a temporary work program that would bring Mexican men to the United States under work contracts for periods between six weeks and six months before returning back to Mexico. After going through a screening and documentation process with the Mexican government, the United States would provide transportation, temporary housing, and food for the Bracero workers in addition to their temporary jobs. By 1964, the United States government ended the Bracero Program, partly because people in the United States worried about the impact of Braceros on domestic labor. Throughout the program, there were also concerns about increased unauthorized immigration from Mexico because it was often easier for both the Mexican workers and farm owners, as Mexican workers did not have to go through the tedious process of screening and documentation (that often required bribes) and farm owners  did not have to provide the required housing, food, and transportation for workers not under Bracero contracts.\n",
    "\n",
    "**To start off, I want you to explore the contents of the dataset. Think about what columns exist, what they might mean, how the data might have been collected, etc.**"
   ]
  },
  {
   "cell_type": "code",
   "execution_count": 277,
   "id": "06f145bf-0d9a-4be5-8ef7-22755b624219",
   "metadata": {
    "scrolled": true
   },
   "outputs": [
    {
     "data": {
      "text/html": [
       "<div>\n",
       "<style scoped>\n",
       "    .dataframe tbody tr th:only-of-type {\n",
       "        vertical-align: middle;\n",
       "    }\n",
       "\n",
       "    .dataframe tbody tr th {\n",
       "        vertical-align: top;\n",
       "    }\n",
       "\n",
       "    .dataframe thead th {\n",
       "        text-align: right;\n",
       "    }\n",
       "</style>\n",
       "<table border=\"1\" class=\"dataframe\">\n",
       "  <thead>\n",
       "    <tr style=\"text-align: right;\">\n",
       "      <th></th>\n",
       "      <th>State</th>\n",
       "      <th>Year</th>\n",
       "      <th>Month</th>\n",
       "      <th>Region</th>\n",
       "      <th>TotalHiredSeasonal</th>\n",
       "      <th>Mexican</th>\n",
       "      <th>HiredWorkers</th>\n",
       "      <th>Local</th>\n",
       "      <th>Intrastate</th>\n",
       "      <th>Interstate</th>\n",
       "      <th>TotalForeign</th>\n",
       "    </tr>\n",
       "  </thead>\n",
       "  <tbody>\n",
       "    <tr>\n",
       "      <th>3922</th>\n",
       "      <td>IN</td>\n",
       "      <td>1967</td>\n",
       "      <td>6.0</td>\n",
       "      <td>3.0</td>\n",
       "      <td>3585.0</td>\n",
       "      <td>NaN</td>\n",
       "      <td>NaN</td>\n",
       "      <td>714.0</td>\n",
       "      <td>0.0</td>\n",
       "      <td>2871.0</td>\n",
       "      <td>0.0</td>\n",
       "    </tr>\n",
       "    <tr>\n",
       "      <th>763</th>\n",
       "      <td>AR</td>\n",
       "      <td>1964</td>\n",
       "      <td>2.0</td>\n",
       "      <td>7.0</td>\n",
       "      <td>NaN</td>\n",
       "      <td>NaN</td>\n",
       "      <td>NaN</td>\n",
       "      <td>NaN</td>\n",
       "      <td>NaN</td>\n",
       "      <td>NaN</td>\n",
       "      <td>NaN</td>\n",
       "    </tr>\n",
       "    <tr>\n",
       "      <th>770</th>\n",
       "      <td>AR</td>\n",
       "      <td>1955</td>\n",
       "      <td>6.0</td>\n",
       "      <td>7.0</td>\n",
       "      <td>53408.0</td>\n",
       "      <td>3982.0</td>\n",
       "      <td>NaN</td>\n",
       "      <td>45191.0</td>\n",
       "      <td>975.0</td>\n",
       "      <td>1860.0</td>\n",
       "      <td>3982.0</td>\n",
       "    </tr>\n",
       "    <tr>\n",
       "      <th>7161</th>\n",
       "      <td>MS</td>\n",
       "      <td>1944</td>\n",
       "      <td>11.0</td>\n",
       "      <td>6.0</td>\n",
       "      <td>NaN</td>\n",
       "      <td>NaN</td>\n",
       "      <td>NaN</td>\n",
       "      <td>NaN</td>\n",
       "      <td>NaN</td>\n",
       "      <td>NaN</td>\n",
       "      <td>NaN</td>\n",
       "    </tr>\n",
       "    <tr>\n",
       "      <th>12310</th>\n",
       "      <td>SC</td>\n",
       "      <td>1969</td>\n",
       "      <td>9.0</td>\n",
       "      <td>5.0</td>\n",
       "      <td>12025.0</td>\n",
       "      <td>NaN</td>\n",
       "      <td>NaN</td>\n",
       "      <td>11316.0</td>\n",
       "      <td>70.0</td>\n",
       "      <td>639.0</td>\n",
       "      <td>0.0</td>\n",
       "    </tr>\n",
       "    <tr>\n",
       "      <th>15808</th>\n",
       "      <td>WY</td>\n",
       "      <td>1944</td>\n",
       "      <td>7.0</td>\n",
       "      <td>8.0</td>\n",
       "      <td>NaN</td>\n",
       "      <td>1026.0</td>\n",
       "      <td>175000.0</td>\n",
       "      <td>NaN</td>\n",
       "      <td>NaN</td>\n",
       "      <td>NaN</td>\n",
       "      <td>NaN</td>\n",
       "    </tr>\n",
       "    <tr>\n",
       "      <th>1584</th>\n",
       "      <td>CO</td>\n",
       "      <td>1967</td>\n",
       "      <td>2.0</td>\n",
       "      <td>8.0</td>\n",
       "      <td>NaN</td>\n",
       "      <td>NaN</td>\n",
       "      <td>NaN</td>\n",
       "      <td>NaN</td>\n",
       "      <td>NaN</td>\n",
       "      <td>NaN</td>\n",
       "      <td>NaN</td>\n",
       "    </tr>\n",
       "    <tr>\n",
       "      <th>14217</th>\n",
       "      <td>VA</td>\n",
       "      <td>1946</td>\n",
       "      <td>11.0</td>\n",
       "      <td>5.0</td>\n",
       "      <td>NaN</td>\n",
       "      <td>NaN</td>\n",
       "      <td>NaN</td>\n",
       "      <td>NaN</td>\n",
       "      <td>NaN</td>\n",
       "      <td>NaN</td>\n",
       "      <td>NaN</td>\n",
       "    </tr>\n",
       "    <tr>\n",
       "      <th>3382</th>\n",
       "      <td>IL</td>\n",
       "      <td>1972</td>\n",
       "      <td>3.0</td>\n",
       "      <td>3.0</td>\n",
       "      <td>NaN</td>\n",
       "      <td>NaN</td>\n",
       "      <td>NaN</td>\n",
       "      <td>NaN</td>\n",
       "      <td>NaN</td>\n",
       "      <td>NaN</td>\n",
       "      <td>NaN</td>\n",
       "    </tr>\n",
       "    <tr>\n",
       "      <th>2751</th>\n",
       "      <td>GA</td>\n",
       "      <td>1949</td>\n",
       "      <td>10.0</td>\n",
       "      <td>5.0</td>\n",
       "      <td>NaN</td>\n",
       "      <td>NaN</td>\n",
       "      <td>435000.0</td>\n",
       "      <td>NaN</td>\n",
       "      <td>NaN</td>\n",
       "      <td>NaN</td>\n",
       "      <td>NaN</td>\n",
       "    </tr>\n",
       "  </tbody>\n",
       "</table>\n",
       "</div>"
      ],
      "text/plain": [
       "      State  Year  Month  Region  TotalHiredSeasonal  Mexican  HiredWorkers  \\\n",
       "3922     IN  1967    6.0     3.0              3585.0      NaN           NaN   \n",
       "763      AR  1964    2.0     7.0                 NaN      NaN           NaN   \n",
       "770      AR  1955    6.0     7.0             53408.0   3982.0           NaN   \n",
       "7161     MS  1944   11.0     6.0                 NaN      NaN           NaN   \n",
       "12310    SC  1969    9.0     5.0             12025.0      NaN           NaN   \n",
       "15808    WY  1944    7.0     8.0                 NaN   1026.0      175000.0   \n",
       "1584     CO  1967    2.0     8.0                 NaN      NaN           NaN   \n",
       "14217    VA  1946   11.0     5.0                 NaN      NaN           NaN   \n",
       "3382     IL  1972    3.0     3.0                 NaN      NaN           NaN   \n",
       "2751     GA  1949   10.0     5.0                 NaN      NaN      435000.0   \n",
       "\n",
       "         Local  Intrastate  Interstate  TotalForeign  \n",
       "3922     714.0         0.0      2871.0           0.0  \n",
       "763        NaN         NaN         NaN           NaN  \n",
       "770    45191.0       975.0      1860.0        3982.0  \n",
       "7161       NaN         NaN         NaN           NaN  \n",
       "12310  11316.0        70.0       639.0           0.0  \n",
       "15808      NaN         NaN         NaN           NaN  \n",
       "1584       NaN         NaN         NaN           NaN  \n",
       "14217      NaN         NaN         NaN           NaN  \n",
       "3382       NaN         NaN         NaN           NaN  \n",
       "2751       NaN         NaN         NaN           NaN  "
      ]
     },
     "execution_count": 277,
     "metadata": {},
     "output_type": "execute_result"
    }
   ],
   "source": [
    "## need to import and read file\n",
    "\n",
    "import pandas as pd\n",
    "farmworkers_df = pd.read_csv('farmworkers_1942_1975.csv')\n",
    "\n",
    "farmworkers_df.sample(10)\n",
    "##they may choose to explore in more and other ways, which is fine"
   ]
  },
  {
   "cell_type": "markdown",
   "id": "6f56d0bd-4465-4820-8b09-ee0eaf137a9f",
   "metadata": {},
   "source": [
    "Below, write a short response including what you noticed as well as what questions you have about the data."
   ]
  },
  {
   "cell_type": "markdown",
   "id": "6d5a42bc-b5e1-4842-a067-0dd2cb7257c0",
   "metadata": {},
   "source": [
    "**This answer will vary widely. Some potential answers include questions about what each column means, noticings about the significant number of \"NaN\" entries, thoughts about how data was collected regarding months, etc.**"
   ]
  },
  {
   "cell_type": "markdown",
   "id": "fab9a380-576d-4bbc-b8ce-aaafb3bb0c02",
   "metadata": {},
   "source": [
    "Here is some context related to some of the columns in this file. This information comes from the creator of this dataset, and while it still leaves questions, it can help further clarify the data:\n",
    "- 'TotalHiredSeasonal' = \"Total Hired Seasonal Workers (Local+Intra+Inter+Foreign, 1953-1973)\"\n",
    "- 'Mexican' = \"Mexican (contract workers only, 1943-1967)\" *(this means that this only counts Mexican workers with contracts through the Bracero Program, not any unauthorized workers)*\n",
    "- 'HiredWorkers' = \"Hired Workers on Farms (total, quarterly 1942-1974)\"\n",
    "- 'Local' = \"Local (nonmigratory domestic, 1948-1973)\"\n",
    "- 'Intrastate' = \"Intrastate (1948-1973)\"\n",
    "- 'Interstate = \"Interstate (1948-1973)\"\n",
    "- 'TotalForeign' = \"Total Foreign Workers (as reported, 1945-1948, 1950-1973)\""
   ]
  },
  {
   "cell_type": "markdown",
   "id": "87def837-8352-406c-bf9a-0e58b54a18e9",
   "metadata": {},
   "source": [
    "### Analysis Questions"
   ]
  },
  {
   "cell_type": "markdown",
   "id": "63fe44fa-96b2-4e37-bfa0-d5952bed4268",
   "metadata": {},
   "source": [
    "#### Part 1: Bracero Worker Analysis"
   ]
  },
  {
   "cell_type": "markdown",
   "id": "d0a90c57-b7d3-4101-9e2d-ad5701dd22c4",
   "metadata": {},
   "source": [
    "**1. Which were the top five states that had the most contracted Bracero workers between 1943 and 1967?**"
   ]
  },
  {
   "cell_type": "code",
   "execution_count": 284,
   "id": "0ea50656-683f-4b0c-9b2c-68e3d5dbcfd5",
   "metadata": {},
   "outputs": [
    {
     "data": {
      "text/plain": [
       "State\n",
       "CA    6309812.0\n",
       "TX    4192340.0\n",
       "AZ     991847.0\n",
       "AR     680217.0\n",
       "NM     569362.0\n",
       "Name: Mexican, dtype: float64"
      ]
     },
     "execution_count": 284,
     "metadata": {},
     "output_type": "execute_result"
    }
   ],
   "source": [
    "farmworkers_df.groupby('State')['Mexican'].sum().sort_values(ascending = False)[:5]"
   ]
  },
  {
   "cell_type": "markdown",
   "id": "104c3dbf-f07c-49eb-aa29-f3ee44b42508",
   "metadata": {},
   "source": [
    "**2. According to this data, which states received Bracero workers through the Bracero Program?**"
   ]
  },
  {
   "cell_type": "code",
   "execution_count": 286,
   "id": "8dc0d6ec-6b6f-42f0-a414-0b9a10ad8dd3",
   "metadata": {},
   "outputs": [
    {
     "data": {
      "text/plain": [
       "State\n",
       "CA    235\n",
       "AZ    205\n",
       "CO    127\n",
       "MI    115\n",
       "UT    112\n",
       "NM    111\n",
       "NV    102\n",
       "WY    101\n",
       "WI    100\n",
       "TX     98\n",
       "NE     96\n",
       "AR     92\n",
       "MN     87\n",
       "OR     85\n",
       "MT     84\n",
       "WA     84\n",
       "IN     82\n",
       "KS     80\n",
       "ID     75\n",
       "IL     71\n",
       "SD     66\n",
       "IA     45\n",
       "TN     38\n",
       "ND     35\n",
       "MO     22\n",
       "KY     22\n",
       "GA     19\n",
       "OH     12\n",
       "LA      7\n",
       "NY      3\n",
       "NC      3\n",
       "DE      2\n",
       "NH      1\n",
       "Name: count, dtype: int64"
      ]
     },
     "execution_count": 286,
     "metadata": {},
     "output_type": "execute_result"
    }
   ],
   "source": [
    "## students should filter out data that had NaN entries or 0.0\n",
    "\n",
    "bracero_df = farmworkers_df[farmworkers_df['Mexican'].notna()]\n",
    "bracero_df = bracero_df[bracero_df['Mexican'] > 0.0]\n",
    "bracero_df['State'].value_counts()"
   ]
  },
  {
   "cell_type": "markdown",
   "id": "decaf1de-22e4-463b-a9b9-f72de05e97d0",
   "metadata": {},
   "source": [
    "**3. Create a graph that shows the changes in the number of Bracero workers over time.**\n",
    "*THINGS TO KEEP IN MIND:*\n",
    "- Many rows have 'NaN' data in the Mexican column.\n",
    "- Remember to look at the year constraints of the 'Mexican' column.\n",
    "- You should show these changes referring to *yearly* numbers. Data was collected in specific months, and years often had data collected over many months. However, not all states collected data for the same amount of months. *How will you make sure to represent yearly data without over or under respresenting certain states?*\n",
    "- You should be able to see each state individually in your final graph through different colors."
   ]
  },
  {
   "cell_type": "code",
   "execution_count": 288,
   "id": "8a38fb80-a3f8-4ca0-844d-4621aa6b55b5",
   "metadata": {},
   "outputs": [
    {
     "data": {
      "application/vnd.plotly.v1+json": {
       "config": {
        "plotlyServerURL": "https://plot.ly"
       },
       "data": [
        {
         "alignmentgroup": "True",
         "hovertemplate": "State=AR<br>Year=%{x}<br>Number of Mexican Bracero Workers=%{y}<extra></extra>",
         "legendgroup": "AR",
         "marker": {
          "color": "#636efa",
          "pattern": {
           "shape": ""
          }
         },
         "name": "AR",
         "offsetgroup": "AR",
         "orientation": "v",
         "showlegend": true,
         "textposition": "auto",
         "type": "bar",
         "x": [
          1951,
          1952,
          1953,
          1954,
          1955,
          1956,
          1957,
          1958,
          1959,
          1960,
          1961,
          1962,
          1963,
          1964
         ],
         "xaxis": "x",
         "y": [
          10950,
          7823.125,
          7084.285714285715,
          6071.428571428572,
          7803.571428571428,
          10728.166666666666,
          8229,
          4834.142857142857,
          13682.333333333334,
          11003.57142857143,
          7742.428571428572,
          3330,
          2755.6,
          1508.7142857142858
         ],
         "yaxis": "y"
        },
        {
         "alignmentgroup": "True",
         "hovertemplate": "State=AZ<br>Year=%{x}<br>Number of Mexican Bracero Workers=%{y}<extra></extra>",
         "legendgroup": "AZ",
         "marker": {
          "color": "#EF553B",
          "pattern": {
           "shape": ""
          }
         },
         "name": "AZ",
         "offsetgroup": "AZ",
         "orientation": "v",
         "showlegend": true,
         "textposition": "auto",
         "type": "bar",
         "x": [
          1943,
          1944,
          1945,
          1946,
          1947,
          1948,
          1949,
          1950,
          1951,
          1952,
          1953,
          1954,
          1955,
          1956,
          1957,
          1958,
          1959,
          1960,
          1961,
          1962,
          1963,
          1964
         ],
         "xaxis": "x",
         "y": [
          1292.75,
          1207.5833333333333,
          1672.1818181818182,
          1281.4166666666667,
          900.5,
          187.25,
          6200,
          1225,
          4208.333333333333,
          6658.333333333333,
          6081.916666666667,
          6575.666666666667,
          7055.125,
          9256.375,
          8849.75,
          11655.375,
          10465.142857142857,
          9118.285714285714,
          7294.857142857143,
          4938.5,
          4296,
          3729.6666666666665
         ],
         "yaxis": "y"
        },
        {
         "alignmentgroup": "True",
         "hovertemplate": "State=CA<br>Year=%{x}<br>Number of Mexican Bracero Workers=%{y}<extra></extra>",
         "legendgroup": "CA",
         "marker": {
          "color": "#00cc96",
          "pattern": {
           "shape": ""
          }
         },
         "name": "CA",
         "offsetgroup": "CA",
         "orientation": "v",
         "showlegend": true,
         "textposition": "auto",
         "type": "bar",
         "x": [
          1943,
          1944,
          1945,
          1946,
          1947,
          1948,
          1949,
          1950,
          1951,
          1952,
          1953,
          1954,
          1955,
          1956,
          1957,
          1958,
          1959,
          1960,
          1961,
          1962,
          1963,
          1964,
          1965,
          1966,
          1967
         ],
         "xaxis": "x",
         "y": [
          20181.5,
          24252.583333333332,
          25927.363636363636,
          16745.333333333332,
          11412.833333333334,
          7783.333333333333,
          4858.333333333333,
          7475,
          18600,
          23008.333333333332,
          25262.5,
          28827.5,
          48325,
          59838.125,
          62054.125,
          55781.125,
          52834.28571428572,
          50784.28571428572,
          43270,
          39878.75,
          26690.833333333332,
          26770.833333333332,
          5592.6,
          2772,
          5850
         ],
         "yaxis": "y"
        },
        {
         "alignmentgroup": "True",
         "hovertemplate": "State=CO<br>Year=%{x}<br>Number of Mexican Bracero Workers=%{y}<extra></extra>",
         "legendgroup": "CO",
         "marker": {
          "color": "#ab63fa",
          "pattern": {
           "shape": ""
          }
         },
         "name": "CO",
         "offsetgroup": "CO",
         "orientation": "v",
         "showlegend": true,
         "textposition": "auto",
         "type": "bar",
         "x": [
          1943,
          1944,
          1945,
          1946,
          1947,
          1949,
          1950,
          1953,
          1954,
          1955,
          1956,
          1957,
          1958,
          1959,
          1960,
          1961,
          1962,
          1963,
          1964
         ],
         "xaxis": "x",
         "y": [
          578.875,
          1449.090909090909,
          1113.7272727272727,
          793.1666666666666,
          518,
          234,
          812,
          710.4,
          659.2,
          1200,
          1783.8333333333333,
          1924.2857142857142,
          1761.857142857143,
          2166.6666666666665,
          2231.8571428571427,
          3032.6666666666665,
          3191.6666666666665,
          2811.4285714285716,
          2624.5714285714284
         ],
         "yaxis": "y"
        },
        {
         "alignmentgroup": "True",
         "hovertemplate": "State=DE<br>Year=%{x}<br>Number of Mexican Bracero Workers=%{y}<extra></extra>",
         "legendgroup": "DE",
         "marker": {
          "color": "#FFA15A",
          "pattern": {
           "shape": ""
          }
         },
         "name": "DE",
         "offsetgroup": "DE",
         "orientation": "v",
         "showlegend": true,
         "textposition": "auto",
         "type": "bar",
         "x": [
          1957
         ],
         "xaxis": "x",
         "y": [
          115
         ],
         "yaxis": "y"
        },
        {
         "alignmentgroup": "True",
         "hovertemplate": "State=GA<br>Year=%{x}<br>Number of Mexican Bracero Workers=%{y}<extra></extra>",
         "legendgroup": "GA",
         "marker": {
          "color": "#19d3f3",
          "pattern": {
           "shape": ""
          }
         },
         "name": "GA",
         "offsetgroup": "GA",
         "orientation": "v",
         "showlegend": true,
         "textposition": "auto",
         "type": "bar",
         "x": [
          1953,
          1954,
          1955,
          1956,
          1957,
          1958,
          1959,
          1960,
          1961
         ],
         "xaxis": "x",
         "y": [
          1152,
          212.5,
          242.33333333333334,
          646.6666666666666,
          888,
          439,
          821,
          644.5,
          763.5
         ],
         "yaxis": "y"
        },
        {
         "alignmentgroup": "True",
         "hovertemplate": "State=IA<br>Year=%{x}<br>Number of Mexican Bracero Workers=%{y}<extra></extra>",
         "legendgroup": "IA",
         "marker": {
          "color": "#FF6692",
          "pattern": {
           "shape": ""
          }
         },
         "name": "IA",
         "offsetgroup": "IA",
         "orientation": "v",
         "showlegend": true,
         "textposition": "auto",
         "type": "bar",
         "x": [
          1944,
          1945,
          1946,
          1947,
          1953,
          1956,
          1957,
          1958,
          1959,
          1960,
          1961,
          1962
         ],
         "xaxis": "x",
         "y": [
          329.25,
          292.7142857142857,
          423.375,
          172.57142857142858,
          40,
          30.666666666666668,
          32,
          44,
          48.333333333333336,
          70.66666666666667,
          193,
          98.5
         ],
         "yaxis": "y"
        },
        {
         "alignmentgroup": "True",
         "hovertemplate": "State=ID<br>Year=%{x}<br>Number of Mexican Bracero Workers=%{y}<extra></extra>",
         "legendgroup": "ID",
         "marker": {
          "color": "#B6E880",
          "pattern": {
           "shape": ""
          }
         },
         "name": "ID",
         "offsetgroup": "ID",
         "orientation": "v",
         "showlegend": true,
         "textposition": "auto",
         "type": "bar",
         "x": [
          1943,
          1944,
          1945,
          1946,
          1947,
          1953,
          1954,
          1955,
          1956,
          1957
         ],
         "xaxis": "x",
         "y": [
          622.5,
          1463.0833333333333,
          2012.8181818181818,
          1519,
          1957.111111111111,
          223.75,
          159.4,
          179.2,
          177.2,
          127.2
         ],
         "yaxis": "y"
        },
        {
         "alignmentgroup": "True",
         "hovertemplate": "State=IL<br>Year=%{x}<br>Number of Mexican Bracero Workers=%{y}<extra></extra>",
         "legendgroup": "IL",
         "marker": {
          "color": "#FF97FF",
          "pattern": {
           "shape": ""
          }
         },
         "name": "IL",
         "offsetgroup": "IL",
         "orientation": "v",
         "showlegend": true,
         "textposition": "auto",
         "type": "bar",
         "x": [
          1944,
          1945,
          1946,
          1947,
          1953,
          1954,
          1955,
          1956,
          1957,
          1958,
          1959,
          1960,
          1961,
          1962,
          1963
         ],
         "xaxis": "x",
         "y": [
          576.75,
          312.6666666666667,
          379.1111111111111,
          269.1666666666667,
          24.6,
          74.57142857142857,
          159,
          140.66666666666666,
          150,
          112.33333333333333,
          82.5,
          123,
          47.5,
          113,
          35
         ],
         "yaxis": "y"
        },
        {
         "alignmentgroup": "True",
         "hovertemplate": "State=IN<br>Year=%{x}<br>Number of Mexican Bracero Workers=%{y}<extra></extra>",
         "legendgroup": "IN",
         "marker": {
          "color": "#FECB52",
          "pattern": {
           "shape": ""
          }
         },
         "name": "IN",
         "offsetgroup": "IN",
         "orientation": "v",
         "showlegend": true,
         "textposition": "auto",
         "type": "bar",
         "x": [
          1944,
          1945,
          1946,
          1947,
          1952,
          1953,
          1954,
          1955,
          1956,
          1957,
          1958,
          1959,
          1960,
          1961,
          1962,
          1963,
          1964
         ],
         "xaxis": "x",
         "y": [
          74.5,
          191.11111111111111,
          107.16666666666667,
          86.875,
          310,
          210.25,
          116.25,
          166.5,
          158,
          255.2,
          222,
          187.4,
          218.5,
          293,
          202.5,
          185.5,
          101
         ],
         "yaxis": "y"
        },
        {
         "alignmentgroup": "True",
         "hovertemplate": "State=KS<br>Year=%{x}<br>Number of Mexican Bracero Workers=%{y}<extra></extra>",
         "legendgroup": "KS",
         "marker": {
          "color": "#636efa",
          "pattern": {
           "shape": ""
          }
         },
         "name": "KS",
         "offsetgroup": "KS",
         "orientation": "v",
         "showlegend": true,
         "textposition": "auto",
         "type": "bar",
         "x": [
          1943,
          1944,
          1945,
          1946,
          1947,
          1956,
          1957,
          1958,
          1959,
          1960,
          1961,
          1962,
          1963,
          1964
         ],
         "xaxis": "x",
         "y": [
          62.25,
          218.85714285714286,
          104.7,
          180.58333333333334,
          188.55555555555554,
          28.666666666666668,
          95,
          39,
          12.6,
          14.166666666666666,
          34,
          78.5,
          80.5,
          143.33333333333334
         ],
         "yaxis": "y"
        },
        {
         "alignmentgroup": "True",
         "hovertemplate": "State=KY<br>Year=%{x}<br>Number of Mexican Bracero Workers=%{y}<extra></extra>",
         "legendgroup": "KY",
         "marker": {
          "color": "#EF553B",
          "pattern": {
           "shape": ""
          }
         },
         "name": "KY",
         "offsetgroup": "KY",
         "orientation": "v",
         "showlegend": true,
         "textposition": "auto",
         "type": "bar",
         "x": [
          1953,
          1956,
          1957,
          1958,
          1959,
          1960,
          1961
         ],
         "xaxis": "x",
         "y": [
          73.5,
          193.5,
          142.4,
          96,
          162.6,
          94.25,
          57
         ],
         "yaxis": "y"
        },
        {
         "alignmentgroup": "True",
         "hovertemplate": "State=LA<br>Year=%{x}<br>Number of Mexican Bracero Workers=%{y}<extra></extra>",
         "legendgroup": "LA",
         "marker": {
          "color": "#00cc96",
          "pattern": {
           "shape": ""
          }
         },
         "name": "LA",
         "offsetgroup": "LA",
         "orientation": "v",
         "showlegend": true,
         "textposition": "auto",
         "type": "bar",
         "x": [
          1953
         ],
         "xaxis": "x",
         "y": [
          245.71428571428572
         ],
         "yaxis": "y"
        },
        {
         "alignmentgroup": "True",
         "hovertemplate": "State=MI<br>Year=%{x}<br>Number of Mexican Bracero Workers=%{y}<extra></extra>",
         "legendgroup": "MI",
         "marker": {
          "color": "#ab63fa",
          "pattern": {
           "shape": ""
          }
         },
         "name": "MI",
         "offsetgroup": "MI",
         "orientation": "v",
         "showlegend": true,
         "textposition": "auto",
         "type": "bar",
         "x": [
          1944,
          1945,
          1946,
          1947,
          1948,
          1951,
          1952,
          1953,
          1954,
          1955,
          1956,
          1957,
          1958,
          1959,
          1960,
          1961,
          1962,
          1963,
          1964
         ],
         "xaxis": "x",
         "y": [
          1735,
          2040,
          1036.25,
          54.54545454545455,
          745.3333333333334,
          1286.4,
          1475.1666666666667,
          1587.1666666666667,
          2707.3333333333335,
          2816.5,
          4121.833333333333,
          5506.4,
          3715,
          4062.2,
          4258.4,
          4544.8,
          3176.6,
          4735.5,
          3814.25
         ],
         "yaxis": "y"
        },
        {
         "alignmentgroup": "True",
         "hovertemplate": "State=MN<br>Year=%{x}<br>Number of Mexican Bracero Workers=%{y}<extra></extra>",
         "legendgroup": "MN",
         "marker": {
          "color": "#FFA15A",
          "pattern": {
           "shape": ""
          }
         },
         "name": "MN",
         "offsetgroup": "MN",
         "orientation": "v",
         "showlegend": true,
         "textposition": "auto",
         "type": "bar",
         "x": [
          1943,
          1944,
          1945,
          1946,
          1947,
          1953,
          1954,
          1955,
          1956,
          1957,
          1958,
          1959,
          1960,
          1961,
          1962,
          1963,
          1964
         ],
         "xaxis": "x",
         "y": [
          235.5,
          612,
          669.6,
          1029.5,
          990.8571428571429,
          615.3333333333334,
          138,
          104,
          155,
          259.8333333333333,
          100,
          58,
          49,
          37.5,
          29.333333333333332,
          26.333333333333332,
          14
         ],
         "yaxis": "y"
        },
        {
         "alignmentgroup": "True",
         "hovertemplate": "State=MO<br>Year=%{x}<br>Number of Mexican Bracero Workers=%{y}<extra></extra>",
         "legendgroup": "MO",
         "marker": {
          "color": "#19d3f3",
          "pattern": {
           "shape": ""
          }
         },
         "name": "MO",
         "offsetgroup": "MO",
         "orientation": "v",
         "showlegend": true,
         "textposition": "auto",
         "type": "bar",
         "x": [
          1953,
          1954,
          1955,
          1956,
          1957,
          1958,
          1959,
          1960
         ],
         "xaxis": "x",
         "y": [
          1650,
          1162.6666666666667,
          906,
          938.3333333333334,
          227.5,
          685,
          497,
          194.75
         ],
         "yaxis": "y"
        },
        {
         "alignmentgroup": "True",
         "hovertemplate": "State=MT<br>Year=%{x}<br>Number of Mexican Bracero Workers=%{y}<extra></extra>",
         "legendgroup": "MT",
         "marker": {
          "color": "#FF6692",
          "pattern": {
           "shape": ""
          }
         },
         "name": "MT",
         "offsetgroup": "MT",
         "orientation": "v",
         "showlegend": true,
         "textposition": "auto",
         "type": "bar",
         "x": [
          1943,
          1944,
          1945,
          1946,
          1947,
          1953,
          1954,
          1955,
          1956,
          1957,
          1958,
          1959,
          1960,
          1961,
          1962,
          1963,
          1964
         ],
         "xaxis": "x",
         "y": [
          1029.125,
          1985.5454545454545,
          1669.3636363636363,
          1081.0833333333333,
          986.7,
          847,
          877.6666666666666,
          627.6666666666666,
          1507,
          2082.5,
          831,
          1217,
          1002,
          798.6666666666666,
          1010.6666666666666,
          981.6666666666666,
          983.5
         ],
         "yaxis": "y"
        },
        {
         "alignmentgroup": "True",
         "hovertemplate": "State=NC<br>Year=%{x}<br>Number of Mexican Bracero Workers=%{y}<extra></extra>",
         "legendgroup": "NC",
         "marker": {
          "color": "#B6E880",
          "pattern": {
           "shape": ""
          }
         },
         "name": "NC",
         "offsetgroup": "NC",
         "orientation": "v",
         "showlegend": true,
         "textposition": "auto",
         "type": "bar",
         "x": [
          1947
         ],
         "xaxis": "x",
         "y": [
          330.3333333333333
         ],
         "yaxis": "y"
        },
        {
         "alignmentgroup": "True",
         "hovertemplate": "State=ND<br>Year=%{x}<br>Number of Mexican Bracero Workers=%{y}<extra></extra>",
         "legendgroup": "ND",
         "marker": {
          "color": "#FF97FF",
          "pattern": {
           "shape": ""
          }
         },
         "name": "ND",
         "offsetgroup": "ND",
         "orientation": "v",
         "showlegend": true,
         "textposition": "auto",
         "type": "bar",
         "x": [
          1943,
          1944,
          1945,
          1946,
          1947,
          1953,
          1957,
          1958,
          1959,
          1960,
          1961
         ],
         "xaxis": "x",
         "y": [
          199.5,
          1502.8,
          1035.75,
          242.25,
          58.22222222222222,
          80,
          170,
          249,
          36,
          54,
          108
         ],
         "yaxis": "y"
        },
        {
         "alignmentgroup": "True",
         "hovertemplate": "State=NE<br>Year=%{x}<br>Number of Mexican Bracero Workers=%{y}<extra></extra>",
         "legendgroup": "NE",
         "marker": {
          "color": "#FECB52",
          "pattern": {
           "shape": ""
          }
         },
         "name": "NE",
         "offsetgroup": "NE",
         "orientation": "v",
         "showlegend": true,
         "textposition": "auto",
         "type": "bar",
         "x": [
          1943,
          1944,
          1945,
          1946,
          1947,
          1953,
          1954,
          1955,
          1956,
          1957,
          1958,
          1959,
          1960,
          1961,
          1962,
          1963,
          1964
         ],
         "xaxis": "x",
         "y": [
          182.5,
          425.6666666666667,
          684.2727272727273,
          663.8333333333334,
          505.90909090909093,
          698,
          209.5,
          123.85714285714286,
          450.8,
          896.6666666666666,
          1201.5,
          1072,
          811.3333333333334,
          765.3333333333334,
          702,
          681.75,
          546.3333333333334
         ],
         "yaxis": "y"
        },
        {
         "alignmentgroup": "True",
         "hovertemplate": "State=NH<br>Year=%{x}<br>Number of Mexican Bracero Workers=%{y}<extra></extra>",
         "legendgroup": "NH",
         "marker": {
          "color": "#636efa",
          "pattern": {
           "shape": ""
          }
         },
         "name": "NH",
         "offsetgroup": "NH",
         "orientation": "v",
         "showlegend": true,
         "textposition": "auto",
         "type": "bar",
         "x": [
          1956
         ],
         "xaxis": "x",
         "y": [
          79
         ],
         "yaxis": "y"
        },
        {
         "alignmentgroup": "True",
         "hovertemplate": "State=NM<br>Year=%{x}<br>Number of Mexican Bracero Workers=%{y}<extra></extra>",
         "legendgroup": "NM",
         "marker": {
          "color": "#EF553B",
          "pattern": {
           "shape": ""
          }
         },
         "name": "NM",
         "offsetgroup": "NM",
         "orientation": "v",
         "showlegend": true,
         "textposition": "auto",
         "type": "bar",
         "x": [
          1946,
          1948,
          1953,
          1954,
          1955,
          1956,
          1957,
          1958,
          1959,
          1960,
          1961,
          1962,
          1963,
          1964
         ],
         "xaxis": "x",
         "y": [
          22.375,
          7356,
          10231.857142857143,
          6132.166666666667,
          7462.875,
          7570.75,
          7945,
          9124.625,
          9087.285714285714,
          6082.142857142857,
          4514.142857142857,
          1443.25,
          543.75,
          393.6
         ],
         "yaxis": "y"
        },
        {
         "alignmentgroup": "True",
         "hovertemplate": "State=NV<br>Year=%{x}<br>Number of Mexican Bracero Workers=%{y}<extra></extra>",
         "legendgroup": "NV",
         "marker": {
          "color": "#00cc96",
          "pattern": {
           "shape": ""
          }
         },
         "name": "NV",
         "offsetgroup": "NV",
         "orientation": "v",
         "showlegend": true,
         "textposition": "auto",
         "type": "bar",
         "x": [
          1943,
          1944,
          1945,
          1946,
          1947,
          1953,
          1954,
          1955,
          1956,
          1957,
          1958,
          1959,
          1960,
          1961,
          1962,
          1963
         ],
         "xaxis": "x",
         "y": [
          281.14285714285717,
          304.5,
          443.3636363636364,
          220,
          119.08333333333333,
          82,
          60,
          43,
          22.333333333333332,
          31,
          39.57142857142857,
          37.714285714285715,
          60.857142857142854,
          25.142857142857142,
          29,
          29
         ],
         "yaxis": "y"
        },
        {
         "alignmentgroup": "True",
         "hovertemplate": "State=NY<br>Year=%{x}<br>Number of Mexican Bracero Workers=%{y}<extra></extra>",
         "legendgroup": "NY",
         "marker": {
          "color": "#ab63fa",
          "pattern": {
           "shape": ""
          }
         },
         "name": "NY",
         "offsetgroup": "NY",
         "orientation": "v",
         "showlegend": true,
         "textposition": "auto",
         "type": "bar",
         "x": [
          1947
         ],
         "xaxis": "x",
         "y": [
          173.66666666666666
         ],
         "yaxis": "y"
        },
        {
         "alignmentgroup": "True",
         "hovertemplate": "State=OH<br>Year=%{x}<br>Number of Mexican Bracero Workers=%{y}<extra></extra>",
         "legendgroup": "OH",
         "marker": {
          "color": "#FFA15A",
          "pattern": {
           "shape": ""
          }
         },
         "name": "OH",
         "offsetgroup": "OH",
         "orientation": "v",
         "showlegend": true,
         "textposition": "auto",
         "type": "bar",
         "x": [
          1944,
          1945,
          1956,
          1957
         ],
         "xaxis": "x",
         "y": [
          129,
          80.75,
          50,
          64
         ],
         "yaxis": "y"
        },
        {
         "alignmentgroup": "True",
         "hovertemplate": "State=OR<br>Year=%{x}<br>Number of Mexican Bracero Workers=%{y}<extra></extra>",
         "legendgroup": "OR",
         "marker": {
          "color": "#19d3f3",
          "pattern": {
           "shape": ""
          }
         },
         "name": "OR",
         "offsetgroup": "OR",
         "orientation": "v",
         "showlegend": true,
         "textposition": "auto",
         "type": "bar",
         "x": [
          1943,
          1944,
          1945,
          1946,
          1947,
          1952,
          1953,
          1955,
          1956,
          1957,
          1958,
          1959,
          1960,
          1961,
          1962,
          1963,
          1964
         ],
         "xaxis": "x",
         "y": [
          1537.375,
          1893.5,
          1786.1818181818182,
          901.8333333333334,
          486,
          425.25,
          159,
          590.5,
          349.6,
          205,
          199,
          359,
          349,
          327,
          234,
          67,
          187
         ],
         "yaxis": "y"
        },
        {
         "alignmentgroup": "True",
         "hovertemplate": "State=SD<br>Year=%{x}<br>Number of Mexican Bracero Workers=%{y}<extra></extra>",
         "legendgroup": "SD",
         "marker": {
          "color": "#FF6692",
          "pattern": {
           "shape": ""
          }
         },
         "name": "SD",
         "offsetgroup": "SD",
         "orientation": "v",
         "showlegend": true,
         "textposition": "auto",
         "type": "bar",
         "x": [
          1943,
          1944,
          1945,
          1946,
          1947,
          1953,
          1954,
          1955,
          1956,
          1957,
          1958,
          1959,
          1960,
          1961,
          1962,
          1963,
          1964
         ],
         "xaxis": "x",
         "y": [
          73.625,
          308.1666666666667,
          340.5,
          204.75,
          144.8181818181818,
          185,
          209.5,
          111,
          202,
          296,
          167.5,
          216,
          229,
          125.5,
          84,
          49,
          51
         ],
         "yaxis": "y"
        },
        {
         "alignmentgroup": "True",
         "hovertemplate": "State=TN<br>Year=%{x}<br>Number of Mexican Bracero Workers=%{y}<extra></extra>",
         "legendgroup": "TN",
         "marker": {
          "color": "#B6E880",
          "pattern": {
           "shape": ""
          }
         },
         "name": "TN",
         "offsetgroup": "TN",
         "orientation": "v",
         "showlegend": true,
         "textposition": "auto",
         "type": "bar",
         "x": [
          1953,
          1954,
          1955,
          1956,
          1957,
          1958,
          1959,
          1960,
          1961,
          1962
         ],
         "xaxis": "x",
         "y": [
          749.5,
          315,
          548.6666666666666,
          376.2,
          453.2,
          269.75,
          503.2,
          478.75,
          331,
          165
         ],
         "yaxis": "y"
        },
        {
         "alignmentgroup": "True",
         "hovertemplate": "State=TX<br>Year=%{x}<br>Number of Mexican Bracero Workers=%{y}<extra></extra>",
         "legendgroup": "TX",
         "marker": {
          "color": "#FF97FF",
          "pattern": {
           "shape": ""
          }
         },
         "name": "TX",
         "offsetgroup": "TX",
         "orientation": "v",
         "showlegend": true,
         "textposition": "auto",
         "type": "bar",
         "x": [
          1953,
          1954,
          1955,
          1956,
          1957,
          1958,
          1959,
          1960,
          1961,
          1962,
          1963,
          1964
         ],
         "xaxis": "x",
         "y": [
          23678.833333333332,
          42494.71428571428,
          59150,
          62053.875,
          58357.375,
          75889,
          81808,
          60503.42857142857,
          55131.57142857143,
          17185,
          8906.75,
          6895
         ],
         "yaxis": "y"
        },
        {
         "alignmentgroup": "True",
         "hovertemplate": "State=UT<br>Year=%{x}<br>Number of Mexican Bracero Workers=%{y}<extra></extra>",
         "legendgroup": "UT",
         "marker": {
          "color": "#FECB52",
          "pattern": {
           "shape": ""
          }
         },
         "name": "UT",
         "offsetgroup": "UT",
         "orientation": "v",
         "showlegend": true,
         "textposition": "auto",
         "type": "bar",
         "x": [
          1944,
          1945,
          1946,
          1947,
          1953,
          1954,
          1955,
          1956,
          1957,
          1958,
          1959,
          1960,
          1961,
          1962,
          1963,
          1964
         ],
         "xaxis": "x",
         "y": [
          516.25,
          492.6363636363636,
          410.3333333333333,
          586.8181818181819,
          234.25,
          182,
          217.66666666666666,
          305.1666666666667,
          461.3333333333333,
          291.6666666666667,
          335.6,
          259.2857142857143,
          208.33333333333334,
          312,
          291.3333333333333,
          275.5
         ],
         "yaxis": "y"
        },
        {
         "alignmentgroup": "True",
         "hovertemplate": "State=WA<br>Year=%{x}<br>Number of Mexican Bracero Workers=%{y}<extra></extra>",
         "legendgroup": "WA",
         "marker": {
          "color": "#636efa",
          "pattern": {
           "shape": ""
          }
         },
         "name": "WA",
         "offsetgroup": "WA",
         "orientation": "v",
         "showlegend": true,
         "textposition": "auto",
         "type": "bar",
         "x": [
          1943,
          1944,
          1945,
          1946,
          1947,
          1953,
          1954,
          1955,
          1956,
          1957,
          1960
         ],
         "xaxis": "x",
         "y": [
          1114.875,
          1822.9166666666667,
          2342.3636363636365,
          1174.8333333333333,
          457.22222222222223,
          605.1428571428571,
          176.2,
          271.5,
          242.71428571428572,
          451.2,
          60
         ],
         "yaxis": "y"
        },
        {
         "alignmentgroup": "True",
         "hovertemplate": "State=WI<br>Year=%{x}<br>Number of Mexican Bracero Workers=%{y}<extra></extra>",
         "legendgroup": "WI",
         "marker": {
          "color": "#EF553B",
          "pattern": {
           "shape": ""
          }
         },
         "name": "WI",
         "offsetgroup": "WI",
         "orientation": "v",
         "showlegend": true,
         "textposition": "auto",
         "type": "bar",
         "x": [
          1944,
          1945,
          1946,
          1947,
          1953,
          1954,
          1955,
          1956,
          1957,
          1958,
          1959,
          1960,
          1961,
          1962,
          1963,
          1964
         ],
         "xaxis": "x",
         "y": [
          344.5,
          401,
          448.8333333333333,
          686.9166666666666,
          351,
          251.25,
          251.4,
          490.3333333333333,
          424.85714285714283,
          258.8,
          275.8,
          307.6,
          197.83333333333334,
          213,
          279.75,
          314.75
         ],
         "yaxis": "y"
        },
        {
         "alignmentgroup": "True",
         "hovertemplate": "State=WY<br>Year=%{x}<br>Number of Mexican Bracero Workers=%{y}<extra></extra>",
         "legendgroup": "WY",
         "marker": {
          "color": "#00cc96",
          "pattern": {
           "shape": ""
          }
         },
         "name": "WY",
         "offsetgroup": "WY",
         "orientation": "v",
         "showlegend": true,
         "textposition": "auto",
         "type": "bar",
         "x": [
          1943,
          1944,
          1945,
          1946,
          1947,
          1953,
          1954,
          1955,
          1956,
          1957,
          1958,
          1959,
          1960,
          1961,
          1962,
          1963,
          1964
         ],
         "xaxis": "x",
         "y": [
          273.875,
          437.90909090909093,
          247.1818181818182,
          453,
          258.6363636363636,
          473,
          281.25,
          282,
          523.8,
          518.2,
          394.8,
          434.5,
          351.25,
          476,
          396,
          621.6666666666666,
          592.3333333333334
         ],
         "yaxis": "y"
        }
       ],
       "layout": {
        "autosize": true,
        "barmode": "relative",
        "legend": {
         "title": {
          "text": "State"
         },
         "tracegroupgap": 0
        },
        "template": {
         "data": {
          "bar": [
           {
            "error_x": {
             "color": "#2a3f5f"
            },
            "error_y": {
             "color": "#2a3f5f"
            },
            "marker": {
             "line": {
              "color": "#E5ECF6",
              "width": 0.5
             },
             "pattern": {
              "fillmode": "overlay",
              "size": 10,
              "solidity": 0.2
             }
            },
            "type": "bar"
           }
          ],
          "barpolar": [
           {
            "marker": {
             "line": {
              "color": "#E5ECF6",
              "width": 0.5
             },
             "pattern": {
              "fillmode": "overlay",
              "size": 10,
              "solidity": 0.2
             }
            },
            "type": "barpolar"
           }
          ],
          "carpet": [
           {
            "aaxis": {
             "endlinecolor": "#2a3f5f",
             "gridcolor": "white",
             "linecolor": "white",
             "minorgridcolor": "white",
             "startlinecolor": "#2a3f5f"
            },
            "baxis": {
             "endlinecolor": "#2a3f5f",
             "gridcolor": "white",
             "linecolor": "white",
             "minorgridcolor": "white",
             "startlinecolor": "#2a3f5f"
            },
            "type": "carpet"
           }
          ],
          "choropleth": [
           {
            "colorbar": {
             "outlinewidth": 0,
             "ticks": ""
            },
            "type": "choropleth"
           }
          ],
          "contour": [
           {
            "colorbar": {
             "outlinewidth": 0,
             "ticks": ""
            },
            "colorscale": [
             [
              0,
              "#0d0887"
             ],
             [
              0.1111111111111111,
              "#46039f"
             ],
             [
              0.2222222222222222,
              "#7201a8"
             ],
             [
              0.3333333333333333,
              "#9c179e"
             ],
             [
              0.4444444444444444,
              "#bd3786"
             ],
             [
              0.5555555555555556,
              "#d8576b"
             ],
             [
              0.6666666666666666,
              "#ed7953"
             ],
             [
              0.7777777777777778,
              "#fb9f3a"
             ],
             [
              0.8888888888888888,
              "#fdca26"
             ],
             [
              1,
              "#f0f921"
             ]
            ],
            "type": "contour"
           }
          ],
          "contourcarpet": [
           {
            "colorbar": {
             "outlinewidth": 0,
             "ticks": ""
            },
            "type": "contourcarpet"
           }
          ],
          "heatmap": [
           {
            "colorbar": {
             "outlinewidth": 0,
             "ticks": ""
            },
            "colorscale": [
             [
              0,
              "#0d0887"
             ],
             [
              0.1111111111111111,
              "#46039f"
             ],
             [
              0.2222222222222222,
              "#7201a8"
             ],
             [
              0.3333333333333333,
              "#9c179e"
             ],
             [
              0.4444444444444444,
              "#bd3786"
             ],
             [
              0.5555555555555556,
              "#d8576b"
             ],
             [
              0.6666666666666666,
              "#ed7953"
             ],
             [
              0.7777777777777778,
              "#fb9f3a"
             ],
             [
              0.8888888888888888,
              "#fdca26"
             ],
             [
              1,
              "#f0f921"
             ]
            ],
            "type": "heatmap"
           }
          ],
          "heatmapgl": [
           {
            "colorbar": {
             "outlinewidth": 0,
             "ticks": ""
            },
            "colorscale": [
             [
              0,
              "#0d0887"
             ],
             [
              0.1111111111111111,
              "#46039f"
             ],
             [
              0.2222222222222222,
              "#7201a8"
             ],
             [
              0.3333333333333333,
              "#9c179e"
             ],
             [
              0.4444444444444444,
              "#bd3786"
             ],
             [
              0.5555555555555556,
              "#d8576b"
             ],
             [
              0.6666666666666666,
              "#ed7953"
             ],
             [
              0.7777777777777778,
              "#fb9f3a"
             ],
             [
              0.8888888888888888,
              "#fdca26"
             ],
             [
              1,
              "#f0f921"
             ]
            ],
            "type": "heatmapgl"
           }
          ],
          "histogram": [
           {
            "marker": {
             "pattern": {
              "fillmode": "overlay",
              "size": 10,
              "solidity": 0.2
             }
            },
            "type": "histogram"
           }
          ],
          "histogram2d": [
           {
            "colorbar": {
             "outlinewidth": 0,
             "ticks": ""
            },
            "colorscale": [
             [
              0,
              "#0d0887"
             ],
             [
              0.1111111111111111,
              "#46039f"
             ],
             [
              0.2222222222222222,
              "#7201a8"
             ],
             [
              0.3333333333333333,
              "#9c179e"
             ],
             [
              0.4444444444444444,
              "#bd3786"
             ],
             [
              0.5555555555555556,
              "#d8576b"
             ],
             [
              0.6666666666666666,
              "#ed7953"
             ],
             [
              0.7777777777777778,
              "#fb9f3a"
             ],
             [
              0.8888888888888888,
              "#fdca26"
             ],
             [
              1,
              "#f0f921"
             ]
            ],
            "type": "histogram2d"
           }
          ],
          "histogram2dcontour": [
           {
            "colorbar": {
             "outlinewidth": 0,
             "ticks": ""
            },
            "colorscale": [
             [
              0,
              "#0d0887"
             ],
             [
              0.1111111111111111,
              "#46039f"
             ],
             [
              0.2222222222222222,
              "#7201a8"
             ],
             [
              0.3333333333333333,
              "#9c179e"
             ],
             [
              0.4444444444444444,
              "#bd3786"
             ],
             [
              0.5555555555555556,
              "#d8576b"
             ],
             [
              0.6666666666666666,
              "#ed7953"
             ],
             [
              0.7777777777777778,
              "#fb9f3a"
             ],
             [
              0.8888888888888888,
              "#fdca26"
             ],
             [
              1,
              "#f0f921"
             ]
            ],
            "type": "histogram2dcontour"
           }
          ],
          "mesh3d": [
           {
            "colorbar": {
             "outlinewidth": 0,
             "ticks": ""
            },
            "type": "mesh3d"
           }
          ],
          "parcoords": [
           {
            "line": {
             "colorbar": {
              "outlinewidth": 0,
              "ticks": ""
             }
            },
            "type": "parcoords"
           }
          ],
          "pie": [
           {
            "automargin": true,
            "type": "pie"
           }
          ],
          "scatter": [
           {
            "fillpattern": {
             "fillmode": "overlay",
             "size": 10,
             "solidity": 0.2
            },
            "type": "scatter"
           }
          ],
          "scatter3d": [
           {
            "line": {
             "colorbar": {
              "outlinewidth": 0,
              "ticks": ""
             }
            },
            "marker": {
             "colorbar": {
              "outlinewidth": 0,
              "ticks": ""
             }
            },
            "type": "scatter3d"
           }
          ],
          "scattercarpet": [
           {
            "marker": {
             "colorbar": {
              "outlinewidth": 0,
              "ticks": ""
             }
            },
            "type": "scattercarpet"
           }
          ],
          "scattergeo": [
           {
            "marker": {
             "colorbar": {
              "outlinewidth": 0,
              "ticks": ""
             }
            },
            "type": "scattergeo"
           }
          ],
          "scattergl": [
           {
            "marker": {
             "colorbar": {
              "outlinewidth": 0,
              "ticks": ""
             }
            },
            "type": "scattergl"
           }
          ],
          "scattermapbox": [
           {
            "marker": {
             "colorbar": {
              "outlinewidth": 0,
              "ticks": ""
             }
            },
            "type": "scattermapbox"
           }
          ],
          "scatterpolar": [
           {
            "marker": {
             "colorbar": {
              "outlinewidth": 0,
              "ticks": ""
             }
            },
            "type": "scatterpolar"
           }
          ],
          "scatterpolargl": [
           {
            "marker": {
             "colorbar": {
              "outlinewidth": 0,
              "ticks": ""
             }
            },
            "type": "scatterpolargl"
           }
          ],
          "scatterternary": [
           {
            "marker": {
             "colorbar": {
              "outlinewidth": 0,
              "ticks": ""
             }
            },
            "type": "scatterternary"
           }
          ],
          "surface": [
           {
            "colorbar": {
             "outlinewidth": 0,
             "ticks": ""
            },
            "colorscale": [
             [
              0,
              "#0d0887"
             ],
             [
              0.1111111111111111,
              "#46039f"
             ],
             [
              0.2222222222222222,
              "#7201a8"
             ],
             [
              0.3333333333333333,
              "#9c179e"
             ],
             [
              0.4444444444444444,
              "#bd3786"
             ],
             [
              0.5555555555555556,
              "#d8576b"
             ],
             [
              0.6666666666666666,
              "#ed7953"
             ],
             [
              0.7777777777777778,
              "#fb9f3a"
             ],
             [
              0.8888888888888888,
              "#fdca26"
             ],
             [
              1,
              "#f0f921"
             ]
            ],
            "type": "surface"
           }
          ],
          "table": [
           {
            "cells": {
             "fill": {
              "color": "#EBF0F8"
             },
             "line": {
              "color": "white"
             }
            },
            "header": {
             "fill": {
              "color": "#C8D4E3"
             },
             "line": {
              "color": "white"
             }
            },
            "type": "table"
           }
          ]
         },
         "layout": {
          "annotationdefaults": {
           "arrowcolor": "#2a3f5f",
           "arrowhead": 0,
           "arrowwidth": 1
          },
          "autotypenumbers": "strict",
          "coloraxis": {
           "colorbar": {
            "outlinewidth": 0,
            "ticks": ""
           }
          },
          "colorscale": {
           "diverging": [
            [
             0,
             "#8e0152"
            ],
            [
             0.1,
             "#c51b7d"
            ],
            [
             0.2,
             "#de77ae"
            ],
            [
             0.3,
             "#f1b6da"
            ],
            [
             0.4,
             "#fde0ef"
            ],
            [
             0.5,
             "#f7f7f7"
            ],
            [
             0.6,
             "#e6f5d0"
            ],
            [
             0.7,
             "#b8e186"
            ],
            [
             0.8,
             "#7fbc41"
            ],
            [
             0.9,
             "#4d9221"
            ],
            [
             1,
             "#276419"
            ]
           ],
           "sequential": [
            [
             0,
             "#0d0887"
            ],
            [
             0.1111111111111111,
             "#46039f"
            ],
            [
             0.2222222222222222,
             "#7201a8"
            ],
            [
             0.3333333333333333,
             "#9c179e"
            ],
            [
             0.4444444444444444,
             "#bd3786"
            ],
            [
             0.5555555555555556,
             "#d8576b"
            ],
            [
             0.6666666666666666,
             "#ed7953"
            ],
            [
             0.7777777777777778,
             "#fb9f3a"
            ],
            [
             0.8888888888888888,
             "#fdca26"
            ],
            [
             1,
             "#f0f921"
            ]
           ],
           "sequentialminus": [
            [
             0,
             "#0d0887"
            ],
            [
             0.1111111111111111,
             "#46039f"
            ],
            [
             0.2222222222222222,
             "#7201a8"
            ],
            [
             0.3333333333333333,
             "#9c179e"
            ],
            [
             0.4444444444444444,
             "#bd3786"
            ],
            [
             0.5555555555555556,
             "#d8576b"
            ],
            [
             0.6666666666666666,
             "#ed7953"
            ],
            [
             0.7777777777777778,
             "#fb9f3a"
            ],
            [
             0.8888888888888888,
             "#fdca26"
            ],
            [
             1,
             "#f0f921"
            ]
           ]
          },
          "colorway": [
           "#636efa",
           "#EF553B",
           "#00cc96",
           "#ab63fa",
           "#FFA15A",
           "#19d3f3",
           "#FF6692",
           "#B6E880",
           "#FF97FF",
           "#FECB52"
          ],
          "font": {
           "color": "#2a3f5f"
          },
          "geo": {
           "bgcolor": "white",
           "lakecolor": "white",
           "landcolor": "#E5ECF6",
           "showlakes": true,
           "showland": true,
           "subunitcolor": "white"
          },
          "hoverlabel": {
           "align": "left"
          },
          "hovermode": "closest",
          "mapbox": {
           "style": "light"
          },
          "paper_bgcolor": "white",
          "plot_bgcolor": "#E5ECF6",
          "polar": {
           "angularaxis": {
            "gridcolor": "white",
            "linecolor": "white",
            "ticks": ""
           },
           "bgcolor": "#E5ECF6",
           "radialaxis": {
            "gridcolor": "white",
            "linecolor": "white",
            "ticks": ""
           }
          },
          "scene": {
           "xaxis": {
            "backgroundcolor": "#E5ECF6",
            "gridcolor": "white",
            "gridwidth": 2,
            "linecolor": "white",
            "showbackground": true,
            "ticks": "",
            "zerolinecolor": "white"
           },
           "yaxis": {
            "backgroundcolor": "#E5ECF6",
            "gridcolor": "white",
            "gridwidth": 2,
            "linecolor": "white",
            "showbackground": true,
            "ticks": "",
            "zerolinecolor": "white"
           },
           "zaxis": {
            "backgroundcolor": "#E5ECF6",
            "gridcolor": "white",
            "gridwidth": 2,
            "linecolor": "white",
            "showbackground": true,
            "ticks": "",
            "zerolinecolor": "white"
           }
          },
          "shapedefaults": {
           "line": {
            "color": "#2a3f5f"
           }
          },
          "ternary": {
           "aaxis": {
            "gridcolor": "white",
            "linecolor": "white",
            "ticks": ""
           },
           "baxis": {
            "gridcolor": "white",
            "linecolor": "white",
            "ticks": ""
           },
           "bgcolor": "#E5ECF6",
           "caxis": {
            "gridcolor": "white",
            "linecolor": "white",
            "ticks": ""
           }
          },
          "title": {
           "x": 0.05
          },
          "xaxis": {
           "automargin": true,
           "gridcolor": "white",
           "linecolor": "white",
           "ticks": "",
           "title": {
            "standoff": 15
           },
           "zerolinecolor": "white",
           "zerolinewidth": 2
          },
          "yaxis": {
           "automargin": true,
           "gridcolor": "white",
           "linecolor": "white",
           "ticks": "",
           "title": {
            "standoff": 15
           },
           "zerolinecolor": "white",
           "zerolinewidth": 2
          }
         }
        },
        "title": {
         "text": "Mexican Bracero Workers in the United States",
         "x": 0.5,
         "xanchor": "center"
        },
        "xaxis": {
         "anchor": "y",
         "autorange": true,
         "domain": [
          0,
          1
         ],
         "range": [
          1942.5,
          1967.5
         ],
         "title": {
          "text": "Year"
         },
         "type": "linear"
        },
        "yaxis": {
         "anchor": "x",
         "autorange": true,
         "domain": [
          0,
          1
         ],
         "range": [
          0,
          189960.17042606516
         ],
         "title": {
          "text": "Number of Mexican Bracero Workers"
         },
         "type": "linear"
        }
       }
      },
      "text/html": [
       "<div>                            <div id=\"6d128a91-26ff-4e0c-9c72-5ce46024c38b\" class=\"plotly-graph-div\" style=\"height:525px; width:100%;\"></div>            <script type=\"text/javascript\">                require([\"plotly\"], function(Plotly) {                    window.PLOTLYENV=window.PLOTLYENV || {};                                    if (document.getElementById(\"6d128a91-26ff-4e0c-9c72-5ce46024c38b\")) {                    Plotly.newPlot(                        \"6d128a91-26ff-4e0c-9c72-5ce46024c38b\",                        [{\"alignmentgroup\":\"True\",\"hovertemplate\":\"State=AR\\u003cbr\\u003eYear=%{x}\\u003cbr\\u003eNumber of Mexican Bracero Workers=%{y}\\u003cextra\\u003e\\u003c\\u002fextra\\u003e\",\"legendgroup\":\"AR\",\"marker\":{\"color\":\"#636efa\",\"pattern\":{\"shape\":\"\"}},\"name\":\"AR\",\"offsetgroup\":\"AR\",\"orientation\":\"v\",\"showlegend\":true,\"textposition\":\"auto\",\"x\":[1951,1952,1953,1954,1955,1956,1957,1958,1959,1960,1961,1962,1963,1964],\"xaxis\":\"x\",\"y\":[10950.0,7823.125,7084.285714285715,6071.428571428572,7803.571428571428,10728.166666666666,8229.0,4834.142857142857,13682.333333333334,11003.57142857143,7742.428571428572,3330.0,2755.6,1508.7142857142858],\"yaxis\":\"y\",\"type\":\"bar\"},{\"alignmentgroup\":\"True\",\"hovertemplate\":\"State=AZ\\u003cbr\\u003eYear=%{x}\\u003cbr\\u003eNumber of Mexican Bracero Workers=%{y}\\u003cextra\\u003e\\u003c\\u002fextra\\u003e\",\"legendgroup\":\"AZ\",\"marker\":{\"color\":\"#EF553B\",\"pattern\":{\"shape\":\"\"}},\"name\":\"AZ\",\"offsetgroup\":\"AZ\",\"orientation\":\"v\",\"showlegend\":true,\"textposition\":\"auto\",\"x\":[1943,1944,1945,1946,1947,1948,1949,1950,1951,1952,1953,1954,1955,1956,1957,1958,1959,1960,1961,1962,1963,1964],\"xaxis\":\"x\",\"y\":[1292.75,1207.5833333333333,1672.1818181818182,1281.4166666666667,900.5,187.25,6200.0,1225.0,4208.333333333333,6658.333333333333,6081.916666666667,6575.666666666667,7055.125,9256.375,8849.75,11655.375,10465.142857142857,9118.285714285714,7294.857142857143,4938.5,4296.0,3729.6666666666665],\"yaxis\":\"y\",\"type\":\"bar\"},{\"alignmentgroup\":\"True\",\"hovertemplate\":\"State=CA\\u003cbr\\u003eYear=%{x}\\u003cbr\\u003eNumber of Mexican Bracero Workers=%{y}\\u003cextra\\u003e\\u003c\\u002fextra\\u003e\",\"legendgroup\":\"CA\",\"marker\":{\"color\":\"#00cc96\",\"pattern\":{\"shape\":\"\"}},\"name\":\"CA\",\"offsetgroup\":\"CA\",\"orientation\":\"v\",\"showlegend\":true,\"textposition\":\"auto\",\"x\":[1943,1944,1945,1946,1947,1948,1949,1950,1951,1952,1953,1954,1955,1956,1957,1958,1959,1960,1961,1962,1963,1964,1965,1966,1967],\"xaxis\":\"x\",\"y\":[20181.5,24252.583333333332,25927.363636363636,16745.333333333332,11412.833333333334,7783.333333333333,4858.333333333333,7475.0,18600.0,23008.333333333332,25262.5,28827.5,48325.0,59838.125,62054.125,55781.125,52834.28571428572,50784.28571428572,43270.0,39878.75,26690.833333333332,26770.833333333332,5592.6,2772.0,5850.0],\"yaxis\":\"y\",\"type\":\"bar\"},{\"alignmentgroup\":\"True\",\"hovertemplate\":\"State=CO\\u003cbr\\u003eYear=%{x}\\u003cbr\\u003eNumber of Mexican Bracero Workers=%{y}\\u003cextra\\u003e\\u003c\\u002fextra\\u003e\",\"legendgroup\":\"CO\",\"marker\":{\"color\":\"#ab63fa\",\"pattern\":{\"shape\":\"\"}},\"name\":\"CO\",\"offsetgroup\":\"CO\",\"orientation\":\"v\",\"showlegend\":true,\"textposition\":\"auto\",\"x\":[1943,1944,1945,1946,1947,1949,1950,1953,1954,1955,1956,1957,1958,1959,1960,1961,1962,1963,1964],\"xaxis\":\"x\",\"y\":[578.875,1449.090909090909,1113.7272727272727,793.1666666666666,518.0,234.0,812.0,710.4,659.2,1200.0,1783.8333333333333,1924.2857142857142,1761.857142857143,2166.6666666666665,2231.8571428571427,3032.6666666666665,3191.6666666666665,2811.4285714285716,2624.5714285714284],\"yaxis\":\"y\",\"type\":\"bar\"},{\"alignmentgroup\":\"True\",\"hovertemplate\":\"State=DE\\u003cbr\\u003eYear=%{x}\\u003cbr\\u003eNumber of Mexican Bracero Workers=%{y}\\u003cextra\\u003e\\u003c\\u002fextra\\u003e\",\"legendgroup\":\"DE\",\"marker\":{\"color\":\"#FFA15A\",\"pattern\":{\"shape\":\"\"}},\"name\":\"DE\",\"offsetgroup\":\"DE\",\"orientation\":\"v\",\"showlegend\":true,\"textposition\":\"auto\",\"x\":[1957],\"xaxis\":\"x\",\"y\":[115.0],\"yaxis\":\"y\",\"type\":\"bar\"},{\"alignmentgroup\":\"True\",\"hovertemplate\":\"State=GA\\u003cbr\\u003eYear=%{x}\\u003cbr\\u003eNumber of Mexican Bracero Workers=%{y}\\u003cextra\\u003e\\u003c\\u002fextra\\u003e\",\"legendgroup\":\"GA\",\"marker\":{\"color\":\"#19d3f3\",\"pattern\":{\"shape\":\"\"}},\"name\":\"GA\",\"offsetgroup\":\"GA\",\"orientation\":\"v\",\"showlegend\":true,\"textposition\":\"auto\",\"x\":[1953,1954,1955,1956,1957,1958,1959,1960,1961],\"xaxis\":\"x\",\"y\":[1152.0,212.5,242.33333333333334,646.6666666666666,888.0,439.0,821.0,644.5,763.5],\"yaxis\":\"y\",\"type\":\"bar\"},{\"alignmentgroup\":\"True\",\"hovertemplate\":\"State=IA\\u003cbr\\u003eYear=%{x}\\u003cbr\\u003eNumber of Mexican Bracero Workers=%{y}\\u003cextra\\u003e\\u003c\\u002fextra\\u003e\",\"legendgroup\":\"IA\",\"marker\":{\"color\":\"#FF6692\",\"pattern\":{\"shape\":\"\"}},\"name\":\"IA\",\"offsetgroup\":\"IA\",\"orientation\":\"v\",\"showlegend\":true,\"textposition\":\"auto\",\"x\":[1944,1945,1946,1947,1953,1956,1957,1958,1959,1960,1961,1962],\"xaxis\":\"x\",\"y\":[329.25,292.7142857142857,423.375,172.57142857142858,40.0,30.666666666666668,32.0,44.0,48.333333333333336,70.66666666666667,193.0,98.5],\"yaxis\":\"y\",\"type\":\"bar\"},{\"alignmentgroup\":\"True\",\"hovertemplate\":\"State=ID\\u003cbr\\u003eYear=%{x}\\u003cbr\\u003eNumber of Mexican Bracero Workers=%{y}\\u003cextra\\u003e\\u003c\\u002fextra\\u003e\",\"legendgroup\":\"ID\",\"marker\":{\"color\":\"#B6E880\",\"pattern\":{\"shape\":\"\"}},\"name\":\"ID\",\"offsetgroup\":\"ID\",\"orientation\":\"v\",\"showlegend\":true,\"textposition\":\"auto\",\"x\":[1943,1944,1945,1946,1947,1953,1954,1955,1956,1957],\"xaxis\":\"x\",\"y\":[622.5,1463.0833333333333,2012.8181818181818,1519.0,1957.111111111111,223.75,159.4,179.2,177.2,127.2],\"yaxis\":\"y\",\"type\":\"bar\"},{\"alignmentgroup\":\"True\",\"hovertemplate\":\"State=IL\\u003cbr\\u003eYear=%{x}\\u003cbr\\u003eNumber of Mexican Bracero Workers=%{y}\\u003cextra\\u003e\\u003c\\u002fextra\\u003e\",\"legendgroup\":\"IL\",\"marker\":{\"color\":\"#FF97FF\",\"pattern\":{\"shape\":\"\"}},\"name\":\"IL\",\"offsetgroup\":\"IL\",\"orientation\":\"v\",\"showlegend\":true,\"textposition\":\"auto\",\"x\":[1944,1945,1946,1947,1953,1954,1955,1956,1957,1958,1959,1960,1961,1962,1963],\"xaxis\":\"x\",\"y\":[576.75,312.6666666666667,379.1111111111111,269.1666666666667,24.6,74.57142857142857,159.0,140.66666666666666,150.0,112.33333333333333,82.5,123.0,47.5,113.0,35.0],\"yaxis\":\"y\",\"type\":\"bar\"},{\"alignmentgroup\":\"True\",\"hovertemplate\":\"State=IN\\u003cbr\\u003eYear=%{x}\\u003cbr\\u003eNumber of Mexican Bracero Workers=%{y}\\u003cextra\\u003e\\u003c\\u002fextra\\u003e\",\"legendgroup\":\"IN\",\"marker\":{\"color\":\"#FECB52\",\"pattern\":{\"shape\":\"\"}},\"name\":\"IN\",\"offsetgroup\":\"IN\",\"orientation\":\"v\",\"showlegend\":true,\"textposition\":\"auto\",\"x\":[1944,1945,1946,1947,1952,1953,1954,1955,1956,1957,1958,1959,1960,1961,1962,1963,1964],\"xaxis\":\"x\",\"y\":[74.5,191.11111111111111,107.16666666666667,86.875,310.0,210.25,116.25,166.5,158.0,255.2,222.0,187.4,218.5,293.0,202.5,185.5,101.0],\"yaxis\":\"y\",\"type\":\"bar\"},{\"alignmentgroup\":\"True\",\"hovertemplate\":\"State=KS\\u003cbr\\u003eYear=%{x}\\u003cbr\\u003eNumber of Mexican Bracero Workers=%{y}\\u003cextra\\u003e\\u003c\\u002fextra\\u003e\",\"legendgroup\":\"KS\",\"marker\":{\"color\":\"#636efa\",\"pattern\":{\"shape\":\"\"}},\"name\":\"KS\",\"offsetgroup\":\"KS\",\"orientation\":\"v\",\"showlegend\":true,\"textposition\":\"auto\",\"x\":[1943,1944,1945,1946,1947,1956,1957,1958,1959,1960,1961,1962,1963,1964],\"xaxis\":\"x\",\"y\":[62.25,218.85714285714286,104.7,180.58333333333334,188.55555555555554,28.666666666666668,95.0,39.0,12.6,14.166666666666666,34.0,78.5,80.5,143.33333333333334],\"yaxis\":\"y\",\"type\":\"bar\"},{\"alignmentgroup\":\"True\",\"hovertemplate\":\"State=KY\\u003cbr\\u003eYear=%{x}\\u003cbr\\u003eNumber of Mexican Bracero Workers=%{y}\\u003cextra\\u003e\\u003c\\u002fextra\\u003e\",\"legendgroup\":\"KY\",\"marker\":{\"color\":\"#EF553B\",\"pattern\":{\"shape\":\"\"}},\"name\":\"KY\",\"offsetgroup\":\"KY\",\"orientation\":\"v\",\"showlegend\":true,\"textposition\":\"auto\",\"x\":[1953,1956,1957,1958,1959,1960,1961],\"xaxis\":\"x\",\"y\":[73.5,193.5,142.4,96.0,162.6,94.25,57.0],\"yaxis\":\"y\",\"type\":\"bar\"},{\"alignmentgroup\":\"True\",\"hovertemplate\":\"State=LA\\u003cbr\\u003eYear=%{x}\\u003cbr\\u003eNumber of Mexican Bracero Workers=%{y}\\u003cextra\\u003e\\u003c\\u002fextra\\u003e\",\"legendgroup\":\"LA\",\"marker\":{\"color\":\"#00cc96\",\"pattern\":{\"shape\":\"\"}},\"name\":\"LA\",\"offsetgroup\":\"LA\",\"orientation\":\"v\",\"showlegend\":true,\"textposition\":\"auto\",\"x\":[1953],\"xaxis\":\"x\",\"y\":[245.71428571428572],\"yaxis\":\"y\",\"type\":\"bar\"},{\"alignmentgroup\":\"True\",\"hovertemplate\":\"State=MI\\u003cbr\\u003eYear=%{x}\\u003cbr\\u003eNumber of Mexican Bracero Workers=%{y}\\u003cextra\\u003e\\u003c\\u002fextra\\u003e\",\"legendgroup\":\"MI\",\"marker\":{\"color\":\"#ab63fa\",\"pattern\":{\"shape\":\"\"}},\"name\":\"MI\",\"offsetgroup\":\"MI\",\"orientation\":\"v\",\"showlegend\":true,\"textposition\":\"auto\",\"x\":[1944,1945,1946,1947,1948,1951,1952,1953,1954,1955,1956,1957,1958,1959,1960,1961,1962,1963,1964],\"xaxis\":\"x\",\"y\":[1735.0,2040.0,1036.25,54.54545454545455,745.3333333333334,1286.4,1475.1666666666667,1587.1666666666667,2707.3333333333335,2816.5,4121.833333333333,5506.4,3715.0,4062.2,4258.4,4544.8,3176.6,4735.5,3814.25],\"yaxis\":\"y\",\"type\":\"bar\"},{\"alignmentgroup\":\"True\",\"hovertemplate\":\"State=MN\\u003cbr\\u003eYear=%{x}\\u003cbr\\u003eNumber of Mexican Bracero Workers=%{y}\\u003cextra\\u003e\\u003c\\u002fextra\\u003e\",\"legendgroup\":\"MN\",\"marker\":{\"color\":\"#FFA15A\",\"pattern\":{\"shape\":\"\"}},\"name\":\"MN\",\"offsetgroup\":\"MN\",\"orientation\":\"v\",\"showlegend\":true,\"textposition\":\"auto\",\"x\":[1943,1944,1945,1946,1947,1953,1954,1955,1956,1957,1958,1959,1960,1961,1962,1963,1964],\"xaxis\":\"x\",\"y\":[235.5,612.0,669.6,1029.5,990.8571428571429,615.3333333333334,138.0,104.0,155.0,259.8333333333333,100.0,58.0,49.0,37.5,29.333333333333332,26.333333333333332,14.0],\"yaxis\":\"y\",\"type\":\"bar\"},{\"alignmentgroup\":\"True\",\"hovertemplate\":\"State=MO\\u003cbr\\u003eYear=%{x}\\u003cbr\\u003eNumber of Mexican Bracero Workers=%{y}\\u003cextra\\u003e\\u003c\\u002fextra\\u003e\",\"legendgroup\":\"MO\",\"marker\":{\"color\":\"#19d3f3\",\"pattern\":{\"shape\":\"\"}},\"name\":\"MO\",\"offsetgroup\":\"MO\",\"orientation\":\"v\",\"showlegend\":true,\"textposition\":\"auto\",\"x\":[1953,1954,1955,1956,1957,1958,1959,1960],\"xaxis\":\"x\",\"y\":[1650.0,1162.6666666666667,906.0,938.3333333333334,227.5,685.0,497.0,194.75],\"yaxis\":\"y\",\"type\":\"bar\"},{\"alignmentgroup\":\"True\",\"hovertemplate\":\"State=MT\\u003cbr\\u003eYear=%{x}\\u003cbr\\u003eNumber of Mexican Bracero Workers=%{y}\\u003cextra\\u003e\\u003c\\u002fextra\\u003e\",\"legendgroup\":\"MT\",\"marker\":{\"color\":\"#FF6692\",\"pattern\":{\"shape\":\"\"}},\"name\":\"MT\",\"offsetgroup\":\"MT\",\"orientation\":\"v\",\"showlegend\":true,\"textposition\":\"auto\",\"x\":[1943,1944,1945,1946,1947,1953,1954,1955,1956,1957,1958,1959,1960,1961,1962,1963,1964],\"xaxis\":\"x\",\"y\":[1029.125,1985.5454545454545,1669.3636363636363,1081.0833333333333,986.7,847.0,877.6666666666666,627.6666666666666,1507.0,2082.5,831.0,1217.0,1002.0,798.6666666666666,1010.6666666666666,981.6666666666666,983.5],\"yaxis\":\"y\",\"type\":\"bar\"},{\"alignmentgroup\":\"True\",\"hovertemplate\":\"State=NC\\u003cbr\\u003eYear=%{x}\\u003cbr\\u003eNumber of Mexican Bracero Workers=%{y}\\u003cextra\\u003e\\u003c\\u002fextra\\u003e\",\"legendgroup\":\"NC\",\"marker\":{\"color\":\"#B6E880\",\"pattern\":{\"shape\":\"\"}},\"name\":\"NC\",\"offsetgroup\":\"NC\",\"orientation\":\"v\",\"showlegend\":true,\"textposition\":\"auto\",\"x\":[1947],\"xaxis\":\"x\",\"y\":[330.3333333333333],\"yaxis\":\"y\",\"type\":\"bar\"},{\"alignmentgroup\":\"True\",\"hovertemplate\":\"State=ND\\u003cbr\\u003eYear=%{x}\\u003cbr\\u003eNumber of Mexican Bracero Workers=%{y}\\u003cextra\\u003e\\u003c\\u002fextra\\u003e\",\"legendgroup\":\"ND\",\"marker\":{\"color\":\"#FF97FF\",\"pattern\":{\"shape\":\"\"}},\"name\":\"ND\",\"offsetgroup\":\"ND\",\"orientation\":\"v\",\"showlegend\":true,\"textposition\":\"auto\",\"x\":[1943,1944,1945,1946,1947,1953,1957,1958,1959,1960,1961],\"xaxis\":\"x\",\"y\":[199.5,1502.8,1035.75,242.25,58.22222222222222,80.0,170.0,249.0,36.0,54.0,108.0],\"yaxis\":\"y\",\"type\":\"bar\"},{\"alignmentgroup\":\"True\",\"hovertemplate\":\"State=NE\\u003cbr\\u003eYear=%{x}\\u003cbr\\u003eNumber of Mexican Bracero Workers=%{y}\\u003cextra\\u003e\\u003c\\u002fextra\\u003e\",\"legendgroup\":\"NE\",\"marker\":{\"color\":\"#FECB52\",\"pattern\":{\"shape\":\"\"}},\"name\":\"NE\",\"offsetgroup\":\"NE\",\"orientation\":\"v\",\"showlegend\":true,\"textposition\":\"auto\",\"x\":[1943,1944,1945,1946,1947,1953,1954,1955,1956,1957,1958,1959,1960,1961,1962,1963,1964],\"xaxis\":\"x\",\"y\":[182.5,425.6666666666667,684.2727272727273,663.8333333333334,505.90909090909093,698.0,209.5,123.85714285714286,450.8,896.6666666666666,1201.5,1072.0,811.3333333333334,765.3333333333334,702.0,681.75,546.3333333333334],\"yaxis\":\"y\",\"type\":\"bar\"},{\"alignmentgroup\":\"True\",\"hovertemplate\":\"State=NH\\u003cbr\\u003eYear=%{x}\\u003cbr\\u003eNumber of Mexican Bracero Workers=%{y}\\u003cextra\\u003e\\u003c\\u002fextra\\u003e\",\"legendgroup\":\"NH\",\"marker\":{\"color\":\"#636efa\",\"pattern\":{\"shape\":\"\"}},\"name\":\"NH\",\"offsetgroup\":\"NH\",\"orientation\":\"v\",\"showlegend\":true,\"textposition\":\"auto\",\"x\":[1956],\"xaxis\":\"x\",\"y\":[79.0],\"yaxis\":\"y\",\"type\":\"bar\"},{\"alignmentgroup\":\"True\",\"hovertemplate\":\"State=NM\\u003cbr\\u003eYear=%{x}\\u003cbr\\u003eNumber of Mexican Bracero Workers=%{y}\\u003cextra\\u003e\\u003c\\u002fextra\\u003e\",\"legendgroup\":\"NM\",\"marker\":{\"color\":\"#EF553B\",\"pattern\":{\"shape\":\"\"}},\"name\":\"NM\",\"offsetgroup\":\"NM\",\"orientation\":\"v\",\"showlegend\":true,\"textposition\":\"auto\",\"x\":[1946,1948,1953,1954,1955,1956,1957,1958,1959,1960,1961,1962,1963,1964],\"xaxis\":\"x\",\"y\":[22.375,7356.0,10231.857142857143,6132.166666666667,7462.875,7570.75,7945.0,9124.625,9087.285714285714,6082.142857142857,4514.142857142857,1443.25,543.75,393.6],\"yaxis\":\"y\",\"type\":\"bar\"},{\"alignmentgroup\":\"True\",\"hovertemplate\":\"State=NV\\u003cbr\\u003eYear=%{x}\\u003cbr\\u003eNumber of Mexican Bracero Workers=%{y}\\u003cextra\\u003e\\u003c\\u002fextra\\u003e\",\"legendgroup\":\"NV\",\"marker\":{\"color\":\"#00cc96\",\"pattern\":{\"shape\":\"\"}},\"name\":\"NV\",\"offsetgroup\":\"NV\",\"orientation\":\"v\",\"showlegend\":true,\"textposition\":\"auto\",\"x\":[1943,1944,1945,1946,1947,1953,1954,1955,1956,1957,1958,1959,1960,1961,1962,1963],\"xaxis\":\"x\",\"y\":[281.14285714285717,304.5,443.3636363636364,220.0,119.08333333333333,82.0,60.0,43.0,22.333333333333332,31.0,39.57142857142857,37.714285714285715,60.857142857142854,25.142857142857142,29.0,29.0],\"yaxis\":\"y\",\"type\":\"bar\"},{\"alignmentgroup\":\"True\",\"hovertemplate\":\"State=NY\\u003cbr\\u003eYear=%{x}\\u003cbr\\u003eNumber of Mexican Bracero Workers=%{y}\\u003cextra\\u003e\\u003c\\u002fextra\\u003e\",\"legendgroup\":\"NY\",\"marker\":{\"color\":\"#ab63fa\",\"pattern\":{\"shape\":\"\"}},\"name\":\"NY\",\"offsetgroup\":\"NY\",\"orientation\":\"v\",\"showlegend\":true,\"textposition\":\"auto\",\"x\":[1947],\"xaxis\":\"x\",\"y\":[173.66666666666666],\"yaxis\":\"y\",\"type\":\"bar\"},{\"alignmentgroup\":\"True\",\"hovertemplate\":\"State=OH\\u003cbr\\u003eYear=%{x}\\u003cbr\\u003eNumber of Mexican Bracero Workers=%{y}\\u003cextra\\u003e\\u003c\\u002fextra\\u003e\",\"legendgroup\":\"OH\",\"marker\":{\"color\":\"#FFA15A\",\"pattern\":{\"shape\":\"\"}},\"name\":\"OH\",\"offsetgroup\":\"OH\",\"orientation\":\"v\",\"showlegend\":true,\"textposition\":\"auto\",\"x\":[1944,1945,1956,1957],\"xaxis\":\"x\",\"y\":[129.0,80.75,50.0,64.0],\"yaxis\":\"y\",\"type\":\"bar\"},{\"alignmentgroup\":\"True\",\"hovertemplate\":\"State=OR\\u003cbr\\u003eYear=%{x}\\u003cbr\\u003eNumber of Mexican Bracero Workers=%{y}\\u003cextra\\u003e\\u003c\\u002fextra\\u003e\",\"legendgroup\":\"OR\",\"marker\":{\"color\":\"#19d3f3\",\"pattern\":{\"shape\":\"\"}},\"name\":\"OR\",\"offsetgroup\":\"OR\",\"orientation\":\"v\",\"showlegend\":true,\"textposition\":\"auto\",\"x\":[1943,1944,1945,1946,1947,1952,1953,1955,1956,1957,1958,1959,1960,1961,1962,1963,1964],\"xaxis\":\"x\",\"y\":[1537.375,1893.5,1786.1818181818182,901.8333333333334,486.0,425.25,159.0,590.5,349.6,205.0,199.0,359.0,349.0,327.0,234.0,67.0,187.0],\"yaxis\":\"y\",\"type\":\"bar\"},{\"alignmentgroup\":\"True\",\"hovertemplate\":\"State=SD\\u003cbr\\u003eYear=%{x}\\u003cbr\\u003eNumber of Mexican Bracero Workers=%{y}\\u003cextra\\u003e\\u003c\\u002fextra\\u003e\",\"legendgroup\":\"SD\",\"marker\":{\"color\":\"#FF6692\",\"pattern\":{\"shape\":\"\"}},\"name\":\"SD\",\"offsetgroup\":\"SD\",\"orientation\":\"v\",\"showlegend\":true,\"textposition\":\"auto\",\"x\":[1943,1944,1945,1946,1947,1953,1954,1955,1956,1957,1958,1959,1960,1961,1962,1963,1964],\"xaxis\":\"x\",\"y\":[73.625,308.1666666666667,340.5,204.75,144.8181818181818,185.0,209.5,111.0,202.0,296.0,167.5,216.0,229.0,125.5,84.0,49.0,51.0],\"yaxis\":\"y\",\"type\":\"bar\"},{\"alignmentgroup\":\"True\",\"hovertemplate\":\"State=TN\\u003cbr\\u003eYear=%{x}\\u003cbr\\u003eNumber of Mexican Bracero Workers=%{y}\\u003cextra\\u003e\\u003c\\u002fextra\\u003e\",\"legendgroup\":\"TN\",\"marker\":{\"color\":\"#B6E880\",\"pattern\":{\"shape\":\"\"}},\"name\":\"TN\",\"offsetgroup\":\"TN\",\"orientation\":\"v\",\"showlegend\":true,\"textposition\":\"auto\",\"x\":[1953,1954,1955,1956,1957,1958,1959,1960,1961,1962],\"xaxis\":\"x\",\"y\":[749.5,315.0,548.6666666666666,376.2,453.2,269.75,503.2,478.75,331.0,165.0],\"yaxis\":\"y\",\"type\":\"bar\"},{\"alignmentgroup\":\"True\",\"hovertemplate\":\"State=TX\\u003cbr\\u003eYear=%{x}\\u003cbr\\u003eNumber of Mexican Bracero Workers=%{y}\\u003cextra\\u003e\\u003c\\u002fextra\\u003e\",\"legendgroup\":\"TX\",\"marker\":{\"color\":\"#FF97FF\",\"pattern\":{\"shape\":\"\"}},\"name\":\"TX\",\"offsetgroup\":\"TX\",\"orientation\":\"v\",\"showlegend\":true,\"textposition\":\"auto\",\"x\":[1953,1954,1955,1956,1957,1958,1959,1960,1961,1962,1963,1964],\"xaxis\":\"x\",\"y\":[23678.833333333332,42494.71428571428,59150.0,62053.875,58357.375,75889.0,81808.0,60503.42857142857,55131.57142857143,17185.0,8906.75,6895.0],\"yaxis\":\"y\",\"type\":\"bar\"},{\"alignmentgroup\":\"True\",\"hovertemplate\":\"State=UT\\u003cbr\\u003eYear=%{x}\\u003cbr\\u003eNumber of Mexican Bracero Workers=%{y}\\u003cextra\\u003e\\u003c\\u002fextra\\u003e\",\"legendgroup\":\"UT\",\"marker\":{\"color\":\"#FECB52\",\"pattern\":{\"shape\":\"\"}},\"name\":\"UT\",\"offsetgroup\":\"UT\",\"orientation\":\"v\",\"showlegend\":true,\"textposition\":\"auto\",\"x\":[1944,1945,1946,1947,1953,1954,1955,1956,1957,1958,1959,1960,1961,1962,1963,1964],\"xaxis\":\"x\",\"y\":[516.25,492.6363636363636,410.3333333333333,586.8181818181819,234.25,182.0,217.66666666666666,305.1666666666667,461.3333333333333,291.6666666666667,335.6,259.2857142857143,208.33333333333334,312.0,291.3333333333333,275.5],\"yaxis\":\"y\",\"type\":\"bar\"},{\"alignmentgroup\":\"True\",\"hovertemplate\":\"State=WA\\u003cbr\\u003eYear=%{x}\\u003cbr\\u003eNumber of Mexican Bracero Workers=%{y}\\u003cextra\\u003e\\u003c\\u002fextra\\u003e\",\"legendgroup\":\"WA\",\"marker\":{\"color\":\"#636efa\",\"pattern\":{\"shape\":\"\"}},\"name\":\"WA\",\"offsetgroup\":\"WA\",\"orientation\":\"v\",\"showlegend\":true,\"textposition\":\"auto\",\"x\":[1943,1944,1945,1946,1947,1953,1954,1955,1956,1957,1960],\"xaxis\":\"x\",\"y\":[1114.875,1822.9166666666667,2342.3636363636365,1174.8333333333333,457.22222222222223,605.1428571428571,176.2,271.5,242.71428571428572,451.2,60.0],\"yaxis\":\"y\",\"type\":\"bar\"},{\"alignmentgroup\":\"True\",\"hovertemplate\":\"State=WI\\u003cbr\\u003eYear=%{x}\\u003cbr\\u003eNumber of Mexican Bracero Workers=%{y}\\u003cextra\\u003e\\u003c\\u002fextra\\u003e\",\"legendgroup\":\"WI\",\"marker\":{\"color\":\"#EF553B\",\"pattern\":{\"shape\":\"\"}},\"name\":\"WI\",\"offsetgroup\":\"WI\",\"orientation\":\"v\",\"showlegend\":true,\"textposition\":\"auto\",\"x\":[1944,1945,1946,1947,1953,1954,1955,1956,1957,1958,1959,1960,1961,1962,1963,1964],\"xaxis\":\"x\",\"y\":[344.5,401.0,448.8333333333333,686.9166666666666,351.0,251.25,251.4,490.3333333333333,424.85714285714283,258.8,275.8,307.6,197.83333333333334,213.0,279.75,314.75],\"yaxis\":\"y\",\"type\":\"bar\"},{\"alignmentgroup\":\"True\",\"hovertemplate\":\"State=WY\\u003cbr\\u003eYear=%{x}\\u003cbr\\u003eNumber of Mexican Bracero Workers=%{y}\\u003cextra\\u003e\\u003c\\u002fextra\\u003e\",\"legendgroup\":\"WY\",\"marker\":{\"color\":\"#00cc96\",\"pattern\":{\"shape\":\"\"}},\"name\":\"WY\",\"offsetgroup\":\"WY\",\"orientation\":\"v\",\"showlegend\":true,\"textposition\":\"auto\",\"x\":[1943,1944,1945,1946,1947,1953,1954,1955,1956,1957,1958,1959,1960,1961,1962,1963,1964],\"xaxis\":\"x\",\"y\":[273.875,437.90909090909093,247.1818181818182,453.0,258.6363636363636,473.0,281.25,282.0,523.8,518.2,394.8,434.5,351.25,476.0,396.0,621.6666666666666,592.3333333333334],\"yaxis\":\"y\",\"type\":\"bar\"}],                        {\"template\":{\"data\":{\"histogram2dcontour\":[{\"type\":\"histogram2dcontour\",\"colorbar\":{\"outlinewidth\":0,\"ticks\":\"\"},\"colorscale\":[[0.0,\"#0d0887\"],[0.1111111111111111,\"#46039f\"],[0.2222222222222222,\"#7201a8\"],[0.3333333333333333,\"#9c179e\"],[0.4444444444444444,\"#bd3786\"],[0.5555555555555556,\"#d8576b\"],[0.6666666666666666,\"#ed7953\"],[0.7777777777777778,\"#fb9f3a\"],[0.8888888888888888,\"#fdca26\"],[1.0,\"#f0f921\"]]}],\"choropleth\":[{\"type\":\"choropleth\",\"colorbar\":{\"outlinewidth\":0,\"ticks\":\"\"}}],\"histogram2d\":[{\"type\":\"histogram2d\",\"colorbar\":{\"outlinewidth\":0,\"ticks\":\"\"},\"colorscale\":[[0.0,\"#0d0887\"],[0.1111111111111111,\"#46039f\"],[0.2222222222222222,\"#7201a8\"],[0.3333333333333333,\"#9c179e\"],[0.4444444444444444,\"#bd3786\"],[0.5555555555555556,\"#d8576b\"],[0.6666666666666666,\"#ed7953\"],[0.7777777777777778,\"#fb9f3a\"],[0.8888888888888888,\"#fdca26\"],[1.0,\"#f0f921\"]]}],\"heatmap\":[{\"type\":\"heatmap\",\"colorbar\":{\"outlinewidth\":0,\"ticks\":\"\"},\"colorscale\":[[0.0,\"#0d0887\"],[0.1111111111111111,\"#46039f\"],[0.2222222222222222,\"#7201a8\"],[0.3333333333333333,\"#9c179e\"],[0.4444444444444444,\"#bd3786\"],[0.5555555555555556,\"#d8576b\"],[0.6666666666666666,\"#ed7953\"],[0.7777777777777778,\"#fb9f3a\"],[0.8888888888888888,\"#fdca26\"],[1.0,\"#f0f921\"]]}],\"heatmapgl\":[{\"type\":\"heatmapgl\",\"colorbar\":{\"outlinewidth\":0,\"ticks\":\"\"},\"colorscale\":[[0.0,\"#0d0887\"],[0.1111111111111111,\"#46039f\"],[0.2222222222222222,\"#7201a8\"],[0.3333333333333333,\"#9c179e\"],[0.4444444444444444,\"#bd3786\"],[0.5555555555555556,\"#d8576b\"],[0.6666666666666666,\"#ed7953\"],[0.7777777777777778,\"#fb9f3a\"],[0.8888888888888888,\"#fdca26\"],[1.0,\"#f0f921\"]]}],\"contourcarpet\":[{\"type\":\"contourcarpet\",\"colorbar\":{\"outlinewidth\":0,\"ticks\":\"\"}}],\"contour\":[{\"type\":\"contour\",\"colorbar\":{\"outlinewidth\":0,\"ticks\":\"\"},\"colorscale\":[[0.0,\"#0d0887\"],[0.1111111111111111,\"#46039f\"],[0.2222222222222222,\"#7201a8\"],[0.3333333333333333,\"#9c179e\"],[0.4444444444444444,\"#bd3786\"],[0.5555555555555556,\"#d8576b\"],[0.6666666666666666,\"#ed7953\"],[0.7777777777777778,\"#fb9f3a\"],[0.8888888888888888,\"#fdca26\"],[1.0,\"#f0f921\"]]}],\"surface\":[{\"type\":\"surface\",\"colorbar\":{\"outlinewidth\":0,\"ticks\":\"\"},\"colorscale\":[[0.0,\"#0d0887\"],[0.1111111111111111,\"#46039f\"],[0.2222222222222222,\"#7201a8\"],[0.3333333333333333,\"#9c179e\"],[0.4444444444444444,\"#bd3786\"],[0.5555555555555556,\"#d8576b\"],[0.6666666666666666,\"#ed7953\"],[0.7777777777777778,\"#fb9f3a\"],[0.8888888888888888,\"#fdca26\"],[1.0,\"#f0f921\"]]}],\"mesh3d\":[{\"type\":\"mesh3d\",\"colorbar\":{\"outlinewidth\":0,\"ticks\":\"\"}}],\"scatter\":[{\"fillpattern\":{\"fillmode\":\"overlay\",\"size\":10,\"solidity\":0.2},\"type\":\"scatter\"}],\"parcoords\":[{\"type\":\"parcoords\",\"line\":{\"colorbar\":{\"outlinewidth\":0,\"ticks\":\"\"}}}],\"scatterpolargl\":[{\"type\":\"scatterpolargl\",\"marker\":{\"colorbar\":{\"outlinewidth\":0,\"ticks\":\"\"}}}],\"bar\":[{\"error_x\":{\"color\":\"#2a3f5f\"},\"error_y\":{\"color\":\"#2a3f5f\"},\"marker\":{\"line\":{\"color\":\"#E5ECF6\",\"width\":0.5},\"pattern\":{\"fillmode\":\"overlay\",\"size\":10,\"solidity\":0.2}},\"type\":\"bar\"}],\"scattergeo\":[{\"type\":\"scattergeo\",\"marker\":{\"colorbar\":{\"outlinewidth\":0,\"ticks\":\"\"}}}],\"scatterpolar\":[{\"type\":\"scatterpolar\",\"marker\":{\"colorbar\":{\"outlinewidth\":0,\"ticks\":\"\"}}}],\"histogram\":[{\"marker\":{\"pattern\":{\"fillmode\":\"overlay\",\"size\":10,\"solidity\":0.2}},\"type\":\"histogram\"}],\"scattergl\":[{\"type\":\"scattergl\",\"marker\":{\"colorbar\":{\"outlinewidth\":0,\"ticks\":\"\"}}}],\"scatter3d\":[{\"type\":\"scatter3d\",\"line\":{\"colorbar\":{\"outlinewidth\":0,\"ticks\":\"\"}},\"marker\":{\"colorbar\":{\"outlinewidth\":0,\"ticks\":\"\"}}}],\"scattermapbox\":[{\"type\":\"scattermapbox\",\"marker\":{\"colorbar\":{\"outlinewidth\":0,\"ticks\":\"\"}}}],\"scatterternary\":[{\"type\":\"scatterternary\",\"marker\":{\"colorbar\":{\"outlinewidth\":0,\"ticks\":\"\"}}}],\"scattercarpet\":[{\"type\":\"scattercarpet\",\"marker\":{\"colorbar\":{\"outlinewidth\":0,\"ticks\":\"\"}}}],\"carpet\":[{\"aaxis\":{\"endlinecolor\":\"#2a3f5f\",\"gridcolor\":\"white\",\"linecolor\":\"white\",\"minorgridcolor\":\"white\",\"startlinecolor\":\"#2a3f5f\"},\"baxis\":{\"endlinecolor\":\"#2a3f5f\",\"gridcolor\":\"white\",\"linecolor\":\"white\",\"minorgridcolor\":\"white\",\"startlinecolor\":\"#2a3f5f\"},\"type\":\"carpet\"}],\"table\":[{\"cells\":{\"fill\":{\"color\":\"#EBF0F8\"},\"line\":{\"color\":\"white\"}},\"header\":{\"fill\":{\"color\":\"#C8D4E3\"},\"line\":{\"color\":\"white\"}},\"type\":\"table\"}],\"barpolar\":[{\"marker\":{\"line\":{\"color\":\"#E5ECF6\",\"width\":0.5},\"pattern\":{\"fillmode\":\"overlay\",\"size\":10,\"solidity\":0.2}},\"type\":\"barpolar\"}],\"pie\":[{\"automargin\":true,\"type\":\"pie\"}]},\"layout\":{\"autotypenumbers\":\"strict\",\"colorway\":[\"#636efa\",\"#EF553B\",\"#00cc96\",\"#ab63fa\",\"#FFA15A\",\"#19d3f3\",\"#FF6692\",\"#B6E880\",\"#FF97FF\",\"#FECB52\"],\"font\":{\"color\":\"#2a3f5f\"},\"hovermode\":\"closest\",\"hoverlabel\":{\"align\":\"left\"},\"paper_bgcolor\":\"white\",\"plot_bgcolor\":\"#E5ECF6\",\"polar\":{\"bgcolor\":\"#E5ECF6\",\"angularaxis\":{\"gridcolor\":\"white\",\"linecolor\":\"white\",\"ticks\":\"\"},\"radialaxis\":{\"gridcolor\":\"white\",\"linecolor\":\"white\",\"ticks\":\"\"}},\"ternary\":{\"bgcolor\":\"#E5ECF6\",\"aaxis\":{\"gridcolor\":\"white\",\"linecolor\":\"white\",\"ticks\":\"\"},\"baxis\":{\"gridcolor\":\"white\",\"linecolor\":\"white\",\"ticks\":\"\"},\"caxis\":{\"gridcolor\":\"white\",\"linecolor\":\"white\",\"ticks\":\"\"}},\"coloraxis\":{\"colorbar\":{\"outlinewidth\":0,\"ticks\":\"\"}},\"colorscale\":{\"sequential\":[[0.0,\"#0d0887\"],[0.1111111111111111,\"#46039f\"],[0.2222222222222222,\"#7201a8\"],[0.3333333333333333,\"#9c179e\"],[0.4444444444444444,\"#bd3786\"],[0.5555555555555556,\"#d8576b\"],[0.6666666666666666,\"#ed7953\"],[0.7777777777777778,\"#fb9f3a\"],[0.8888888888888888,\"#fdca26\"],[1.0,\"#f0f921\"]],\"sequentialminus\":[[0.0,\"#0d0887\"],[0.1111111111111111,\"#46039f\"],[0.2222222222222222,\"#7201a8\"],[0.3333333333333333,\"#9c179e\"],[0.4444444444444444,\"#bd3786\"],[0.5555555555555556,\"#d8576b\"],[0.6666666666666666,\"#ed7953\"],[0.7777777777777778,\"#fb9f3a\"],[0.8888888888888888,\"#fdca26\"],[1.0,\"#f0f921\"]],\"diverging\":[[0,\"#8e0152\"],[0.1,\"#c51b7d\"],[0.2,\"#de77ae\"],[0.3,\"#f1b6da\"],[0.4,\"#fde0ef\"],[0.5,\"#f7f7f7\"],[0.6,\"#e6f5d0\"],[0.7,\"#b8e186\"],[0.8,\"#7fbc41\"],[0.9,\"#4d9221\"],[1,\"#276419\"]]},\"xaxis\":{\"gridcolor\":\"white\",\"linecolor\":\"white\",\"ticks\":\"\",\"title\":{\"standoff\":15},\"zerolinecolor\":\"white\",\"automargin\":true,\"zerolinewidth\":2},\"yaxis\":{\"gridcolor\":\"white\",\"linecolor\":\"white\",\"ticks\":\"\",\"title\":{\"standoff\":15},\"zerolinecolor\":\"white\",\"automargin\":true,\"zerolinewidth\":2},\"scene\":{\"xaxis\":{\"backgroundcolor\":\"#E5ECF6\",\"gridcolor\":\"white\",\"linecolor\":\"white\",\"showbackground\":true,\"ticks\":\"\",\"zerolinecolor\":\"white\",\"gridwidth\":2},\"yaxis\":{\"backgroundcolor\":\"#E5ECF6\",\"gridcolor\":\"white\",\"linecolor\":\"white\",\"showbackground\":true,\"ticks\":\"\",\"zerolinecolor\":\"white\",\"gridwidth\":2},\"zaxis\":{\"backgroundcolor\":\"#E5ECF6\",\"gridcolor\":\"white\",\"linecolor\":\"white\",\"showbackground\":true,\"ticks\":\"\",\"zerolinecolor\":\"white\",\"gridwidth\":2}},\"shapedefaults\":{\"line\":{\"color\":\"#2a3f5f\"}},\"annotationdefaults\":{\"arrowcolor\":\"#2a3f5f\",\"arrowhead\":0,\"arrowwidth\":1},\"geo\":{\"bgcolor\":\"white\",\"landcolor\":\"#E5ECF6\",\"subunitcolor\":\"white\",\"showland\":true,\"showlakes\":true,\"lakecolor\":\"white\"},\"title\":{\"x\":0.05},\"mapbox\":{\"style\":\"light\"}}},\"xaxis\":{\"anchor\":\"y\",\"domain\":[0.0,1.0],\"title\":{\"text\":\"Year\"}},\"yaxis\":{\"anchor\":\"x\",\"domain\":[0.0,1.0],\"title\":{\"text\":\"Number of Mexican Bracero Workers\"}},\"legend\":{\"title\":{\"text\":\"State\"},\"tracegroupgap\":0},\"title\":{\"text\":\"Mexican Bracero Workers in the United States\",\"x\":0.5,\"xanchor\":\"center\"},\"barmode\":\"relative\"},                        {\"responsive\": true}                    ).then(function(){\n",
       "                            \n",
       "var gd = document.getElementById('6d128a91-26ff-4e0c-9c72-5ce46024c38b');\n",
       "var x = new MutationObserver(function (mutations, observer) {{\n",
       "        var display = window.getComputedStyle(gd).display;\n",
       "        if (!display || display === 'none') {{\n",
       "            console.log([gd, 'removed!']);\n",
       "            Plotly.purge(gd);\n",
       "            observer.disconnect();\n",
       "        }}\n",
       "}});\n",
       "\n",
       "// Listen for the removal of the full notebook cells\n",
       "var notebookContainer = gd.closest('#notebook-container');\n",
       "if (notebookContainer) {{\n",
       "    x.observe(notebookContainer, {childList: true});\n",
       "}}\n",
       "\n",
       "// Listen for the clearing of the current output cell\n",
       "var outputEl = gd.closest('.output');\n",
       "if (outputEl) {{\n",
       "    x.observe(outputEl, {childList: true});\n",
       "}}\n",
       "\n",
       "                        })                };                });            </script>        </div>"
      ]
     },
     "metadata": {},
     "output_type": "display_data"
    }
   ],
   "source": [
    "## note that this is INTENTIONALLY not giving hints, functions, etc. so that people can struggle through it. there may be many valid solutions.\n",
    "\n",
    "#they should use the bracero_df from before because it already filtered out NaN and 0 values\n",
    "braceros_by_year = bracero_df.groupby(['State', 'Year'])['Mexican'].mean().reset_index()\n",
    "\n",
    "import plotly.express as px\n",
    "\n",
    "bracerofig = px.bar(braceros_by_year, x='Year', y='Mexican', color='State', title='Mexican Bracero Workers in the United States',\n",
    "                   labels={'Mexican': 'Number of Mexican Bracero Workers'})\n",
    "bracerofig.update_layout(title={'x':0.5, 'xanchor': 'center'})"
   ]
  },
  {
   "cell_type": "markdown",
   "id": "299b7952-0f5d-4974-b452-020b7900e984",
   "metadata": {},
   "source": [
    "**4. What trends do you notice looking at this graph? Think about what might explain those trends *and* how this graph may reveal inaccuracies within the data and your previous answers.**"
   ]
  },
  {
   "cell_type": "markdown",
   "id": "64c75338-0d01-4827-8116-a5c1dabb4390",
   "metadata": {},
   "source": [
    "***These responses are relatively open ended. They can talk about the trends over time, the decrease starting in 1960, etc. They may also notice the lack of data for places like Texas, and can refer back to the value_counts for determining states to also support the fact that not all states had a similar amount of reporting***"
   ]
  },
  {
   "cell_type": "markdown",
   "id": "6dce1936-ac5a-439c-9adc-a0900a3dcabc",
   "metadata": {},
   "source": [
    "#### Part 2: Foreign Worker Analysis"
   ]
  },
  {
   "cell_type": "markdown",
   "id": "e6182bf9-6618-48f4-bd49-a8ea3e166a19",
   "metadata": {},
   "source": [
    "**1. How many foreign farmworkers were NOT Bracero workers each year?**\n",
    "\n",
    "*Don't panic if some of your results look weird. This reflects some of the limitations of the data, which you will reflect on in question 4.*"
   ]
  },
  {
   "cell_type": "code",
   "execution_count": 293,
   "id": "34377bc7-22e4-461a-9346-ce8294c4779f",
   "metadata": {
    "scrolled": true
   },
   "outputs": [
    {
     "data": {
      "text/html": [
       "<div>\n",
       "<style scoped>\n",
       "    .dataframe tbody tr th:only-of-type {\n",
       "        vertical-align: middle;\n",
       "    }\n",
       "\n",
       "    .dataframe tbody tr th {\n",
       "        vertical-align: top;\n",
       "    }\n",
       "\n",
       "    .dataframe thead th {\n",
       "        text-align: right;\n",
       "    }\n",
       "</style>\n",
       "<table border=\"1\" class=\"dataframe\">\n",
       "  <thead>\n",
       "    <tr style=\"text-align: right;\">\n",
       "      <th></th>\n",
       "      <th>Year</th>\n",
       "      <th>TotalForeign</th>\n",
       "      <th>Mexican</th>\n",
       "      <th>NotBracero</th>\n",
       "    </tr>\n",
       "  </thead>\n",
       "  <tbody>\n",
       "    <tr>\n",
       "      <th>0</th>\n",
       "      <td>1942</td>\n",
       "      <td>NaN</td>\n",
       "      <td>NaN</td>\n",
       "      <td>NaN</td>\n",
       "    </tr>\n",
       "    <tr>\n",
       "      <th>1</th>\n",
       "      <td>1943</td>\n",
       "      <td>NaN</td>\n",
       "      <td>2296.663158</td>\n",
       "      <td>NaN</td>\n",
       "    </tr>\n",
       "    <tr>\n",
       "      <th>2</th>\n",
       "      <td>1944</td>\n",
       "      <td>NaN</td>\n",
       "      <td>2576.113636</td>\n",
       "      <td>NaN</td>\n",
       "    </tr>\n",
       "    <tr>\n",
       "      <th>3</th>\n",
       "      <td>1945</td>\n",
       "      <td>2946.832021</td>\n",
       "      <td>2296.822660</td>\n",
       "      <td>650.009361</td>\n",
       "    </tr>\n",
       "    <tr>\n",
       "      <th>4</th>\n",
       "      <td>1946</td>\n",
       "      <td>1200.854167</td>\n",
       "      <td>1396.221311</td>\n",
       "      <td>-195.367145</td>\n",
       "    </tr>\n",
       "    <tr>\n",
       "      <th>5</th>\n",
       "      <td>1947</td>\n",
       "      <td>822.827500</td>\n",
       "      <td>988.794872</td>\n",
       "      <td>-165.967372</td>\n",
       "    </tr>\n",
       "    <tr>\n",
       "      <th>6</th>\n",
       "      <td>1948</td>\n",
       "      <td>510.153846</td>\n",
       "      <td>2717.358974</td>\n",
       "      <td>-2207.205128</td>\n",
       "    </tr>\n",
       "    <tr>\n",
       "      <th>7</th>\n",
       "      <td>1949</td>\n",
       "      <td>NaN</td>\n",
       "      <td>1382.297872</td>\n",
       "      <td>NaN</td>\n",
       "    </tr>\n",
       "    <tr>\n",
       "      <th>8</th>\n",
       "      <td>1950</td>\n",
       "      <td>0.000000</td>\n",
       "      <td>2163.755102</td>\n",
       "      <td>-2163.755102</td>\n",
       "    </tr>\n",
       "    <tr>\n",
       "      <th>9</th>\n",
       "      <td>1951</td>\n",
       "      <td>1396.466667</td>\n",
       "      <td>7685.155556</td>\n",
       "      <td>-6288.688889</td>\n",
       "    </tr>\n",
       "    <tr>\n",
       "      <th>10</th>\n",
       "      <td>1952</td>\n",
       "      <td>5647.583333</td>\n",
       "      <td>7409.603448</td>\n",
       "      <td>-1762.020115</td>\n",
       "    </tr>\n",
       "    <tr>\n",
       "      <th>11</th>\n",
       "      <td>1953</td>\n",
       "      <td>2410.450000</td>\n",
       "      <td>2675.043478</td>\n",
       "      <td>-264.593478</td>\n",
       "    </tr>\n",
       "    <tr>\n",
       "      <th>12</th>\n",
       "      <td>1954</td>\n",
       "      <td>2630.127451</td>\n",
       "      <td>2698.098765</td>\n",
       "      <td>-67.971314</td>\n",
       "    </tr>\n",
       "    <tr>\n",
       "      <th>13</th>\n",
       "      <td>1955</td>\n",
       "      <td>3739.282895</td>\n",
       "      <td>3517.694079</td>\n",
       "      <td>221.588816</td>\n",
       "    </tr>\n",
       "    <tr>\n",
       "      <th>14</th>\n",
       "      <td>1956</td>\n",
       "      <td>4298.885246</td>\n",
       "      <td>4055.600000</td>\n",
       "      <td>243.285246</td>\n",
       "    </tr>\n",
       "    <tr>\n",
       "      <th>15</th>\n",
       "      <td>1957</td>\n",
       "      <td>4315.977564</td>\n",
       "      <td>3900.243590</td>\n",
       "      <td>415.733974</td>\n",
       "    </tr>\n",
       "    <tr>\n",
       "      <th>16</th>\n",
       "      <td>1958</td>\n",
       "      <td>4304.435331</td>\n",
       "      <td>4114.227129</td>\n",
       "      <td>190.208202</td>\n",
       "    </tr>\n",
       "    <tr>\n",
       "      <th>17</th>\n",
       "      <td>1959</td>\n",
       "      <td>4619.210145</td>\n",
       "      <td>4397.949275</td>\n",
       "      <td>221.260870</td>\n",
       "    </tr>\n",
       "    <tr>\n",
       "      <th>18</th>\n",
       "      <td>1960</td>\n",
       "      <td>3586.536424</td>\n",
       "      <td>3369.814570</td>\n",
       "      <td>216.721854</td>\n",
       "    </tr>\n",
       "    <tr>\n",
       "      <th>19</th>\n",
       "      <td>1961</td>\n",
       "      <td>3145.990033</td>\n",
       "      <td>2928.182724</td>\n",
       "      <td>217.807309</td>\n",
       "    </tr>\n",
       "    <tr>\n",
       "      <th>20</th>\n",
       "      <td>1962</td>\n",
       "      <td>2065.800633</td>\n",
       "      <td>1820.284810</td>\n",
       "      <td>245.515823</td>\n",
       "    </tr>\n",
       "    <tr>\n",
       "      <th>21</th>\n",
       "      <td>1963</td>\n",
       "      <td>1787.251323</td>\n",
       "      <td>1453.269841</td>\n",
       "      <td>333.981481</td>\n",
       "    </tr>\n",
       "    <tr>\n",
       "      <th>22</th>\n",
       "      <td>1964</td>\n",
       "      <td>1700.771505</td>\n",
       "      <td>1361.032258</td>\n",
       "      <td>339.739247</td>\n",
       "    </tr>\n",
       "    <tr>\n",
       "      <th>23</th>\n",
       "      <td>1965</td>\n",
       "      <td>306.853261</td>\n",
       "      <td>75.986413</td>\n",
       "      <td>230.866848</td>\n",
       "    </tr>\n",
       "    <tr>\n",
       "      <th>24</th>\n",
       "      <td>1966</td>\n",
       "      <td>173.798365</td>\n",
       "      <td>60.000000</td>\n",
       "      <td>113.798365</td>\n",
       "    </tr>\n",
       "    <tr>\n",
       "      <th>25</th>\n",
       "      <td>1967</td>\n",
       "      <td>124.743034</td>\n",
       "      <td>5850.000000</td>\n",
       "      <td>-5725.256966</td>\n",
       "    </tr>\n",
       "    <tr>\n",
       "      <th>26</th>\n",
       "      <td>1968</td>\n",
       "      <td>294.873134</td>\n",
       "      <td>NaN</td>\n",
       "      <td>NaN</td>\n",
       "    </tr>\n",
       "    <tr>\n",
       "      <th>27</th>\n",
       "      <td>1969</td>\n",
       "      <td>162.918605</td>\n",
       "      <td>NaN</td>\n",
       "      <td>NaN</td>\n",
       "    </tr>\n",
       "    <tr>\n",
       "      <th>28</th>\n",
       "      <td>1970</td>\n",
       "      <td>110.732719</td>\n",
       "      <td>NaN</td>\n",
       "      <td>NaN</td>\n",
       "    </tr>\n",
       "    <tr>\n",
       "      <th>29</th>\n",
       "      <td>1971</td>\n",
       "      <td>177.049327</td>\n",
       "      <td>NaN</td>\n",
       "      <td>NaN</td>\n",
       "    </tr>\n",
       "    <tr>\n",
       "      <th>30</th>\n",
       "      <td>1972</td>\n",
       "      <td>262.976190</td>\n",
       "      <td>NaN</td>\n",
       "      <td>NaN</td>\n",
       "    </tr>\n",
       "    <tr>\n",
       "      <th>31</th>\n",
       "      <td>1973</td>\n",
       "      <td>438.806452</td>\n",
       "      <td>NaN</td>\n",
       "      <td>NaN</td>\n",
       "    </tr>\n",
       "    <tr>\n",
       "      <th>32</th>\n",
       "      <td>1974</td>\n",
       "      <td>NaN</td>\n",
       "      <td>NaN</td>\n",
       "      <td>NaN</td>\n",
       "    </tr>\n",
       "    <tr>\n",
       "      <th>33</th>\n",
       "      <td>1975</td>\n",
       "      <td>NaN</td>\n",
       "      <td>NaN</td>\n",
       "      <td>NaN</td>\n",
       "    </tr>\n",
       "  </tbody>\n",
       "</table>\n",
       "</div>"
      ],
      "text/plain": [
       "    Year  TotalForeign      Mexican   NotBracero\n",
       "0   1942           NaN          NaN          NaN\n",
       "1   1943           NaN  2296.663158          NaN\n",
       "2   1944           NaN  2576.113636          NaN\n",
       "3   1945   2946.832021  2296.822660   650.009361\n",
       "4   1946   1200.854167  1396.221311  -195.367145\n",
       "5   1947    822.827500   988.794872  -165.967372\n",
       "6   1948    510.153846  2717.358974 -2207.205128\n",
       "7   1949           NaN  1382.297872          NaN\n",
       "8   1950      0.000000  2163.755102 -2163.755102\n",
       "9   1951   1396.466667  7685.155556 -6288.688889\n",
       "10  1952   5647.583333  7409.603448 -1762.020115\n",
       "11  1953   2410.450000  2675.043478  -264.593478\n",
       "12  1954   2630.127451  2698.098765   -67.971314\n",
       "13  1955   3739.282895  3517.694079   221.588816\n",
       "14  1956   4298.885246  4055.600000   243.285246\n",
       "15  1957   4315.977564  3900.243590   415.733974\n",
       "16  1958   4304.435331  4114.227129   190.208202\n",
       "17  1959   4619.210145  4397.949275   221.260870\n",
       "18  1960   3586.536424  3369.814570   216.721854\n",
       "19  1961   3145.990033  2928.182724   217.807309\n",
       "20  1962   2065.800633  1820.284810   245.515823\n",
       "21  1963   1787.251323  1453.269841   333.981481\n",
       "22  1964   1700.771505  1361.032258   339.739247\n",
       "23  1965    306.853261    75.986413   230.866848\n",
       "24  1966    173.798365    60.000000   113.798365\n",
       "25  1967    124.743034  5850.000000 -5725.256966\n",
       "26  1968    294.873134          NaN          NaN\n",
       "27  1969    162.918605          NaN          NaN\n",
       "28  1970    110.732719          NaN          NaN\n",
       "29  1971    177.049327          NaN          NaN\n",
       "30  1972    262.976190          NaN          NaN\n",
       "31  1973    438.806452          NaN          NaN\n",
       "32  1974           NaN          NaN          NaN\n",
       "33  1975           NaN          NaN          NaN"
      ]
     },
     "execution_count": 293,
     "metadata": {},
     "output_type": "execute_result"
    }
   ],
   "source": [
    "## This part is a clear reflection of the limitations of the data, as it is showing how things are difficult to compare. In this sense, students can either\n",
    "# apply the average strategy from before or even see what happens with totals. Both show some weird results as far as comparisons go.\n",
    "\n",
    "#This is the way using averages\n",
    "foreign_by_year = farmworkers_df.groupby('Year')['TotalForeign'].mean().reset_index()\n",
    "bracero_by_year = farmworkers_df.groupby('Year')['Mexican'].mean().reset_index()\n",
    "\n",
    "foreign_by_year['Mexican'] = bracero_by_year['Mexican']\n",
    "\n",
    "foreign_by_year['NotBracero'] = foreign_by_year['TotalForeign'] - foreign_by_year['Mexican']\n",
    "\n",
    "foreign_by_year\n",
    "#looking at the results you can see a lot of negative numbers, which shouldn't be the case considering Braceros were automatically foreign workers"
   ]
  },
  {
   "cell_type": "code",
   "execution_count": 294,
   "id": "0db6f505-1d7a-4663-a4ac-3d203e24dc81",
   "metadata": {},
   "outputs": [
    {
     "data": {
      "text/html": [
       "<div>\n",
       "<style scoped>\n",
       "    .dataframe tbody tr th:only-of-type {\n",
       "        vertical-align: middle;\n",
       "    }\n",
       "\n",
       "    .dataframe tbody tr th {\n",
       "        vertical-align: top;\n",
       "    }\n",
       "\n",
       "    .dataframe thead th {\n",
       "        text-align: right;\n",
       "    }\n",
       "</style>\n",
       "<table border=\"1\" class=\"dataframe\">\n",
       "  <thead>\n",
       "    <tr style=\"text-align: right;\">\n",
       "      <th></th>\n",
       "      <th>Year</th>\n",
       "      <th>TotalForeign</th>\n",
       "      <th>Mexican</th>\n",
       "      <th>NotBracero</th>\n",
       "    </tr>\n",
       "  </thead>\n",
       "  <tbody>\n",
       "    <tr>\n",
       "      <th>0</th>\n",
       "      <td>1942</td>\n",
       "      <td>0.0</td>\n",
       "      <td>0.0</td>\n",
       "      <td>0.0</td>\n",
       "    </tr>\n",
       "    <tr>\n",
       "      <th>1</th>\n",
       "      <td>1943</td>\n",
       "      <td>0.0</td>\n",
       "      <td>218183.0</td>\n",
       "      <td>-218183.0</td>\n",
       "    </tr>\n",
       "    <tr>\n",
       "      <th>2</th>\n",
       "      <td>1944</td>\n",
       "      <td>0.0</td>\n",
       "      <td>453396.0</td>\n",
       "      <td>-453396.0</td>\n",
       "    </tr>\n",
       "    <tr>\n",
       "      <th>3</th>\n",
       "      <td>1945</td>\n",
       "      <td>1122743.0</td>\n",
       "      <td>466255.0</td>\n",
       "      <td>656488.0</td>\n",
       "    </tr>\n",
       "    <tr>\n",
       "      <th>4</th>\n",
       "      <td>1946</td>\n",
       "      <td>518769.0</td>\n",
       "      <td>340678.0</td>\n",
       "      <td>178091.0</td>\n",
       "    </tr>\n",
       "    <tr>\n",
       "      <th>5</th>\n",
       "      <td>1947</td>\n",
       "      <td>329131.0</td>\n",
       "      <td>231378.0</td>\n",
       "      <td>97753.0</td>\n",
       "    </tr>\n",
       "    <tr>\n",
       "      <th>6</th>\n",
       "      <td>1948</td>\n",
       "      <td>6632.0</td>\n",
       "      <td>105977.0</td>\n",
       "      <td>-99345.0</td>\n",
       "    </tr>\n",
       "    <tr>\n",
       "      <th>7</th>\n",
       "      <td>1949</td>\n",
       "      <td>0.0</td>\n",
       "      <td>64968.0</td>\n",
       "      <td>-64968.0</td>\n",
       "    </tr>\n",
       "    <tr>\n",
       "      <th>8</th>\n",
       "      <td>1950</td>\n",
       "      <td>0.0</td>\n",
       "      <td>106024.0</td>\n",
       "      <td>-106024.0</td>\n",
       "    </tr>\n",
       "    <tr>\n",
       "      <th>9</th>\n",
       "      <td>1951</td>\n",
       "      <td>20947.0</td>\n",
       "      <td>345832.0</td>\n",
       "      <td>-324885.0</td>\n",
       "    </tr>\n",
       "    <tr>\n",
       "      <th>10</th>\n",
       "      <td>1952</td>\n",
       "      <td>67771.0</td>\n",
       "      <td>429757.0</td>\n",
       "      <td>-361986.0</td>\n",
       "    </tr>\n",
       "    <tr>\n",
       "      <th>11</th>\n",
       "      <td>1953</td>\n",
       "      <td>337463.0</td>\n",
       "      <td>676786.0</td>\n",
       "      <td>-339323.0</td>\n",
       "    </tr>\n",
       "    <tr>\n",
       "      <th>12</th>\n",
       "      <td>1954</td>\n",
       "      <td>804819.0</td>\n",
       "      <td>874184.0</td>\n",
       "      <td>-69365.0</td>\n",
       "    </tr>\n",
       "    <tr>\n",
       "      <th>13</th>\n",
       "      <td>1955</td>\n",
       "      <td>1136742.0</td>\n",
       "      <td>1069379.0</td>\n",
       "      <td>67363.0</td>\n",
       "    </tr>\n",
       "    <tr>\n",
       "      <th>14</th>\n",
       "      <td>1956</td>\n",
       "      <td>1311160.0</td>\n",
       "      <td>1236958.0</td>\n",
       "      <td>74202.0</td>\n",
       "    </tr>\n",
       "    <tr>\n",
       "      <th>15</th>\n",
       "      <td>1957</td>\n",
       "      <td>1346585.0</td>\n",
       "      <td>1216876.0</td>\n",
       "      <td>129709.0</td>\n",
       "    </tr>\n",
       "    <tr>\n",
       "      <th>16</th>\n",
       "      <td>1958</td>\n",
       "      <td>1364506.0</td>\n",
       "      <td>1304210.0</td>\n",
       "      <td>60296.0</td>\n",
       "    </tr>\n",
       "    <tr>\n",
       "      <th>17</th>\n",
       "      <td>1959</td>\n",
       "      <td>1274902.0</td>\n",
       "      <td>1213834.0</td>\n",
       "      <td>61068.0</td>\n",
       "    </tr>\n",
       "    <tr>\n",
       "      <th>18</th>\n",
       "      <td>1960</td>\n",
       "      <td>1083134.0</td>\n",
       "      <td>1017684.0</td>\n",
       "      <td>65450.0</td>\n",
       "    </tr>\n",
       "    <tr>\n",
       "      <th>19</th>\n",
       "      <td>1961</td>\n",
       "      <td>946943.0</td>\n",
       "      <td>881383.0</td>\n",
       "      <td>65560.0</td>\n",
       "    </tr>\n",
       "    <tr>\n",
       "      <th>20</th>\n",
       "      <td>1962</td>\n",
       "      <td>652793.0</td>\n",
       "      <td>575210.0</td>\n",
       "      <td>77583.0</td>\n",
       "    </tr>\n",
       "    <tr>\n",
       "      <th>21</th>\n",
       "      <td>1963</td>\n",
       "      <td>675581.0</td>\n",
       "      <td>549336.0</td>\n",
       "      <td>126245.0</td>\n",
       "    </tr>\n",
       "    <tr>\n",
       "      <th>22</th>\n",
       "      <td>1964</td>\n",
       "      <td>632687.0</td>\n",
       "      <td>506304.0</td>\n",
       "      <td>126383.0</td>\n",
       "    </tr>\n",
       "    <tr>\n",
       "      <th>23</th>\n",
       "      <td>1965</td>\n",
       "      <td>112922.0</td>\n",
       "      <td>27963.0</td>\n",
       "      <td>84959.0</td>\n",
       "    </tr>\n",
       "    <tr>\n",
       "      <th>24</th>\n",
       "      <td>1966</td>\n",
       "      <td>63784.0</td>\n",
       "      <td>13860.0</td>\n",
       "      <td>49924.0</td>\n",
       "    </tr>\n",
       "    <tr>\n",
       "      <th>25</th>\n",
       "      <td>1967</td>\n",
       "      <td>40292.0</td>\n",
       "      <td>5850.0</td>\n",
       "      <td>34442.0</td>\n",
       "    </tr>\n",
       "    <tr>\n",
       "      <th>26</th>\n",
       "      <td>1968</td>\n",
       "      <td>39513.0</td>\n",
       "      <td>0.0</td>\n",
       "      <td>39513.0</td>\n",
       "    </tr>\n",
       "    <tr>\n",
       "      <th>27</th>\n",
       "      <td>1969</td>\n",
       "      <td>42033.0</td>\n",
       "      <td>0.0</td>\n",
       "      <td>42033.0</td>\n",
       "    </tr>\n",
       "    <tr>\n",
       "      <th>28</th>\n",
       "      <td>1970</td>\n",
       "      <td>24029.0</td>\n",
       "      <td>0.0</td>\n",
       "      <td>24029.0</td>\n",
       "    </tr>\n",
       "    <tr>\n",
       "      <th>29</th>\n",
       "      <td>1971</td>\n",
       "      <td>39482.0</td>\n",
       "      <td>0.0</td>\n",
       "      <td>39482.0</td>\n",
       "    </tr>\n",
       "    <tr>\n",
       "      <th>30</th>\n",
       "      <td>1972</td>\n",
       "      <td>44180.0</td>\n",
       "      <td>0.0</td>\n",
       "      <td>44180.0</td>\n",
       "    </tr>\n",
       "    <tr>\n",
       "      <th>31</th>\n",
       "      <td>1973</td>\n",
       "      <td>27206.0</td>\n",
       "      <td>0.0</td>\n",
       "      <td>27206.0</td>\n",
       "    </tr>\n",
       "    <tr>\n",
       "      <th>32</th>\n",
       "      <td>1974</td>\n",
       "      <td>0.0</td>\n",
       "      <td>0.0</td>\n",
       "      <td>0.0</td>\n",
       "    </tr>\n",
       "    <tr>\n",
       "      <th>33</th>\n",
       "      <td>1975</td>\n",
       "      <td>0.0</td>\n",
       "      <td>0.0</td>\n",
       "      <td>0.0</td>\n",
       "    </tr>\n",
       "  </tbody>\n",
       "</table>\n",
       "</div>"
      ],
      "text/plain": [
       "    Year  TotalForeign    Mexican  NotBracero\n",
       "0   1942           0.0        0.0         0.0\n",
       "1   1943           0.0   218183.0   -218183.0\n",
       "2   1944           0.0   453396.0   -453396.0\n",
       "3   1945     1122743.0   466255.0    656488.0\n",
       "4   1946      518769.0   340678.0    178091.0\n",
       "5   1947      329131.0   231378.0     97753.0\n",
       "6   1948        6632.0   105977.0    -99345.0\n",
       "7   1949           0.0    64968.0    -64968.0\n",
       "8   1950           0.0   106024.0   -106024.0\n",
       "9   1951       20947.0   345832.0   -324885.0\n",
       "10  1952       67771.0   429757.0   -361986.0\n",
       "11  1953      337463.0   676786.0   -339323.0\n",
       "12  1954      804819.0   874184.0    -69365.0\n",
       "13  1955     1136742.0  1069379.0     67363.0\n",
       "14  1956     1311160.0  1236958.0     74202.0\n",
       "15  1957     1346585.0  1216876.0    129709.0\n",
       "16  1958     1364506.0  1304210.0     60296.0\n",
       "17  1959     1274902.0  1213834.0     61068.0\n",
       "18  1960     1083134.0  1017684.0     65450.0\n",
       "19  1961      946943.0   881383.0     65560.0\n",
       "20  1962      652793.0   575210.0     77583.0\n",
       "21  1963      675581.0   549336.0    126245.0\n",
       "22  1964      632687.0   506304.0    126383.0\n",
       "23  1965      112922.0    27963.0     84959.0\n",
       "24  1966       63784.0    13860.0     49924.0\n",
       "25  1967       40292.0     5850.0     34442.0\n",
       "26  1968       39513.0        0.0     39513.0\n",
       "27  1969       42033.0        0.0     42033.0\n",
       "28  1970       24029.0        0.0     24029.0\n",
       "29  1971       39482.0        0.0     39482.0\n",
       "30  1972       44180.0        0.0     44180.0\n",
       "31  1973       27206.0        0.0     27206.0\n",
       "32  1974           0.0        0.0         0.0\n",
       "33  1975           0.0        0.0         0.0"
      ]
     },
     "execution_count": 294,
     "metadata": {},
     "output_type": "execute_result"
    }
   ],
   "source": [
    "## This is the way using sums\n",
    "\n",
    "foreign_by_year2 = farmworkers_df.groupby('Year')['TotalForeign'].sum().reset_index()\n",
    "bracero_by_year2 = farmworkers_df.groupby('Year')['Mexican'].sum().reset_index()\n",
    "\n",
    "foreign_by_year2['Mexican'] = bracero_by_year2['Mexican']\n",
    "\n",
    "foreign_by_year2['NotBracero'] = foreign_by_year2['TotalForeign'] - foreign_by_year2['Mexican']\n",
    "\n",
    "foreign_by_year2"
   ]
  },
  {
   "cell_type": "markdown",
   "id": "79ec8834-876f-4c0f-a4fe-470005ebf530",
   "metadata": {},
   "source": [
    "**2. What percentage of foreign farmworkers were NOT Bracero workers each year?**\n",
    "\n",
    "*Don't panic if some of your results look weird. This reflects some of the limitations of the data, which you will reflect on in question 4.*"
   ]
  },
  {
   "cell_type": "code",
   "execution_count": 296,
   "id": "e7d22d6d-134d-41a0-974e-42d319d043b4",
   "metadata": {
    "scrolled": true
   },
   "outputs": [
    {
     "data": {
      "text/html": [
       "<div>\n",
       "<style scoped>\n",
       "    .dataframe tbody tr th:only-of-type {\n",
       "        vertical-align: middle;\n",
       "    }\n",
       "\n",
       "    .dataframe tbody tr th {\n",
       "        vertical-align: top;\n",
       "    }\n",
       "\n",
       "    .dataframe thead th {\n",
       "        text-align: right;\n",
       "    }\n",
       "</style>\n",
       "<table border=\"1\" class=\"dataframe\">\n",
       "  <thead>\n",
       "    <tr style=\"text-align: right;\">\n",
       "      <th></th>\n",
       "      <th>Year</th>\n",
       "      <th>TotalForeign</th>\n",
       "      <th>Mexican</th>\n",
       "      <th>NotBracero</th>\n",
       "      <th>NotBraceroPercent</th>\n",
       "    </tr>\n",
       "  </thead>\n",
       "  <tbody>\n",
       "    <tr>\n",
       "      <th>0</th>\n",
       "      <td>1942</td>\n",
       "      <td>NaN</td>\n",
       "      <td>NaN</td>\n",
       "      <td>NaN</td>\n",
       "      <td>NaN</td>\n",
       "    </tr>\n",
       "    <tr>\n",
       "      <th>1</th>\n",
       "      <td>1943</td>\n",
       "      <td>NaN</td>\n",
       "      <td>2296.663158</td>\n",
       "      <td>NaN</td>\n",
       "      <td>NaN</td>\n",
       "    </tr>\n",
       "    <tr>\n",
       "      <th>2</th>\n",
       "      <td>1944</td>\n",
       "      <td>NaN</td>\n",
       "      <td>2576.113636</td>\n",
       "      <td>NaN</td>\n",
       "      <td>NaN</td>\n",
       "    </tr>\n",
       "    <tr>\n",
       "      <th>3</th>\n",
       "      <td>1945</td>\n",
       "      <td>2946.832021</td>\n",
       "      <td>2296.822660</td>\n",
       "      <td>650.009361</td>\n",
       "      <td>22.057903</td>\n",
       "    </tr>\n",
       "    <tr>\n",
       "      <th>4</th>\n",
       "      <td>1946</td>\n",
       "      <td>1200.854167</td>\n",
       "      <td>1396.221311</td>\n",
       "      <td>-195.367145</td>\n",
       "      <td>-16.269015</td>\n",
       "    </tr>\n",
       "    <tr>\n",
       "      <th>5</th>\n",
       "      <td>1947</td>\n",
       "      <td>822.827500</td>\n",
       "      <td>988.794872</td>\n",
       "      <td>-165.967372</td>\n",
       "      <td>-20.170373</td>\n",
       "    </tr>\n",
       "    <tr>\n",
       "      <th>6</th>\n",
       "      <td>1948</td>\n",
       "      <td>510.153846</td>\n",
       "      <td>2717.358974</td>\n",
       "      <td>-2207.205128</td>\n",
       "      <td>-432.654805</td>\n",
       "    </tr>\n",
       "    <tr>\n",
       "      <th>7</th>\n",
       "      <td>1949</td>\n",
       "      <td>NaN</td>\n",
       "      <td>1382.297872</td>\n",
       "      <td>NaN</td>\n",
       "      <td>NaN</td>\n",
       "    </tr>\n",
       "    <tr>\n",
       "      <th>8</th>\n",
       "      <td>1950</td>\n",
       "      <td>0.000000</td>\n",
       "      <td>2163.755102</td>\n",
       "      <td>-2163.755102</td>\n",
       "      <td>-inf</td>\n",
       "    </tr>\n",
       "    <tr>\n",
       "      <th>9</th>\n",
       "      <td>1951</td>\n",
       "      <td>1396.466667</td>\n",
       "      <td>7685.155556</td>\n",
       "      <td>-6288.688889</td>\n",
       "      <td>-450.328607</td>\n",
       "    </tr>\n",
       "    <tr>\n",
       "      <th>10</th>\n",
       "      <td>1952</td>\n",
       "      <td>5647.583333</td>\n",
       "      <td>7409.603448</td>\n",
       "      <td>-1762.020115</td>\n",
       "      <td>-31.199542</td>\n",
       "    </tr>\n",
       "    <tr>\n",
       "      <th>11</th>\n",
       "      <td>1953</td>\n",
       "      <td>2410.450000</td>\n",
       "      <td>2675.043478</td>\n",
       "      <td>-264.593478</td>\n",
       "      <td>-10.976933</td>\n",
       "    </tr>\n",
       "    <tr>\n",
       "      <th>12</th>\n",
       "      <td>1954</td>\n",
       "      <td>2630.127451</td>\n",
       "      <td>2698.098765</td>\n",
       "      <td>-67.971314</td>\n",
       "      <td>-2.584335</td>\n",
       "    </tr>\n",
       "    <tr>\n",
       "      <th>13</th>\n",
       "      <td>1955</td>\n",
       "      <td>3739.282895</td>\n",
       "      <td>3517.694079</td>\n",
       "      <td>221.588816</td>\n",
       "      <td>5.925971</td>\n",
       "    </tr>\n",
       "    <tr>\n",
       "      <th>14</th>\n",
       "      <td>1956</td>\n",
       "      <td>4298.885246</td>\n",
       "      <td>4055.600000</td>\n",
       "      <td>243.285246</td>\n",
       "      <td>5.659264</td>\n",
       "    </tr>\n",
       "    <tr>\n",
       "      <th>15</th>\n",
       "      <td>1957</td>\n",
       "      <td>4315.977564</td>\n",
       "      <td>3900.243590</td>\n",
       "      <td>415.733974</td>\n",
       "      <td>9.632441</td>\n",
       "    </tr>\n",
       "    <tr>\n",
       "      <th>16</th>\n",
       "      <td>1958</td>\n",
       "      <td>4304.435331</td>\n",
       "      <td>4114.227129</td>\n",
       "      <td>190.208202</td>\n",
       "      <td>4.418889</td>\n",
       "    </tr>\n",
       "    <tr>\n",
       "      <th>17</th>\n",
       "      <td>1959</td>\n",
       "      <td>4619.210145</td>\n",
       "      <td>4397.949275</td>\n",
       "      <td>221.260870</td>\n",
       "      <td>4.790015</td>\n",
       "    </tr>\n",
       "    <tr>\n",
       "      <th>18</th>\n",
       "      <td>1960</td>\n",
       "      <td>3586.536424</td>\n",
       "      <td>3369.814570</td>\n",
       "      <td>216.721854</td>\n",
       "      <td>6.042650</td>\n",
       "    </tr>\n",
       "    <tr>\n",
       "      <th>19</th>\n",
       "      <td>1961</td>\n",
       "      <td>3145.990033</td>\n",
       "      <td>2928.182724</td>\n",
       "      <td>217.807309</td>\n",
       "      <td>6.923331</td>\n",
       "    </tr>\n",
       "    <tr>\n",
       "      <th>20</th>\n",
       "      <td>1962</td>\n",
       "      <td>2065.800633</td>\n",
       "      <td>1820.284810</td>\n",
       "      <td>245.515823</td>\n",
       "      <td>11.884778</td>\n",
       "    </tr>\n",
       "    <tr>\n",
       "      <th>21</th>\n",
       "      <td>1963</td>\n",
       "      <td>1787.251323</td>\n",
       "      <td>1453.269841</td>\n",
       "      <td>333.981481</td>\n",
       "      <td>18.686878</td>\n",
       "    </tr>\n",
       "    <tr>\n",
       "      <th>22</th>\n",
       "      <td>1964</td>\n",
       "      <td>1700.771505</td>\n",
       "      <td>1361.032258</td>\n",
       "      <td>339.739247</td>\n",
       "      <td>19.975596</td>\n",
       "    </tr>\n",
       "    <tr>\n",
       "      <th>23</th>\n",
       "      <td>1965</td>\n",
       "      <td>306.853261</td>\n",
       "      <td>75.986413</td>\n",
       "      <td>230.866848</td>\n",
       "      <td>75.236889</td>\n",
       "    </tr>\n",
       "    <tr>\n",
       "      <th>24</th>\n",
       "      <td>1966</td>\n",
       "      <td>173.798365</td>\n",
       "      <td>60.000000</td>\n",
       "      <td>113.798365</td>\n",
       "      <td>65.477236</td>\n",
       "    </tr>\n",
       "    <tr>\n",
       "      <th>25</th>\n",
       "      <td>1967</td>\n",
       "      <td>124.743034</td>\n",
       "      <td>5850.000000</td>\n",
       "      <td>-5725.256966</td>\n",
       "      <td>-4589.640623</td>\n",
       "    </tr>\n",
       "    <tr>\n",
       "      <th>26</th>\n",
       "      <td>1968</td>\n",
       "      <td>294.873134</td>\n",
       "      <td>NaN</td>\n",
       "      <td>NaN</td>\n",
       "      <td>NaN</td>\n",
       "    </tr>\n",
       "    <tr>\n",
       "      <th>27</th>\n",
       "      <td>1969</td>\n",
       "      <td>162.918605</td>\n",
       "      <td>NaN</td>\n",
       "      <td>NaN</td>\n",
       "      <td>NaN</td>\n",
       "    </tr>\n",
       "    <tr>\n",
       "      <th>28</th>\n",
       "      <td>1970</td>\n",
       "      <td>110.732719</td>\n",
       "      <td>NaN</td>\n",
       "      <td>NaN</td>\n",
       "      <td>NaN</td>\n",
       "    </tr>\n",
       "    <tr>\n",
       "      <th>29</th>\n",
       "      <td>1971</td>\n",
       "      <td>177.049327</td>\n",
       "      <td>NaN</td>\n",
       "      <td>NaN</td>\n",
       "      <td>NaN</td>\n",
       "    </tr>\n",
       "    <tr>\n",
       "      <th>30</th>\n",
       "      <td>1972</td>\n",
       "      <td>262.976190</td>\n",
       "      <td>NaN</td>\n",
       "      <td>NaN</td>\n",
       "      <td>NaN</td>\n",
       "    </tr>\n",
       "    <tr>\n",
       "      <th>31</th>\n",
       "      <td>1973</td>\n",
       "      <td>438.806452</td>\n",
       "      <td>NaN</td>\n",
       "      <td>NaN</td>\n",
       "      <td>NaN</td>\n",
       "    </tr>\n",
       "    <tr>\n",
       "      <th>32</th>\n",
       "      <td>1974</td>\n",
       "      <td>NaN</td>\n",
       "      <td>NaN</td>\n",
       "      <td>NaN</td>\n",
       "      <td>NaN</td>\n",
       "    </tr>\n",
       "    <tr>\n",
       "      <th>33</th>\n",
       "      <td>1975</td>\n",
       "      <td>NaN</td>\n",
       "      <td>NaN</td>\n",
       "      <td>NaN</td>\n",
       "      <td>NaN</td>\n",
       "    </tr>\n",
       "  </tbody>\n",
       "</table>\n",
       "</div>"
      ],
      "text/plain": [
       "    Year  TotalForeign      Mexican   NotBracero  NotBraceroPercent\n",
       "0   1942           NaN          NaN          NaN                NaN\n",
       "1   1943           NaN  2296.663158          NaN                NaN\n",
       "2   1944           NaN  2576.113636          NaN                NaN\n",
       "3   1945   2946.832021  2296.822660   650.009361          22.057903\n",
       "4   1946   1200.854167  1396.221311  -195.367145         -16.269015\n",
       "5   1947    822.827500   988.794872  -165.967372         -20.170373\n",
       "6   1948    510.153846  2717.358974 -2207.205128        -432.654805\n",
       "7   1949           NaN  1382.297872          NaN                NaN\n",
       "8   1950      0.000000  2163.755102 -2163.755102               -inf\n",
       "9   1951   1396.466667  7685.155556 -6288.688889        -450.328607\n",
       "10  1952   5647.583333  7409.603448 -1762.020115         -31.199542\n",
       "11  1953   2410.450000  2675.043478  -264.593478         -10.976933\n",
       "12  1954   2630.127451  2698.098765   -67.971314          -2.584335\n",
       "13  1955   3739.282895  3517.694079   221.588816           5.925971\n",
       "14  1956   4298.885246  4055.600000   243.285246           5.659264\n",
       "15  1957   4315.977564  3900.243590   415.733974           9.632441\n",
       "16  1958   4304.435331  4114.227129   190.208202           4.418889\n",
       "17  1959   4619.210145  4397.949275   221.260870           4.790015\n",
       "18  1960   3586.536424  3369.814570   216.721854           6.042650\n",
       "19  1961   3145.990033  2928.182724   217.807309           6.923331\n",
       "20  1962   2065.800633  1820.284810   245.515823          11.884778\n",
       "21  1963   1787.251323  1453.269841   333.981481          18.686878\n",
       "22  1964   1700.771505  1361.032258   339.739247          19.975596\n",
       "23  1965    306.853261    75.986413   230.866848          75.236889\n",
       "24  1966    173.798365    60.000000   113.798365          65.477236\n",
       "25  1967    124.743034  5850.000000 -5725.256966       -4589.640623\n",
       "26  1968    294.873134          NaN          NaN                NaN\n",
       "27  1969    162.918605          NaN          NaN                NaN\n",
       "28  1970    110.732719          NaN          NaN                NaN\n",
       "29  1971    177.049327          NaN          NaN                NaN\n",
       "30  1972    262.976190          NaN          NaN                NaN\n",
       "31  1973    438.806452          NaN          NaN                NaN\n",
       "32  1974           NaN          NaN          NaN                NaN\n",
       "33  1975           NaN          NaN          NaN                NaN"
      ]
     },
     "execution_count": 296,
     "metadata": {},
     "output_type": "execute_result"
    }
   ],
   "source": [
    "#If using the average strategy\n",
    "\n",
    "foreign_by_year['NotBraceroPercent'] = foreign_by_year['NotBracero']/foreign_by_year['TotalForeign']*100\n",
    "foreign_by_year"
   ]
  },
  {
   "cell_type": "code",
   "execution_count": 297,
   "id": "358ea795-9c27-4103-baa2-dab0722fa288",
   "metadata": {},
   "outputs": [
    {
     "data": {
      "text/html": [
       "<div>\n",
       "<style scoped>\n",
       "    .dataframe tbody tr th:only-of-type {\n",
       "        vertical-align: middle;\n",
       "    }\n",
       "\n",
       "    .dataframe tbody tr th {\n",
       "        vertical-align: top;\n",
       "    }\n",
       "\n",
       "    .dataframe thead th {\n",
       "        text-align: right;\n",
       "    }\n",
       "</style>\n",
       "<table border=\"1\" class=\"dataframe\">\n",
       "  <thead>\n",
       "    <tr style=\"text-align: right;\">\n",
       "      <th></th>\n",
       "      <th>Year</th>\n",
       "      <th>TotalForeign</th>\n",
       "      <th>Mexican</th>\n",
       "      <th>NotBracero</th>\n",
       "      <th>NotBraceroPercent</th>\n",
       "    </tr>\n",
       "  </thead>\n",
       "  <tbody>\n",
       "    <tr>\n",
       "      <th>0</th>\n",
       "      <td>1942</td>\n",
       "      <td>0.0</td>\n",
       "      <td>0.0</td>\n",
       "      <td>0.0</td>\n",
       "      <td>NaN</td>\n",
       "    </tr>\n",
       "    <tr>\n",
       "      <th>1</th>\n",
       "      <td>1943</td>\n",
       "      <td>0.0</td>\n",
       "      <td>218183.0</td>\n",
       "      <td>-218183.0</td>\n",
       "      <td>-inf</td>\n",
       "    </tr>\n",
       "    <tr>\n",
       "      <th>2</th>\n",
       "      <td>1944</td>\n",
       "      <td>0.0</td>\n",
       "      <td>453396.0</td>\n",
       "      <td>-453396.0</td>\n",
       "      <td>-inf</td>\n",
       "    </tr>\n",
       "    <tr>\n",
       "      <th>3</th>\n",
       "      <td>1945</td>\n",
       "      <td>1122743.0</td>\n",
       "      <td>466255.0</td>\n",
       "      <td>656488.0</td>\n",
       "      <td>58.471796</td>\n",
       "    </tr>\n",
       "    <tr>\n",
       "      <th>4</th>\n",
       "      <td>1946</td>\n",
       "      <td>518769.0</td>\n",
       "      <td>340678.0</td>\n",
       "      <td>178091.0</td>\n",
       "      <td>34.329538</td>\n",
       "    </tr>\n",
       "    <tr>\n",
       "      <th>5</th>\n",
       "      <td>1947</td>\n",
       "      <td>329131.0</td>\n",
       "      <td>231378.0</td>\n",
       "      <td>97753.0</td>\n",
       "      <td>29.700332</td>\n",
       "    </tr>\n",
       "    <tr>\n",
       "      <th>6</th>\n",
       "      <td>1948</td>\n",
       "      <td>6632.0</td>\n",
       "      <td>105977.0</td>\n",
       "      <td>-99345.0</td>\n",
       "      <td>-1497.964415</td>\n",
       "    </tr>\n",
       "    <tr>\n",
       "      <th>7</th>\n",
       "      <td>1949</td>\n",
       "      <td>0.0</td>\n",
       "      <td>64968.0</td>\n",
       "      <td>-64968.0</td>\n",
       "      <td>-inf</td>\n",
       "    </tr>\n",
       "    <tr>\n",
       "      <th>8</th>\n",
       "      <td>1950</td>\n",
       "      <td>0.0</td>\n",
       "      <td>106024.0</td>\n",
       "      <td>-106024.0</td>\n",
       "      <td>-inf</td>\n",
       "    </tr>\n",
       "    <tr>\n",
       "      <th>9</th>\n",
       "      <td>1951</td>\n",
       "      <td>20947.0</td>\n",
       "      <td>345832.0</td>\n",
       "      <td>-324885.0</td>\n",
       "      <td>-1550.985821</td>\n",
       "    </tr>\n",
       "    <tr>\n",
       "      <th>10</th>\n",
       "      <td>1952</td>\n",
       "      <td>67771.0</td>\n",
       "      <td>429757.0</td>\n",
       "      <td>-361986.0</td>\n",
       "      <td>-534.131118</td>\n",
       "    </tr>\n",
       "    <tr>\n",
       "      <th>11</th>\n",
       "      <td>1953</td>\n",
       "      <td>337463.0</td>\n",
       "      <td>676786.0</td>\n",
       "      <td>-339323.0</td>\n",
       "      <td>-100.551172</td>\n",
       "    </tr>\n",
       "    <tr>\n",
       "      <th>12</th>\n",
       "      <td>1954</td>\n",
       "      <td>804819.0</td>\n",
       "      <td>874184.0</td>\n",
       "      <td>-69365.0</td>\n",
       "      <td>-8.618708</td>\n",
       "    </tr>\n",
       "    <tr>\n",
       "      <th>13</th>\n",
       "      <td>1955</td>\n",
       "      <td>1136742.0</td>\n",
       "      <td>1069379.0</td>\n",
       "      <td>67363.0</td>\n",
       "      <td>5.925971</td>\n",
       "    </tr>\n",
       "    <tr>\n",
       "      <th>14</th>\n",
       "      <td>1956</td>\n",
       "      <td>1311160.0</td>\n",
       "      <td>1236958.0</td>\n",
       "      <td>74202.0</td>\n",
       "      <td>5.659264</td>\n",
       "    </tr>\n",
       "    <tr>\n",
       "      <th>15</th>\n",
       "      <td>1957</td>\n",
       "      <td>1346585.0</td>\n",
       "      <td>1216876.0</td>\n",
       "      <td>129709.0</td>\n",
       "      <td>9.632441</td>\n",
       "    </tr>\n",
       "    <tr>\n",
       "      <th>16</th>\n",
       "      <td>1958</td>\n",
       "      <td>1364506.0</td>\n",
       "      <td>1304210.0</td>\n",
       "      <td>60296.0</td>\n",
       "      <td>4.418889</td>\n",
       "    </tr>\n",
       "    <tr>\n",
       "      <th>17</th>\n",
       "      <td>1959</td>\n",
       "      <td>1274902.0</td>\n",
       "      <td>1213834.0</td>\n",
       "      <td>61068.0</td>\n",
       "      <td>4.790015</td>\n",
       "    </tr>\n",
       "    <tr>\n",
       "      <th>18</th>\n",
       "      <td>1960</td>\n",
       "      <td>1083134.0</td>\n",
       "      <td>1017684.0</td>\n",
       "      <td>65450.0</td>\n",
       "      <td>6.042650</td>\n",
       "    </tr>\n",
       "    <tr>\n",
       "      <th>19</th>\n",
       "      <td>1961</td>\n",
       "      <td>946943.0</td>\n",
       "      <td>881383.0</td>\n",
       "      <td>65560.0</td>\n",
       "      <td>6.923331</td>\n",
       "    </tr>\n",
       "    <tr>\n",
       "      <th>20</th>\n",
       "      <td>1962</td>\n",
       "      <td>652793.0</td>\n",
       "      <td>575210.0</td>\n",
       "      <td>77583.0</td>\n",
       "      <td>11.884778</td>\n",
       "    </tr>\n",
       "    <tr>\n",
       "      <th>21</th>\n",
       "      <td>1963</td>\n",
       "      <td>675581.0</td>\n",
       "      <td>549336.0</td>\n",
       "      <td>126245.0</td>\n",
       "      <td>18.686878</td>\n",
       "    </tr>\n",
       "    <tr>\n",
       "      <th>22</th>\n",
       "      <td>1964</td>\n",
       "      <td>632687.0</td>\n",
       "      <td>506304.0</td>\n",
       "      <td>126383.0</td>\n",
       "      <td>19.975596</td>\n",
       "    </tr>\n",
       "    <tr>\n",
       "      <th>23</th>\n",
       "      <td>1965</td>\n",
       "      <td>112922.0</td>\n",
       "      <td>27963.0</td>\n",
       "      <td>84959.0</td>\n",
       "      <td>75.236889</td>\n",
       "    </tr>\n",
       "    <tr>\n",
       "      <th>24</th>\n",
       "      <td>1966</td>\n",
       "      <td>63784.0</td>\n",
       "      <td>13860.0</td>\n",
       "      <td>49924.0</td>\n",
       "      <td>78.270413</td>\n",
       "    </tr>\n",
       "    <tr>\n",
       "      <th>25</th>\n",
       "      <td>1967</td>\n",
       "      <td>40292.0</td>\n",
       "      <td>5850.0</td>\n",
       "      <td>34442.0</td>\n",
       "      <td>85.480989</td>\n",
       "    </tr>\n",
       "    <tr>\n",
       "      <th>26</th>\n",
       "      <td>1968</td>\n",
       "      <td>39513.0</td>\n",
       "      <td>0.0</td>\n",
       "      <td>39513.0</td>\n",
       "      <td>100.000000</td>\n",
       "    </tr>\n",
       "    <tr>\n",
       "      <th>27</th>\n",
       "      <td>1969</td>\n",
       "      <td>42033.0</td>\n",
       "      <td>0.0</td>\n",
       "      <td>42033.0</td>\n",
       "      <td>100.000000</td>\n",
       "    </tr>\n",
       "    <tr>\n",
       "      <th>28</th>\n",
       "      <td>1970</td>\n",
       "      <td>24029.0</td>\n",
       "      <td>0.0</td>\n",
       "      <td>24029.0</td>\n",
       "      <td>100.000000</td>\n",
       "    </tr>\n",
       "    <tr>\n",
       "      <th>29</th>\n",
       "      <td>1971</td>\n",
       "      <td>39482.0</td>\n",
       "      <td>0.0</td>\n",
       "      <td>39482.0</td>\n",
       "      <td>100.000000</td>\n",
       "    </tr>\n",
       "    <tr>\n",
       "      <th>30</th>\n",
       "      <td>1972</td>\n",
       "      <td>44180.0</td>\n",
       "      <td>0.0</td>\n",
       "      <td>44180.0</td>\n",
       "      <td>100.000000</td>\n",
       "    </tr>\n",
       "    <tr>\n",
       "      <th>31</th>\n",
       "      <td>1973</td>\n",
       "      <td>27206.0</td>\n",
       "      <td>0.0</td>\n",
       "      <td>27206.0</td>\n",
       "      <td>100.000000</td>\n",
       "    </tr>\n",
       "    <tr>\n",
       "      <th>32</th>\n",
       "      <td>1974</td>\n",
       "      <td>0.0</td>\n",
       "      <td>0.0</td>\n",
       "      <td>0.0</td>\n",
       "      <td>NaN</td>\n",
       "    </tr>\n",
       "    <tr>\n",
       "      <th>33</th>\n",
       "      <td>1975</td>\n",
       "      <td>0.0</td>\n",
       "      <td>0.0</td>\n",
       "      <td>0.0</td>\n",
       "      <td>NaN</td>\n",
       "    </tr>\n",
       "  </tbody>\n",
       "</table>\n",
       "</div>"
      ],
      "text/plain": [
       "    Year  TotalForeign    Mexican  NotBracero  NotBraceroPercent\n",
       "0   1942           0.0        0.0         0.0                NaN\n",
       "1   1943           0.0   218183.0   -218183.0               -inf\n",
       "2   1944           0.0   453396.0   -453396.0               -inf\n",
       "3   1945     1122743.0   466255.0    656488.0          58.471796\n",
       "4   1946      518769.0   340678.0    178091.0          34.329538\n",
       "5   1947      329131.0   231378.0     97753.0          29.700332\n",
       "6   1948        6632.0   105977.0    -99345.0       -1497.964415\n",
       "7   1949           0.0    64968.0    -64968.0               -inf\n",
       "8   1950           0.0   106024.0   -106024.0               -inf\n",
       "9   1951       20947.0   345832.0   -324885.0       -1550.985821\n",
       "10  1952       67771.0   429757.0   -361986.0        -534.131118\n",
       "11  1953      337463.0   676786.0   -339323.0        -100.551172\n",
       "12  1954      804819.0   874184.0    -69365.0          -8.618708\n",
       "13  1955     1136742.0  1069379.0     67363.0           5.925971\n",
       "14  1956     1311160.0  1236958.0     74202.0           5.659264\n",
       "15  1957     1346585.0  1216876.0    129709.0           9.632441\n",
       "16  1958     1364506.0  1304210.0     60296.0           4.418889\n",
       "17  1959     1274902.0  1213834.0     61068.0           4.790015\n",
       "18  1960     1083134.0  1017684.0     65450.0           6.042650\n",
       "19  1961      946943.0   881383.0     65560.0           6.923331\n",
       "20  1962      652793.0   575210.0     77583.0          11.884778\n",
       "21  1963      675581.0   549336.0    126245.0          18.686878\n",
       "22  1964      632687.0   506304.0    126383.0          19.975596\n",
       "23  1965      112922.0    27963.0     84959.0          75.236889\n",
       "24  1966       63784.0    13860.0     49924.0          78.270413\n",
       "25  1967       40292.0     5850.0     34442.0          85.480989\n",
       "26  1968       39513.0        0.0     39513.0         100.000000\n",
       "27  1969       42033.0        0.0     42033.0         100.000000\n",
       "28  1970       24029.0        0.0     24029.0         100.000000\n",
       "29  1971       39482.0        0.0     39482.0         100.000000\n",
       "30  1972       44180.0        0.0     44180.0         100.000000\n",
       "31  1973       27206.0        0.0     27206.0         100.000000\n",
       "32  1974           0.0        0.0         0.0                NaN\n",
       "33  1975           0.0        0.0         0.0                NaN"
      ]
     },
     "execution_count": 297,
     "metadata": {},
     "output_type": "execute_result"
    }
   ],
   "source": [
    "#If using the sum strategy\n",
    "\n",
    "foreign_by_year2['NotBraceroPercent'] = foreign_by_year2['NotBracero']/foreign_by_year2['TotalForeign']*100\n",
    "foreign_by_year2"
   ]
  },
  {
   "cell_type": "markdown",
   "id": "8afdcb36-e795-4c6c-be06-51d64a6a70cf",
   "metadata": {},
   "source": [
    "**3. Create a graph that shows the changes in the number of foreign workers over time.**\n",
    "\n",
    "*NOTE: This should hopefully be a quick step because you can just adjust your code from question 3 in the previous section!!*"
   ]
  },
  {
   "cell_type": "code",
   "execution_count": 299,
   "id": "8acc6f1c-747e-4bc1-a0b1-d78c0d64185b",
   "metadata": {},
   "outputs": [
    {
     "data": {
      "application/vnd.plotly.v1+json": {
       "config": {
        "plotlyServerURL": "https://plot.ly"
       },
       "data": [
        {
         "alignmentgroup": "True",
         "hovertemplate": "State=AL<br>Year=%{x}<br>Number of Foreign Workers=%{y}<extra></extra>",
         "legendgroup": "AL",
         "marker": {
          "color": "#636efa",
          "pattern": {
           "shape": ""
          }
         },
         "name": "AL",
         "offsetgroup": "AL",
         "orientation": "v",
         "showlegend": true,
         "textposition": "auto",
         "type": "bar",
         "x": [
          1945,
          1946
         ],
         "xaxis": "x",
         "y": [
          1063.4285714285713,
          350.3333333333333
         ],
         "yaxis": "y"
        },
        {
         "alignmentgroup": "True",
         "hovertemplate": "State=AR<br>Year=%{x}<br>Number of Foreign Workers=%{y}<extra></extra>",
         "legendgroup": "AR",
         "marker": {
          "color": "#EF553B",
          "pattern": {
           "shape": ""
          }
         },
         "name": "AR",
         "offsetgroup": "AR",
         "orientation": "v",
         "showlegend": true,
         "textposition": "auto",
         "type": "bar",
         "x": [
          1945,
          1952,
          1953,
          1954,
          1955,
          1956,
          1957,
          1958,
          1959,
          1960,
          1961,
          1962,
          1963,
          1964
         ],
         "xaxis": "x",
         "y": [
          8075.625,
          8204.375,
          7192,
          6149,
          7936.428571428572,
          10797.5,
          8229,
          4834.142857142857,
          13682.333333333334,
          11003.57142857143,
          7742.428571428572,
          3330,
          2755.6,
          1508.7142857142858
         ],
         "yaxis": "y"
        },
        {
         "alignmentgroup": "True",
         "hovertemplate": "State=AZ<br>Year=%{x}<br>Number of Foreign Workers=%{y}<extra></extra>",
         "legendgroup": "AZ",
         "marker": {
          "color": "#00cc96",
          "pattern": {
           "shape": ""
          }
         },
         "name": "AZ",
         "offsetgroup": "AZ",
         "orientation": "v",
         "showlegend": true,
         "textposition": "auto",
         "type": "bar",
         "x": [
          1945,
          1946,
          1947,
          1953,
          1954,
          1955,
          1956,
          1957,
          1958,
          1959,
          1960,
          1961,
          1962,
          1963,
          1964
         ],
         "xaxis": "x",
         "y": [
          4701.125,
          1281.4166666666667,
          900.5,
          8136,
          7644,
          7055.125,
          9256.375,
          8849.75,
          11655.375,
          10465.142857142857,
          9118.285714285714,
          7294.857142857143,
          4938.5,
          4296,
          3729.6666666666665
         ],
         "yaxis": "y"
        },
        {
         "alignmentgroup": "True",
         "hovertemplate": "State=CA<br>Year=%{x}<br>Number of Foreign Workers=%{y}<extra></extra>",
         "legendgroup": "CA",
         "marker": {
          "color": "#ab63fa",
          "pattern": {
           "shape": ""
          }
         },
         "name": "CA",
         "offsetgroup": "CA",
         "orientation": "v",
         "showlegend": true,
         "textposition": "auto",
         "type": "bar",
         "x": [
          1945,
          1946,
          1947,
          1953,
          1954,
          1955,
          1956,
          1957,
          1958,
          1959,
          1960,
          1961,
          1962,
          1963,
          1964,
          1965,
          1966,
          1967
         ],
         "xaxis": "x",
         "y": [
          35777.75,
          16745.333333333332,
          11412.833333333334,
          28866.666666666668,
          36232.857142857145,
          48325,
          59885,
          63010,
          56875,
          54318.57142857143,
          52414.28571428572,
          44828.57142857143,
          41162.5,
          27983.333333333332,
          28061.666666666668,
          3386.9,
          1231.5,
          5850
         ],
         "yaxis": "y"
        },
        {
         "alignmentgroup": "True",
         "hovertemplate": "State=CO<br>Year=%{x}<br>Number of Foreign Workers=%{y}<extra></extra>",
         "legendgroup": "CO",
         "marker": {
          "color": "#FFA15A",
          "pattern": {
           "shape": ""
          }
         },
         "name": "CO",
         "offsetgroup": "CO",
         "orientation": "v",
         "showlegend": true,
         "textposition": "auto",
         "type": "bar",
         "x": [
          1945,
          1946,
          1947,
          1953,
          1954,
          1955,
          1956,
          1957,
          1958,
          1959,
          1960,
          1961,
          1962,
          1963,
          1964
         ],
         "xaxis": "x",
         "y": [
          5916.375,
          809.75,
          518,
          341,
          659.2,
          974.8,
          1783.8333333333333,
          1924.2857142857142,
          1761.857142857143,
          2166.6666666666665,
          2231.8571428571427,
          3032.6666666666665,
          3191.6666666666665,
          2811.4285714285716,
          2624.5714285714284
         ],
         "yaxis": "y"
        },
        {
         "alignmentgroup": "True",
         "hovertemplate": "State=CT<br>Year=%{x}<br>Number of Foreign Workers=%{y}<extra></extra>",
         "legendgroup": "CT",
         "marker": {
          "color": "#19d3f3",
          "pattern": {
           "shape": ""
          }
         },
         "name": "CT",
         "offsetgroup": "CT",
         "orientation": "v",
         "showlegend": true,
         "textposition": "auto",
         "type": "bar",
         "x": [
          1945,
          1946,
          1947,
          1953,
          1954,
          1955,
          1956,
          1957,
          1958,
          1959,
          1960,
          1961,
          1962,
          1963,
          1964,
          1965,
          1966,
          1967,
          1968,
          1969,
          1970,
          1971,
          1972
         ],
         "xaxis": "x",
         "y": [
          2032.875,
          1434.75,
          1522.5,
          1850,
          1408.5714285714287,
          1161.25,
          1303.125,
          1271.5,
          857.5,
          967.1428571428571,
          1072.857142857143,
          1088.5714285714287,
          1037.5,
          882.5,
          988.3333333333334,
          492,
          50,
          90,
          64,
          89.5,
          100,
          60,
          55
         ],
         "yaxis": "y"
        },
        {
         "alignmentgroup": "True",
         "hovertemplate": "State=DE<br>Year=%{x}<br>Number of Foreign Workers=%{y}<extra></extra>",
         "legendgroup": "DE",
         "marker": {
          "color": "#FF6692",
          "pattern": {
           "shape": ""
          }
         },
         "name": "DE",
         "offsetgroup": "DE",
         "orientation": "v",
         "showlegend": true,
         "textposition": "auto",
         "type": "bar",
         "x": [
          1945,
          1946,
          1947,
          1954,
          1957
         ],
         "xaxis": "x",
         "y": [
          1049.5,
          300.25,
          134.41666666666666,
          86,
          115
         ],
         "yaxis": "y"
        },
        {
         "alignmentgroup": "True",
         "hovertemplate": "State=FL<br>Year=%{x}<br>Number of Foreign Workers=%{y}<extra></extra>",
         "legendgroup": "FL",
         "marker": {
          "color": "#B6E880",
          "pattern": {
           "shape": ""
          }
         },
         "name": "FL",
         "offsetgroup": "FL",
         "orientation": "v",
         "showlegend": true,
         "textposition": "auto",
         "type": "bar",
         "x": [
          1945,
          1946,
          1947,
          1953,
          1954,
          1955,
          1956,
          1957,
          1958,
          1959,
          1960,
          1961,
          1962,
          1963,
          1964,
          1965,
          1966,
          1967,
          1968,
          1969,
          1970,
          1971,
          1972,
          1973
         ],
         "xaxis": "x",
         "y": [
          5756.75,
          5503.25,
          3114.6363636363635,
          3315.3333333333335,
          3184.4285714285716,
          3935.5,
          4413.125,
          5348.125,
          3664.5,
          4265.857142857143,
          3886.285714285714,
          4653.142857142857,
          5678.5,
          7205,
          6636.833333333333,
          6517.7,
          4380,
          3074.3333333333335,
          6083.333333333333,
          3885.5555555555557,
          2881.5,
          3993.5,
          5459.428571428572,
          6801.5
         ],
         "yaxis": "y"
        },
        {
         "alignmentgroup": "True",
         "hovertemplate": "State=GA<br>Year=%{x}<br>Number of Foreign Workers=%{y}<extra></extra>",
         "legendgroup": "GA",
         "marker": {
          "color": "#FF97FF",
          "pattern": {
           "shape": ""
          }
         },
         "name": "GA",
         "offsetgroup": "GA",
         "orientation": "v",
         "showlegend": true,
         "textposition": "auto",
         "type": "bar",
         "x": [
          1945,
          1946,
          1947,
          1953,
          1954,
          1955,
          1956,
          1957,
          1958,
          1959,
          1960,
          1961
         ],
         "xaxis": "x",
         "y": [
          2243.25,
          361.3333333333333,
          142.66666666666666,
          1152,
          212.5,
          242.33333333333334,
          646.6666666666666,
          888,
          439,
          821,
          644.5,
          763.5
         ],
         "yaxis": "y"
        },
        {
         "alignmentgroup": "True",
         "hovertemplate": "State=IA<br>Year=%{x}<br>Number of Foreign Workers=%{y}<extra></extra>",
         "legendgroup": "IA",
         "marker": {
          "color": "#FECB52",
          "pattern": {
           "shape": ""
          }
         },
         "name": "IA",
         "offsetgroup": "IA",
         "orientation": "v",
         "showlegend": true,
         "textposition": "auto",
         "type": "bar",
         "x": [
          1945,
          1946,
          1947,
          1953,
          1954,
          1955,
          1956,
          1957,
          1958,
          1959,
          1960,
          1961,
          1962
         ],
         "xaxis": "x",
         "y": [
          1079.375,
          451.75,
          172.57142857142858,
          113.5,
          256,
          163.33333333333334,
          63.666666666666664,
          32,
          44,
          48.333333333333336,
          70.66666666666667,
          193,
          98.5
         ],
         "yaxis": "y"
        },
        {
         "alignmentgroup": "True",
         "hovertemplate": "State=ID<br>Year=%{x}<br>Number of Foreign Workers=%{y}<extra></extra>",
         "legendgroup": "ID",
         "marker": {
          "color": "#636efa",
          "pattern": {
           "shape": ""
          }
         },
         "name": "ID",
         "offsetgroup": "ID",
         "orientation": "v",
         "showlegend": true,
         "textposition": "auto",
         "type": "bar",
         "x": [
          1945,
          1946,
          1947,
          1953,
          1954,
          1955,
          1956,
          1957
         ],
         "xaxis": "x",
         "y": [
          5128,
          1531.3636363636363,
          1957.111111111111,
          144,
          159.4,
          179.2,
          177.2,
          127.2
         ],
         "yaxis": "y"
        },
        {
         "alignmentgroup": "True",
         "hovertemplate": "State=IL<br>Year=%{x}<br>Number of Foreign Workers=%{y}<extra></extra>",
         "legendgroup": "IL",
         "marker": {
          "color": "#EF553B",
          "pattern": {
           "shape": ""
          }
         },
         "name": "IL",
         "offsetgroup": "IL",
         "orientation": "v",
         "showlegend": true,
         "textposition": "auto",
         "type": "bar",
         "x": [
          1945,
          1946,
          1947,
          1953,
          1954,
          1955,
          1956,
          1957,
          1958,
          1959,
          1960,
          1961,
          1962,
          1963
         ],
         "xaxis": "x",
         "y": [
          1750.375,
          648,
          363.5,
          394,
          276.42857142857144,
          348.2,
          295.4,
          213.8,
          172.25,
          223.5,
          244,
          47.5,
          113,
          35
         ],
         "yaxis": "y"
        },
        {
         "alignmentgroup": "True",
         "hovertemplate": "State=IN<br>Year=%{x}<br>Number of Foreign Workers=%{y}<extra></extra>",
         "legendgroup": "IN",
         "marker": {
          "color": "#00cc96",
          "pattern": {
           "shape": ""
          }
         },
         "name": "IN",
         "offsetgroup": "IN",
         "orientation": "v",
         "showlegend": true,
         "textposition": "auto",
         "type": "bar",
         "x": [
          1945,
          1946,
          1947,
          1953,
          1954,
          1955,
          1956,
          1957,
          1958,
          1959,
          1960,
          1961,
          1962,
          1963,
          1964
         ],
         "xaxis": "x",
         "y": [
          942.125,
          153.83333333333334,
          123.44444444444444,
          543.5,
          212.2,
          249.4,
          395.85714285714283,
          553.3333333333334,
          418.8,
          580.4,
          446.3333333333333,
          439,
          312.25,
          185.5,
          101
         ],
         "yaxis": "y"
        },
        {
         "alignmentgroup": "True",
         "hovertemplate": "State=KS<br>Year=%{x}<br>Number of Foreign Workers=%{y}<extra></extra>",
         "legendgroup": "KS",
         "marker": {
          "color": "#ab63fa",
          "pattern": {
           "shape": ""
          }
         },
         "name": "KS",
         "offsetgroup": "KS",
         "orientation": "v",
         "showlegend": true,
         "textposition": "auto",
         "type": "bar",
         "x": [
          1945,
          1946,
          1947,
          1956,
          1957,
          1958,
          1959,
          1960,
          1961,
          1962,
          1963,
          1964
         ],
         "xaxis": "x",
         "y": [
          1812,
          183.58333333333334,
          188.55555555555554,
          28.666666666666668,
          95,
          39,
          12.6,
          14.166666666666666,
          34,
          78.5,
          80.5,
          143.33333333333334
         ],
         "yaxis": "y"
        },
        {
         "alignmentgroup": "True",
         "hovertemplate": "State=KY<br>Year=%{x}<br>Number of Foreign Workers=%{y}<extra></extra>",
         "legendgroup": "KY",
         "marker": {
          "color": "#FFA15A",
          "pattern": {
           "shape": ""
          }
         },
         "name": "KY",
         "offsetgroup": "KY",
         "orientation": "v",
         "showlegend": true,
         "textposition": "auto",
         "type": "bar",
         "x": [
          1945,
          1953,
          1956,
          1957,
          1958,
          1959,
          1960,
          1961
         ],
         "xaxis": "x",
         "y": [
          935.5714285714286,
          73.5,
          193.5,
          142.4,
          96,
          162.6,
          94.25,
          57
         ],
         "yaxis": "y"
        },
        {
         "alignmentgroup": "True",
         "hovertemplate": "State=LA<br>Year=%{x}<br>Number of Foreign Workers=%{y}<extra></extra>",
         "legendgroup": "LA",
         "marker": {
          "color": "#19d3f3",
          "pattern": {
           "shape": ""
          }
         },
         "name": "LA",
         "offsetgroup": "LA",
         "orientation": "v",
         "showlegend": true,
         "textposition": "auto",
         "type": "bar",
         "x": [
          1945,
          1946,
          1947,
          1952,
          1953,
          1964,
          1965
         ],
         "xaxis": "x",
         "y": [
          5799.875,
          682.75,
          204,
          534,
          177.33333333333334,
          202.66666666666666,
          138
         ],
         "yaxis": "y"
        },
        {
         "alignmentgroup": "True",
         "hovertemplate": "State=MA<br>Year=%{x}<br>Number of Foreign Workers=%{y}<extra></extra>",
         "legendgroup": "MA",
         "marker": {
          "color": "#FF6692",
          "pattern": {
           "shape": ""
          }
         },
         "name": "MA",
         "offsetgroup": "MA",
         "orientation": "v",
         "showlegend": true,
         "textposition": "auto",
         "type": "bar",
         "x": [
          1945,
          1946,
          1947,
          1953,
          1954,
          1955,
          1956,
          1957,
          1958,
          1959,
          1960,
          1961,
          1962,
          1963,
          1964,
          1965,
          1966,
          1967,
          1968,
          1969,
          1970,
          1971,
          1972
         ],
         "xaxis": "x",
         "y": [
          683.875,
          201.25,
          98.54545454545455,
          454,
          239,
          242.5,
          231.42857142857142,
          511.57142857142856,
          147.125,
          203.28571428571428,
          319.7142857142857,
          316.42857142857144,
          340.125,
          241.83333333333334,
          342.75,
          157.6,
          134.5,
          136,
          185,
          308.5,
          358,
          401.5,
          292
         ],
         "yaxis": "y"
        },
        {
         "alignmentgroup": "True",
         "hovertemplate": "State=MD<br>Year=%{x}<br>Number of Foreign Workers=%{y}<extra></extra>",
         "legendgroup": "MD",
         "marker": {
          "color": "#B6E880",
          "pattern": {
           "shape": ""
          }
         },
         "name": "MD",
         "offsetgroup": "MD",
         "orientation": "v",
         "showlegend": true,
         "textposition": "auto",
         "type": "bar",
         "x": [
          1945,
          1946,
          1947,
          1953,
          1954,
          1955,
          1956,
          1957,
          1958,
          1959,
          1960,
          1961,
          1962
         ],
         "xaxis": "x",
         "y": [
          3002.25,
          736.5,
          342.75,
          85.33333333333333,
          86.91666666666667,
          121.66666666666667,
          81.66666666666667,
          74.16666666666667,
          32.2,
          38.142857142857146,
          19.333333333333332,
          18.5,
          11
         ],
         "yaxis": "y"
        },
        {
         "alignmentgroup": "True",
         "hovertemplate": "State=ME<br>Year=%{x}<br>Number of Foreign Workers=%{y}<extra></extra>",
         "legendgroup": "ME",
         "marker": {
          "color": "#FF97FF",
          "pattern": {
           "shape": ""
          }
         },
         "name": "ME",
         "offsetgroup": "ME",
         "orientation": "v",
         "showlegend": true,
         "textposition": "auto",
         "type": "bar",
         "x": [
          1945,
          1946,
          1947,
          1953,
          1954,
          1955,
          1956,
          1957,
          1958,
          1959,
          1960,
          1961,
          1962,
          1963,
          1964,
          1965,
          1966,
          1967,
          1968,
          1969,
          1970,
          1971,
          1972
         ],
         "xaxis": "x",
         "y": [
          1165.125,
          446.4166666666667,
          610.6666666666666,
          1052,
          2534.3333333333335,
          1278,
          821.6666666666666,
          1584.6,
          739.1666666666666,
          560.2,
          1469,
          1066.8333333333333,
          868,
          1011,
          1384.1666666666667,
          2661.5,
          1503,
          1617.5,
          744,
          653,
          1147,
          581,
          425
         ],
         "yaxis": "y"
        },
        {
         "alignmentgroup": "True",
         "hovertemplate": "State=MI<br>Year=%{x}<br>Number of Foreign Workers=%{y}<extra></extra>",
         "legendgroup": "MI",
         "marker": {
          "color": "#FECB52",
          "pattern": {
           "shape": ""
          }
         },
         "name": "MI",
         "offsetgroup": "MI",
         "orientation": "v",
         "showlegend": true,
         "textposition": "auto",
         "type": "bar",
         "x": [
          1945,
          1946,
          1947,
          1948,
          1951,
          1953,
          1954,
          1955,
          1956,
          1957,
          1958,
          1959,
          1960,
          1961,
          1962,
          1963,
          1964
         ],
         "xaxis": "x",
         "y": [
          4146.875,
          1455.75,
          225.1818181818182,
          947.4285714285714,
          1103.857142857143,
          1279,
          1436.0833333333333,
          2225.875,
          3215.625,
          3519.5,
          2842.75,
          2988.5714285714284,
          3137.714285714286,
          3293.714285714286,
          2306.1428571428573,
          3225.3333333333335,
          2616.5
         ],
         "yaxis": "y"
        },
        {
         "alignmentgroup": "True",
         "hovertemplate": "State=MN<br>Year=%{x}<br>Number of Foreign Workers=%{y}<extra></extra>",
         "legendgroup": "MN",
         "marker": {
          "color": "#636efa",
          "pattern": {
           "shape": ""
          }
         },
         "name": "MN",
         "offsetgroup": "MN",
         "orientation": "v",
         "showlegend": true,
         "textposition": "auto",
         "type": "bar",
         "x": [
          1945,
          1946,
          1947,
          1953,
          1954,
          1955,
          1956,
          1957,
          1958,
          1959,
          1960,
          1961,
          1962,
          1963,
          1964
         ],
         "xaxis": "x",
         "y": [
          1460.875,
          766.5833333333334,
          876.125,
          786,
          587,
          255.66666666666666,
          305,
          484.6666666666667,
          163.33333333333334,
          89.16666666666667,
          71.6,
          115.66666666666667,
          73,
          57.25,
          14
         ],
         "yaxis": "y"
        },
        {
         "alignmentgroup": "True",
         "hovertemplate": "State=MO<br>Year=%{x}<br>Number of Foreign Workers=%{y}<extra></extra>",
         "legendgroup": "MO",
         "marker": {
          "color": "#EF553B",
          "pattern": {
           "shape": ""
          }
         },
         "name": "MO",
         "offsetgroup": "MO",
         "orientation": "v",
         "showlegend": true,
         "textposition": "auto",
         "type": "bar",
         "x": [
          1945,
          1946,
          1947,
          1953,
          1954,
          1955,
          1956,
          1957,
          1958,
          1959,
          1960
         ],
         "xaxis": "x",
         "y": [
          1383.125,
          34.166666666666664,
          16.181818181818183,
          2600,
          1162.6666666666667,
          906,
          938.3333333333334,
          227.5,
          685,
          497,
          194.75
         ],
         "yaxis": "y"
        },
        {
         "alignmentgroup": "True",
         "hovertemplate": "State=MS<br>Year=%{x}<br>Number of Foreign Workers=%{y}<extra></extra>",
         "legendgroup": "MS",
         "marker": {
          "color": "#00cc96",
          "pattern": {
           "shape": ""
          }
         },
         "name": "MS",
         "offsetgroup": "MS",
         "orientation": "v",
         "showlegend": true,
         "textposition": "auto",
         "type": "bar",
         "x": [
          1945
         ],
         "xaxis": "x",
         "y": [
          2867.375
         ],
         "yaxis": "y"
        },
        {
         "alignmentgroup": "True",
         "hovertemplate": "State=MT<br>Year=%{x}<br>Number of Foreign Workers=%{y}<extra></extra>",
         "legendgroup": "MT",
         "marker": {
          "color": "#ab63fa",
          "pattern": {
           "shape": ""
          }
         },
         "name": "MT",
         "offsetgroup": "MT",
         "orientation": "v",
         "showlegend": true,
         "textposition": "auto",
         "type": "bar",
         "x": [
          1945,
          1946,
          1947,
          1954,
          1955,
          1956,
          1957,
          1958,
          1959,
          1960,
          1961,
          1962,
          1963,
          1964
         ],
         "xaxis": "x",
         "y": [
          4357.25,
          1215.0833333333333,
          986.7,
          877.6666666666666,
          627.6666666666666,
          1507,
          2082.5,
          831,
          1217,
          1002,
          798.6666666666666,
          1010.6666666666666,
          981.6666666666666,
          983.5
         ],
         "yaxis": "y"
        },
        {
         "alignmentgroup": "True",
         "hovertemplate": "State=NC<br>Year=%{x}<br>Number of Foreign Workers=%{y}<extra></extra>",
         "legendgroup": "NC",
         "marker": {
          "color": "#FFA15A",
          "pattern": {
           "shape": ""
          }
         },
         "name": "NC",
         "offsetgroup": "NC",
         "orientation": "v",
         "showlegend": true,
         "textposition": "auto",
         "type": "bar",
         "x": [
          1945,
          1946,
          1947
         ],
         "xaxis": "x",
         "y": [
          1680.625,
          512.8571428571429,
          235.9
         ],
         "yaxis": "y"
        },
        {
         "alignmentgroup": "True",
         "hovertemplate": "State=ND<br>Year=%{x}<br>Number of Foreign Workers=%{y}<extra></extra>",
         "legendgroup": "ND",
         "marker": {
          "color": "#19d3f3",
          "pattern": {
           "shape": ""
          }
         },
         "name": "ND",
         "offsetgroup": "ND",
         "orientation": "v",
         "showlegend": true,
         "textposition": "auto",
         "type": "bar",
         "x": [
          1945,
          1946,
          1947,
          1957,
          1958,
          1959,
          1960,
          1961
         ],
         "xaxis": "x",
         "y": [
          1038.625,
          242.25,
          58.22222222222222,
          170,
          249,
          36,
          54,
          108
         ],
         "yaxis": "y"
        },
        {
         "alignmentgroup": "True",
         "hovertemplate": "State=NE<br>Year=%{x}<br>Number of Foreign Workers=%{y}<extra></extra>",
         "legendgroup": "NE",
         "marker": {
          "color": "#FF6692",
          "pattern": {
           "shape": ""
          }
         },
         "name": "NE",
         "offsetgroup": "NE",
         "orientation": "v",
         "showlegend": true,
         "textposition": "auto",
         "type": "bar",
         "x": [
          1945,
          1946,
          1947,
          1954,
          1955,
          1956,
          1957,
          1958,
          1959,
          1960,
          1961,
          1962,
          1963,
          1964
         ],
         "xaxis": "x",
         "y": [
          2664.875,
          663.8333333333334,
          505.90909090909093,
          209.5,
          123.85714285714286,
          450.8,
          896.6666666666666,
          1201.5,
          1072,
          811.3333333333334,
          765.3333333333334,
          702,
          681.75,
          546.3333333333334
         ],
         "yaxis": "y"
        },
        {
         "alignmentgroup": "True",
         "hovertemplate": "State=NH<br>Year=%{x}<br>Number of Foreign Workers=%{y}<extra></extra>",
         "legendgroup": "NH",
         "marker": {
          "color": "#B6E880",
          "pattern": {
           "shape": ""
          }
         },
         "name": "NH",
         "offsetgroup": "NH",
         "orientation": "v",
         "showlegend": true,
         "textposition": "auto",
         "type": "bar",
         "x": [
          1945,
          1946,
          1947,
          1953,
          1956,
          1957,
          1958,
          1959,
          1960,
          1961,
          1962,
          1963,
          1964,
          1965,
          1966,
          1967,
          1968,
          1969,
          1970,
          1971,
          1972
         ],
         "xaxis": "x",
         "y": [
          124.625,
          97.91666666666667,
          45.5,
          67,
          58,
          57.25,
          50.25,
          62,
          55.2,
          57.75,
          105.2,
          131,
          76.5,
          77,
          125.5,
          150,
          213,
          92,
          218,
          274,
          311
         ],
         "yaxis": "y"
        },
        {
         "alignmentgroup": "True",
         "hovertemplate": "State=NJ<br>Year=%{x}<br>Number of Foreign Workers=%{y}<extra></extra>",
         "legendgroup": "NJ",
         "marker": {
          "color": "#FF97FF",
          "pattern": {
           "shape": ""
          }
         },
         "name": "NJ",
         "offsetgroup": "NJ",
         "orientation": "v",
         "showlegend": true,
         "textposition": "auto",
         "type": "bar",
         "x": [
          1945,
          1946,
          1947,
          1953,
          1954,
          1955,
          1956,
          1957,
          1958,
          1959,
          1960,
          1961,
          1962,
          1963,
          1964
         ],
         "xaxis": "x",
         "y": [
          2045.375,
          927.0833333333334,
          475.8333333333333,
          286.3333333333333,
          366.57142857142856,
          315.5,
          583.875,
          696.625,
          161.5,
          305.6666666666667,
          345.6666666666667,
          377.6666666666667,
          362.6666666666667,
          335.6666666666667,
          344.3333333333333
         ],
         "yaxis": "y"
        },
        {
         "alignmentgroup": "True",
         "hovertemplate": "State=NM<br>Year=%{x}<br>Number of Foreign Workers=%{y}<extra></extra>",
         "legendgroup": "NM",
         "marker": {
          "color": "#FECB52",
          "pattern": {
           "shape": ""
          }
         },
         "name": "NM",
         "offsetgroup": "NM",
         "orientation": "v",
         "showlegend": true,
         "textposition": "auto",
         "type": "bar",
         "x": [
          1945,
          1946,
          1953,
          1954,
          1955,
          1956,
          1957,
          1958,
          1959,
          1960,
          1961,
          1962,
          1963,
          1964
         ],
         "xaxis": "x",
         "y": [
          2311.5,
          22.375,
          11933,
          7959.714285714285,
          7462.875,
          7570.75,
          7945,
          9124.625,
          9087.285714285714,
          6082.142857142857,
          4514.142857142857,
          1443.25,
          543.75,
          476
         ],
         "yaxis": "y"
        },
        {
         "alignmentgroup": "True",
         "hovertemplate": "State=NV<br>Year=%{x}<br>Number of Foreign Workers=%{y}<extra></extra>",
         "legendgroup": "NV",
         "marker": {
          "color": "#636efa",
          "pattern": {
           "shape": ""
          }
         },
         "name": "NV",
         "offsetgroup": "NV",
         "orientation": "v",
         "showlegend": true,
         "textposition": "auto",
         "type": "bar",
         "x": [
          1945,
          1946,
          1947,
          1954,
          1955,
          1956,
          1957,
          1958,
          1959,
          1960,
          1961,
          1962,
          1963
         ],
         "xaxis": "x",
         "y": [
          535.75,
          220,
          119.08333333333333,
          60,
          43,
          22.333333333333332,
          31,
          39.57142857142857,
          37.714285714285715,
          60.857142857142854,
          25.142857142857142,
          29,
          29
         ],
         "yaxis": "y"
        },
        {
         "alignmentgroup": "True",
         "hovertemplate": "State=NY<br>Year=%{x}<br>Number of Foreign Workers=%{y}<extra></extra>",
         "legendgroup": "NY",
         "marker": {
          "color": "#EF553B",
          "pattern": {
           "shape": ""
          }
         },
         "name": "NY",
         "offsetgroup": "NY",
         "orientation": "v",
         "showlegend": true,
         "textposition": "auto",
         "type": "bar",
         "x": [
          1945,
          1946,
          1947,
          1953,
          1954,
          1955,
          1956,
          1957,
          1958,
          1959,
          1960,
          1961,
          1962,
          1963,
          1964,
          1965,
          1966,
          1967,
          1968,
          1969,
          1970,
          1971,
          1972
         ],
         "xaxis": "x",
         "y": [
          3395.625,
          1475.5,
          761.75,
          1235,
          474.25,
          454.125,
          491.375,
          609.375,
          222,
          388,
          435.6666666666667,
          286,
          340.6666666666667,
          217,
          288,
          210.66666666666666,
          320,
          651.5,
          403,
          669.6666666666666,
          640.6666666666666,
          774.3333333333334,
          667
         ],
         "yaxis": "y"
        },
        {
         "alignmentgroup": "True",
         "hovertemplate": "State=OH<br>Year=%{x}<br>Number of Foreign Workers=%{y}<extra></extra>",
         "legendgroup": "OH",
         "marker": {
          "color": "#00cc96",
          "pattern": {
           "shape": ""
          }
         },
         "name": "OH",
         "offsetgroup": "OH",
         "orientation": "v",
         "showlegend": true,
         "textposition": "auto",
         "type": "bar",
         "x": [
          1945,
          1946,
          1947,
          1953,
          1954,
          1955,
          1956,
          1957,
          1958,
          1959
         ],
         "xaxis": "x",
         "y": [
          1395.375,
          489.5833333333333,
          261,
          204,
          64,
          46,
          58.8,
          74.33333333333333,
          60,
          30
         ],
         "yaxis": "y"
        },
        {
         "alignmentgroup": "True",
         "hovertemplate": "State=OK<br>Year=%{x}<br>Number of Foreign Workers=%{y}<extra></extra>",
         "legendgroup": "OK",
         "marker": {
          "color": "#ab63fa",
          "pattern": {
           "shape": ""
          }
         },
         "name": "OK",
         "offsetgroup": "OK",
         "orientation": "v",
         "showlegend": true,
         "textposition": "auto",
         "type": "bar",
         "x": [
          1945
         ],
         "xaxis": "x",
         "y": [
          935.5
         ],
         "yaxis": "y"
        },
        {
         "alignmentgroup": "True",
         "hovertemplate": "State=OR<br>Year=%{x}<br>Number of Foreign Workers=%{y}<extra></extra>",
         "legendgroup": "OR",
         "marker": {
          "color": "#FFA15A",
          "pattern": {
           "shape": ""
          }
         },
         "name": "OR",
         "offsetgroup": "OR",
         "orientation": "v",
         "showlegend": true,
         "textposition": "auto",
         "type": "bar",
         "x": [
          1945,
          1946,
          1947,
          1953,
          1955,
          1956,
          1957,
          1958,
          1959,
          1960,
          1961,
          1962,
          1963,
          1964
         ],
         "xaxis": "x",
         "y": [
          2982.25,
          901.8333333333334,
          486,
          216,
          590.5,
          349.6,
          205,
          199,
          359,
          349,
          327,
          234,
          67,
          187
         ],
         "yaxis": "y"
        },
        {
         "alignmentgroup": "True",
         "hovertemplate": "State=PA<br>Year=%{x}<br>Number of Foreign Workers=%{y}<extra></extra>",
         "legendgroup": "PA",
         "marker": {
          "color": "#19d3f3",
          "pattern": {
           "shape": ""
          }
         },
         "name": "PA",
         "offsetgroup": "PA",
         "orientation": "v",
         "showlegend": true,
         "textposition": "auto",
         "type": "bar",
         "x": [
          1945,
          1946,
          1947,
          1953
         ],
         "xaxis": "x",
         "y": [
          1105.125,
          310.6666666666667,
          178.91666666666666,
          72
         ],
         "yaxis": "y"
        },
        {
         "alignmentgroup": "True",
         "hovertemplate": "State=RI<br>Year=%{x}<br>Number of Foreign Workers=%{y}<extra></extra>",
         "legendgroup": "RI",
         "marker": {
          "color": "#FF6692",
          "pattern": {
           "shape": ""
          }
         },
         "name": "RI",
         "offsetgroup": "RI",
         "orientation": "v",
         "showlegend": true,
         "textposition": "auto",
         "type": "bar",
         "x": [
          1945,
          1946,
          1947,
          1963,
          1964,
          1965,
          1966,
          1967,
          1968,
          1969
         ],
         "xaxis": "x",
         "y": [
          14.125,
          6.75,
          3.5454545454545454,
          38.666666666666664,
          37,
          19.666666666666668,
          32,
          34,
          23,
          23
         ],
         "yaxis": "y"
        },
        {
         "alignmentgroup": "True",
         "hovertemplate": "State=SC<br>Year=%{x}<br>Number of Foreign Workers=%{y}<extra></extra>",
         "legendgroup": "SC",
         "marker": {
          "color": "#B6E880",
          "pattern": {
           "shape": ""
          }
         },
         "name": "SC",
         "offsetgroup": "SC",
         "orientation": "v",
         "showlegend": true,
         "textposition": "auto",
         "type": "bar",
         "x": [
          1945
         ],
         "xaxis": "x",
         "y": [
          1121.25
         ],
         "yaxis": "y"
        },
        {
         "alignmentgroup": "True",
         "hovertemplate": "State=SD<br>Year=%{x}<br>Number of Foreign Workers=%{y}<extra></extra>",
         "legendgroup": "SD",
         "marker": {
          "color": "#FF97FF",
          "pattern": {
           "shape": ""
          }
         },
         "name": "SD",
         "offsetgroup": "SD",
         "orientation": "v",
         "showlegend": true,
         "textposition": "auto",
         "type": "bar",
         "x": [
          1945,
          1946,
          1947,
          1954,
          1955,
          1956,
          1957,
          1958,
          1959,
          1960,
          1961,
          1962,
          1963,
          1964
         ],
         "xaxis": "x",
         "y": [
          471.75,
          234.5,
          144.8181818181818,
          209.5,
          111,
          202,
          296,
          167.5,
          216,
          229,
          125.5,
          84,
          49,
          51
         ],
         "yaxis": "y"
        },
        {
         "alignmentgroup": "True",
         "hovertemplate": "State=TN<br>Year=%{x}<br>Number of Foreign Workers=%{y}<extra></extra>",
         "legendgroup": "TN",
         "marker": {
          "color": "#FECB52",
          "pattern": {
           "shape": ""
          }
         },
         "name": "TN",
         "offsetgroup": "TN",
         "orientation": "v",
         "showlegend": true,
         "textposition": "auto",
         "type": "bar",
         "x": [
          1945,
          1946,
          1947,
          1953,
          1954,
          1955,
          1956,
          1957,
          1958,
          1959,
          1960,
          1961,
          1962
         ],
         "xaxis": "x",
         "y": [
          947.75,
          214.5,
          152,
          1014,
          315,
          548.6666666666666,
          376.2,
          453.2,
          269.75,
          503.2,
          478.75,
          331,
          165
         ],
         "yaxis": "y"
        },
        {
         "alignmentgroup": "True",
         "hovertemplate": "State=TX<br>Year=%{x}<br>Number of Foreign Workers=%{y}<extra></extra>",
         "legendgroup": "TX",
         "marker": {
          "color": "#636efa",
          "pattern": {
           "shape": ""
          }
         },
         "name": "TX",
         "offsetgroup": "TX",
         "orientation": "v",
         "showlegend": true,
         "textposition": "auto",
         "type": "bar",
         "x": [
          1945,
          1953,
          1954,
          1955,
          1956,
          1957,
          1958,
          1959,
          1960,
          1961,
          1962,
          1963,
          1964
         ],
         "xaxis": "x",
         "y": [
          3263.5,
          27867,
          42494.71428571428,
          59150,
          62053.875,
          62607.375,
          75889,
          81837.85714285714,
          60572,
          55208.28571428572,
          17223.75,
          8906.75,
          6895
         ],
         "yaxis": "y"
        },
        {
         "alignmentgroup": "True",
         "hovertemplate": "State=UT<br>Year=%{x}<br>Number of Foreign Workers=%{y}<extra></extra>",
         "legendgroup": "UT",
         "marker": {
          "color": "#EF553B",
          "pattern": {
           "shape": ""
          }
         },
         "name": "UT",
         "offsetgroup": "UT",
         "orientation": "v",
         "showlegend": true,
         "textposition": "auto",
         "type": "bar",
         "x": [
          1945,
          1946,
          1947,
          1953,
          1954,
          1955,
          1956,
          1957,
          1958,
          1959,
          1960,
          1961,
          1962,
          1963,
          1964
         ],
         "xaxis": "x",
         "y": [
          1617.125,
          410.3333333333333,
          586.8181818181819,
          293,
          182,
          217.66666666666666,
          305.1666666666667,
          461.3333333333333,
          291.6666666666667,
          335.6,
          259.2857142857143,
          208.33333333333334,
          312,
          291.3333333333333,
          275.5
         ],
         "yaxis": "y"
        },
        {
         "alignmentgroup": "True",
         "hovertemplate": "State=VA<br>Year=%{x}<br>Number of Foreign Workers=%{y}<extra></extra>",
         "legendgroup": "VA",
         "marker": {
          "color": "#00cc96",
          "pattern": {
           "shape": ""
          }
         },
         "name": "VA",
         "offsetgroup": "VA",
         "orientation": "v",
         "showlegend": true,
         "textposition": "auto",
         "type": "bar",
         "x": [
          1945,
          1946,
          1947,
          1953,
          1954,
          1955,
          1956,
          1957,
          1958,
          1959,
          1960,
          1961,
          1962,
          1963,
          1964,
          1965,
          1966,
          1967,
          1968,
          1969,
          1970,
          1971,
          1972
         ],
         "xaxis": "x",
         "y": [
          1861,
          312.4,
          296.6666666666667,
          346,
          402,
          477,
          284.6666666666667,
          448.3333333333333,
          448,
          614.3333333333334,
          593,
          384.3333333333333,
          740,
          826,
          791,
          1029,
          574,
          487,
          494,
          586,
          384.3333333333333,
          435,
          532
         ],
         "yaxis": "y"
        },
        {
         "alignmentgroup": "True",
         "hovertemplate": "State=VT<br>Year=%{x}<br>Number of Foreign Workers=%{y}<extra></extra>",
         "legendgroup": "VT",
         "marker": {
          "color": "#ab63fa",
          "pattern": {
           "shape": ""
          }
         },
         "name": "VT",
         "offsetgroup": "VT",
         "orientation": "v",
         "showlegend": true,
         "textposition": "auto",
         "type": "bar",
         "x": [
          1945,
          1946,
          1947,
          1953,
          1954,
          1955,
          1956,
          1957,
          1958,
          1959,
          1960,
          1961,
          1962,
          1963,
          1964,
          1965,
          1967,
          1968,
          1969,
          1970,
          1971,
          1972
         ],
         "xaxis": "x",
         "y": [
          174.875,
          138.83333333333334,
          61.8,
          150,
          500.42857142857144,
          485.4,
          243.4,
          156,
          50.4,
          16.2,
          45,
          40,
          82.5,
          38,
          81,
          22.5,
          98,
          81,
          212.5,
          155.5,
          178,
          162
         ],
         "yaxis": "y"
        },
        {
         "alignmentgroup": "True",
         "hovertemplate": "State=WA<br>Year=%{x}<br>Number of Foreign Workers=%{y}<extra></extra>",
         "legendgroup": "WA",
         "marker": {
          "color": "#FFA15A",
          "pattern": {
           "shape": ""
          }
         },
         "name": "WA",
         "offsetgroup": "WA",
         "orientation": "v",
         "showlegend": true,
         "textposition": "auto",
         "type": "bar",
         "x": [
          1945,
          1946,
          1947,
          1951,
          1953,
          1954,
          1955,
          1956,
          1957,
          1959,
          1960
         ],
         "xaxis": "x",
         "y": [
          3520.375,
          1174.8333333333333,
          457.22222222222223,
          1888.5714285714287,
          239.66666666666666,
          176.2,
          271.5,
          242.71428571428572,
          451.2,
          50,
          60
         ],
         "yaxis": "y"
        },
        {
         "alignmentgroup": "True",
         "hovertemplate": "State=WI<br>Year=%{x}<br>Number of Foreign Workers=%{y}<extra></extra>",
         "legendgroup": "WI",
         "marker": {
          "color": "#19d3f3",
          "pattern": {
           "shape": ""
          }
         },
         "name": "WI",
         "offsetgroup": "WI",
         "orientation": "v",
         "showlegend": true,
         "textposition": "auto",
         "type": "bar",
         "x": [
          1945,
          1946,
          1947,
          1953,
          1954,
          1955,
          1956,
          1957,
          1958,
          1959,
          1960,
          1961,
          1962,
          1963,
          1964
         ],
         "xaxis": "x",
         "y": [
          2677.75,
          993.0833333333334,
          760.25,
          1570.6666666666667,
          783.3333333333334,
          880.1666666666666,
          1312.6666666666667,
          1134.4285714285713,
          647,
          601.2,
          488.4,
          302,
          241.16666666666666,
          279.75,
          314.75
         ],
         "yaxis": "y"
        },
        {
         "alignmentgroup": "True",
         "hovertemplate": "State=WV<br>Year=%{x}<br>Number of Foreign Workers=%{y}<extra></extra>",
         "legendgroup": "WV",
         "marker": {
          "color": "#FF6692",
          "pattern": {
           "shape": ""
          }
         },
         "name": "WV",
         "offsetgroup": "WV",
         "orientation": "v",
         "showlegend": true,
         "textposition": "auto",
         "type": "bar",
         "x": [
          1945,
          1953,
          1954,
          1955,
          1956,
          1957,
          1958,
          1964,
          1967,
          1968,
          1969,
          1970,
          1971,
          1972
         ],
         "xaxis": "x",
         "y": [
          129.42857142857142,
          280,
          302,
          161,
          190,
          147.33333333333334,
          113.33333333333333,
          8,
          167.5,
          403,
          516.5,
          285,
          458.5,
          360
         ],
         "yaxis": "y"
        },
        {
         "alignmentgroup": "True",
         "hovertemplate": "State=WY<br>Year=%{x}<br>Number of Foreign Workers=%{y}<extra></extra>",
         "legendgroup": "WY",
         "marker": {
          "color": "#B6E880",
          "pattern": {
           "shape": ""
          }
         },
         "name": "WY",
         "offsetgroup": "WY",
         "orientation": "v",
         "showlegend": true,
         "textposition": "auto",
         "type": "bar",
         "x": [
          1945,
          1946,
          1947,
          1953,
          1954,
          1955,
          1956,
          1957,
          1958,
          1959,
          1960,
          1961,
          1962,
          1963,
          1964
         ],
         "xaxis": "x",
         "y": [
          1464,
          468.75,
          258.6363636363636,
          69,
          281.25,
          282,
          523.8,
          518.2,
          394.8,
          434.5,
          351.25,
          476,
          396,
          621.6666666666666,
          592.3333333333334
         ],
         "yaxis": "y"
        }
       ],
       "layout": {
        "autosize": true,
        "barmode": "relative",
        "legend": {
         "title": {
          "text": "State"
         },
         "tracegroupgap": 0
        },
        "template": {
         "data": {
          "bar": [
           {
            "error_x": {
             "color": "#2a3f5f"
            },
            "error_y": {
             "color": "#2a3f5f"
            },
            "marker": {
             "line": {
              "color": "#E5ECF6",
              "width": 0.5
             },
             "pattern": {
              "fillmode": "overlay",
              "size": 10,
              "solidity": 0.2
             }
            },
            "type": "bar"
           }
          ],
          "barpolar": [
           {
            "marker": {
             "line": {
              "color": "#E5ECF6",
              "width": 0.5
             },
             "pattern": {
              "fillmode": "overlay",
              "size": 10,
              "solidity": 0.2
             }
            },
            "type": "barpolar"
           }
          ],
          "carpet": [
           {
            "aaxis": {
             "endlinecolor": "#2a3f5f",
             "gridcolor": "white",
             "linecolor": "white",
             "minorgridcolor": "white",
             "startlinecolor": "#2a3f5f"
            },
            "baxis": {
             "endlinecolor": "#2a3f5f",
             "gridcolor": "white",
             "linecolor": "white",
             "minorgridcolor": "white",
             "startlinecolor": "#2a3f5f"
            },
            "type": "carpet"
           }
          ],
          "choropleth": [
           {
            "colorbar": {
             "outlinewidth": 0,
             "ticks": ""
            },
            "type": "choropleth"
           }
          ],
          "contour": [
           {
            "colorbar": {
             "outlinewidth": 0,
             "ticks": ""
            },
            "colorscale": [
             [
              0,
              "#0d0887"
             ],
             [
              0.1111111111111111,
              "#46039f"
             ],
             [
              0.2222222222222222,
              "#7201a8"
             ],
             [
              0.3333333333333333,
              "#9c179e"
             ],
             [
              0.4444444444444444,
              "#bd3786"
             ],
             [
              0.5555555555555556,
              "#d8576b"
             ],
             [
              0.6666666666666666,
              "#ed7953"
             ],
             [
              0.7777777777777778,
              "#fb9f3a"
             ],
             [
              0.8888888888888888,
              "#fdca26"
             ],
             [
              1,
              "#f0f921"
             ]
            ],
            "type": "contour"
           }
          ],
          "contourcarpet": [
           {
            "colorbar": {
             "outlinewidth": 0,
             "ticks": ""
            },
            "type": "contourcarpet"
           }
          ],
          "heatmap": [
           {
            "colorbar": {
             "outlinewidth": 0,
             "ticks": ""
            },
            "colorscale": [
             [
              0,
              "#0d0887"
             ],
             [
              0.1111111111111111,
              "#46039f"
             ],
             [
              0.2222222222222222,
              "#7201a8"
             ],
             [
              0.3333333333333333,
              "#9c179e"
             ],
             [
              0.4444444444444444,
              "#bd3786"
             ],
             [
              0.5555555555555556,
              "#d8576b"
             ],
             [
              0.6666666666666666,
              "#ed7953"
             ],
             [
              0.7777777777777778,
              "#fb9f3a"
             ],
             [
              0.8888888888888888,
              "#fdca26"
             ],
             [
              1,
              "#f0f921"
             ]
            ],
            "type": "heatmap"
           }
          ],
          "heatmapgl": [
           {
            "colorbar": {
             "outlinewidth": 0,
             "ticks": ""
            },
            "colorscale": [
             [
              0,
              "#0d0887"
             ],
             [
              0.1111111111111111,
              "#46039f"
             ],
             [
              0.2222222222222222,
              "#7201a8"
             ],
             [
              0.3333333333333333,
              "#9c179e"
             ],
             [
              0.4444444444444444,
              "#bd3786"
             ],
             [
              0.5555555555555556,
              "#d8576b"
             ],
             [
              0.6666666666666666,
              "#ed7953"
             ],
             [
              0.7777777777777778,
              "#fb9f3a"
             ],
             [
              0.8888888888888888,
              "#fdca26"
             ],
             [
              1,
              "#f0f921"
             ]
            ],
            "type": "heatmapgl"
           }
          ],
          "histogram": [
           {
            "marker": {
             "pattern": {
              "fillmode": "overlay",
              "size": 10,
              "solidity": 0.2
             }
            },
            "type": "histogram"
           }
          ],
          "histogram2d": [
           {
            "colorbar": {
             "outlinewidth": 0,
             "ticks": ""
            },
            "colorscale": [
             [
              0,
              "#0d0887"
             ],
             [
              0.1111111111111111,
              "#46039f"
             ],
             [
              0.2222222222222222,
              "#7201a8"
             ],
             [
              0.3333333333333333,
              "#9c179e"
             ],
             [
              0.4444444444444444,
              "#bd3786"
             ],
             [
              0.5555555555555556,
              "#d8576b"
             ],
             [
              0.6666666666666666,
              "#ed7953"
             ],
             [
              0.7777777777777778,
              "#fb9f3a"
             ],
             [
              0.8888888888888888,
              "#fdca26"
             ],
             [
              1,
              "#f0f921"
             ]
            ],
            "type": "histogram2d"
           }
          ],
          "histogram2dcontour": [
           {
            "colorbar": {
             "outlinewidth": 0,
             "ticks": ""
            },
            "colorscale": [
             [
              0,
              "#0d0887"
             ],
             [
              0.1111111111111111,
              "#46039f"
             ],
             [
              0.2222222222222222,
              "#7201a8"
             ],
             [
              0.3333333333333333,
              "#9c179e"
             ],
             [
              0.4444444444444444,
              "#bd3786"
             ],
             [
              0.5555555555555556,
              "#d8576b"
             ],
             [
              0.6666666666666666,
              "#ed7953"
             ],
             [
              0.7777777777777778,
              "#fb9f3a"
             ],
             [
              0.8888888888888888,
              "#fdca26"
             ],
             [
              1,
              "#f0f921"
             ]
            ],
            "type": "histogram2dcontour"
           }
          ],
          "mesh3d": [
           {
            "colorbar": {
             "outlinewidth": 0,
             "ticks": ""
            },
            "type": "mesh3d"
           }
          ],
          "parcoords": [
           {
            "line": {
             "colorbar": {
              "outlinewidth": 0,
              "ticks": ""
             }
            },
            "type": "parcoords"
           }
          ],
          "pie": [
           {
            "automargin": true,
            "type": "pie"
           }
          ],
          "scatter": [
           {
            "fillpattern": {
             "fillmode": "overlay",
             "size": 10,
             "solidity": 0.2
            },
            "type": "scatter"
           }
          ],
          "scatter3d": [
           {
            "line": {
             "colorbar": {
              "outlinewidth": 0,
              "ticks": ""
             }
            },
            "marker": {
             "colorbar": {
              "outlinewidth": 0,
              "ticks": ""
             }
            },
            "type": "scatter3d"
           }
          ],
          "scattercarpet": [
           {
            "marker": {
             "colorbar": {
              "outlinewidth": 0,
              "ticks": ""
             }
            },
            "type": "scattercarpet"
           }
          ],
          "scattergeo": [
           {
            "marker": {
             "colorbar": {
              "outlinewidth": 0,
              "ticks": ""
             }
            },
            "type": "scattergeo"
           }
          ],
          "scattergl": [
           {
            "marker": {
             "colorbar": {
              "outlinewidth": 0,
              "ticks": ""
             }
            },
            "type": "scattergl"
           }
          ],
          "scattermapbox": [
           {
            "marker": {
             "colorbar": {
              "outlinewidth": 0,
              "ticks": ""
             }
            },
            "type": "scattermapbox"
           }
          ],
          "scatterpolar": [
           {
            "marker": {
             "colorbar": {
              "outlinewidth": 0,
              "ticks": ""
             }
            },
            "type": "scatterpolar"
           }
          ],
          "scatterpolargl": [
           {
            "marker": {
             "colorbar": {
              "outlinewidth": 0,
              "ticks": ""
             }
            },
            "type": "scatterpolargl"
           }
          ],
          "scatterternary": [
           {
            "marker": {
             "colorbar": {
              "outlinewidth": 0,
              "ticks": ""
             }
            },
            "type": "scatterternary"
           }
          ],
          "surface": [
           {
            "colorbar": {
             "outlinewidth": 0,
             "ticks": ""
            },
            "colorscale": [
             [
              0,
              "#0d0887"
             ],
             [
              0.1111111111111111,
              "#46039f"
             ],
             [
              0.2222222222222222,
              "#7201a8"
             ],
             [
              0.3333333333333333,
              "#9c179e"
             ],
             [
              0.4444444444444444,
              "#bd3786"
             ],
             [
              0.5555555555555556,
              "#d8576b"
             ],
             [
              0.6666666666666666,
              "#ed7953"
             ],
             [
              0.7777777777777778,
              "#fb9f3a"
             ],
             [
              0.8888888888888888,
              "#fdca26"
             ],
             [
              1,
              "#f0f921"
             ]
            ],
            "type": "surface"
           }
          ],
          "table": [
           {
            "cells": {
             "fill": {
              "color": "#EBF0F8"
             },
             "line": {
              "color": "white"
             }
            },
            "header": {
             "fill": {
              "color": "#C8D4E3"
             },
             "line": {
              "color": "white"
             }
            },
            "type": "table"
           }
          ]
         },
         "layout": {
          "annotationdefaults": {
           "arrowcolor": "#2a3f5f",
           "arrowhead": 0,
           "arrowwidth": 1
          },
          "autotypenumbers": "strict",
          "coloraxis": {
           "colorbar": {
            "outlinewidth": 0,
            "ticks": ""
           }
          },
          "colorscale": {
           "diverging": [
            [
             0,
             "#8e0152"
            ],
            [
             0.1,
             "#c51b7d"
            ],
            [
             0.2,
             "#de77ae"
            ],
            [
             0.3,
             "#f1b6da"
            ],
            [
             0.4,
             "#fde0ef"
            ],
            [
             0.5,
             "#f7f7f7"
            ],
            [
             0.6,
             "#e6f5d0"
            ],
            [
             0.7,
             "#b8e186"
            ],
            [
             0.8,
             "#7fbc41"
            ],
            [
             0.9,
             "#4d9221"
            ],
            [
             1,
             "#276419"
            ]
           ],
           "sequential": [
            [
             0,
             "#0d0887"
            ],
            [
             0.1111111111111111,
             "#46039f"
            ],
            [
             0.2222222222222222,
             "#7201a8"
            ],
            [
             0.3333333333333333,
             "#9c179e"
            ],
            [
             0.4444444444444444,
             "#bd3786"
            ],
            [
             0.5555555555555556,
             "#d8576b"
            ],
            [
             0.6666666666666666,
             "#ed7953"
            ],
            [
             0.7777777777777778,
             "#fb9f3a"
            ],
            [
             0.8888888888888888,
             "#fdca26"
            ],
            [
             1,
             "#f0f921"
            ]
           ],
           "sequentialminus": [
            [
             0,
             "#0d0887"
            ],
            [
             0.1111111111111111,
             "#46039f"
            ],
            [
             0.2222222222222222,
             "#7201a8"
            ],
            [
             0.3333333333333333,
             "#9c179e"
            ],
            [
             0.4444444444444444,
             "#bd3786"
            ],
            [
             0.5555555555555556,
             "#d8576b"
            ],
            [
             0.6666666666666666,
             "#ed7953"
            ],
            [
             0.7777777777777778,
             "#fb9f3a"
            ],
            [
             0.8888888888888888,
             "#fdca26"
            ],
            [
             1,
             "#f0f921"
            ]
           ]
          },
          "colorway": [
           "#636efa",
           "#EF553B",
           "#00cc96",
           "#ab63fa",
           "#FFA15A",
           "#19d3f3",
           "#FF6692",
           "#B6E880",
           "#FF97FF",
           "#FECB52"
          ],
          "font": {
           "color": "#2a3f5f"
          },
          "geo": {
           "bgcolor": "white",
           "lakecolor": "white",
           "landcolor": "#E5ECF6",
           "showlakes": true,
           "showland": true,
           "subunitcolor": "white"
          },
          "hoverlabel": {
           "align": "left"
          },
          "hovermode": "closest",
          "mapbox": {
           "style": "light"
          },
          "paper_bgcolor": "white",
          "plot_bgcolor": "#E5ECF6",
          "polar": {
           "angularaxis": {
            "gridcolor": "white",
            "linecolor": "white",
            "ticks": ""
           },
           "bgcolor": "#E5ECF6",
           "radialaxis": {
            "gridcolor": "white",
            "linecolor": "white",
            "ticks": ""
           }
          },
          "scene": {
           "xaxis": {
            "backgroundcolor": "#E5ECF6",
            "gridcolor": "white",
            "gridwidth": 2,
            "linecolor": "white",
            "showbackground": true,
            "ticks": "",
            "zerolinecolor": "white"
           },
           "yaxis": {
            "backgroundcolor": "#E5ECF6",
            "gridcolor": "white",
            "gridwidth": 2,
            "linecolor": "white",
            "showbackground": true,
            "ticks": "",
            "zerolinecolor": "white"
           },
           "zaxis": {
            "backgroundcolor": "#E5ECF6",
            "gridcolor": "white",
            "gridwidth": 2,
            "linecolor": "white",
            "showbackground": true,
            "ticks": "",
            "zerolinecolor": "white"
           }
          },
          "shapedefaults": {
           "line": {
            "color": "#2a3f5f"
           }
          },
          "ternary": {
           "aaxis": {
            "gridcolor": "white",
            "linecolor": "white",
            "ticks": ""
           },
           "baxis": {
            "gridcolor": "white",
            "linecolor": "white",
            "ticks": ""
           },
           "bgcolor": "#E5ECF6",
           "caxis": {
            "gridcolor": "white",
            "linecolor": "white",
            "ticks": ""
           }
          },
          "title": {
           "x": 0.05
          },
          "xaxis": {
           "automargin": true,
           "gridcolor": "white",
           "linecolor": "white",
           "ticks": "",
           "title": {
            "standoff": 15
           },
           "zerolinecolor": "white",
           "zerolinewidth": 2
          },
          "yaxis": {
           "automargin": true,
           "gridcolor": "white",
           "linecolor": "white",
           "ticks": "",
           "title": {
            "standoff": 15
           },
           "zerolinecolor": "white",
           "zerolinewidth": 2
          }
         }
        },
        "title": {
         "text": "Foreign Workers in the United States",
         "x": 0.5,
         "xanchor": "center"
        },
        "xaxis": {
         "anchor": "y",
         "autorange": true,
         "domain": [
          0,
          1
         ],
         "range": [
          1944.5,
          1973.5
         ],
         "title": {
          "text": "Year"
         },
         "type": "linear"
        },
        "yaxis": {
         "anchor": "x",
         "autorange": true,
         "domain": [
          0,
          1
         ],
         "range": [
          0,
          199256.91729323313
         ],
         "title": {
          "text": "Number of Foreign Workers"
         },
         "type": "linear"
        }
       }
      },
      "text/html": [
       "<div>                            <div id=\"e891216c-b16b-4989-a1be-6ad3903d60ce\" class=\"plotly-graph-div\" style=\"height:525px; width:100%;\"></div>            <script type=\"text/javascript\">                require([\"plotly\"], function(Plotly) {                    window.PLOTLYENV=window.PLOTLYENV || {};                                    if (document.getElementById(\"e891216c-b16b-4989-a1be-6ad3903d60ce\")) {                    Plotly.newPlot(                        \"e891216c-b16b-4989-a1be-6ad3903d60ce\",                        [{\"alignmentgroup\":\"True\",\"hovertemplate\":\"State=AL\\u003cbr\\u003eYear=%{x}\\u003cbr\\u003eNumber of Foreign Workers=%{y}\\u003cextra\\u003e\\u003c\\u002fextra\\u003e\",\"legendgroup\":\"AL\",\"marker\":{\"color\":\"#636efa\",\"pattern\":{\"shape\":\"\"}},\"name\":\"AL\",\"offsetgroup\":\"AL\",\"orientation\":\"v\",\"showlegend\":true,\"textposition\":\"auto\",\"x\":[1945,1946],\"xaxis\":\"x\",\"y\":[1063.4285714285713,350.3333333333333],\"yaxis\":\"y\",\"type\":\"bar\"},{\"alignmentgroup\":\"True\",\"hovertemplate\":\"State=AR\\u003cbr\\u003eYear=%{x}\\u003cbr\\u003eNumber of Foreign Workers=%{y}\\u003cextra\\u003e\\u003c\\u002fextra\\u003e\",\"legendgroup\":\"AR\",\"marker\":{\"color\":\"#EF553B\",\"pattern\":{\"shape\":\"\"}},\"name\":\"AR\",\"offsetgroup\":\"AR\",\"orientation\":\"v\",\"showlegend\":true,\"textposition\":\"auto\",\"x\":[1945,1952,1953,1954,1955,1956,1957,1958,1959,1960,1961,1962,1963,1964],\"xaxis\":\"x\",\"y\":[8075.625,8204.375,7192.0,6149.0,7936.428571428572,10797.5,8229.0,4834.142857142857,13682.333333333334,11003.57142857143,7742.428571428572,3330.0,2755.6,1508.7142857142858],\"yaxis\":\"y\",\"type\":\"bar\"},{\"alignmentgroup\":\"True\",\"hovertemplate\":\"State=AZ\\u003cbr\\u003eYear=%{x}\\u003cbr\\u003eNumber of Foreign Workers=%{y}\\u003cextra\\u003e\\u003c\\u002fextra\\u003e\",\"legendgroup\":\"AZ\",\"marker\":{\"color\":\"#00cc96\",\"pattern\":{\"shape\":\"\"}},\"name\":\"AZ\",\"offsetgroup\":\"AZ\",\"orientation\":\"v\",\"showlegend\":true,\"textposition\":\"auto\",\"x\":[1945,1946,1947,1953,1954,1955,1956,1957,1958,1959,1960,1961,1962,1963,1964],\"xaxis\":\"x\",\"y\":[4701.125,1281.4166666666667,900.5,8136.0,7644.0,7055.125,9256.375,8849.75,11655.375,10465.142857142857,9118.285714285714,7294.857142857143,4938.5,4296.0,3729.6666666666665],\"yaxis\":\"y\",\"type\":\"bar\"},{\"alignmentgroup\":\"True\",\"hovertemplate\":\"State=CA\\u003cbr\\u003eYear=%{x}\\u003cbr\\u003eNumber of Foreign Workers=%{y}\\u003cextra\\u003e\\u003c\\u002fextra\\u003e\",\"legendgroup\":\"CA\",\"marker\":{\"color\":\"#ab63fa\",\"pattern\":{\"shape\":\"\"}},\"name\":\"CA\",\"offsetgroup\":\"CA\",\"orientation\":\"v\",\"showlegend\":true,\"textposition\":\"auto\",\"x\":[1945,1946,1947,1953,1954,1955,1956,1957,1958,1959,1960,1961,1962,1963,1964,1965,1966,1967],\"xaxis\":\"x\",\"y\":[35777.75,16745.333333333332,11412.833333333334,28866.666666666668,36232.857142857145,48325.0,59885.0,63010.0,56875.0,54318.57142857143,52414.28571428572,44828.57142857143,41162.5,27983.333333333332,28061.666666666668,3386.9,1231.5,5850.0],\"yaxis\":\"y\",\"type\":\"bar\"},{\"alignmentgroup\":\"True\",\"hovertemplate\":\"State=CO\\u003cbr\\u003eYear=%{x}\\u003cbr\\u003eNumber of Foreign Workers=%{y}\\u003cextra\\u003e\\u003c\\u002fextra\\u003e\",\"legendgroup\":\"CO\",\"marker\":{\"color\":\"#FFA15A\",\"pattern\":{\"shape\":\"\"}},\"name\":\"CO\",\"offsetgroup\":\"CO\",\"orientation\":\"v\",\"showlegend\":true,\"textposition\":\"auto\",\"x\":[1945,1946,1947,1953,1954,1955,1956,1957,1958,1959,1960,1961,1962,1963,1964],\"xaxis\":\"x\",\"y\":[5916.375,809.75,518.0,341.0,659.2,974.8,1783.8333333333333,1924.2857142857142,1761.857142857143,2166.6666666666665,2231.8571428571427,3032.6666666666665,3191.6666666666665,2811.4285714285716,2624.5714285714284],\"yaxis\":\"y\",\"type\":\"bar\"},{\"alignmentgroup\":\"True\",\"hovertemplate\":\"State=CT\\u003cbr\\u003eYear=%{x}\\u003cbr\\u003eNumber of Foreign Workers=%{y}\\u003cextra\\u003e\\u003c\\u002fextra\\u003e\",\"legendgroup\":\"CT\",\"marker\":{\"color\":\"#19d3f3\",\"pattern\":{\"shape\":\"\"}},\"name\":\"CT\",\"offsetgroup\":\"CT\",\"orientation\":\"v\",\"showlegend\":true,\"textposition\":\"auto\",\"x\":[1945,1946,1947,1953,1954,1955,1956,1957,1958,1959,1960,1961,1962,1963,1964,1965,1966,1967,1968,1969,1970,1971,1972],\"xaxis\":\"x\",\"y\":[2032.875,1434.75,1522.5,1850.0,1408.5714285714287,1161.25,1303.125,1271.5,857.5,967.1428571428571,1072.857142857143,1088.5714285714287,1037.5,882.5,988.3333333333334,492.0,50.0,90.0,64.0,89.5,100.0,60.0,55.0],\"yaxis\":\"y\",\"type\":\"bar\"},{\"alignmentgroup\":\"True\",\"hovertemplate\":\"State=DE\\u003cbr\\u003eYear=%{x}\\u003cbr\\u003eNumber of Foreign Workers=%{y}\\u003cextra\\u003e\\u003c\\u002fextra\\u003e\",\"legendgroup\":\"DE\",\"marker\":{\"color\":\"#FF6692\",\"pattern\":{\"shape\":\"\"}},\"name\":\"DE\",\"offsetgroup\":\"DE\",\"orientation\":\"v\",\"showlegend\":true,\"textposition\":\"auto\",\"x\":[1945,1946,1947,1954,1957],\"xaxis\":\"x\",\"y\":[1049.5,300.25,134.41666666666666,86.0,115.0],\"yaxis\":\"y\",\"type\":\"bar\"},{\"alignmentgroup\":\"True\",\"hovertemplate\":\"State=FL\\u003cbr\\u003eYear=%{x}\\u003cbr\\u003eNumber of Foreign Workers=%{y}\\u003cextra\\u003e\\u003c\\u002fextra\\u003e\",\"legendgroup\":\"FL\",\"marker\":{\"color\":\"#B6E880\",\"pattern\":{\"shape\":\"\"}},\"name\":\"FL\",\"offsetgroup\":\"FL\",\"orientation\":\"v\",\"showlegend\":true,\"textposition\":\"auto\",\"x\":[1945,1946,1947,1953,1954,1955,1956,1957,1958,1959,1960,1961,1962,1963,1964,1965,1966,1967,1968,1969,1970,1971,1972,1973],\"xaxis\":\"x\",\"y\":[5756.75,5503.25,3114.6363636363635,3315.3333333333335,3184.4285714285716,3935.5,4413.125,5348.125,3664.5,4265.857142857143,3886.285714285714,4653.142857142857,5678.5,7205.0,6636.833333333333,6517.7,4380.0,3074.3333333333335,6083.333333333333,3885.5555555555557,2881.5,3993.5,5459.428571428572,6801.5],\"yaxis\":\"y\",\"type\":\"bar\"},{\"alignmentgroup\":\"True\",\"hovertemplate\":\"State=GA\\u003cbr\\u003eYear=%{x}\\u003cbr\\u003eNumber of Foreign Workers=%{y}\\u003cextra\\u003e\\u003c\\u002fextra\\u003e\",\"legendgroup\":\"GA\",\"marker\":{\"color\":\"#FF97FF\",\"pattern\":{\"shape\":\"\"}},\"name\":\"GA\",\"offsetgroup\":\"GA\",\"orientation\":\"v\",\"showlegend\":true,\"textposition\":\"auto\",\"x\":[1945,1946,1947,1953,1954,1955,1956,1957,1958,1959,1960,1961],\"xaxis\":\"x\",\"y\":[2243.25,361.3333333333333,142.66666666666666,1152.0,212.5,242.33333333333334,646.6666666666666,888.0,439.0,821.0,644.5,763.5],\"yaxis\":\"y\",\"type\":\"bar\"},{\"alignmentgroup\":\"True\",\"hovertemplate\":\"State=IA\\u003cbr\\u003eYear=%{x}\\u003cbr\\u003eNumber of Foreign Workers=%{y}\\u003cextra\\u003e\\u003c\\u002fextra\\u003e\",\"legendgroup\":\"IA\",\"marker\":{\"color\":\"#FECB52\",\"pattern\":{\"shape\":\"\"}},\"name\":\"IA\",\"offsetgroup\":\"IA\",\"orientation\":\"v\",\"showlegend\":true,\"textposition\":\"auto\",\"x\":[1945,1946,1947,1953,1954,1955,1956,1957,1958,1959,1960,1961,1962],\"xaxis\":\"x\",\"y\":[1079.375,451.75,172.57142857142858,113.5,256.0,163.33333333333334,63.666666666666664,32.0,44.0,48.333333333333336,70.66666666666667,193.0,98.5],\"yaxis\":\"y\",\"type\":\"bar\"},{\"alignmentgroup\":\"True\",\"hovertemplate\":\"State=ID\\u003cbr\\u003eYear=%{x}\\u003cbr\\u003eNumber of Foreign Workers=%{y}\\u003cextra\\u003e\\u003c\\u002fextra\\u003e\",\"legendgroup\":\"ID\",\"marker\":{\"color\":\"#636efa\",\"pattern\":{\"shape\":\"\"}},\"name\":\"ID\",\"offsetgroup\":\"ID\",\"orientation\":\"v\",\"showlegend\":true,\"textposition\":\"auto\",\"x\":[1945,1946,1947,1953,1954,1955,1956,1957],\"xaxis\":\"x\",\"y\":[5128.0,1531.3636363636363,1957.111111111111,144.0,159.4,179.2,177.2,127.2],\"yaxis\":\"y\",\"type\":\"bar\"},{\"alignmentgroup\":\"True\",\"hovertemplate\":\"State=IL\\u003cbr\\u003eYear=%{x}\\u003cbr\\u003eNumber of Foreign Workers=%{y}\\u003cextra\\u003e\\u003c\\u002fextra\\u003e\",\"legendgroup\":\"IL\",\"marker\":{\"color\":\"#EF553B\",\"pattern\":{\"shape\":\"\"}},\"name\":\"IL\",\"offsetgroup\":\"IL\",\"orientation\":\"v\",\"showlegend\":true,\"textposition\":\"auto\",\"x\":[1945,1946,1947,1953,1954,1955,1956,1957,1958,1959,1960,1961,1962,1963],\"xaxis\":\"x\",\"y\":[1750.375,648.0,363.5,394.0,276.42857142857144,348.2,295.4,213.8,172.25,223.5,244.0,47.5,113.0,35.0],\"yaxis\":\"y\",\"type\":\"bar\"},{\"alignmentgroup\":\"True\",\"hovertemplate\":\"State=IN\\u003cbr\\u003eYear=%{x}\\u003cbr\\u003eNumber of Foreign Workers=%{y}\\u003cextra\\u003e\\u003c\\u002fextra\\u003e\",\"legendgroup\":\"IN\",\"marker\":{\"color\":\"#00cc96\",\"pattern\":{\"shape\":\"\"}},\"name\":\"IN\",\"offsetgroup\":\"IN\",\"orientation\":\"v\",\"showlegend\":true,\"textposition\":\"auto\",\"x\":[1945,1946,1947,1953,1954,1955,1956,1957,1958,1959,1960,1961,1962,1963,1964],\"xaxis\":\"x\",\"y\":[942.125,153.83333333333334,123.44444444444444,543.5,212.2,249.4,395.85714285714283,553.3333333333334,418.8,580.4,446.3333333333333,439.0,312.25,185.5,101.0],\"yaxis\":\"y\",\"type\":\"bar\"},{\"alignmentgroup\":\"True\",\"hovertemplate\":\"State=KS\\u003cbr\\u003eYear=%{x}\\u003cbr\\u003eNumber of Foreign Workers=%{y}\\u003cextra\\u003e\\u003c\\u002fextra\\u003e\",\"legendgroup\":\"KS\",\"marker\":{\"color\":\"#ab63fa\",\"pattern\":{\"shape\":\"\"}},\"name\":\"KS\",\"offsetgroup\":\"KS\",\"orientation\":\"v\",\"showlegend\":true,\"textposition\":\"auto\",\"x\":[1945,1946,1947,1956,1957,1958,1959,1960,1961,1962,1963,1964],\"xaxis\":\"x\",\"y\":[1812.0,183.58333333333334,188.55555555555554,28.666666666666668,95.0,39.0,12.6,14.166666666666666,34.0,78.5,80.5,143.33333333333334],\"yaxis\":\"y\",\"type\":\"bar\"},{\"alignmentgroup\":\"True\",\"hovertemplate\":\"State=KY\\u003cbr\\u003eYear=%{x}\\u003cbr\\u003eNumber of Foreign Workers=%{y}\\u003cextra\\u003e\\u003c\\u002fextra\\u003e\",\"legendgroup\":\"KY\",\"marker\":{\"color\":\"#FFA15A\",\"pattern\":{\"shape\":\"\"}},\"name\":\"KY\",\"offsetgroup\":\"KY\",\"orientation\":\"v\",\"showlegend\":true,\"textposition\":\"auto\",\"x\":[1945,1953,1956,1957,1958,1959,1960,1961],\"xaxis\":\"x\",\"y\":[935.5714285714286,73.5,193.5,142.4,96.0,162.6,94.25,57.0],\"yaxis\":\"y\",\"type\":\"bar\"},{\"alignmentgroup\":\"True\",\"hovertemplate\":\"State=LA\\u003cbr\\u003eYear=%{x}\\u003cbr\\u003eNumber of Foreign Workers=%{y}\\u003cextra\\u003e\\u003c\\u002fextra\\u003e\",\"legendgroup\":\"LA\",\"marker\":{\"color\":\"#19d3f3\",\"pattern\":{\"shape\":\"\"}},\"name\":\"LA\",\"offsetgroup\":\"LA\",\"orientation\":\"v\",\"showlegend\":true,\"textposition\":\"auto\",\"x\":[1945,1946,1947,1952,1953,1964,1965],\"xaxis\":\"x\",\"y\":[5799.875,682.75,204.0,534.0,177.33333333333334,202.66666666666666,138.0],\"yaxis\":\"y\",\"type\":\"bar\"},{\"alignmentgroup\":\"True\",\"hovertemplate\":\"State=MA\\u003cbr\\u003eYear=%{x}\\u003cbr\\u003eNumber of Foreign Workers=%{y}\\u003cextra\\u003e\\u003c\\u002fextra\\u003e\",\"legendgroup\":\"MA\",\"marker\":{\"color\":\"#FF6692\",\"pattern\":{\"shape\":\"\"}},\"name\":\"MA\",\"offsetgroup\":\"MA\",\"orientation\":\"v\",\"showlegend\":true,\"textposition\":\"auto\",\"x\":[1945,1946,1947,1953,1954,1955,1956,1957,1958,1959,1960,1961,1962,1963,1964,1965,1966,1967,1968,1969,1970,1971,1972],\"xaxis\":\"x\",\"y\":[683.875,201.25,98.54545454545455,454.0,239.0,242.5,231.42857142857142,511.57142857142856,147.125,203.28571428571428,319.7142857142857,316.42857142857144,340.125,241.83333333333334,342.75,157.6,134.5,136.0,185.0,308.5,358.0,401.5,292.0],\"yaxis\":\"y\",\"type\":\"bar\"},{\"alignmentgroup\":\"True\",\"hovertemplate\":\"State=MD\\u003cbr\\u003eYear=%{x}\\u003cbr\\u003eNumber of Foreign Workers=%{y}\\u003cextra\\u003e\\u003c\\u002fextra\\u003e\",\"legendgroup\":\"MD\",\"marker\":{\"color\":\"#B6E880\",\"pattern\":{\"shape\":\"\"}},\"name\":\"MD\",\"offsetgroup\":\"MD\",\"orientation\":\"v\",\"showlegend\":true,\"textposition\":\"auto\",\"x\":[1945,1946,1947,1953,1954,1955,1956,1957,1958,1959,1960,1961,1962],\"xaxis\":\"x\",\"y\":[3002.25,736.5,342.75,85.33333333333333,86.91666666666667,121.66666666666667,81.66666666666667,74.16666666666667,32.2,38.142857142857146,19.333333333333332,18.5,11.0],\"yaxis\":\"y\",\"type\":\"bar\"},{\"alignmentgroup\":\"True\",\"hovertemplate\":\"State=ME\\u003cbr\\u003eYear=%{x}\\u003cbr\\u003eNumber of Foreign Workers=%{y}\\u003cextra\\u003e\\u003c\\u002fextra\\u003e\",\"legendgroup\":\"ME\",\"marker\":{\"color\":\"#FF97FF\",\"pattern\":{\"shape\":\"\"}},\"name\":\"ME\",\"offsetgroup\":\"ME\",\"orientation\":\"v\",\"showlegend\":true,\"textposition\":\"auto\",\"x\":[1945,1946,1947,1953,1954,1955,1956,1957,1958,1959,1960,1961,1962,1963,1964,1965,1966,1967,1968,1969,1970,1971,1972],\"xaxis\":\"x\",\"y\":[1165.125,446.4166666666667,610.6666666666666,1052.0,2534.3333333333335,1278.0,821.6666666666666,1584.6,739.1666666666666,560.2,1469.0,1066.8333333333333,868.0,1011.0,1384.1666666666667,2661.5,1503.0,1617.5,744.0,653.0,1147.0,581.0,425.0],\"yaxis\":\"y\",\"type\":\"bar\"},{\"alignmentgroup\":\"True\",\"hovertemplate\":\"State=MI\\u003cbr\\u003eYear=%{x}\\u003cbr\\u003eNumber of Foreign Workers=%{y}\\u003cextra\\u003e\\u003c\\u002fextra\\u003e\",\"legendgroup\":\"MI\",\"marker\":{\"color\":\"#FECB52\",\"pattern\":{\"shape\":\"\"}},\"name\":\"MI\",\"offsetgroup\":\"MI\",\"orientation\":\"v\",\"showlegend\":true,\"textposition\":\"auto\",\"x\":[1945,1946,1947,1948,1951,1953,1954,1955,1956,1957,1958,1959,1960,1961,1962,1963,1964],\"xaxis\":\"x\",\"y\":[4146.875,1455.75,225.1818181818182,947.4285714285714,1103.857142857143,1279.0,1436.0833333333333,2225.875,3215.625,3519.5,2842.75,2988.5714285714284,3137.714285714286,3293.714285714286,2306.1428571428573,3225.3333333333335,2616.5],\"yaxis\":\"y\",\"type\":\"bar\"},{\"alignmentgroup\":\"True\",\"hovertemplate\":\"State=MN\\u003cbr\\u003eYear=%{x}\\u003cbr\\u003eNumber of Foreign Workers=%{y}\\u003cextra\\u003e\\u003c\\u002fextra\\u003e\",\"legendgroup\":\"MN\",\"marker\":{\"color\":\"#636efa\",\"pattern\":{\"shape\":\"\"}},\"name\":\"MN\",\"offsetgroup\":\"MN\",\"orientation\":\"v\",\"showlegend\":true,\"textposition\":\"auto\",\"x\":[1945,1946,1947,1953,1954,1955,1956,1957,1958,1959,1960,1961,1962,1963,1964],\"xaxis\":\"x\",\"y\":[1460.875,766.5833333333334,876.125,786.0,587.0,255.66666666666666,305.0,484.6666666666667,163.33333333333334,89.16666666666667,71.6,115.66666666666667,73.0,57.25,14.0],\"yaxis\":\"y\",\"type\":\"bar\"},{\"alignmentgroup\":\"True\",\"hovertemplate\":\"State=MO\\u003cbr\\u003eYear=%{x}\\u003cbr\\u003eNumber of Foreign Workers=%{y}\\u003cextra\\u003e\\u003c\\u002fextra\\u003e\",\"legendgroup\":\"MO\",\"marker\":{\"color\":\"#EF553B\",\"pattern\":{\"shape\":\"\"}},\"name\":\"MO\",\"offsetgroup\":\"MO\",\"orientation\":\"v\",\"showlegend\":true,\"textposition\":\"auto\",\"x\":[1945,1946,1947,1953,1954,1955,1956,1957,1958,1959,1960],\"xaxis\":\"x\",\"y\":[1383.125,34.166666666666664,16.181818181818183,2600.0,1162.6666666666667,906.0,938.3333333333334,227.5,685.0,497.0,194.75],\"yaxis\":\"y\",\"type\":\"bar\"},{\"alignmentgroup\":\"True\",\"hovertemplate\":\"State=MS\\u003cbr\\u003eYear=%{x}\\u003cbr\\u003eNumber of Foreign Workers=%{y}\\u003cextra\\u003e\\u003c\\u002fextra\\u003e\",\"legendgroup\":\"MS\",\"marker\":{\"color\":\"#00cc96\",\"pattern\":{\"shape\":\"\"}},\"name\":\"MS\",\"offsetgroup\":\"MS\",\"orientation\":\"v\",\"showlegend\":true,\"textposition\":\"auto\",\"x\":[1945],\"xaxis\":\"x\",\"y\":[2867.375],\"yaxis\":\"y\",\"type\":\"bar\"},{\"alignmentgroup\":\"True\",\"hovertemplate\":\"State=MT\\u003cbr\\u003eYear=%{x}\\u003cbr\\u003eNumber of Foreign Workers=%{y}\\u003cextra\\u003e\\u003c\\u002fextra\\u003e\",\"legendgroup\":\"MT\",\"marker\":{\"color\":\"#ab63fa\",\"pattern\":{\"shape\":\"\"}},\"name\":\"MT\",\"offsetgroup\":\"MT\",\"orientation\":\"v\",\"showlegend\":true,\"textposition\":\"auto\",\"x\":[1945,1946,1947,1954,1955,1956,1957,1958,1959,1960,1961,1962,1963,1964],\"xaxis\":\"x\",\"y\":[4357.25,1215.0833333333333,986.7,877.6666666666666,627.6666666666666,1507.0,2082.5,831.0,1217.0,1002.0,798.6666666666666,1010.6666666666666,981.6666666666666,983.5],\"yaxis\":\"y\",\"type\":\"bar\"},{\"alignmentgroup\":\"True\",\"hovertemplate\":\"State=NC\\u003cbr\\u003eYear=%{x}\\u003cbr\\u003eNumber of Foreign Workers=%{y}\\u003cextra\\u003e\\u003c\\u002fextra\\u003e\",\"legendgroup\":\"NC\",\"marker\":{\"color\":\"#FFA15A\",\"pattern\":{\"shape\":\"\"}},\"name\":\"NC\",\"offsetgroup\":\"NC\",\"orientation\":\"v\",\"showlegend\":true,\"textposition\":\"auto\",\"x\":[1945,1946,1947],\"xaxis\":\"x\",\"y\":[1680.625,512.8571428571429,235.9],\"yaxis\":\"y\",\"type\":\"bar\"},{\"alignmentgroup\":\"True\",\"hovertemplate\":\"State=ND\\u003cbr\\u003eYear=%{x}\\u003cbr\\u003eNumber of Foreign Workers=%{y}\\u003cextra\\u003e\\u003c\\u002fextra\\u003e\",\"legendgroup\":\"ND\",\"marker\":{\"color\":\"#19d3f3\",\"pattern\":{\"shape\":\"\"}},\"name\":\"ND\",\"offsetgroup\":\"ND\",\"orientation\":\"v\",\"showlegend\":true,\"textposition\":\"auto\",\"x\":[1945,1946,1947,1957,1958,1959,1960,1961],\"xaxis\":\"x\",\"y\":[1038.625,242.25,58.22222222222222,170.0,249.0,36.0,54.0,108.0],\"yaxis\":\"y\",\"type\":\"bar\"},{\"alignmentgroup\":\"True\",\"hovertemplate\":\"State=NE\\u003cbr\\u003eYear=%{x}\\u003cbr\\u003eNumber of Foreign Workers=%{y}\\u003cextra\\u003e\\u003c\\u002fextra\\u003e\",\"legendgroup\":\"NE\",\"marker\":{\"color\":\"#FF6692\",\"pattern\":{\"shape\":\"\"}},\"name\":\"NE\",\"offsetgroup\":\"NE\",\"orientation\":\"v\",\"showlegend\":true,\"textposition\":\"auto\",\"x\":[1945,1946,1947,1954,1955,1956,1957,1958,1959,1960,1961,1962,1963,1964],\"xaxis\":\"x\",\"y\":[2664.875,663.8333333333334,505.90909090909093,209.5,123.85714285714286,450.8,896.6666666666666,1201.5,1072.0,811.3333333333334,765.3333333333334,702.0,681.75,546.3333333333334],\"yaxis\":\"y\",\"type\":\"bar\"},{\"alignmentgroup\":\"True\",\"hovertemplate\":\"State=NH\\u003cbr\\u003eYear=%{x}\\u003cbr\\u003eNumber of Foreign Workers=%{y}\\u003cextra\\u003e\\u003c\\u002fextra\\u003e\",\"legendgroup\":\"NH\",\"marker\":{\"color\":\"#B6E880\",\"pattern\":{\"shape\":\"\"}},\"name\":\"NH\",\"offsetgroup\":\"NH\",\"orientation\":\"v\",\"showlegend\":true,\"textposition\":\"auto\",\"x\":[1945,1946,1947,1953,1956,1957,1958,1959,1960,1961,1962,1963,1964,1965,1966,1967,1968,1969,1970,1971,1972],\"xaxis\":\"x\",\"y\":[124.625,97.91666666666667,45.5,67.0,58.0,57.25,50.25,62.0,55.2,57.75,105.2,131.0,76.5,77.0,125.5,150.0,213.0,92.0,218.0,274.0,311.0],\"yaxis\":\"y\",\"type\":\"bar\"},{\"alignmentgroup\":\"True\",\"hovertemplate\":\"State=NJ\\u003cbr\\u003eYear=%{x}\\u003cbr\\u003eNumber of Foreign Workers=%{y}\\u003cextra\\u003e\\u003c\\u002fextra\\u003e\",\"legendgroup\":\"NJ\",\"marker\":{\"color\":\"#FF97FF\",\"pattern\":{\"shape\":\"\"}},\"name\":\"NJ\",\"offsetgroup\":\"NJ\",\"orientation\":\"v\",\"showlegend\":true,\"textposition\":\"auto\",\"x\":[1945,1946,1947,1953,1954,1955,1956,1957,1958,1959,1960,1961,1962,1963,1964],\"xaxis\":\"x\",\"y\":[2045.375,927.0833333333334,475.8333333333333,286.3333333333333,366.57142857142856,315.5,583.875,696.625,161.5,305.6666666666667,345.6666666666667,377.6666666666667,362.6666666666667,335.6666666666667,344.3333333333333],\"yaxis\":\"y\",\"type\":\"bar\"},{\"alignmentgroup\":\"True\",\"hovertemplate\":\"State=NM\\u003cbr\\u003eYear=%{x}\\u003cbr\\u003eNumber of Foreign Workers=%{y}\\u003cextra\\u003e\\u003c\\u002fextra\\u003e\",\"legendgroup\":\"NM\",\"marker\":{\"color\":\"#FECB52\",\"pattern\":{\"shape\":\"\"}},\"name\":\"NM\",\"offsetgroup\":\"NM\",\"orientation\":\"v\",\"showlegend\":true,\"textposition\":\"auto\",\"x\":[1945,1946,1953,1954,1955,1956,1957,1958,1959,1960,1961,1962,1963,1964],\"xaxis\":\"x\",\"y\":[2311.5,22.375,11933.0,7959.714285714285,7462.875,7570.75,7945.0,9124.625,9087.285714285714,6082.142857142857,4514.142857142857,1443.25,543.75,476.0],\"yaxis\":\"y\",\"type\":\"bar\"},{\"alignmentgroup\":\"True\",\"hovertemplate\":\"State=NV\\u003cbr\\u003eYear=%{x}\\u003cbr\\u003eNumber of Foreign Workers=%{y}\\u003cextra\\u003e\\u003c\\u002fextra\\u003e\",\"legendgroup\":\"NV\",\"marker\":{\"color\":\"#636efa\",\"pattern\":{\"shape\":\"\"}},\"name\":\"NV\",\"offsetgroup\":\"NV\",\"orientation\":\"v\",\"showlegend\":true,\"textposition\":\"auto\",\"x\":[1945,1946,1947,1954,1955,1956,1957,1958,1959,1960,1961,1962,1963],\"xaxis\":\"x\",\"y\":[535.75,220.0,119.08333333333333,60.0,43.0,22.333333333333332,31.0,39.57142857142857,37.714285714285715,60.857142857142854,25.142857142857142,29.0,29.0],\"yaxis\":\"y\",\"type\":\"bar\"},{\"alignmentgroup\":\"True\",\"hovertemplate\":\"State=NY\\u003cbr\\u003eYear=%{x}\\u003cbr\\u003eNumber of Foreign Workers=%{y}\\u003cextra\\u003e\\u003c\\u002fextra\\u003e\",\"legendgroup\":\"NY\",\"marker\":{\"color\":\"#EF553B\",\"pattern\":{\"shape\":\"\"}},\"name\":\"NY\",\"offsetgroup\":\"NY\",\"orientation\":\"v\",\"showlegend\":true,\"textposition\":\"auto\",\"x\":[1945,1946,1947,1953,1954,1955,1956,1957,1958,1959,1960,1961,1962,1963,1964,1965,1966,1967,1968,1969,1970,1971,1972],\"xaxis\":\"x\",\"y\":[3395.625,1475.5,761.75,1235.0,474.25,454.125,491.375,609.375,222.0,388.0,435.6666666666667,286.0,340.6666666666667,217.0,288.0,210.66666666666666,320.0,651.5,403.0,669.6666666666666,640.6666666666666,774.3333333333334,667.0],\"yaxis\":\"y\",\"type\":\"bar\"},{\"alignmentgroup\":\"True\",\"hovertemplate\":\"State=OH\\u003cbr\\u003eYear=%{x}\\u003cbr\\u003eNumber of Foreign Workers=%{y}\\u003cextra\\u003e\\u003c\\u002fextra\\u003e\",\"legendgroup\":\"OH\",\"marker\":{\"color\":\"#00cc96\",\"pattern\":{\"shape\":\"\"}},\"name\":\"OH\",\"offsetgroup\":\"OH\",\"orientation\":\"v\",\"showlegend\":true,\"textposition\":\"auto\",\"x\":[1945,1946,1947,1953,1954,1955,1956,1957,1958,1959],\"xaxis\":\"x\",\"y\":[1395.375,489.5833333333333,261.0,204.0,64.0,46.0,58.8,74.33333333333333,60.0,30.0],\"yaxis\":\"y\",\"type\":\"bar\"},{\"alignmentgroup\":\"True\",\"hovertemplate\":\"State=OK\\u003cbr\\u003eYear=%{x}\\u003cbr\\u003eNumber of Foreign Workers=%{y}\\u003cextra\\u003e\\u003c\\u002fextra\\u003e\",\"legendgroup\":\"OK\",\"marker\":{\"color\":\"#ab63fa\",\"pattern\":{\"shape\":\"\"}},\"name\":\"OK\",\"offsetgroup\":\"OK\",\"orientation\":\"v\",\"showlegend\":true,\"textposition\":\"auto\",\"x\":[1945],\"xaxis\":\"x\",\"y\":[935.5],\"yaxis\":\"y\",\"type\":\"bar\"},{\"alignmentgroup\":\"True\",\"hovertemplate\":\"State=OR\\u003cbr\\u003eYear=%{x}\\u003cbr\\u003eNumber of Foreign Workers=%{y}\\u003cextra\\u003e\\u003c\\u002fextra\\u003e\",\"legendgroup\":\"OR\",\"marker\":{\"color\":\"#FFA15A\",\"pattern\":{\"shape\":\"\"}},\"name\":\"OR\",\"offsetgroup\":\"OR\",\"orientation\":\"v\",\"showlegend\":true,\"textposition\":\"auto\",\"x\":[1945,1946,1947,1953,1955,1956,1957,1958,1959,1960,1961,1962,1963,1964],\"xaxis\":\"x\",\"y\":[2982.25,901.8333333333334,486.0,216.0,590.5,349.6,205.0,199.0,359.0,349.0,327.0,234.0,67.0,187.0],\"yaxis\":\"y\",\"type\":\"bar\"},{\"alignmentgroup\":\"True\",\"hovertemplate\":\"State=PA\\u003cbr\\u003eYear=%{x}\\u003cbr\\u003eNumber of Foreign Workers=%{y}\\u003cextra\\u003e\\u003c\\u002fextra\\u003e\",\"legendgroup\":\"PA\",\"marker\":{\"color\":\"#19d3f3\",\"pattern\":{\"shape\":\"\"}},\"name\":\"PA\",\"offsetgroup\":\"PA\",\"orientation\":\"v\",\"showlegend\":true,\"textposition\":\"auto\",\"x\":[1945,1946,1947,1953],\"xaxis\":\"x\",\"y\":[1105.125,310.6666666666667,178.91666666666666,72.0],\"yaxis\":\"y\",\"type\":\"bar\"},{\"alignmentgroup\":\"True\",\"hovertemplate\":\"State=RI\\u003cbr\\u003eYear=%{x}\\u003cbr\\u003eNumber of Foreign Workers=%{y}\\u003cextra\\u003e\\u003c\\u002fextra\\u003e\",\"legendgroup\":\"RI\",\"marker\":{\"color\":\"#FF6692\",\"pattern\":{\"shape\":\"\"}},\"name\":\"RI\",\"offsetgroup\":\"RI\",\"orientation\":\"v\",\"showlegend\":true,\"textposition\":\"auto\",\"x\":[1945,1946,1947,1963,1964,1965,1966,1967,1968,1969],\"xaxis\":\"x\",\"y\":[14.125,6.75,3.5454545454545454,38.666666666666664,37.0,19.666666666666668,32.0,34.0,23.0,23.0],\"yaxis\":\"y\",\"type\":\"bar\"},{\"alignmentgroup\":\"True\",\"hovertemplate\":\"State=SC\\u003cbr\\u003eYear=%{x}\\u003cbr\\u003eNumber of Foreign Workers=%{y}\\u003cextra\\u003e\\u003c\\u002fextra\\u003e\",\"legendgroup\":\"SC\",\"marker\":{\"color\":\"#B6E880\",\"pattern\":{\"shape\":\"\"}},\"name\":\"SC\",\"offsetgroup\":\"SC\",\"orientation\":\"v\",\"showlegend\":true,\"textposition\":\"auto\",\"x\":[1945],\"xaxis\":\"x\",\"y\":[1121.25],\"yaxis\":\"y\",\"type\":\"bar\"},{\"alignmentgroup\":\"True\",\"hovertemplate\":\"State=SD\\u003cbr\\u003eYear=%{x}\\u003cbr\\u003eNumber of Foreign Workers=%{y}\\u003cextra\\u003e\\u003c\\u002fextra\\u003e\",\"legendgroup\":\"SD\",\"marker\":{\"color\":\"#FF97FF\",\"pattern\":{\"shape\":\"\"}},\"name\":\"SD\",\"offsetgroup\":\"SD\",\"orientation\":\"v\",\"showlegend\":true,\"textposition\":\"auto\",\"x\":[1945,1946,1947,1954,1955,1956,1957,1958,1959,1960,1961,1962,1963,1964],\"xaxis\":\"x\",\"y\":[471.75,234.5,144.8181818181818,209.5,111.0,202.0,296.0,167.5,216.0,229.0,125.5,84.0,49.0,51.0],\"yaxis\":\"y\",\"type\":\"bar\"},{\"alignmentgroup\":\"True\",\"hovertemplate\":\"State=TN\\u003cbr\\u003eYear=%{x}\\u003cbr\\u003eNumber of Foreign Workers=%{y}\\u003cextra\\u003e\\u003c\\u002fextra\\u003e\",\"legendgroup\":\"TN\",\"marker\":{\"color\":\"#FECB52\",\"pattern\":{\"shape\":\"\"}},\"name\":\"TN\",\"offsetgroup\":\"TN\",\"orientation\":\"v\",\"showlegend\":true,\"textposition\":\"auto\",\"x\":[1945,1946,1947,1953,1954,1955,1956,1957,1958,1959,1960,1961,1962],\"xaxis\":\"x\",\"y\":[947.75,214.5,152.0,1014.0,315.0,548.6666666666666,376.2,453.2,269.75,503.2,478.75,331.0,165.0],\"yaxis\":\"y\",\"type\":\"bar\"},{\"alignmentgroup\":\"True\",\"hovertemplate\":\"State=TX\\u003cbr\\u003eYear=%{x}\\u003cbr\\u003eNumber of Foreign Workers=%{y}\\u003cextra\\u003e\\u003c\\u002fextra\\u003e\",\"legendgroup\":\"TX\",\"marker\":{\"color\":\"#636efa\",\"pattern\":{\"shape\":\"\"}},\"name\":\"TX\",\"offsetgroup\":\"TX\",\"orientation\":\"v\",\"showlegend\":true,\"textposition\":\"auto\",\"x\":[1945,1953,1954,1955,1956,1957,1958,1959,1960,1961,1962,1963,1964],\"xaxis\":\"x\",\"y\":[3263.5,27867.0,42494.71428571428,59150.0,62053.875,62607.375,75889.0,81837.85714285714,60572.0,55208.28571428572,17223.75,8906.75,6895.0],\"yaxis\":\"y\",\"type\":\"bar\"},{\"alignmentgroup\":\"True\",\"hovertemplate\":\"State=UT\\u003cbr\\u003eYear=%{x}\\u003cbr\\u003eNumber of Foreign Workers=%{y}\\u003cextra\\u003e\\u003c\\u002fextra\\u003e\",\"legendgroup\":\"UT\",\"marker\":{\"color\":\"#EF553B\",\"pattern\":{\"shape\":\"\"}},\"name\":\"UT\",\"offsetgroup\":\"UT\",\"orientation\":\"v\",\"showlegend\":true,\"textposition\":\"auto\",\"x\":[1945,1946,1947,1953,1954,1955,1956,1957,1958,1959,1960,1961,1962,1963,1964],\"xaxis\":\"x\",\"y\":[1617.125,410.3333333333333,586.8181818181819,293.0,182.0,217.66666666666666,305.1666666666667,461.3333333333333,291.6666666666667,335.6,259.2857142857143,208.33333333333334,312.0,291.3333333333333,275.5],\"yaxis\":\"y\",\"type\":\"bar\"},{\"alignmentgroup\":\"True\",\"hovertemplate\":\"State=VA\\u003cbr\\u003eYear=%{x}\\u003cbr\\u003eNumber of Foreign Workers=%{y}\\u003cextra\\u003e\\u003c\\u002fextra\\u003e\",\"legendgroup\":\"VA\",\"marker\":{\"color\":\"#00cc96\",\"pattern\":{\"shape\":\"\"}},\"name\":\"VA\",\"offsetgroup\":\"VA\",\"orientation\":\"v\",\"showlegend\":true,\"textposition\":\"auto\",\"x\":[1945,1946,1947,1953,1954,1955,1956,1957,1958,1959,1960,1961,1962,1963,1964,1965,1966,1967,1968,1969,1970,1971,1972],\"xaxis\":\"x\",\"y\":[1861.0,312.4,296.6666666666667,346.0,402.0,477.0,284.6666666666667,448.3333333333333,448.0,614.3333333333334,593.0,384.3333333333333,740.0,826.0,791.0,1029.0,574.0,487.0,494.0,586.0,384.3333333333333,435.0,532.0],\"yaxis\":\"y\",\"type\":\"bar\"},{\"alignmentgroup\":\"True\",\"hovertemplate\":\"State=VT\\u003cbr\\u003eYear=%{x}\\u003cbr\\u003eNumber of Foreign Workers=%{y}\\u003cextra\\u003e\\u003c\\u002fextra\\u003e\",\"legendgroup\":\"VT\",\"marker\":{\"color\":\"#ab63fa\",\"pattern\":{\"shape\":\"\"}},\"name\":\"VT\",\"offsetgroup\":\"VT\",\"orientation\":\"v\",\"showlegend\":true,\"textposition\":\"auto\",\"x\":[1945,1946,1947,1953,1954,1955,1956,1957,1958,1959,1960,1961,1962,1963,1964,1965,1967,1968,1969,1970,1971,1972],\"xaxis\":\"x\",\"y\":[174.875,138.83333333333334,61.8,150.0,500.42857142857144,485.4,243.4,156.0,50.4,16.2,45.0,40.0,82.5,38.0,81.0,22.5,98.0,81.0,212.5,155.5,178.0,162.0],\"yaxis\":\"y\",\"type\":\"bar\"},{\"alignmentgroup\":\"True\",\"hovertemplate\":\"State=WA\\u003cbr\\u003eYear=%{x}\\u003cbr\\u003eNumber of Foreign Workers=%{y}\\u003cextra\\u003e\\u003c\\u002fextra\\u003e\",\"legendgroup\":\"WA\",\"marker\":{\"color\":\"#FFA15A\",\"pattern\":{\"shape\":\"\"}},\"name\":\"WA\",\"offsetgroup\":\"WA\",\"orientation\":\"v\",\"showlegend\":true,\"textposition\":\"auto\",\"x\":[1945,1946,1947,1951,1953,1954,1955,1956,1957,1959,1960],\"xaxis\":\"x\",\"y\":[3520.375,1174.8333333333333,457.22222222222223,1888.5714285714287,239.66666666666666,176.2,271.5,242.71428571428572,451.2,50.0,60.0],\"yaxis\":\"y\",\"type\":\"bar\"},{\"alignmentgroup\":\"True\",\"hovertemplate\":\"State=WI\\u003cbr\\u003eYear=%{x}\\u003cbr\\u003eNumber of Foreign Workers=%{y}\\u003cextra\\u003e\\u003c\\u002fextra\\u003e\",\"legendgroup\":\"WI\",\"marker\":{\"color\":\"#19d3f3\",\"pattern\":{\"shape\":\"\"}},\"name\":\"WI\",\"offsetgroup\":\"WI\",\"orientation\":\"v\",\"showlegend\":true,\"textposition\":\"auto\",\"x\":[1945,1946,1947,1953,1954,1955,1956,1957,1958,1959,1960,1961,1962,1963,1964],\"xaxis\":\"x\",\"y\":[2677.75,993.0833333333334,760.25,1570.6666666666667,783.3333333333334,880.1666666666666,1312.6666666666667,1134.4285714285713,647.0,601.2,488.4,302.0,241.16666666666666,279.75,314.75],\"yaxis\":\"y\",\"type\":\"bar\"},{\"alignmentgroup\":\"True\",\"hovertemplate\":\"State=WV\\u003cbr\\u003eYear=%{x}\\u003cbr\\u003eNumber of Foreign Workers=%{y}\\u003cextra\\u003e\\u003c\\u002fextra\\u003e\",\"legendgroup\":\"WV\",\"marker\":{\"color\":\"#FF6692\",\"pattern\":{\"shape\":\"\"}},\"name\":\"WV\",\"offsetgroup\":\"WV\",\"orientation\":\"v\",\"showlegend\":true,\"textposition\":\"auto\",\"x\":[1945,1953,1954,1955,1956,1957,1958,1964,1967,1968,1969,1970,1971,1972],\"xaxis\":\"x\",\"y\":[129.42857142857142,280.0,302.0,161.0,190.0,147.33333333333334,113.33333333333333,8.0,167.5,403.0,516.5,285.0,458.5,360.0],\"yaxis\":\"y\",\"type\":\"bar\"},{\"alignmentgroup\":\"True\",\"hovertemplate\":\"State=WY\\u003cbr\\u003eYear=%{x}\\u003cbr\\u003eNumber of Foreign Workers=%{y}\\u003cextra\\u003e\\u003c\\u002fextra\\u003e\",\"legendgroup\":\"WY\",\"marker\":{\"color\":\"#B6E880\",\"pattern\":{\"shape\":\"\"}},\"name\":\"WY\",\"offsetgroup\":\"WY\",\"orientation\":\"v\",\"showlegend\":true,\"textposition\":\"auto\",\"x\":[1945,1946,1947,1953,1954,1955,1956,1957,1958,1959,1960,1961,1962,1963,1964],\"xaxis\":\"x\",\"y\":[1464.0,468.75,258.6363636363636,69.0,281.25,282.0,523.8,518.2,394.8,434.5,351.25,476.0,396.0,621.6666666666666,592.3333333333334],\"yaxis\":\"y\",\"type\":\"bar\"}],                        {\"template\":{\"data\":{\"histogram2dcontour\":[{\"type\":\"histogram2dcontour\",\"colorbar\":{\"outlinewidth\":0,\"ticks\":\"\"},\"colorscale\":[[0.0,\"#0d0887\"],[0.1111111111111111,\"#46039f\"],[0.2222222222222222,\"#7201a8\"],[0.3333333333333333,\"#9c179e\"],[0.4444444444444444,\"#bd3786\"],[0.5555555555555556,\"#d8576b\"],[0.6666666666666666,\"#ed7953\"],[0.7777777777777778,\"#fb9f3a\"],[0.8888888888888888,\"#fdca26\"],[1.0,\"#f0f921\"]]}],\"choropleth\":[{\"type\":\"choropleth\",\"colorbar\":{\"outlinewidth\":0,\"ticks\":\"\"}}],\"histogram2d\":[{\"type\":\"histogram2d\",\"colorbar\":{\"outlinewidth\":0,\"ticks\":\"\"},\"colorscale\":[[0.0,\"#0d0887\"],[0.1111111111111111,\"#46039f\"],[0.2222222222222222,\"#7201a8\"],[0.3333333333333333,\"#9c179e\"],[0.4444444444444444,\"#bd3786\"],[0.5555555555555556,\"#d8576b\"],[0.6666666666666666,\"#ed7953\"],[0.7777777777777778,\"#fb9f3a\"],[0.8888888888888888,\"#fdca26\"],[1.0,\"#f0f921\"]]}],\"heatmap\":[{\"type\":\"heatmap\",\"colorbar\":{\"outlinewidth\":0,\"ticks\":\"\"},\"colorscale\":[[0.0,\"#0d0887\"],[0.1111111111111111,\"#46039f\"],[0.2222222222222222,\"#7201a8\"],[0.3333333333333333,\"#9c179e\"],[0.4444444444444444,\"#bd3786\"],[0.5555555555555556,\"#d8576b\"],[0.6666666666666666,\"#ed7953\"],[0.7777777777777778,\"#fb9f3a\"],[0.8888888888888888,\"#fdca26\"],[1.0,\"#f0f921\"]]}],\"heatmapgl\":[{\"type\":\"heatmapgl\",\"colorbar\":{\"outlinewidth\":0,\"ticks\":\"\"},\"colorscale\":[[0.0,\"#0d0887\"],[0.1111111111111111,\"#46039f\"],[0.2222222222222222,\"#7201a8\"],[0.3333333333333333,\"#9c179e\"],[0.4444444444444444,\"#bd3786\"],[0.5555555555555556,\"#d8576b\"],[0.6666666666666666,\"#ed7953\"],[0.7777777777777778,\"#fb9f3a\"],[0.8888888888888888,\"#fdca26\"],[1.0,\"#f0f921\"]]}],\"contourcarpet\":[{\"type\":\"contourcarpet\",\"colorbar\":{\"outlinewidth\":0,\"ticks\":\"\"}}],\"contour\":[{\"type\":\"contour\",\"colorbar\":{\"outlinewidth\":0,\"ticks\":\"\"},\"colorscale\":[[0.0,\"#0d0887\"],[0.1111111111111111,\"#46039f\"],[0.2222222222222222,\"#7201a8\"],[0.3333333333333333,\"#9c179e\"],[0.4444444444444444,\"#bd3786\"],[0.5555555555555556,\"#d8576b\"],[0.6666666666666666,\"#ed7953\"],[0.7777777777777778,\"#fb9f3a\"],[0.8888888888888888,\"#fdca26\"],[1.0,\"#f0f921\"]]}],\"surface\":[{\"type\":\"surface\",\"colorbar\":{\"outlinewidth\":0,\"ticks\":\"\"},\"colorscale\":[[0.0,\"#0d0887\"],[0.1111111111111111,\"#46039f\"],[0.2222222222222222,\"#7201a8\"],[0.3333333333333333,\"#9c179e\"],[0.4444444444444444,\"#bd3786\"],[0.5555555555555556,\"#d8576b\"],[0.6666666666666666,\"#ed7953\"],[0.7777777777777778,\"#fb9f3a\"],[0.8888888888888888,\"#fdca26\"],[1.0,\"#f0f921\"]]}],\"mesh3d\":[{\"type\":\"mesh3d\",\"colorbar\":{\"outlinewidth\":0,\"ticks\":\"\"}}],\"scatter\":[{\"fillpattern\":{\"fillmode\":\"overlay\",\"size\":10,\"solidity\":0.2},\"type\":\"scatter\"}],\"parcoords\":[{\"type\":\"parcoords\",\"line\":{\"colorbar\":{\"outlinewidth\":0,\"ticks\":\"\"}}}],\"scatterpolargl\":[{\"type\":\"scatterpolargl\",\"marker\":{\"colorbar\":{\"outlinewidth\":0,\"ticks\":\"\"}}}],\"bar\":[{\"error_x\":{\"color\":\"#2a3f5f\"},\"error_y\":{\"color\":\"#2a3f5f\"},\"marker\":{\"line\":{\"color\":\"#E5ECF6\",\"width\":0.5},\"pattern\":{\"fillmode\":\"overlay\",\"size\":10,\"solidity\":0.2}},\"type\":\"bar\"}],\"scattergeo\":[{\"type\":\"scattergeo\",\"marker\":{\"colorbar\":{\"outlinewidth\":0,\"ticks\":\"\"}}}],\"scatterpolar\":[{\"type\":\"scatterpolar\",\"marker\":{\"colorbar\":{\"outlinewidth\":0,\"ticks\":\"\"}}}],\"histogram\":[{\"marker\":{\"pattern\":{\"fillmode\":\"overlay\",\"size\":10,\"solidity\":0.2}},\"type\":\"histogram\"}],\"scattergl\":[{\"type\":\"scattergl\",\"marker\":{\"colorbar\":{\"outlinewidth\":0,\"ticks\":\"\"}}}],\"scatter3d\":[{\"type\":\"scatter3d\",\"line\":{\"colorbar\":{\"outlinewidth\":0,\"ticks\":\"\"}},\"marker\":{\"colorbar\":{\"outlinewidth\":0,\"ticks\":\"\"}}}],\"scattermapbox\":[{\"type\":\"scattermapbox\",\"marker\":{\"colorbar\":{\"outlinewidth\":0,\"ticks\":\"\"}}}],\"scatterternary\":[{\"type\":\"scatterternary\",\"marker\":{\"colorbar\":{\"outlinewidth\":0,\"ticks\":\"\"}}}],\"scattercarpet\":[{\"type\":\"scattercarpet\",\"marker\":{\"colorbar\":{\"outlinewidth\":0,\"ticks\":\"\"}}}],\"carpet\":[{\"aaxis\":{\"endlinecolor\":\"#2a3f5f\",\"gridcolor\":\"white\",\"linecolor\":\"white\",\"minorgridcolor\":\"white\",\"startlinecolor\":\"#2a3f5f\"},\"baxis\":{\"endlinecolor\":\"#2a3f5f\",\"gridcolor\":\"white\",\"linecolor\":\"white\",\"minorgridcolor\":\"white\",\"startlinecolor\":\"#2a3f5f\"},\"type\":\"carpet\"}],\"table\":[{\"cells\":{\"fill\":{\"color\":\"#EBF0F8\"},\"line\":{\"color\":\"white\"}},\"header\":{\"fill\":{\"color\":\"#C8D4E3\"},\"line\":{\"color\":\"white\"}},\"type\":\"table\"}],\"barpolar\":[{\"marker\":{\"line\":{\"color\":\"#E5ECF6\",\"width\":0.5},\"pattern\":{\"fillmode\":\"overlay\",\"size\":10,\"solidity\":0.2}},\"type\":\"barpolar\"}],\"pie\":[{\"automargin\":true,\"type\":\"pie\"}]},\"layout\":{\"autotypenumbers\":\"strict\",\"colorway\":[\"#636efa\",\"#EF553B\",\"#00cc96\",\"#ab63fa\",\"#FFA15A\",\"#19d3f3\",\"#FF6692\",\"#B6E880\",\"#FF97FF\",\"#FECB52\"],\"font\":{\"color\":\"#2a3f5f\"},\"hovermode\":\"closest\",\"hoverlabel\":{\"align\":\"left\"},\"paper_bgcolor\":\"white\",\"plot_bgcolor\":\"#E5ECF6\",\"polar\":{\"bgcolor\":\"#E5ECF6\",\"angularaxis\":{\"gridcolor\":\"white\",\"linecolor\":\"white\",\"ticks\":\"\"},\"radialaxis\":{\"gridcolor\":\"white\",\"linecolor\":\"white\",\"ticks\":\"\"}},\"ternary\":{\"bgcolor\":\"#E5ECF6\",\"aaxis\":{\"gridcolor\":\"white\",\"linecolor\":\"white\",\"ticks\":\"\"},\"baxis\":{\"gridcolor\":\"white\",\"linecolor\":\"white\",\"ticks\":\"\"},\"caxis\":{\"gridcolor\":\"white\",\"linecolor\":\"white\",\"ticks\":\"\"}},\"coloraxis\":{\"colorbar\":{\"outlinewidth\":0,\"ticks\":\"\"}},\"colorscale\":{\"sequential\":[[0.0,\"#0d0887\"],[0.1111111111111111,\"#46039f\"],[0.2222222222222222,\"#7201a8\"],[0.3333333333333333,\"#9c179e\"],[0.4444444444444444,\"#bd3786\"],[0.5555555555555556,\"#d8576b\"],[0.6666666666666666,\"#ed7953\"],[0.7777777777777778,\"#fb9f3a\"],[0.8888888888888888,\"#fdca26\"],[1.0,\"#f0f921\"]],\"sequentialminus\":[[0.0,\"#0d0887\"],[0.1111111111111111,\"#46039f\"],[0.2222222222222222,\"#7201a8\"],[0.3333333333333333,\"#9c179e\"],[0.4444444444444444,\"#bd3786\"],[0.5555555555555556,\"#d8576b\"],[0.6666666666666666,\"#ed7953\"],[0.7777777777777778,\"#fb9f3a\"],[0.8888888888888888,\"#fdca26\"],[1.0,\"#f0f921\"]],\"diverging\":[[0,\"#8e0152\"],[0.1,\"#c51b7d\"],[0.2,\"#de77ae\"],[0.3,\"#f1b6da\"],[0.4,\"#fde0ef\"],[0.5,\"#f7f7f7\"],[0.6,\"#e6f5d0\"],[0.7,\"#b8e186\"],[0.8,\"#7fbc41\"],[0.9,\"#4d9221\"],[1,\"#276419\"]]},\"xaxis\":{\"gridcolor\":\"white\",\"linecolor\":\"white\",\"ticks\":\"\",\"title\":{\"standoff\":15},\"zerolinecolor\":\"white\",\"automargin\":true,\"zerolinewidth\":2},\"yaxis\":{\"gridcolor\":\"white\",\"linecolor\":\"white\",\"ticks\":\"\",\"title\":{\"standoff\":15},\"zerolinecolor\":\"white\",\"automargin\":true,\"zerolinewidth\":2},\"scene\":{\"xaxis\":{\"backgroundcolor\":\"#E5ECF6\",\"gridcolor\":\"white\",\"linecolor\":\"white\",\"showbackground\":true,\"ticks\":\"\",\"zerolinecolor\":\"white\",\"gridwidth\":2},\"yaxis\":{\"backgroundcolor\":\"#E5ECF6\",\"gridcolor\":\"white\",\"linecolor\":\"white\",\"showbackground\":true,\"ticks\":\"\",\"zerolinecolor\":\"white\",\"gridwidth\":2},\"zaxis\":{\"backgroundcolor\":\"#E5ECF6\",\"gridcolor\":\"white\",\"linecolor\":\"white\",\"showbackground\":true,\"ticks\":\"\",\"zerolinecolor\":\"white\",\"gridwidth\":2}},\"shapedefaults\":{\"line\":{\"color\":\"#2a3f5f\"}},\"annotationdefaults\":{\"arrowcolor\":\"#2a3f5f\",\"arrowhead\":0,\"arrowwidth\":1},\"geo\":{\"bgcolor\":\"white\",\"landcolor\":\"#E5ECF6\",\"subunitcolor\":\"white\",\"showland\":true,\"showlakes\":true,\"lakecolor\":\"white\"},\"title\":{\"x\":0.05},\"mapbox\":{\"style\":\"light\"}}},\"xaxis\":{\"anchor\":\"y\",\"domain\":[0.0,1.0],\"title\":{\"text\":\"Year\"}},\"yaxis\":{\"anchor\":\"x\",\"domain\":[0.0,1.0],\"title\":{\"text\":\"Number of Foreign Workers\"}},\"legend\":{\"title\":{\"text\":\"State\"},\"tracegroupgap\":0},\"title\":{\"text\":\"Foreign Workers in the United States\",\"x\":0.5,\"xanchor\":\"center\"},\"barmode\":\"relative\"},                        {\"responsive\": true}                    ).then(function(){\n",
       "                            \n",
       "var gd = document.getElementById('e891216c-b16b-4989-a1be-6ad3903d60ce');\n",
       "var x = new MutationObserver(function (mutations, observer) {{\n",
       "        var display = window.getComputedStyle(gd).display;\n",
       "        if (!display || display === 'none') {{\n",
       "            console.log([gd, 'removed!']);\n",
       "            Plotly.purge(gd);\n",
       "            observer.disconnect();\n",
       "        }}\n",
       "}});\n",
       "\n",
       "// Listen for the removal of the full notebook cells\n",
       "var notebookContainer = gd.closest('#notebook-container');\n",
       "if (notebookContainer) {{\n",
       "    x.observe(notebookContainer, {childList: true});\n",
       "}}\n",
       "\n",
       "// Listen for the clearing of the current output cell\n",
       "var outputEl = gd.closest('.output');\n",
       "if (outputEl) {{\n",
       "    x.observe(outputEl, {childList: true});\n",
       "}}\n",
       "\n",
       "                        })                };                });            </script>        </div>"
      ]
     },
     "metadata": {},
     "output_type": "display_data"
    }
   ],
   "source": [
    "#filter out missing data\n",
    "foreign = farmworkers_df[farmworkers_df['TotalForeign'].notna()]\n",
    "foreign = foreign[foreign['TotalForeign'] > 0.0]\n",
    "\n",
    "foreign = foreign.groupby(['State', 'Year'])['TotalForeign'].mean().reset_index()\n",
    "\n",
    "foreignfig = px.bar(foreign, x='Year', y='TotalForeign', color='State', title='Foreign Workers in the United States',\n",
    "                   labels={'TotalForeign': 'Number of Foreign Workers'})\n",
    "foreignfig.update_layout(title={'x':0.5, 'xanchor': 'center'})"
   ]
  },
  {
   "cell_type": "markdown",
   "id": "25cc5646-7309-41ea-b88c-e0d602536842",
   "metadata": {},
   "source": [
    "**4. What are some reasons this data may not accurately reflect foreign workers on farms in this time period?**"
   ]
  },
  {
   "cell_type": "markdown",
   "id": "d0bd4dab-d6df-494b-9ca7-da3942de4a82",
   "metadata": {},
   "source": [
    "***So many potential responses here. First of all, not all states reporting at all times (basically nothing after 1964). Some of the values of foreign workers who weren't Bracero workers were negative, despite the fact that Braceros would automatically be foreign workers. (This was even the case in years other than the gap years noted by the data year range.) Also, likely does not account for unauthorized immigrants, because otherwise Bracero workers likely wouldn't be such a huge portion of the foreign workers.***"
   ]
  },
  {
   "cell_type": "markdown",
   "id": "f3b027de-cc5f-4860-bf99-35aed4b4888b",
   "metadata": {},
   "source": [
    "#### Part 3: Domestic Worker Analysis"
   ]
  },
  {
   "cell_type": "markdown",
   "id": "72148302-0a3a-4362-b826-c860786e6ad4",
   "metadata": {},
   "source": [
    "**1. Create a graph that shows the changes in the number of domestic workers over time.**\n",
    "\n",
    "*NOTE: While most of this repeats previous code, keep in mind that there is no \"Domestic\" column. How will you account for all domestic workers?*"
   ]
  },
  {
   "cell_type": "code",
   "execution_count": 304,
   "id": "92b28e9a-bd96-4747-b33e-15293e9e3fce",
   "metadata": {},
   "outputs": [
    {
     "data": {
      "application/vnd.plotly.v1+json": {
       "config": {
        "plotlyServerURL": "https://plot.ly"
       },
       "data": [
        {
         "alignmentgroup": "True",
         "hovertemplate": "State=AL<br>Year=%{x}<br>Number of Domestic Workers=%{y}<extra></extra>",
         "legendgroup": "AL",
         "marker": {
          "color": "#636efa",
          "pattern": {
           "shape": ""
          }
         },
         "name": "AL",
         "offsetgroup": "AL",
         "orientation": "v",
         "showlegend": true,
         "textposition": "auto",
         "type": "bar",
         "x": [
          1953,
          1954,
          1955,
          1956,
          1957,
          1958,
          1959,
          1960,
          1961,
          1962,
          1963,
          1964,
          1965,
          1966,
          1967,
          1968,
          1969,
          1970,
          1971,
          1972,
          1973
         ],
         "xaxis": "x",
         "y": [
          21920.999999999996,
          22323.8,
          25188.285714285714,
          20194,
          12869,
          10241.42857142857,
          14877.5,
          13387.142857142859,
          12556.42857142857,
          11134.285714285714,
          10859.285714285716,
          9415.714285714286,
          8210.714285714284,
          6147.5,
          5924.166666666666,
          5371.875,
          6130,
          7016.875,
          7128.125,
          6305.625,
          6172.916666666666
         ],
         "yaxis": "y"
        },
        {
         "alignmentgroup": "True",
         "hovertemplate": "State=AR<br>Year=%{x}<br>Number of Domestic Workers=%{y}<extra></extra>",
         "legendgroup": "AR",
         "marker": {
          "color": "#EF553B",
          "pattern": {
           "shape": ""
          }
         },
         "name": "AR",
         "offsetgroup": "AR",
         "orientation": "v",
         "showlegend": true,
         "textposition": "auto",
         "type": "bar",
         "x": [
          1953,
          1954,
          1955,
          1956,
          1957,
          1958,
          1959,
          1960,
          1961,
          1962,
          1963,
          1964,
          1965,
          1966,
          1967,
          1968,
          1969,
          1970,
          1971,
          1972,
          1973
         ],
         "xaxis": "x",
         "y": [
          29167.666666666668,
          31111.666666666664,
          39058.75,
          29527.75,
          34854,
          33946.375,
          39561,
          39736.71428571428,
          34673.71428571428,
          29221.75,
          28418.857142857145,
          26590.000000000004,
          21457.85714285714,
          13632.5,
          8874.166666666668,
          7070.714285714285,
          5146.4285714285725,
          4441.666666666667,
          4529.166666666667,
          5354.166666666666,
          4575
         ],
         "yaxis": "y"
        },
        {
         "alignmentgroup": "True",
         "hovertemplate": "State=AZ<br>Year=%{x}<br>Number of Domestic Workers=%{y}<extra></extra>",
         "legendgroup": "AZ",
         "marker": {
          "color": "#00cc96",
          "pattern": {
           "shape": ""
          }
         },
         "name": "AZ",
         "offsetgroup": "AZ",
         "orientation": "v",
         "showlegend": true,
         "textposition": "auto",
         "type": "bar",
         "x": [
          1953,
          1954,
          1955,
          1956,
          1957,
          1958,
          1959,
          1960,
          1961,
          1962,
          1963,
          1964,
          1965,
          1966,
          1967,
          1968,
          1969,
          1970,
          1971,
          1972,
          1973
         ],
         "xaxis": "x",
         "y": [
          20101.666666666664,
          19642.166666666664,
          17559.625,
          19296.125,
          17839.625,
          19573,
          16927.285714285714,
          15642.142857142857,
          13180.142857142857,
          13098.75,
          13362.833333333334,
          14107.416666666666,
          15892.818181818182,
          16355.666666666666,
          16165.699999999999,
          16178.416666666668,
          15853.333333333334,
          14314,
          14924.500000000002,
          14950.5,
          14868.285714285714
         ],
         "yaxis": "y"
        },
        {
         "alignmentgroup": "True",
         "hovertemplate": "State=CA<br>Year=%{x}<br>Number of Domestic Workers=%{y}<extra></extra>",
         "legendgroup": "CA",
         "marker": {
          "color": "#ab63fa",
          "pattern": {
           "shape": ""
          }
         },
         "name": "CA",
         "offsetgroup": "CA",
         "orientation": "v",
         "showlegend": true,
         "textposition": "auto",
         "type": "bar",
         "x": [
          1953,
          1954,
          1955,
          1956,
          1957,
          1958,
          1959,
          1960,
          1961,
          1962,
          1963,
          1964,
          1965,
          1966,
          1967,
          1968,
          1969,
          1970,
          1971,
          1972,
          1973
         ],
         "xaxis": "x",
         "y": [
          143920,
          150934.64285714287,
          157800,
          150433.75,
          149511.25,
          151550,
          148937.14285714284,
          145742.85714285716,
          147314.2857142857,
          123906.25,
          98891.66666666666,
          103095.83333333333,
          121282.72727272726,
          120470,
          119618,
          118067.49999999999,
          115670.83333333334,
          125837.55555555555,
          113774.16666666667,
          108432.5,
          100948.57142857143
         ],
         "yaxis": "y"
        },
        {
         "alignmentgroup": "True",
         "hovertemplate": "State=CO<br>Year=%{x}<br>Number of Domestic Workers=%{y}<extra></extra>",
         "legendgroup": "CO",
         "marker": {
          "color": "#FFA15A",
          "pattern": {
           "shape": ""
          }
         },
         "name": "CO",
         "offsetgroup": "CO",
         "orientation": "v",
         "showlegend": true,
         "textposition": "auto",
         "type": "bar",
         "x": [
          1953,
          1954,
          1955,
          1956,
          1957,
          1958,
          1959,
          1960,
          1961,
          1962,
          1963,
          1964,
          1965,
          1966,
          1967,
          1968,
          1969,
          1970,
          1971,
          1972,
          1973
         ],
         "xaxis": "x",
         "y": [
          16847.75,
          14306.666666666668,
          14888,
          14120,
          14305.571428571428,
          14233.857142857143,
          14448.166666666666,
          12527.42857142857,
          11608.42857142857,
          10383.857142857143,
          8510.428571428572,
          8265.42857142857,
          10496.142857142857,
          9485.285714285714,
          9409.285714285716,
          7872.125,
          7683.5,
          6676.375,
          5930.375,
          5500.625,
          4596
         ],
         "yaxis": "y"
        },
        {
         "alignmentgroup": "True",
         "hovertemplate": "State=CT<br>Year=%{x}<br>Number of Domestic Workers=%{y}<extra></extra>",
         "legendgroup": "CT",
         "marker": {
          "color": "#19d3f3",
          "pattern": {
           "shape": ""
          }
         },
         "name": "CT",
         "offsetgroup": "CT",
         "orientation": "v",
         "showlegend": true,
         "textposition": "auto",
         "type": "bar",
         "x": [
          1953,
          1954,
          1955,
          1956,
          1957,
          1958,
          1959,
          1960,
          1961,
          1962,
          1963,
          1964,
          1965,
          1966,
          1967,
          1968,
          1969,
          1970,
          1971,
          1972,
          1973
         ],
         "xaxis": "x",
         "y": [
          7249.999999999999,
          5950.714285714285,
          6638.75,
          5660.625,
          5334.25,
          5522.5,
          6510,
          5927.142857142857,
          6024.285714285715,
          6087.5,
          5811.666666666667,
          6171.666666666667,
          6635,
          5653.333333333333,
          5519,
          4633.416666666666,
          4364.25,
          4593.333333333333,
          3399.1666666666665,
          3015.8333333333335,
          2894.285714285714
         ],
         "yaxis": "y"
        },
        {
         "alignmentgroup": "True",
         "hovertemplate": "State=DE<br>Year=%{x}<br>Number of Domestic Workers=%{y}<extra></extra>",
         "legendgroup": "DE",
         "marker": {
          "color": "#FF6692",
          "pattern": {
           "shape": ""
          }
         },
         "name": "DE",
         "offsetgroup": "DE",
         "orientation": "v",
         "showlegend": true,
         "textposition": "auto",
         "type": "bar",
         "x": [
          1953,
          1954,
          1955,
          1956,
          1957,
          1958,
          1959,
          1960,
          1961,
          1962,
          1963,
          1964,
          1965,
          1966,
          1967,
          1968,
          1969,
          1970,
          1971,
          1972,
          1973
         ],
         "xaxis": "x",
         "y": [
          1616.25,
          1362.1666666666667,
          1522.2857142857144,
          1981.3333333333333,
          1740.142857142857,
          1679.857142857143,
          2443.6,
          1765.7142857142858,
          1867.1666666666667,
          3234,
          3221.4285714285716,
          2757.285714285714,
          2972.5714285714284,
          2916.8571428571427,
          3197.5,
          3205,
          3275.833333333333,
          2967.833333333333,
          2495.714285714286,
          2550,
          2502
         ],
         "yaxis": "y"
        },
        {
         "alignmentgroup": "True",
         "hovertemplate": "State=FL<br>Year=%{x}<br>Number of Domestic Workers=%{y}<extra></extra>",
         "legendgroup": "FL",
         "marker": {
          "color": "#B6E880",
          "pattern": {
           "shape": ""
          }
         },
         "name": "FL",
         "offsetgroup": "FL",
         "orientation": "v",
         "showlegend": true,
         "textposition": "auto",
         "type": "bar",
         "x": [
          1953,
          1954,
          1955,
          1956,
          1957,
          1958,
          1959,
          1960,
          1961,
          1962,
          1963,
          1964,
          1965,
          1966,
          1967,
          1968,
          1969,
          1970,
          1971,
          1972,
          1973
         ],
         "xaxis": "x",
         "y": [
          29531.333333333332,
          22637.571428571428,
          30333.875,
          31003.625,
          33901.375,
          34223.5,
          29929.714285714283,
          31007.142857142855,
          29610.428571428572,
          36137.25,
          44925.91666666667,
          44999.5,
          51003.75,
          50440.75,
          49473.7,
          48764.25,
          49405.083333333336,
          47143.33333333333,
          50933.916666666664,
          51100.833333333336,
          60548.71428571429
         ],
         "yaxis": "y"
        },
        {
         "alignmentgroup": "True",
         "hovertemplate": "State=GA<br>Year=%{x}<br>Number of Domestic Workers=%{y}<extra></extra>",
         "legendgroup": "GA",
         "marker": {
          "color": "#FF97FF",
          "pattern": {
           "shape": ""
          }
         },
         "name": "GA",
         "offsetgroup": "GA",
         "orientation": "v",
         "showlegend": true,
         "textposition": "auto",
         "type": "bar",
         "x": [
          1953,
          1954,
          1955,
          1956,
          1957,
          1958,
          1959,
          1960,
          1961,
          1962,
          1963,
          1964,
          1965,
          1966,
          1967,
          1968,
          1969,
          1970,
          1971,
          1972,
          1973
         ],
         "xaxis": "x",
         "y": [
          19558.25,
          13231.142857142859,
          13242.375,
          16084.285714285716,
          15921.75,
          29399.333333333336,
          33623,
          35472.99999999999,
          28709.571428571428,
          30671.666666666668,
          28852.000000000004,
          23957.166666666668,
          22584.166666666664,
          21685.5,
          22091.166666666664,
          22507.000000000004,
          24392.833333333332,
          23972.833333333332,
          26556.333333333332,
          26023.833333333332,
          23752
         ],
         "yaxis": "y"
        },
        {
         "alignmentgroup": "True",
         "hovertemplate": "State=IA<br>Year=%{x}<br>Number of Domestic Workers=%{y}<extra></extra>",
         "legendgroup": "IA",
         "marker": {
          "color": "#FECB52",
          "pattern": {
           "shape": ""
          }
         },
         "name": "IA",
         "offsetgroup": "IA",
         "orientation": "v",
         "showlegend": true,
         "textposition": "auto",
         "type": "bar",
         "x": [
          1953,
          1954,
          1955,
          1956,
          1957,
          1958,
          1959,
          1960,
          1961,
          1962,
          1963,
          1964,
          1965,
          1966,
          1967,
          1968,
          1969,
          1970,
          1971,
          1972,
          1973
         ],
         "xaxis": "x",
         "y": [
          482.33333333333337,
          3495.9999999999995,
          2658.8571428571427,
          2699,
          938.3333333333334,
          3471.6666666666665,
          4941.666666666667,
          3599.8,
          5882,
          8270.142857142857,
          7309.428571428572,
          12233.857142857143,
          13809,
          8702.75,
          7784.833333333333,
          8602.5,
          10477.714285714286,
          5510.571428571428,
          9059.285714285714,
          8393.142857142857,
          8868
         ],
         "yaxis": "y"
        },
        {
         "alignmentgroup": "True",
         "hovertemplate": "State=ID<br>Year=%{x}<br>Number of Domestic Workers=%{y}<extra></extra>",
         "legendgroup": "ID",
         "marker": {
          "color": "#636efa",
          "pattern": {
           "shape": ""
          }
         },
         "name": "ID",
         "offsetgroup": "ID",
         "orientation": "v",
         "showlegend": true,
         "textposition": "auto",
         "type": "bar",
         "x": [
          1953,
          1954,
          1955,
          1956,
          1957,
          1958,
          1959,
          1960,
          1961,
          1962,
          1963,
          1964,
          1965,
          1966,
          1967,
          1968,
          1969,
          1970,
          1971,
          1972,
          1973
         ],
         "xaxis": "x",
         "y": [
          8989.5,
          13891.166666666668,
          11952.666666666666,
          11081.333333333334,
          13275.499999999998,
          11503.285714285714,
          12080.999999999998,
          10528.57142857143,
          13061.333333333332,
          12870.999999999998,
          11522.142857142857,
          9905.25,
          9443.5,
          9365,
          11173.57142857143,
          8151.666666666667,
          8250.555555555557,
          8618.125,
          8327.125,
          7380.222222222223,
          7002
         ],
         "yaxis": "y"
        },
        {
         "alignmentgroup": "True",
         "hovertemplate": "State=IL<br>Year=%{x}<br>Number of Domestic Workers=%{y}<extra></extra>",
         "legendgroup": "IL",
         "marker": {
          "color": "#EF553B",
          "pattern": {
           "shape": ""
          }
         },
         "name": "IL",
         "offsetgroup": "IL",
         "orientation": "v",
         "showlegend": true,
         "textposition": "auto",
         "type": "bar",
         "x": [
          1953,
          1954,
          1955,
          1956,
          1957,
          1958,
          1959,
          1960,
          1961,
          1962,
          1963,
          1964,
          1965,
          1966,
          1967,
          1968,
          1969,
          1970,
          1971,
          1972,
          1973
         ],
         "xaxis": "x",
         "y": [
          4512.666666666667,
          5432.571428571428,
          5683.666666666667,
          6394.5,
          7706.6,
          6091,
          8050.2,
          6434.333333333333,
          6232,
          6811.000000000001,
          5610.833333333333,
          5916.666666666667,
          5824.666666666667,
          5318.666666666667,
          6019.666666666666,
          4507.666666666667,
          4809.999999999999,
          3980.1666666666665,
          5988.571428571428,
          5070.166666666667,
          5006
         ],
         "yaxis": "y"
        },
        {
         "alignmentgroup": "True",
         "hovertemplate": "State=IN<br>Year=%{x}<br>Number of Domestic Workers=%{y}<extra></extra>",
         "legendgroup": "IN",
         "marker": {
          "color": "#00cc96",
          "pattern": {
           "shape": ""
          }
         },
         "name": "IN",
         "offsetgroup": "IN",
         "orientation": "v",
         "showlegend": true,
         "textposition": "auto",
         "type": "bar",
         "x": [
          1953,
          1954,
          1955,
          1956,
          1957,
          1958,
          1959,
          1960,
          1961,
          1962,
          1963,
          1964,
          1965,
          1966,
          1967,
          1968,
          1969,
          1970,
          1971,
          1972,
          1973
         ],
         "xaxis": "x",
         "y": [
          5339.666666666666,
          4435.833333333333,
          3919.1666666666665,
          4441.857142857143,
          4576.833333333333,
          3745.285714285714,
          5087.4,
          4097.285714285715,
          3927.4285714285716,
          5539.833333333333,
          4913.666666666667,
          3551.714285714286,
          4165.857142857143,
          4603.333333333333,
          5498.166666666667,
          4651.333333333334,
          3862.1428571428573,
          4339.666666666666,
          4918.571428571428,
          3649.8333333333335,
          2352.333333333333
         ],
         "yaxis": "y"
        },
        {
         "alignmentgroup": "True",
         "hovertemplate": "State=KS<br>Year=%{x}<br>Number of Domestic Workers=%{y}<extra></extra>",
         "legendgroup": "KS",
         "marker": {
          "color": "#ab63fa",
          "pattern": {
           "shape": ""
          }
         },
         "name": "KS",
         "offsetgroup": "KS",
         "orientation": "v",
         "showlegend": true,
         "textposition": "auto",
         "type": "bar",
         "x": [
          1953,
          1954,
          1955,
          1956,
          1957,
          1958,
          1959,
          1960,
          1961,
          1962,
          1963,
          1964,
          1965,
          1966,
          1967,
          1968,
          1969,
          1970,
          1971,
          1972,
          1973
         ],
         "xaxis": "x",
         "y": [
          6691.666666666666,
          6187.5,
          11391.666666666666,
          10625.666666666666,
          13104.285714285714,
          21035.285714285714,
          23193.333333333336,
          19903.285714285714,
          16633,
          16847,
          16166.714285714286,
          14952.857142857143,
          15042.857142857143,
          12703.571428571428,
          9603.571428571428,
          7943.75,
          8433.125,
          7996.25,
          8495,
          9171.42857142857,
          8706.25
         ],
         "yaxis": "y"
        },
        {
         "alignmentgroup": "True",
         "hovertemplate": "State=KY<br>Year=%{x}<br>Number of Domestic Workers=%{y}<extra></extra>",
         "legendgroup": "KY",
         "marker": {
          "color": "#FFA15A",
          "pattern": {
           "shape": ""
          }
         },
         "name": "KY",
         "offsetgroup": "KY",
         "orientation": "v",
         "showlegend": true,
         "textposition": "auto",
         "type": "bar",
         "x": [
          1953,
          1954,
          1955,
          1956,
          1957,
          1958,
          1959,
          1960,
          1961,
          1962,
          1963,
          1964,
          1965,
          1966,
          1967,
          1968,
          1969,
          1970,
          1971,
          1972,
          1973
         ],
         "xaxis": "x",
         "y": [
          8075.75,
          8306.25,
          9940,
          10978.500000000002,
          11784.000000000002,
          12172.166666666668,
          12371.833333333334,
          11144.428571428572,
          12185.571428571428,
          10918.199999999999,
          13808.599999999999,
          18893.4,
          19429.8,
          19022.4,
          19004,
          15130.857142857143,
          15469.999999999998,
          15177.42857142857,
          14805.5,
          17229.285714285714,
          13015.333333333334
         ],
         "yaxis": "y"
        },
        {
         "alignmentgroup": "True",
         "hovertemplate": "State=LA<br>Year=%{x}<br>Number of Domestic Workers=%{y}<extra></extra>",
         "legendgroup": "LA",
         "marker": {
          "color": "#19d3f3",
          "pattern": {
           "shape": ""
          }
         },
         "name": "LA",
         "offsetgroup": "LA",
         "orientation": "v",
         "showlegend": true,
         "textposition": "auto",
         "type": "bar",
         "x": [
          1953,
          1954,
          1955,
          1956,
          1957,
          1958,
          1959,
          1960,
          1961,
          1962,
          1963,
          1964,
          1965,
          1966,
          1967,
          1968,
          1969,
          1970,
          1971,
          1972,
          1973
         ],
         "xaxis": "x",
         "y": [
          11931.083333333332,
          13464.857142857141,
          14276.25,
          14251.5,
          12651.875,
          12900,
          18996.428571428572,
          17485.714285714286,
          17753.57142857143,
          16187.5,
          10456.250000000002,
          9760.416666666668,
          8308.083333333332,
          5908.333333333333,
          4527.5,
          3372.9166666666665,
          2744.4444444444443,
          4185,
          3304.1666666666665,
          3097.916666666667,
          1821.4285714285713
         ],
         "yaxis": "y"
        },
        {
         "alignmentgroup": "True",
         "hovertemplate": "State=MA<br>Year=%{x}<br>Number of Domestic Workers=%{y}<extra></extra>",
         "legendgroup": "MA",
         "marker": {
          "color": "#FF6692",
          "pattern": {
           "shape": ""
          }
         },
         "name": "MA",
         "offsetgroup": "MA",
         "orientation": "v",
         "showlegend": true,
         "textposition": "auto",
         "type": "bar",
         "x": [
          1953,
          1954,
          1955,
          1956,
          1957,
          1958,
          1959,
          1960,
          1961,
          1962,
          1963,
          1964,
          1965,
          1966,
          1967,
          1968,
          1969,
          1970,
          1971,
          1972,
          1973
         ],
         "xaxis": "x",
         "y": [
          8238,
          8649.285714285716,
          10331.5,
          9181.857142857143,
          8503.428571428572,
          7910,
          7429.714285714286,
          8389.714285714286,
          8394.285714285716,
          8110.5,
          5496.166666666667,
          5258.666666666667,
          5664.727272727272,
          6608.777777777777,
          6981.142857142858,
          5735.666666666666,
          5240.180555555556,
          5495.5,
          3883.6000000000004,
          3561.4,
          3643.75
         ],
         "yaxis": "y"
        },
        {
         "alignmentgroup": "True",
         "hovertemplate": "State=MD<br>Year=%{x}<br>Number of Domestic Workers=%{y}<extra></extra>",
         "legendgroup": "MD",
         "marker": {
          "color": "#B6E880",
          "pattern": {
           "shape": ""
          }
         },
         "name": "MD",
         "offsetgroup": "MD",
         "orientation": "v",
         "showlegend": true,
         "textposition": "auto",
         "type": "bar",
         "x": [
          1953,
          1954,
          1955,
          1956,
          1957,
          1958,
          1959,
          1960,
          1961,
          1962,
          1963,
          1964,
          1965,
          1966,
          1967,
          1968,
          1969,
          1970,
          1971,
          1972,
          1973
         ],
         "xaxis": "x",
         "y": [
          5707.616666666666,
          5252.916666666667,
          6812.666666666667,
          5263.5,
          5584.666666666667,
          5261,
          5889.714285714285,
          6270,
          6215.333333333333,
          5495.333333333333,
          5411,
          5522.714285714285,
          5080,
          3797.2222222222226,
          4066,
          4181.125,
          3707.25,
          3611.9999999999995,
          3349,
          3456.142857142857,
          2534.333333333333
         ],
         "yaxis": "y"
        },
        {
         "alignmentgroup": "True",
         "hovertemplate": "State=ME<br>Year=%{x}<br>Number of Domestic Workers=%{y}<extra></extra>",
         "legendgroup": "ME",
         "marker": {
          "color": "#FF97FF",
          "pattern": {
           "shape": ""
          }
         },
         "name": "ME",
         "offsetgroup": "ME",
         "orientation": "v",
         "showlegend": true,
         "textposition": "auto",
         "type": "bar",
         "x": [
          1953,
          1954,
          1955,
          1956,
          1957,
          1958,
          1959,
          1960,
          1961,
          1962,
          1963,
          1964,
          1965,
          1966,
          1967,
          1968,
          1969,
          1970,
          1971,
          1972,
          1973
         ],
         "xaxis": "x",
         "y": [
          13354,
          15095.5,
          10865.5,
          15581.5,
          13138.166666666666,
          11007.5,
          11641.6,
          10114.166666666668,
          9435.666666666666,
          9163,
          8848,
          7265.333333333333,
          10170.199999999999,
          5331.333333333333,
          8130.599999999999,
          4128.5,
          5766.2,
          5301.5,
          2918,
          3440.8,
          2553.5
         ],
         "yaxis": "y"
        },
        {
         "alignmentgroup": "True",
         "hovertemplate": "State=MI<br>Year=%{x}<br>Number of Domestic Workers=%{y}<extra></extra>",
         "legendgroup": "MI",
         "marker": {
          "color": "#FECB52",
          "pattern": {
           "shape": ""
          }
         },
         "name": "MI",
         "offsetgroup": "MI",
         "orientation": "v",
         "showlegend": true,
         "textposition": "auto",
         "type": "bar",
         "x": [
          1953,
          1954,
          1955,
          1956,
          1957,
          1958,
          1959,
          1960,
          1961,
          1962,
          1963,
          1964,
          1965,
          1966,
          1967,
          1968,
          1969,
          1970,
          1971,
          1972,
          1973
         ],
         "xaxis": "x",
         "y": [
          26057.499999999996,
          30731.511904761905,
          32108.875,
          31599.5,
          35721.125,
          35373.25,
          37024.71428571429,
          38970.71428571429,
          34997,
          37353,
          25198.333333333336,
          28337.77777777778,
          31374.625,
          28015.75,
          35160.28571428571,
          27155.75,
          25786.375,
          22855.125,
          18986.25,
          15600.875,
          12525
         ],
         "yaxis": "y"
        },
        {
         "alignmentgroup": "True",
         "hovertemplate": "State=MN<br>Year=%{x}<br>Number of Domestic Workers=%{y}<extra></extra>",
         "legendgroup": "MN",
         "marker": {
          "color": "#636efa",
          "pattern": {
           "shape": ""
          }
         },
         "name": "MN",
         "offsetgroup": "MN",
         "orientation": "v",
         "showlegend": true,
         "textposition": "auto",
         "type": "bar",
         "x": [
          1953,
          1954,
          1955,
          1956,
          1957,
          1958,
          1959,
          1960,
          1961,
          1962,
          1963,
          1964,
          1965,
          1966,
          1967,
          1968,
          1969,
          1970,
          1971,
          1972,
          1973
         ],
         "xaxis": "x",
         "y": [
          15146.333333333334,
          4578.222222222223,
          5291.571428571428,
          5215.571428571428,
          5969.833333333333,
          5288.833333333333,
          5654,
          4618.571428571428,
          5433.857142857143,
          5384.142857142857,
          5498.714285714286,
          5767.428571428572,
          4585.142857142857,
          4471.714285714285,
          5096.166666666666,
          5201.428571428572,
          4311.333333333333,
          3439.4285714285716,
          3586.714285714286,
          null,
          3945
         ],
         "yaxis": "y"
        },
        {
         "alignmentgroup": "True",
         "hovertemplate": "State=MO<br>Year=%{x}<br>Number of Domestic Workers=%{y}<extra></extra>",
         "legendgroup": "MO",
         "marker": {
          "color": "#EF553B",
          "pattern": {
           "shape": ""
          }
         },
         "name": "MO",
         "offsetgroup": "MO",
         "orientation": "v",
         "showlegend": true,
         "textposition": "auto",
         "type": "bar",
         "x": [
          1953,
          1954,
          1955,
          1956,
          1957,
          1958,
          1959,
          1960,
          1961,
          1962,
          1963,
          1964,
          1965,
          1966,
          1967,
          1968,
          1969,
          1970,
          1971,
          1972,
          1973
         ],
         "xaxis": "x",
         "y": [
          22100,
          25668.333333333336,
          20692,
          25167.75,
          20752.5,
          15921.999999999998,
          27337.800000000003,
          14494,
          7148.428571428572,
          9842.857142857143,
          7824.222222222223,
          8938,
          6702.555555555556,
          2546.5,
          2280.857142857143,
          1575.7142857142858,
          2652.5714285714284,
          2390.25,
          2826.571428571429,
          2322.4999999999995,
          1948.75
         ],
         "yaxis": "y"
        },
        {
         "alignmentgroup": "True",
         "hovertemplate": "State=MS<br>Year=%{x}<br>Number of Domestic Workers=%{y}<extra></extra>",
         "legendgroup": "MS",
         "marker": {
          "color": "#00cc96",
          "pattern": {
           "shape": ""
          }
         },
         "name": "MS",
         "offsetgroup": "MS",
         "orientation": "v",
         "showlegend": true,
         "textposition": "auto",
         "type": "bar",
         "x": [
          1953,
          1954,
          1955,
          1956,
          1957,
          1958,
          1959,
          1960,
          1961,
          1962,
          1963,
          1964,
          1965,
          1966,
          1967,
          1968,
          1969,
          1970,
          1971,
          1972,
          1973
         ],
         "xaxis": "x",
         "y": [
          4740.5,
          11486.333333333334,
          9693,
          11295.166666666666,
          15841.75,
          11568.142857142859,
          14389,
          26406.333333333332,
          25236.5,
          21117.428571428572,
          26625.25,
          20988.100000000002,
          17098.88888888889,
          16121.4,
          5108.166666666667,
          9798.5,
          9663,
          8818.666666666666,
          5298,
          null,
          null
         ],
         "yaxis": "y"
        },
        {
         "alignmentgroup": "True",
         "hovertemplate": "State=MT<br>Year=%{x}<br>Number of Domestic Workers=%{y}<extra></extra>",
         "legendgroup": "MT",
         "marker": {
          "color": "#ab63fa",
          "pattern": {
           "shape": ""
          }
         },
         "name": "MT",
         "offsetgroup": "MT",
         "orientation": "v",
         "showlegend": true,
         "textposition": "auto",
         "type": "bar",
         "x": [
          1953,
          1954,
          1955,
          1956,
          1957,
          1958,
          1959,
          1960,
          1961,
          1962,
          1963,
          1964,
          1965,
          1966,
          1967,
          1968,
          1969,
          1970,
          1971,
          1972,
          1973
         ],
         "xaxis": "x",
         "y": [
          6980.5,
          8379.333333333334,
          6723.857142857143,
          7564.428571428571,
          5582.5714285714275,
          7284.428571428571,
          7288.333333333333,
          6383.285714285715,
          5694.857142857143,
          5595.75,
          4392.583333333334,
          4784.5,
          5305.818181818182,
          4974.75,
          5446.6,
          5331.583333333333,
          5630.916666666667,
          6342.111111111111,
          5037.25,
          4928.166666666666,
          4461.428571428572
         ],
         "yaxis": "y"
        },
        {
         "alignmentgroup": "True",
         "hovertemplate": "State=NC<br>Year=%{x}<br>Number of Domestic Workers=%{y}<extra></extra>",
         "legendgroup": "NC",
         "marker": {
          "color": "#FFA15A",
          "pattern": {
           "shape": ""
          }
         },
         "name": "NC",
         "offsetgroup": "NC",
         "orientation": "v",
         "showlegend": true,
         "textposition": "auto",
         "type": "bar",
         "x": [
          1953,
          1954,
          1955,
          1956,
          1957,
          1958,
          1959,
          1960,
          1961,
          1962,
          1963,
          1964,
          1965,
          1966,
          1967,
          1968,
          1969,
          1970,
          1971,
          1972,
          1973
         ],
         "xaxis": "x",
         "y": [
          10750,
          16006.5,
          17522.166666666664,
          19511.5,
          20089,
          41459.375,
          56319.14285714286,
          58345,
          71742.42857142857,
          70705.375,
          60515.833333333336,
          96379.58333333333,
          92031.08333333333,
          83412.66666666667,
          88713.5,
          76887.33333333334,
          72208.58333333333,
          88413.11111111111,
          65324.41666666667,
          65687.75,
          56737.14285714286
         ],
         "yaxis": "y"
        },
        {
         "alignmentgroup": "True",
         "hovertemplate": "State=ND<br>Year=%{x}<br>Number of Domestic Workers=%{y}<extra></extra>",
         "legendgroup": "ND",
         "marker": {
          "color": "#19d3f3",
          "pattern": {
           "shape": ""
          }
         },
         "name": "ND",
         "offsetgroup": "ND",
         "orientation": "v",
         "showlegend": true,
         "textposition": "auto",
         "type": "bar",
         "x": [
          1953,
          1954,
          1955,
          1956,
          1957,
          1958,
          1959,
          1960,
          1961,
          1962,
          1963,
          1964,
          1965,
          1966,
          1967,
          1968,
          1969,
          1970,
          1971,
          1972,
          1973
         ],
         "xaxis": "x",
         "y": [
          6176.4,
          6948.999999999999,
          8775.285714285714,
          8050.5,
          9304.57142857143,
          9786.166666666666,
          10463.400000000001,
          9780.666666666666,
          8633.5,
          9436.666666666668,
          8575.714285714286,
          8436.42857142857,
          8940.714285714286,
          8321.857142857143,
          7922.142857142857,
          7893.142857142857,
          7360.714285714286,
          6781.666666666666,
          6101.428571428571,
          5165.857142857143,
          4749.25
         ],
         "yaxis": "y"
        },
        {
         "alignmentgroup": "True",
         "hovertemplate": "State=NE<br>Year=%{x}<br>Number of Domestic Workers=%{y}<extra></extra>",
         "legendgroup": "NE",
         "marker": {
          "color": "#FF6692",
          "pattern": {
           "shape": ""
          }
         },
         "name": "NE",
         "offsetgroup": "NE",
         "orientation": "v",
         "showlegend": true,
         "textposition": "auto",
         "type": "bar",
         "x": [
          1953,
          1954,
          1955,
          1956,
          1957,
          1958,
          1959,
          1960,
          1961,
          1962,
          1963,
          1964,
          1965,
          1966,
          1967,
          1968,
          1969,
          1970,
          1971,
          1972,
          1973
         ],
         "xaxis": "x",
         "y": [
          2190,
          2708,
          1552.857142857143,
          1970.2857142857142,
          1623.0000000000002,
          4054.6666666666665,
          4992.333333333333,
          5035.857142857143,
          4812.857142857143,
          3677.4285714285716,
          3533.8333333333335,
          3203.333333333333,
          4068.8,
          3171.833333333333,
          5353.6,
          5046.400000000001,
          4238,
          4529,
          6809.75,
          5747,
          6861
         ],
         "yaxis": "y"
        },
        {
         "alignmentgroup": "True",
         "hovertemplate": "State=NH<br>Year=%{x}<br>Number of Domestic Workers=%{y}<extra></extra>",
         "legendgroup": "NH",
         "marker": {
          "color": "#B6E880",
          "pattern": {
           "shape": ""
          }
         },
         "name": "NH",
         "offsetgroup": "NH",
         "orientation": "v",
         "showlegend": true,
         "textposition": "auto",
         "type": "bar",
         "x": [
          1953,
          1954,
          1955,
          1956,
          1957,
          1958,
          1959,
          1960,
          1961,
          1962,
          1963,
          1964,
          1965,
          1966,
          1967,
          1968,
          1969,
          1970,
          1971,
          1972,
          1973
         ],
         "xaxis": "x",
         "y": [
          1110.8,
          null,
          null,
          1631,
          1700.75,
          1844.5,
          1694.8,
          1497.6,
          1744.25,
          1654.8000000000002,
          1559,
          1311.75,
          1209.2,
          1133.1666666666667,
          1190,
          1033.2,
          949.8333333333334,
          1037.8,
          890.3333333333334,
          894,
          672.5
         ],
         "yaxis": "y"
        },
        {
         "alignmentgroup": "True",
         "hovertemplate": "State=NJ<br>Year=%{x}<br>Number of Domestic Workers=%{y}<extra></extra>",
         "legendgroup": "NJ",
         "marker": {
          "color": "#FF97FF",
          "pattern": {
           "shape": ""
          }
         },
         "name": "NJ",
         "offsetgroup": "NJ",
         "orientation": "v",
         "showlegend": true,
         "textposition": "auto",
         "type": "bar",
         "x": [
          1953,
          1954,
          1955,
          1956,
          1957,
          1958,
          1959,
          1960,
          1961,
          1962,
          1963,
          1964,
          1965,
          1966,
          1967,
          1968,
          1969,
          1970,
          1971,
          1972,
          1973
         ],
         "xaxis": "x",
         "y": [
          7004.166666666667,
          7565.714285714285,
          5945.75,
          5893.125,
          5582.5,
          6576.375,
          9750.666666666668,
          8915.428571428572,
          8603.285714285714,
          13779.285714285714,
          13081.875,
          13643,
          13345.625,
          12607.5,
          13527.857142857143,
          11201.125,
          9773.125,
          10345,
          10148.75,
          9468.75,
          8441.25
         ],
         "yaxis": "y"
        },
        {
         "alignmentgroup": "True",
         "hovertemplate": "State=NM<br>Year=%{x}<br>Number of Domestic Workers=%{y}<extra></extra>",
         "legendgroup": "NM",
         "marker": {
          "color": "#FECB52",
          "pattern": {
           "shape": ""
          }
         },
         "name": "NM",
         "offsetgroup": "NM",
         "orientation": "v",
         "showlegend": true,
         "textposition": "auto",
         "type": "bar",
         "x": [
          1953,
          1954,
          1955,
          1956,
          1957,
          1958,
          1959,
          1960,
          1961,
          1962,
          1963,
          1964,
          1965,
          1966,
          1967,
          1968,
          1969,
          1970,
          1971,
          1972,
          1973
         ],
         "xaxis": "x",
         "y": [
          8325.666666666666,
          4038.6309523809523,
          3803.25,
          2701.375,
          2849.375,
          2647.125,
          2559.8571428571427,
          2415.1428571428573,
          2321.285714285714,
          2317.125,
          1852.1666666666665,
          1613.8181818181818,
          2061.714285714286,
          1184.6666666666665,
          948.6666666666666,
          994.909090909091,
          1295,
          996.1111111111111,
          1055,
          1028.888888888889,
          1302.5
         ],
         "yaxis": "y"
        },
        {
         "alignmentgroup": "True",
         "hovertemplate": "State=NV<br>Year=%{x}<br>Number of Domestic Workers=%{y}<extra></extra>",
         "legendgroup": "NV",
         "marker": {
          "color": "#636efa",
          "pattern": {
           "shape": ""
          }
         },
         "name": "NV",
         "offsetgroup": "NV",
         "orientation": "v",
         "showlegend": true,
         "textposition": "auto",
         "type": "bar",
         "x": [
          1953,
          1954,
          1955,
          1956,
          1957,
          1958,
          1959,
          1960,
          1961,
          1962,
          1963,
          1964,
          1965,
          1966,
          1967,
          1968,
          1969,
          1970,
          1971,
          1972,
          1973
         ],
         "xaxis": "x",
         "y": [
          109,
          588.5714285714286,
          803.1666666666666,
          646.8333333333334,
          530.375,
          682,
          578.8571428571429,
          583.4285714285713,
          595.7142857142858,
          324.25,
          168.875,
          null,
          221.83333333333331,
          null,
          200,
          null,
          516.6666666666666,
          425,
          null,
          null,
          null
         ],
         "yaxis": "y"
        },
        {
         "alignmentgroup": "True",
         "hovertemplate": "State=NY<br>Year=%{x}<br>Number of Domestic Workers=%{y}<extra></extra>",
         "legendgroup": "NY",
         "marker": {
          "color": "#EF553B",
          "pattern": {
           "shape": ""
          }
         },
         "name": "NY",
         "offsetgroup": "NY",
         "orientation": "v",
         "showlegend": true,
         "textposition": "auto",
         "type": "bar",
         "x": [
          1953,
          1954,
          1955,
          1956,
          1957,
          1958,
          1959,
          1960,
          1961,
          1962,
          1963,
          1964,
          1965,
          1966,
          1967,
          1968,
          1969,
          1970,
          1971,
          1972,
          1973
         ],
         "xaxis": "x",
         "y": [
          22902.75,
          21373.666666666664,
          21175.625,
          18781.5,
          19898.5,
          19492.625,
          20137.857142857145,
          18971.285714285714,
          19451.285714285714,
          18092.875,
          18279.85714285714,
          18942.428571428572,
          15999.75,
          16112.142857142855,
          17795.166666666664,
          13165.57142857143,
          12429.142857142857,
          11336.285714285714,
          10689.714285714284,
          8988,
          6691.666666666666
         ],
         "yaxis": "y"
        },
        {
         "alignmentgroup": "True",
         "hovertemplate": "State=OH<br>Year=%{x}<br>Number of Domestic Workers=%{y}<extra></extra>",
         "legendgroup": "OH",
         "marker": {
          "color": "#00cc96",
          "pattern": {
           "shape": ""
          }
         },
         "name": "OH",
         "offsetgroup": "OH",
         "orientation": "v",
         "showlegend": true,
         "textposition": "auto",
         "type": "bar",
         "x": [
          1953,
          1954,
          1955,
          1956,
          1957,
          1958,
          1959,
          1960,
          1961,
          1962,
          1963,
          1964,
          1965,
          1966,
          1967,
          1968,
          1969,
          1970,
          1971,
          1972,
          1973
         ],
         "xaxis": "x",
         "y": [
          11565.25,
          9187.2,
          13887.500000000002,
          11016.833333333332,
          12915,
          17894,
          20621.4,
          20378.833333333332,
          20503,
          22990.333333333332,
          21531.5,
          22756.000000000004,
          25114.333333333336,
          21978.000000000004,
          23947.166666666668,
          22341.833333333332,
          20647.833333333332,
          20414.666666666668,
          20576,
          19164.333333333332,
          14755.000000000002
         ],
         "yaxis": "y"
        },
        {
         "alignmentgroup": "True",
         "hovertemplate": "State=OK<br>Year=%{x}<br>Number of Domestic Workers=%{y}<extra></extra>",
         "legendgroup": "OK",
         "marker": {
          "color": "#ab63fa",
          "pattern": {
           "shape": ""
          }
         },
         "name": "OK",
         "offsetgroup": "OK",
         "orientation": "v",
         "showlegend": true,
         "textposition": "auto",
         "type": "bar",
         "x": [
          1953,
          1954,
          1955,
          1956,
          1957,
          1958,
          1959,
          1960,
          1961,
          1962,
          1963,
          1964,
          1965,
          1966,
          1967,
          1968,
          1969,
          1970,
          1971,
          1972,
          1973
         ],
         "xaxis": "x",
         "y": [
          9836.166666666668,
          8347.714285714286,
          10533.875,
          8958.125,
          8883.5,
          12690.5,
          16657,
          21247.857142857145,
          21489.285714285714,
          20211.25,
          11612.90909090909,
          11358.333333333332,
          11130,
          10345.583333333332,
          11888.333333333332,
          11434.166666666666,
          10156.25,
          10912.222222222223,
          7768.333333333334,
          7530.000000000001,
          8139.285714285715
         ],
         "yaxis": "y"
        },
        {
         "alignmentgroup": "True",
         "hovertemplate": "State=OR<br>Year=%{x}<br>Number of Domestic Workers=%{y}<extra></extra>",
         "legendgroup": "OR",
         "marker": {
          "color": "#FFA15A",
          "pattern": {
           "shape": ""
          }
         },
         "name": "OR",
         "offsetgroup": "OR",
         "orientation": "v",
         "showlegend": true,
         "textposition": "auto",
         "type": "bar",
         "x": [
          1953,
          1954,
          1955,
          1956,
          1957,
          1958,
          1959,
          1960,
          1961,
          1962,
          1963,
          1964,
          1965,
          1966,
          1967,
          1968,
          1969,
          1970,
          1971,
          1972,
          1973
         ],
         "xaxis": "x",
         "y": [
          23713.333333333332,
          36326.42857142857,
          27181.875,
          27398.625,
          28596.875,
          27699.428571428572,
          31030.833333333332,
          30976.142857142855,
          28973.857142857145,
          31306.42857142857,
          23658.333333333332,
          21708.333333333332,
          21973.333333333332,
          23379,
          22113,
          17542.083333333336,
          19457.007575757576,
          22248.333333333332,
          14468.750000000002,
          13055.833333333334,
          13363.571428571428
         ],
         "yaxis": "y"
        },
        {
         "alignmentgroup": "True",
         "hovertemplate": "State=PA<br>Year=%{x}<br>Number of Domestic Workers=%{y}<extra></extra>",
         "legendgroup": "PA",
         "marker": {
          "color": "#19d3f3",
          "pattern": {
           "shape": ""
          }
         },
         "name": "PA",
         "offsetgroup": "PA",
         "orientation": "v",
         "showlegend": true,
         "textposition": "auto",
         "type": "bar",
         "x": [
          1953,
          1954,
          1955,
          1956,
          1957,
          1958,
          1959,
          1960,
          1961,
          1962,
          1963,
          1964,
          1965,
          1966,
          1967,
          1968,
          1969,
          1970,
          1971,
          1972,
          1973
         ],
         "xaxis": "x",
         "y": [
          10459.75,
          13085,
          12303,
          13800.333333333334,
          13048.833333333334,
          15338.166666666666,
          15823.333333333334,
          12641.714285714286,
          12617.57142857143,
          13568.714285714284,
          12717.142857142857,
          14080,
          14559,
          12321.857142857143,
          12176.333333333332,
          11914.285714285714,
          12322.857142857143,
          12207.5,
          10946.5,
          8425.833333333334,
          5699.285714285714
         ],
         "yaxis": "y"
        },
        {
         "alignmentgroup": "True",
         "hovertemplate": "State=RI<br>Year=%{x}<br>Number of Domestic Workers=%{y}<extra></extra>",
         "legendgroup": "RI",
         "marker": {
          "color": "#FF6692",
          "pattern": {
           "shape": ""
          }
         },
         "name": "RI",
         "offsetgroup": "RI",
         "orientation": "v",
         "showlegend": true,
         "textposition": "auto",
         "type": "bar",
         "x": [
          1953,
          1954,
          1955,
          1956,
          1957,
          1958,
          1959,
          1960,
          1961,
          1962,
          1963,
          1964,
          1965,
          1966,
          1967,
          1968,
          1969,
          1970,
          1971,
          1972,
          1973
         ],
         "xaxis": "x",
         "y": [
          null,
          null,
          null,
          null,
          null,
          null,
          null,
          null,
          null,
          null,
          271,
          168,
          168.66666666666666,
          168,
          40.5,
          64,
          66.66666666666667,
          null,
          null,
          null,
          null
         ],
         "yaxis": "y"
        },
        {
         "alignmentgroup": "True",
         "hovertemplate": "State=SC<br>Year=%{x}<br>Number of Domestic Workers=%{y}<extra></extra>",
         "legendgroup": "SC",
         "marker": {
          "color": "#B6E880",
          "pattern": {
           "shape": ""
          }
         },
         "name": "SC",
         "offsetgroup": "SC",
         "orientation": "v",
         "showlegend": true,
         "textposition": "auto",
         "type": "bar",
         "x": [
          1953,
          1954,
          1955,
          1956,
          1957,
          1958,
          1959,
          1960,
          1961,
          1962,
          1963,
          1964,
          1965,
          1966,
          1967,
          1968,
          1969,
          1970,
          1971,
          1972,
          1973
         ],
         "xaxis": "x",
         "y": [
          21391.5,
          13302.142857142857,
          14982.142857142857,
          13753.125,
          11828.125,
          9665.625,
          17333.333333333332,
          16367.857142857143,
          14960.714285714286,
          14278.125,
          10837.083333333334,
          8027.916666666667,
          8712.916666666666,
          8062.5,
          6870,
          8212.5,
          9611.083333333334,
          9597.22222222222,
          5706.25,
          4535.416666666667,
          4346.428571428572
         ],
         "yaxis": "y"
        },
        {
         "alignmentgroup": "True",
         "hovertemplate": "State=SD<br>Year=%{x}<br>Number of Domestic Workers=%{y}<extra></extra>",
         "legendgroup": "SD",
         "marker": {
          "color": "#FF97FF",
          "pattern": {
           "shape": ""
          }
         },
         "name": "SD",
         "offsetgroup": "SD",
         "orientation": "v",
         "showlegend": true,
         "textposition": "auto",
         "type": "bar",
         "x": [
          1953,
          1954,
          1955,
          1956,
          1957,
          1958,
          1959,
          1960,
          1961,
          1962,
          1963,
          1964,
          1965,
          1966,
          1967,
          1968,
          1969,
          1970,
          1971,
          1972,
          1973
         ],
         "xaxis": "x",
         "y": [
          210,
          1518.3333333333335,
          416,
          403,
          2355,
          2470.3333333333335,
          1573.3333333333333,
          362.6666666666667,
          374,
          434.16666666666663,
          388.33333333333337,
          314.3333333333333,
          2645,
          2345,
          null,
          null,
          null,
          null,
          null,
          null,
          null
         ],
         "yaxis": "y"
        },
        {
         "alignmentgroup": "True",
         "hovertemplate": "State=TN<br>Year=%{x}<br>Number of Domestic Workers=%{y}<extra></extra>",
         "legendgroup": "TN",
         "marker": {
          "color": "#FECB52",
          "pattern": {
           "shape": ""
          }
         },
         "name": "TN",
         "offsetgroup": "TN",
         "orientation": "v",
         "showlegend": true,
         "textposition": "auto",
         "type": "bar",
         "x": [
          1953,
          1954,
          1955,
          1956,
          1957,
          1958,
          1959,
          1960,
          1961,
          1962,
          1963,
          1964,
          1965,
          1966,
          1967,
          1968,
          1969,
          1970,
          1971,
          1972,
          1973
         ],
         "xaxis": "x",
         "y": [
          12178.800000000001,
          12167.714285714286,
          27447.142857142855,
          25345.714285714286,
          24525.28571428571,
          17162.75,
          23760.428571428572,
          24457.85714285714,
          20815.571428571428,
          21540.714285714283,
          18237.25,
          17217,
          17049.85714285714,
          11297.428571428572,
          10901.5,
          18009.14285714286,
          17891.285714285714,
          18236.625,
          23418.777777777777,
          29053,
          30865
         ],
         "yaxis": "y"
        },
        {
         "alignmentgroup": "True",
         "hovertemplate": "State=TX<br>Year=%{x}<br>Number of Domestic Workers=%{y}<extra></extra>",
         "legendgroup": "TX",
         "marker": {
          "color": "#636efa",
          "pattern": {
           "shape": ""
          }
         },
         "name": "TX",
         "offsetgroup": "TX",
         "orientation": "v",
         "showlegend": true,
         "textposition": "auto",
         "type": "bar",
         "x": [
          1953,
          1954,
          1955,
          1956,
          1957,
          1958,
          1959,
          1960,
          1961,
          1962,
          1963,
          1964,
          1965,
          1966,
          1967,
          1968,
          1969,
          1970,
          1971,
          1972,
          1973
         ],
         "xaxis": "x",
         "y": [
          109554.83333333333,
          153882.7142857143,
          165257.375,
          177423.625,
          151710.75,
          156411,
          170952.85714285716,
          170660.85714285716,
          161996,
          148526.875,
          114881.58333333333,
          109279.16666666666,
          112975.83333333333,
          101597.08333333333,
          97835.5,
          92757.91666666667,
          93601.11111111111,
          98268.88888888888,
          85874.54545454546,
          84933.75,
          84442.85714285714
         ],
         "yaxis": "y"
        },
        {
         "alignmentgroup": "True",
         "hovertemplate": "State=UT<br>Year=%{x}<br>Number of Domestic Workers=%{y}<extra></extra>",
         "legendgroup": "UT",
         "marker": {
          "color": "#EF553B",
          "pattern": {
           "shape": ""
          }
         },
         "name": "UT",
         "offsetgroup": "UT",
         "orientation": "v",
         "showlegend": true,
         "textposition": "auto",
         "type": "bar",
         "x": [
          1953,
          1954,
          1955,
          1956,
          1957,
          1958,
          1959,
          1960,
          1961,
          1962,
          1963,
          1964,
          1965,
          1966,
          1967,
          1968,
          1969,
          1970,
          1971,
          1972,
          1973
         ],
         "xaxis": "x",
         "y": [
          4588.25,
          4455.166666666666,
          6647.166666666667,
          6640.000000000001,
          6727.333333333333,
          6589,
          7863.8,
          6013.428571428572,
          5710,
          7476.333333333333,
          5778.333333333333,
          5457.571428571429,
          4442.166666666666,
          3838.833333333333,
          3981.666666666667,
          3448.4999999999995,
          2882.6666666666665,
          2159.5,
          2219.714285714286,
          1667,
          3908.25
         ],
         "yaxis": "y"
        },
        {
         "alignmentgroup": "True",
         "hovertemplate": "State=VA<br>Year=%{x}<br>Number of Domestic Workers=%{y}<extra></extra>",
         "legendgroup": "VA",
         "marker": {
          "color": "#00cc96",
          "pattern": {
           "shape": ""
          }
         },
         "name": "VA",
         "offsetgroup": "VA",
         "orientation": "v",
         "showlegend": true,
         "textposition": "auto",
         "type": "bar",
         "x": [
          1953,
          1954,
          1955,
          1956,
          1957,
          1958,
          1959,
          1960,
          1961,
          1962,
          1963,
          1964,
          1965,
          1966,
          1967,
          1968,
          1969,
          1970,
          1971,
          1972,
          1973
         ],
         "xaxis": "x",
         "y": [
          6882.883333333333,
          7296.095238095238,
          8280.142857142859,
          10458.142857142857,
          7362.857142857143,
          8890.142857142857,
          9929,
          9966.999999999998,
          9822.285714285716,
          9438,
          8689.714285714286,
          8973.857142857143,
          8115.571428571428,
          7472.285714285715,
          8940,
          7267,
          6935.285714285714,
          7322.714285714285,
          7173.142857142858,
          7105.857142857142,
          5606.666666666666
         ],
         "yaxis": "y"
        },
        {
         "alignmentgroup": "True",
         "hovertemplate": "State=VT<br>Year=%{x}<br>Number of Domestic Workers=%{y}<extra></extra>",
         "legendgroup": "VT",
         "marker": {
          "color": "#ab63fa",
          "pattern": {
           "shape": ""
          }
         },
         "name": "VT",
         "offsetgroup": "VT",
         "orientation": "v",
         "showlegend": true,
         "textposition": "auto",
         "type": "bar",
         "x": [
          1953,
          1954,
          1955,
          1956,
          1957,
          1958,
          1959,
          1960,
          1961,
          1962,
          1963,
          1964,
          1965,
          1966,
          1967,
          1968,
          1969,
          1970,
          1971,
          1972,
          1973
         ],
         "xaxis": "x",
         "y": [
          2175,
          1487.142857142857,
          1671,
          1466.6,
          1369,
          1247.4,
          1114,
          810,
          824,
          897,
          814.8000000000001,
          855.4000000000001,
          688,
          432.8,
          431.6,
          317.4,
          526.5,
          337.5,
          487,
          309,
          null
         ],
         "yaxis": "y"
        },
        {
         "alignmentgroup": "True",
         "hovertemplate": "State=WA<br>Year=%{x}<br>Number of Domestic Workers=%{y}<extra></extra>",
         "legendgroup": "WA",
         "marker": {
          "color": "#FFA15A",
          "pattern": {
           "shape": ""
          }
         },
         "name": "WA",
         "offsetgroup": "WA",
         "orientation": "v",
         "showlegend": true,
         "textposition": "auto",
         "type": "bar",
         "x": [
          1953,
          1954,
          1955,
          1956,
          1957,
          1958,
          1959,
          1960,
          1961,
          1962,
          1963,
          1964,
          1965,
          1966,
          1967,
          1968,
          1969,
          1970,
          1971,
          1972,
          1973
         ],
         "xaxis": "x",
         "y": [
          25188.499999999996,
          31967.714285714283,
          29034.142857142855,
          21497.25,
          26761,
          25755.125,
          26736.71428571429,
          29013.714285714283,
          25120.14285714286,
          25618.875,
          17654.916666666668,
          19759.8,
          20331.181818181816,
          20467.583333333336,
          22855.4,
          18994.666666666664,
          21162.40909090909,
          26297.55555555556,
          21355.750000000004,
          18124.833333333332,
          25679.166666666668
         ],
         "yaxis": "y"
        },
        {
         "alignmentgroup": "True",
         "hovertemplate": "State=WI<br>Year=%{x}<br>Number of Domestic Workers=%{y}<extra></extra>",
         "legendgroup": "WI",
         "marker": {
          "color": "#19d3f3",
          "pattern": {
           "shape": ""
          }
         },
         "name": "WI",
         "offsetgroup": "WI",
         "orientation": "v",
         "showlegend": true,
         "textposition": "auto",
         "type": "bar",
         "x": [
          1953,
          1954,
          1955,
          1956,
          1957,
          1958,
          1959,
          1960,
          1961,
          1962,
          1963,
          1964,
          1965,
          1966,
          1967,
          1968,
          1969,
          1970,
          1971,
          1972,
          1973
         ],
         "xaxis": "x",
         "y": [
          6441.000000000001,
          7779.999999999999,
          8077.142857142857,
          8312.57142857143,
          7544.285714285714,
          6649.285714285715,
          7189.200000000001,
          6656.799999999999,
          6772.333333333333,
          5077.571428571428,
          5551,
          5358.833333333333,
          5031.666666666667,
          5236.666666666667,
          5061.5,
          5072.5,
          3844.166666666667,
          4524.666666666666,
          3637,
          3254.8333333333335,
          1472.5
         ],
         "yaxis": "y"
        },
        {
         "alignmentgroup": "True",
         "hovertemplate": "State=WV<br>Year=%{x}<br>Number of Domestic Workers=%{y}<extra></extra>",
         "legendgroup": "WV",
         "marker": {
          "color": "#FF6692",
          "pattern": {
           "shape": ""
          }
         },
         "name": "WV",
         "offsetgroup": "WV",
         "orientation": "v",
         "showlegend": true,
         "textposition": "auto",
         "type": "bar",
         "x": [
          1953,
          1954,
          1955,
          1956,
          1957,
          1958,
          1959,
          1960,
          1961,
          1962,
          1963,
          1964,
          1965,
          1966,
          1967,
          1968,
          1969,
          1970,
          1971,
          1972,
          1973
         ],
         "xaxis": "x",
         "y": [
          360,
          1079.3333333333335,
          548,
          707.5,
          2062,
          1525,
          326.5,
          null,
          null,
          null,
          811,
          1187,
          740,
          695,
          770.5,
          988.6,
          1047.8,
          1194,
          1399,
          1095.5,
          null
         ],
         "yaxis": "y"
        },
        {
         "alignmentgroup": "True",
         "hovertemplate": "State=WY<br>Year=%{x}<br>Number of Domestic Workers=%{y}<extra></extra>",
         "legendgroup": "WY",
         "marker": {
          "color": "#B6E880",
          "pattern": {
           "shape": ""
          }
         },
         "name": "WY",
         "offsetgroup": "WY",
         "orientation": "v",
         "showlegend": true,
         "textposition": "auto",
         "type": "bar",
         "x": [
          1953,
          1954,
          1955,
          1956,
          1957,
          1958,
          1959,
          1960,
          1961,
          1962,
          1963,
          1964,
          1965,
          1966,
          1967,
          1968,
          1969,
          1970,
          1971,
          1972,
          1973
         ],
         "xaxis": "x",
         "y": [
          4407.8,
          4034.1428571428573,
          1735.1428571428573,
          2971.5000000000005,
          3048.833333333333,
          2722.5,
          2729.8,
          2555.6666666666665,
          2868,
          3164.75,
          3290.75,
          2896.75,
          3395.5,
          3057.25,
          3548.25,
          3644.5,
          3391.3999999999996,
          2557.6,
          1543.6,
          1399.75,
          1573.3333333333333
         ],
         "yaxis": "y"
        }
       ],
       "layout": {
        "autosize": true,
        "barmode": "relative",
        "legend": {
         "title": {
          "text": "State"
         },
         "tracegroupgap": 0
        },
        "template": {
         "data": {
          "bar": [
           {
            "error_x": {
             "color": "#2a3f5f"
            },
            "error_y": {
             "color": "#2a3f5f"
            },
            "marker": {
             "line": {
              "color": "#E5ECF6",
              "width": 0.5
             },
             "pattern": {
              "fillmode": "overlay",
              "size": 10,
              "solidity": 0.2
             }
            },
            "type": "bar"
           }
          ],
          "barpolar": [
           {
            "marker": {
             "line": {
              "color": "#E5ECF6",
              "width": 0.5
             },
             "pattern": {
              "fillmode": "overlay",
              "size": 10,
              "solidity": 0.2
             }
            },
            "type": "barpolar"
           }
          ],
          "carpet": [
           {
            "aaxis": {
             "endlinecolor": "#2a3f5f",
             "gridcolor": "white",
             "linecolor": "white",
             "minorgridcolor": "white",
             "startlinecolor": "#2a3f5f"
            },
            "baxis": {
             "endlinecolor": "#2a3f5f",
             "gridcolor": "white",
             "linecolor": "white",
             "minorgridcolor": "white",
             "startlinecolor": "#2a3f5f"
            },
            "type": "carpet"
           }
          ],
          "choropleth": [
           {
            "colorbar": {
             "outlinewidth": 0,
             "ticks": ""
            },
            "type": "choropleth"
           }
          ],
          "contour": [
           {
            "colorbar": {
             "outlinewidth": 0,
             "ticks": ""
            },
            "colorscale": [
             [
              0,
              "#0d0887"
             ],
             [
              0.1111111111111111,
              "#46039f"
             ],
             [
              0.2222222222222222,
              "#7201a8"
             ],
             [
              0.3333333333333333,
              "#9c179e"
             ],
             [
              0.4444444444444444,
              "#bd3786"
             ],
             [
              0.5555555555555556,
              "#d8576b"
             ],
             [
              0.6666666666666666,
              "#ed7953"
             ],
             [
              0.7777777777777778,
              "#fb9f3a"
             ],
             [
              0.8888888888888888,
              "#fdca26"
             ],
             [
              1,
              "#f0f921"
             ]
            ],
            "type": "contour"
           }
          ],
          "contourcarpet": [
           {
            "colorbar": {
             "outlinewidth": 0,
             "ticks": ""
            },
            "type": "contourcarpet"
           }
          ],
          "heatmap": [
           {
            "colorbar": {
             "outlinewidth": 0,
             "ticks": ""
            },
            "colorscale": [
             [
              0,
              "#0d0887"
             ],
             [
              0.1111111111111111,
              "#46039f"
             ],
             [
              0.2222222222222222,
              "#7201a8"
             ],
             [
              0.3333333333333333,
              "#9c179e"
             ],
             [
              0.4444444444444444,
              "#bd3786"
             ],
             [
              0.5555555555555556,
              "#d8576b"
             ],
             [
              0.6666666666666666,
              "#ed7953"
             ],
             [
              0.7777777777777778,
              "#fb9f3a"
             ],
             [
              0.8888888888888888,
              "#fdca26"
             ],
             [
              1,
              "#f0f921"
             ]
            ],
            "type": "heatmap"
           }
          ],
          "heatmapgl": [
           {
            "colorbar": {
             "outlinewidth": 0,
             "ticks": ""
            },
            "colorscale": [
             [
              0,
              "#0d0887"
             ],
             [
              0.1111111111111111,
              "#46039f"
             ],
             [
              0.2222222222222222,
              "#7201a8"
             ],
             [
              0.3333333333333333,
              "#9c179e"
             ],
             [
              0.4444444444444444,
              "#bd3786"
             ],
             [
              0.5555555555555556,
              "#d8576b"
             ],
             [
              0.6666666666666666,
              "#ed7953"
             ],
             [
              0.7777777777777778,
              "#fb9f3a"
             ],
             [
              0.8888888888888888,
              "#fdca26"
             ],
             [
              1,
              "#f0f921"
             ]
            ],
            "type": "heatmapgl"
           }
          ],
          "histogram": [
           {
            "marker": {
             "pattern": {
              "fillmode": "overlay",
              "size": 10,
              "solidity": 0.2
             }
            },
            "type": "histogram"
           }
          ],
          "histogram2d": [
           {
            "colorbar": {
             "outlinewidth": 0,
             "ticks": ""
            },
            "colorscale": [
             [
              0,
              "#0d0887"
             ],
             [
              0.1111111111111111,
              "#46039f"
             ],
             [
              0.2222222222222222,
              "#7201a8"
             ],
             [
              0.3333333333333333,
              "#9c179e"
             ],
             [
              0.4444444444444444,
              "#bd3786"
             ],
             [
              0.5555555555555556,
              "#d8576b"
             ],
             [
              0.6666666666666666,
              "#ed7953"
             ],
             [
              0.7777777777777778,
              "#fb9f3a"
             ],
             [
              0.8888888888888888,
              "#fdca26"
             ],
             [
              1,
              "#f0f921"
             ]
            ],
            "type": "histogram2d"
           }
          ],
          "histogram2dcontour": [
           {
            "colorbar": {
             "outlinewidth": 0,
             "ticks": ""
            },
            "colorscale": [
             [
              0,
              "#0d0887"
             ],
             [
              0.1111111111111111,
              "#46039f"
             ],
             [
              0.2222222222222222,
              "#7201a8"
             ],
             [
              0.3333333333333333,
              "#9c179e"
             ],
             [
              0.4444444444444444,
              "#bd3786"
             ],
             [
              0.5555555555555556,
              "#d8576b"
             ],
             [
              0.6666666666666666,
              "#ed7953"
             ],
             [
              0.7777777777777778,
              "#fb9f3a"
             ],
             [
              0.8888888888888888,
              "#fdca26"
             ],
             [
              1,
              "#f0f921"
             ]
            ],
            "type": "histogram2dcontour"
           }
          ],
          "mesh3d": [
           {
            "colorbar": {
             "outlinewidth": 0,
             "ticks": ""
            },
            "type": "mesh3d"
           }
          ],
          "parcoords": [
           {
            "line": {
             "colorbar": {
              "outlinewidth": 0,
              "ticks": ""
             }
            },
            "type": "parcoords"
           }
          ],
          "pie": [
           {
            "automargin": true,
            "type": "pie"
           }
          ],
          "scatter": [
           {
            "fillpattern": {
             "fillmode": "overlay",
             "size": 10,
             "solidity": 0.2
            },
            "type": "scatter"
           }
          ],
          "scatter3d": [
           {
            "line": {
             "colorbar": {
              "outlinewidth": 0,
              "ticks": ""
             }
            },
            "marker": {
             "colorbar": {
              "outlinewidth": 0,
              "ticks": ""
             }
            },
            "type": "scatter3d"
           }
          ],
          "scattercarpet": [
           {
            "marker": {
             "colorbar": {
              "outlinewidth": 0,
              "ticks": ""
             }
            },
            "type": "scattercarpet"
           }
          ],
          "scattergeo": [
           {
            "marker": {
             "colorbar": {
              "outlinewidth": 0,
              "ticks": ""
             }
            },
            "type": "scattergeo"
           }
          ],
          "scattergl": [
           {
            "marker": {
             "colorbar": {
              "outlinewidth": 0,
              "ticks": ""
             }
            },
            "type": "scattergl"
           }
          ],
          "scattermapbox": [
           {
            "marker": {
             "colorbar": {
              "outlinewidth": 0,
              "ticks": ""
             }
            },
            "type": "scattermapbox"
           }
          ],
          "scatterpolar": [
           {
            "marker": {
             "colorbar": {
              "outlinewidth": 0,
              "ticks": ""
             }
            },
            "type": "scatterpolar"
           }
          ],
          "scatterpolargl": [
           {
            "marker": {
             "colorbar": {
              "outlinewidth": 0,
              "ticks": ""
             }
            },
            "type": "scatterpolargl"
           }
          ],
          "scatterternary": [
           {
            "marker": {
             "colorbar": {
              "outlinewidth": 0,
              "ticks": ""
             }
            },
            "type": "scatterternary"
           }
          ],
          "surface": [
           {
            "colorbar": {
             "outlinewidth": 0,
             "ticks": ""
            },
            "colorscale": [
             [
              0,
              "#0d0887"
             ],
             [
              0.1111111111111111,
              "#46039f"
             ],
             [
              0.2222222222222222,
              "#7201a8"
             ],
             [
              0.3333333333333333,
              "#9c179e"
             ],
             [
              0.4444444444444444,
              "#bd3786"
             ],
             [
              0.5555555555555556,
              "#d8576b"
             ],
             [
              0.6666666666666666,
              "#ed7953"
             ],
             [
              0.7777777777777778,
              "#fb9f3a"
             ],
             [
              0.8888888888888888,
              "#fdca26"
             ],
             [
              1,
              "#f0f921"
             ]
            ],
            "type": "surface"
           }
          ],
          "table": [
           {
            "cells": {
             "fill": {
              "color": "#EBF0F8"
             },
             "line": {
              "color": "white"
             }
            },
            "header": {
             "fill": {
              "color": "#C8D4E3"
             },
             "line": {
              "color": "white"
             }
            },
            "type": "table"
           }
          ]
         },
         "layout": {
          "annotationdefaults": {
           "arrowcolor": "#2a3f5f",
           "arrowhead": 0,
           "arrowwidth": 1
          },
          "autotypenumbers": "strict",
          "coloraxis": {
           "colorbar": {
            "outlinewidth": 0,
            "ticks": ""
           }
          },
          "colorscale": {
           "diverging": [
            [
             0,
             "#8e0152"
            ],
            [
             0.1,
             "#c51b7d"
            ],
            [
             0.2,
             "#de77ae"
            ],
            [
             0.3,
             "#f1b6da"
            ],
            [
             0.4,
             "#fde0ef"
            ],
            [
             0.5,
             "#f7f7f7"
            ],
            [
             0.6,
             "#e6f5d0"
            ],
            [
             0.7,
             "#b8e186"
            ],
            [
             0.8,
             "#7fbc41"
            ],
            [
             0.9,
             "#4d9221"
            ],
            [
             1,
             "#276419"
            ]
           ],
           "sequential": [
            [
             0,
             "#0d0887"
            ],
            [
             0.1111111111111111,
             "#46039f"
            ],
            [
             0.2222222222222222,
             "#7201a8"
            ],
            [
             0.3333333333333333,
             "#9c179e"
            ],
            [
             0.4444444444444444,
             "#bd3786"
            ],
            [
             0.5555555555555556,
             "#d8576b"
            ],
            [
             0.6666666666666666,
             "#ed7953"
            ],
            [
             0.7777777777777778,
             "#fb9f3a"
            ],
            [
             0.8888888888888888,
             "#fdca26"
            ],
            [
             1,
             "#f0f921"
            ]
           ],
           "sequentialminus": [
            [
             0,
             "#0d0887"
            ],
            [
             0.1111111111111111,
             "#46039f"
            ],
            [
             0.2222222222222222,
             "#7201a8"
            ],
            [
             0.3333333333333333,
             "#9c179e"
            ],
            [
             0.4444444444444444,
             "#bd3786"
            ],
            [
             0.5555555555555556,
             "#d8576b"
            ],
            [
             0.6666666666666666,
             "#ed7953"
            ],
            [
             0.7777777777777778,
             "#fb9f3a"
            ],
            [
             0.8888888888888888,
             "#fdca26"
            ],
            [
             1,
             "#f0f921"
            ]
           ]
          },
          "colorway": [
           "#636efa",
           "#EF553B",
           "#00cc96",
           "#ab63fa",
           "#FFA15A",
           "#19d3f3",
           "#FF6692",
           "#B6E880",
           "#FF97FF",
           "#FECB52"
          ],
          "font": {
           "color": "#2a3f5f"
          },
          "geo": {
           "bgcolor": "white",
           "lakecolor": "white",
           "landcolor": "#E5ECF6",
           "showlakes": true,
           "showland": true,
           "subunitcolor": "white"
          },
          "hoverlabel": {
           "align": "left"
          },
          "hovermode": "closest",
          "mapbox": {
           "style": "light"
          },
          "paper_bgcolor": "white",
          "plot_bgcolor": "#E5ECF6",
          "polar": {
           "angularaxis": {
            "gridcolor": "white",
            "linecolor": "white",
            "ticks": ""
           },
           "bgcolor": "#E5ECF6",
           "radialaxis": {
            "gridcolor": "white",
            "linecolor": "white",
            "ticks": ""
           }
          },
          "scene": {
           "xaxis": {
            "backgroundcolor": "#E5ECF6",
            "gridcolor": "white",
            "gridwidth": 2,
            "linecolor": "white",
            "showbackground": true,
            "ticks": "",
            "zerolinecolor": "white"
           },
           "yaxis": {
            "backgroundcolor": "#E5ECF6",
            "gridcolor": "white",
            "gridwidth": 2,
            "linecolor": "white",
            "showbackground": true,
            "ticks": "",
            "zerolinecolor": "white"
           },
           "zaxis": {
            "backgroundcolor": "#E5ECF6",
            "gridcolor": "white",
            "gridwidth": 2,
            "linecolor": "white",
            "showbackground": true,
            "ticks": "",
            "zerolinecolor": "white"
           }
          },
          "shapedefaults": {
           "line": {
            "color": "#2a3f5f"
           }
          },
          "ternary": {
           "aaxis": {
            "gridcolor": "white",
            "linecolor": "white",
            "ticks": ""
           },
           "baxis": {
            "gridcolor": "white",
            "linecolor": "white",
            "ticks": ""
           },
           "bgcolor": "#E5ECF6",
           "caxis": {
            "gridcolor": "white",
            "linecolor": "white",
            "ticks": ""
           }
          },
          "title": {
           "x": 0.05
          },
          "xaxis": {
           "automargin": true,
           "gridcolor": "white",
           "linecolor": "white",
           "ticks": "",
           "title": {
            "standoff": 15
           },
           "zerolinecolor": "white",
           "zerolinewidth": 2
          },
          "yaxis": {
           "automargin": true,
           "gridcolor": "white",
           "linecolor": "white",
           "ticks": "",
           "title": {
            "standoff": 15
           },
           "zerolinecolor": "white",
           "zerolinewidth": 2
          }
         }
        },
        "title": {
         "text": "Domestic Farm Workers in the United States",
         "x": 0.5,
         "xanchor": "center"
        },
        "xaxis": {
         "anchor": "y",
         "autorange": true,
         "domain": [
          0,
          1
         ],
         "range": [
          1952.5,
          1973.5
         ],
         "title": {
          "text": "Year"
         },
         "type": "linear"
        },
        "yaxis": {
         "anchor": "x",
         "autorange": true,
         "domain": [
          0,
          1
         ],
         "range": [
          0,
          1019760.6265664164
         ],
         "title": {
          "text": "Number of Domestic Workers"
         },
         "type": "linear"
        }
       }
      },
      "image/png": "[encoded data removed]",
      "text/html": [
       "<div>                            <div id=\"afed5505-0019-4539-9ebf-2e94e966f508\" class=\"plotly-graph-div\" style=\"height:525px; width:100%;\"></div>            <script type=\"text/javascript\">                require([\"plotly\"], function(Plotly) {                    window.PLOTLYENV=window.PLOTLYENV || {};                                    if (document.getElementById(\"afed5505-0019-4539-9ebf-2e94e966f508\")) {                    Plotly.newPlot(                        \"afed5505-0019-4539-9ebf-2e94e966f508\",                        [{\"alignmentgroup\":\"True\",\"hovertemplate\":\"State=AL\\u003cbr\\u003eYear=%{x}\\u003cbr\\u003eNumber of Domestic Workers=%{y}\\u003cextra\\u003e\\u003c\\u002fextra\\u003e\",\"legendgroup\":\"AL\",\"marker\":{\"color\":\"#636efa\",\"pattern\":{\"shape\":\"\"}},\"name\":\"AL\",\"offsetgroup\":\"AL\",\"orientation\":\"v\",\"showlegend\":true,\"textposition\":\"auto\",\"x\":[1953,1954,1955,1956,1957,1958,1959,1960,1961,1962,1963,1964,1965,1966,1967,1968,1969,1970,1971,1972,1973],\"xaxis\":\"x\",\"y\":[21920.999999999996,22323.8,25188.285714285714,20194.0,12869.0,10241.42857142857,14877.5,13387.142857142859,12556.42857142857,11134.285714285714,10859.285714285716,9415.714285714286,8210.714285714284,6147.5,5924.166666666666,5371.875,6130.0,7016.875,7128.125,6305.625,6172.916666666666],\"yaxis\":\"y\",\"type\":\"bar\"},{\"alignmentgroup\":\"True\",\"hovertemplate\":\"State=AR\\u003cbr\\u003eYear=%{x}\\u003cbr\\u003eNumber of Domestic Workers=%{y}\\u003cextra\\u003e\\u003c\\u002fextra\\u003e\",\"legendgroup\":\"AR\",\"marker\":{\"color\":\"#EF553B\",\"pattern\":{\"shape\":\"\"}},\"name\":\"AR\",\"offsetgroup\":\"AR\",\"orientation\":\"v\",\"showlegend\":true,\"textposition\":\"auto\",\"x\":[1953,1954,1955,1956,1957,1958,1959,1960,1961,1962,1963,1964,1965,1966,1967,1968,1969,1970,1971,1972,1973],\"xaxis\":\"x\",\"y\":[29167.666666666668,31111.666666666664,39058.75,29527.75,34854.0,33946.375,39561.0,39736.71428571428,34673.71428571428,29221.75,28418.857142857145,26590.000000000004,21457.85714285714,13632.5,8874.166666666668,7070.714285714285,5146.4285714285725,4441.666666666667,4529.166666666667,5354.166666666666,4575.0],\"yaxis\":\"y\",\"type\":\"bar\"},{\"alignmentgroup\":\"True\",\"hovertemplate\":\"State=AZ\\u003cbr\\u003eYear=%{x}\\u003cbr\\u003eNumber of Domestic Workers=%{y}\\u003cextra\\u003e\\u003c\\u002fextra\\u003e\",\"legendgroup\":\"AZ\",\"marker\":{\"color\":\"#00cc96\",\"pattern\":{\"shape\":\"\"}},\"name\":\"AZ\",\"offsetgroup\":\"AZ\",\"orientation\":\"v\",\"showlegend\":true,\"textposition\":\"auto\",\"x\":[1953,1954,1955,1956,1957,1958,1959,1960,1961,1962,1963,1964,1965,1966,1967,1968,1969,1970,1971,1972,1973],\"xaxis\":\"x\",\"y\":[20101.666666666664,19642.166666666664,17559.625,19296.125,17839.625,19573.0,16927.285714285714,15642.142857142857,13180.142857142857,13098.75,13362.833333333334,14107.416666666666,15892.818181818182,16355.666666666666,16165.699999999999,16178.416666666668,15853.333333333334,14314.0,14924.500000000002,14950.5,14868.285714285714],\"yaxis\":\"y\",\"type\":\"bar\"},{\"alignmentgroup\":\"True\",\"hovertemplate\":\"State=CA\\u003cbr\\u003eYear=%{x}\\u003cbr\\u003eNumber of Domestic Workers=%{y}\\u003cextra\\u003e\\u003c\\u002fextra\\u003e\",\"legendgroup\":\"CA\",\"marker\":{\"color\":\"#ab63fa\",\"pattern\":{\"shape\":\"\"}},\"name\":\"CA\",\"offsetgroup\":\"CA\",\"orientation\":\"v\",\"showlegend\":true,\"textposition\":\"auto\",\"x\":[1953,1954,1955,1956,1957,1958,1959,1960,1961,1962,1963,1964,1965,1966,1967,1968,1969,1970,1971,1972,1973],\"xaxis\":\"x\",\"y\":[143920.0,150934.64285714287,157800.0,150433.75,149511.25,151550.0,148937.14285714284,145742.85714285716,147314.2857142857,123906.25,98891.66666666666,103095.83333333333,121282.72727272726,120470.0,119618.0,118067.49999999999,115670.83333333334,125837.55555555555,113774.16666666667,108432.5,100948.57142857143],\"yaxis\":\"y\",\"type\":\"bar\"},{\"alignmentgroup\":\"True\",\"hovertemplate\":\"State=CO\\u003cbr\\u003eYear=%{x}\\u003cbr\\u003eNumber of Domestic Workers=%{y}\\u003cextra\\u003e\\u003c\\u002fextra\\u003e\",\"legendgroup\":\"CO\",\"marker\":{\"color\":\"#FFA15A\",\"pattern\":{\"shape\":\"\"}},\"name\":\"CO\",\"offsetgroup\":\"CO\",\"orientation\":\"v\",\"showlegend\":true,\"textposition\":\"auto\",\"x\":[1953,1954,1955,1956,1957,1958,1959,1960,1961,1962,1963,1964,1965,1966,1967,1968,1969,1970,1971,1972,1973],\"xaxis\":\"x\",\"y\":[16847.75,14306.666666666668,14888.0,14120.0,14305.571428571428,14233.857142857143,14448.166666666666,12527.42857142857,11608.42857142857,10383.857142857143,8510.428571428572,8265.42857142857,10496.142857142857,9485.285714285714,9409.285714285716,7872.125,7683.5,6676.375,5930.375,5500.625,4596.0],\"yaxis\":\"y\",\"type\":\"bar\"},{\"alignmentgroup\":\"True\",\"hovertemplate\":\"State=CT\\u003cbr\\u003eYear=%{x}\\u003cbr\\u003eNumber of Domestic Workers=%{y}\\u003cextra\\u003e\\u003c\\u002fextra\\u003e\",\"legendgroup\":\"CT\",\"marker\":{\"color\":\"#19d3f3\",\"pattern\":{\"shape\":\"\"}},\"name\":\"CT\",\"offsetgroup\":\"CT\",\"orientation\":\"v\",\"showlegend\":true,\"textposition\":\"auto\",\"x\":[1953,1954,1955,1956,1957,1958,1959,1960,1961,1962,1963,1964,1965,1966,1967,1968,1969,1970,1971,1972,1973],\"xaxis\":\"x\",\"y\":[7249.999999999999,5950.714285714285,6638.75,5660.625,5334.25,5522.5,6510.0,5927.142857142857,6024.285714285715,6087.5,5811.666666666667,6171.666666666667,6635.0,5653.333333333333,5519.0,4633.416666666666,4364.25,4593.333333333333,3399.1666666666665,3015.8333333333335,2894.285714285714],\"yaxis\":\"y\",\"type\":\"bar\"},{\"alignmentgroup\":\"True\",\"hovertemplate\":\"State=DE\\u003cbr\\u003eYear=%{x}\\u003cbr\\u003eNumber of Domestic Workers=%{y}\\u003cextra\\u003e\\u003c\\u002fextra\\u003e\",\"legendgroup\":\"DE\",\"marker\":{\"color\":\"#FF6692\",\"pattern\":{\"shape\":\"\"}},\"name\":\"DE\",\"offsetgroup\":\"DE\",\"orientation\":\"v\",\"showlegend\":true,\"textposition\":\"auto\",\"x\":[1953,1954,1955,1956,1957,1958,1959,1960,1961,1962,1963,1964,1965,1966,1967,1968,1969,1970,1971,1972,1973],\"xaxis\":\"x\",\"y\":[1616.25,1362.1666666666667,1522.2857142857144,1981.3333333333333,1740.142857142857,1679.857142857143,2443.6,1765.7142857142858,1867.1666666666667,3234.0,3221.4285714285716,2757.285714285714,2972.5714285714284,2916.8571428571427,3197.5,3205.0,3275.833333333333,2967.833333333333,2495.714285714286,2550.0,2502.0],\"yaxis\":\"y\",\"type\":\"bar\"},{\"alignmentgroup\":\"True\",\"hovertemplate\":\"State=FL\\u003cbr\\u003eYear=%{x}\\u003cbr\\u003eNumber of Domestic Workers=%{y}\\u003cextra\\u003e\\u003c\\u002fextra\\u003e\",\"legendgroup\":\"FL\",\"marker\":{\"color\":\"#B6E880\",\"pattern\":{\"shape\":\"\"}},\"name\":\"FL\",\"offsetgroup\":\"FL\",\"orientation\":\"v\",\"showlegend\":true,\"textposition\":\"auto\",\"x\":[1953,1954,1955,1956,1957,1958,1959,1960,1961,1962,1963,1964,1965,1966,1967,1968,1969,1970,1971,1972,1973],\"xaxis\":\"x\",\"y\":[29531.333333333332,22637.571428571428,30333.875,31003.625,33901.375,34223.5,29929.714285714283,31007.142857142855,29610.428571428572,36137.25,44925.91666666667,44999.5,51003.75,50440.75,49473.7,48764.25,49405.083333333336,47143.33333333333,50933.916666666664,51100.833333333336,60548.71428571429],\"yaxis\":\"y\",\"type\":\"bar\"},{\"alignmentgroup\":\"True\",\"hovertemplate\":\"State=GA\\u003cbr\\u003eYear=%{x}\\u003cbr\\u003eNumber of Domestic Workers=%{y}\\u003cextra\\u003e\\u003c\\u002fextra\\u003e\",\"legendgroup\":\"GA\",\"marker\":{\"color\":\"#FF97FF\",\"pattern\":{\"shape\":\"\"}},\"name\":\"GA\",\"offsetgroup\":\"GA\",\"orientation\":\"v\",\"showlegend\":true,\"textposition\":\"auto\",\"x\":[1953,1954,1955,1956,1957,1958,1959,1960,1961,1962,1963,1964,1965,1966,1967,1968,1969,1970,1971,1972,1973],\"xaxis\":\"x\",\"y\":[19558.25,13231.142857142859,13242.375,16084.285714285716,15921.75,29399.333333333336,33623.0,35472.99999999999,28709.571428571428,30671.666666666668,28852.000000000004,23957.166666666668,22584.166666666664,21685.5,22091.166666666664,22507.000000000004,24392.833333333332,23972.833333333332,26556.333333333332,26023.833333333332,23752.0],\"yaxis\":\"y\",\"type\":\"bar\"},{\"alignmentgroup\":\"True\",\"hovertemplate\":\"State=IA\\u003cbr\\u003eYear=%{x}\\u003cbr\\u003eNumber of Domestic Workers=%{y}\\u003cextra\\u003e\\u003c\\u002fextra\\u003e\",\"legendgroup\":\"IA\",\"marker\":{\"color\":\"#FECB52\",\"pattern\":{\"shape\":\"\"}},\"name\":\"IA\",\"offsetgroup\":\"IA\",\"orientation\":\"v\",\"showlegend\":true,\"textposition\":\"auto\",\"x\":[1953,1954,1955,1956,1957,1958,1959,1960,1961,1962,1963,1964,1965,1966,1967,1968,1969,1970,1971,1972,1973],\"xaxis\":\"x\",\"y\":[482.33333333333337,3495.9999999999995,2658.8571428571427,2699.0,938.3333333333334,3471.6666666666665,4941.666666666667,3599.8,5882.0,8270.142857142857,7309.428571428572,12233.857142857143,13809.0,8702.75,7784.833333333333,8602.5,10477.714285714286,5510.571428571428,9059.285714285714,8393.142857142857,8868.0],\"yaxis\":\"y\",\"type\":\"bar\"},{\"alignmentgroup\":\"True\",\"hovertemplate\":\"State=ID\\u003cbr\\u003eYear=%{x}\\u003cbr\\u003eNumber of Domestic Workers=%{y}\\u003cextra\\u003e\\u003c\\u002fextra\\u003e\",\"legendgroup\":\"ID\",\"marker\":{\"color\":\"#636efa\",\"pattern\":{\"shape\":\"\"}},\"name\":\"ID\",\"offsetgroup\":\"ID\",\"orientation\":\"v\",\"showlegend\":true,\"textposition\":\"auto\",\"x\":[1953,1954,1955,1956,1957,1958,1959,1960,1961,1962,1963,1964,1965,1966,1967,1968,1969,1970,1971,1972,1973],\"xaxis\":\"x\",\"y\":[8989.5,13891.166666666668,11952.666666666666,11081.333333333334,13275.499999999998,11503.285714285714,12080.999999999998,10528.57142857143,13061.333333333332,12870.999999999998,11522.142857142857,9905.25,9443.5,9365.0,11173.57142857143,8151.666666666667,8250.555555555557,8618.125,8327.125,7380.222222222223,7002.0],\"yaxis\":\"y\",\"type\":\"bar\"},{\"alignmentgroup\":\"True\",\"hovertemplate\":\"State=IL\\u003cbr\\u003eYear=%{x}\\u003cbr\\u003eNumber of Domestic Workers=%{y}\\u003cextra\\u003e\\u003c\\u002fextra\\u003e\",\"legendgroup\":\"IL\",\"marker\":{\"color\":\"#EF553B\",\"pattern\":{\"shape\":\"\"}},\"name\":\"IL\",\"offsetgroup\":\"IL\",\"orientation\":\"v\",\"showlegend\":true,\"textposition\":\"auto\",\"x\":[1953,1954,1955,1956,1957,1958,1959,1960,1961,1962,1963,1964,1965,1966,1967,1968,1969,1970,1971,1972,1973],\"xaxis\":\"x\",\"y\":[4512.666666666667,5432.571428571428,5683.666666666667,6394.5,7706.6,6091.0,8050.2,6434.333333333333,6232.0,6811.000000000001,5610.833333333333,5916.666666666667,5824.666666666667,5318.666666666667,6019.666666666666,4507.666666666667,4809.999999999999,3980.1666666666665,5988.571428571428,5070.166666666667,5006.0],\"yaxis\":\"y\",\"type\":\"bar\"},{\"alignmentgroup\":\"True\",\"hovertemplate\":\"State=IN\\u003cbr\\u003eYear=%{x}\\u003cbr\\u003eNumber of Domestic Workers=%{y}\\u003cextra\\u003e\\u003c\\u002fextra\\u003e\",\"legendgroup\":\"IN\",\"marker\":{\"color\":\"#00cc96\",\"pattern\":{\"shape\":\"\"}},\"name\":\"IN\",\"offsetgroup\":\"IN\",\"orientation\":\"v\",\"showlegend\":true,\"textposition\":\"auto\",\"x\":[1953,1954,1955,1956,1957,1958,1959,1960,1961,1962,1963,1964,1965,1966,1967,1968,1969,1970,1971,1972,1973],\"xaxis\":\"x\",\"y\":[5339.666666666666,4435.833333333333,3919.1666666666665,4441.857142857143,4576.833333333333,3745.285714285714,5087.4,4097.285714285715,3927.4285714285716,5539.833333333333,4913.666666666667,3551.714285714286,4165.857142857143,4603.333333333333,5498.166666666667,4651.333333333334,3862.1428571428573,4339.666666666666,4918.571428571428,3649.8333333333335,2352.333333333333],\"yaxis\":\"y\",\"type\":\"bar\"},{\"alignmentgroup\":\"True\",\"hovertemplate\":\"State=KS\\u003cbr\\u003eYear=%{x}\\u003cbr\\u003eNumber of Domestic Workers=%{y}\\u003cextra\\u003e\\u003c\\u002fextra\\u003e\",\"legendgroup\":\"KS\",\"marker\":{\"color\":\"#ab63fa\",\"pattern\":{\"shape\":\"\"}},\"name\":\"KS\",\"offsetgroup\":\"KS\",\"orientation\":\"v\",\"showlegend\":true,\"textposition\":\"auto\",\"x\":[1953,1954,1955,1956,1957,1958,1959,1960,1961,1962,1963,1964,1965,1966,1967,1968,1969,1970,1971,1972,1973],\"xaxis\":\"x\",\"y\":[6691.666666666666,6187.5,11391.666666666666,10625.666666666666,13104.285714285714,21035.285714285714,23193.333333333336,19903.285714285714,16633.0,16847.0,16166.714285714286,14952.857142857143,15042.857142857143,12703.571428571428,9603.571428571428,7943.75,8433.125,7996.25,8495.0,9171.42857142857,8706.25],\"yaxis\":\"y\",\"type\":\"bar\"},{\"alignmentgroup\":\"True\",\"hovertemplate\":\"State=KY\\u003cbr\\u003eYear=%{x}\\u003cbr\\u003eNumber of Domestic Workers=%{y}\\u003cextra\\u003e\\u003c\\u002fextra\\u003e\",\"legendgroup\":\"KY\",\"marker\":{\"color\":\"#FFA15A\",\"pattern\":{\"shape\":\"\"}},\"name\":\"KY\",\"offsetgroup\":\"KY\",\"orientation\":\"v\",\"showlegend\":true,\"textposition\":\"auto\",\"x\":[1953,1954,1955,1956,1957,1958,1959,1960,1961,1962,1963,1964,1965,1966,1967,1968,1969,1970,1971,1972,1973],\"xaxis\":\"x\",\"y\":[8075.75,8306.25,9940.0,10978.500000000002,11784.000000000002,12172.166666666668,12371.833333333334,11144.428571428572,12185.571428571428,10918.199999999999,13808.599999999999,18893.4,19429.8,19022.4,19004.0,15130.857142857143,15469.999999999998,15177.42857142857,14805.5,17229.285714285714,13015.333333333334],\"yaxis\":\"y\",\"type\":\"bar\"},{\"alignmentgroup\":\"True\",\"hovertemplate\":\"State=LA\\u003cbr\\u003eYear=%{x}\\u003cbr\\u003eNumber of Domestic Workers=%{y}\\u003cextra\\u003e\\u003c\\u002fextra\\u003e\",\"legendgroup\":\"LA\",\"marker\":{\"color\":\"#19d3f3\",\"pattern\":{\"shape\":\"\"}},\"name\":\"LA\",\"offsetgroup\":\"LA\",\"orientation\":\"v\",\"showlegend\":true,\"textposition\":\"auto\",\"x\":[1953,1954,1955,1956,1957,1958,1959,1960,1961,1962,1963,1964,1965,1966,1967,1968,1969,1970,1971,1972,1973],\"xaxis\":\"x\",\"y\":[11931.083333333332,13464.857142857141,14276.25,14251.5,12651.875,12900.0,18996.428571428572,17485.714285714286,17753.57142857143,16187.5,10456.250000000002,9760.416666666668,8308.083333333332,5908.333333333333,4527.5,3372.9166666666665,2744.4444444444443,4185.0,3304.1666666666665,3097.916666666667,1821.4285714285713],\"yaxis\":\"y\",\"type\":\"bar\"},{\"alignmentgroup\":\"True\",\"hovertemplate\":\"State=MA\\u003cbr\\u003eYear=%{x}\\u003cbr\\u003eNumber of Domestic Workers=%{y}\\u003cextra\\u003e\\u003c\\u002fextra\\u003e\",\"legendgroup\":\"MA\",\"marker\":{\"color\":\"#FF6692\",\"pattern\":{\"shape\":\"\"}},\"name\":\"MA\",\"offsetgroup\":\"MA\",\"orientation\":\"v\",\"showlegend\":true,\"textposition\":\"auto\",\"x\":[1953,1954,1955,1956,1957,1958,1959,1960,1961,1962,1963,1964,1965,1966,1967,1968,1969,1970,1971,1972,1973],\"xaxis\":\"x\",\"y\":[8238.0,8649.285714285716,10331.5,9181.857142857143,8503.428571428572,7910.0,7429.714285714286,8389.714285714286,8394.285714285716,8110.5,5496.166666666667,5258.666666666667,5664.727272727272,6608.777777777777,6981.142857142858,5735.666666666666,5240.180555555556,5495.5,3883.6000000000004,3561.4,3643.75],\"yaxis\":\"y\",\"type\":\"bar\"},{\"alignmentgroup\":\"True\",\"hovertemplate\":\"State=MD\\u003cbr\\u003eYear=%{x}\\u003cbr\\u003eNumber of Domestic Workers=%{y}\\u003cextra\\u003e\\u003c\\u002fextra\\u003e\",\"legendgroup\":\"MD\",\"marker\":{\"color\":\"#B6E880\",\"pattern\":{\"shape\":\"\"}},\"name\":\"MD\",\"offsetgroup\":\"MD\",\"orientation\":\"v\",\"showlegend\":true,\"textposition\":\"auto\",\"x\":[1953,1954,1955,1956,1957,1958,1959,1960,1961,1962,1963,1964,1965,1966,1967,1968,1969,1970,1971,1972,1973],\"xaxis\":\"x\",\"y\":[5707.616666666666,5252.916666666667,6812.666666666667,5263.5,5584.666666666667,5261.0,5889.714285714285,6270.0,6215.333333333333,5495.333333333333,5411.0,5522.714285714285,5080.0,3797.2222222222226,4066.0,4181.125,3707.25,3611.9999999999995,3349.0,3456.142857142857,2534.333333333333],\"yaxis\":\"y\",\"type\":\"bar\"},{\"alignmentgroup\":\"True\",\"hovertemplate\":\"State=ME\\u003cbr\\u003eYear=%{x}\\u003cbr\\u003eNumber of Domestic Workers=%{y}\\u003cextra\\u003e\\u003c\\u002fextra\\u003e\",\"legendgroup\":\"ME\",\"marker\":{\"color\":\"#FF97FF\",\"pattern\":{\"shape\":\"\"}},\"name\":\"ME\",\"offsetgroup\":\"ME\",\"orientation\":\"v\",\"showlegend\":true,\"textposition\":\"auto\",\"x\":[1953,1954,1955,1956,1957,1958,1959,1960,1961,1962,1963,1964,1965,1966,1967,1968,1969,1970,1971,1972,1973],\"xaxis\":\"x\",\"y\":[13354.0,15095.5,10865.5,15581.5,13138.166666666666,11007.5,11641.6,10114.166666666668,9435.666666666666,9163.0,8848.0,7265.333333333333,10170.199999999999,5331.333333333333,8130.599999999999,4128.5,5766.2,5301.5,2918.0,3440.8,2553.5],\"yaxis\":\"y\",\"type\":\"bar\"},{\"alignmentgroup\":\"True\",\"hovertemplate\":\"State=MI\\u003cbr\\u003eYear=%{x}\\u003cbr\\u003eNumber of Domestic Workers=%{y}\\u003cextra\\u003e\\u003c\\u002fextra\\u003e\",\"legendgroup\":\"MI\",\"marker\":{\"color\":\"#FECB52\",\"pattern\":{\"shape\":\"\"}},\"name\":\"MI\",\"offsetgroup\":\"MI\",\"orientation\":\"v\",\"showlegend\":true,\"textposition\":\"auto\",\"x\":[1953,1954,1955,1956,1957,1958,1959,1960,1961,1962,1963,1964,1965,1966,1967,1968,1969,1970,1971,1972,1973],\"xaxis\":\"x\",\"y\":[26057.499999999996,30731.511904761905,32108.875,31599.5,35721.125,35373.25,37024.71428571429,38970.71428571429,34997.0,37353.0,25198.333333333336,28337.77777777778,31374.625,28015.75,35160.28571428571,27155.75,25786.375,22855.125,18986.25,15600.875,12525.0],\"yaxis\":\"y\",\"type\":\"bar\"},{\"alignmentgroup\":\"True\",\"hovertemplate\":\"State=MN\\u003cbr\\u003eYear=%{x}\\u003cbr\\u003eNumber of Domestic Workers=%{y}\\u003cextra\\u003e\\u003c\\u002fextra\\u003e\",\"legendgroup\":\"MN\",\"marker\":{\"color\":\"#636efa\",\"pattern\":{\"shape\":\"\"}},\"name\":\"MN\",\"offsetgroup\":\"MN\",\"orientation\":\"v\",\"showlegend\":true,\"textposition\":\"auto\",\"x\":[1953,1954,1955,1956,1957,1958,1959,1960,1961,1962,1963,1964,1965,1966,1967,1968,1969,1970,1971,1972,1973],\"xaxis\":\"x\",\"y\":[15146.333333333334,4578.222222222223,5291.571428571428,5215.571428571428,5969.833333333333,5288.833333333333,5654.0,4618.571428571428,5433.857142857143,5384.142857142857,5498.714285714286,5767.428571428572,4585.142857142857,4471.714285714285,5096.166666666666,5201.428571428572,4311.333333333333,3439.4285714285716,3586.714285714286,null,3945.0],\"yaxis\":\"y\",\"type\":\"bar\"},{\"alignmentgroup\":\"True\",\"hovertemplate\":\"State=MO\\u003cbr\\u003eYear=%{x}\\u003cbr\\u003eNumber of Domestic Workers=%{y}\\u003cextra\\u003e\\u003c\\u002fextra\\u003e\",\"legendgroup\":\"MO\",\"marker\":{\"color\":\"#EF553B\",\"pattern\":{\"shape\":\"\"}},\"name\":\"MO\",\"offsetgroup\":\"MO\",\"orientation\":\"v\",\"showlegend\":true,\"textposition\":\"auto\",\"x\":[1953,1954,1955,1956,1957,1958,1959,1960,1961,1962,1963,1964,1965,1966,1967,1968,1969,1970,1971,1972,1973],\"xaxis\":\"x\",\"y\":[22100.0,25668.333333333336,20692.0,25167.75,20752.5,15921.999999999998,27337.800000000003,14494.0,7148.428571428572,9842.857142857143,7824.222222222223,8938.0,6702.555555555556,2546.5,2280.857142857143,1575.7142857142858,2652.5714285714284,2390.25,2826.571428571429,2322.4999999999995,1948.75],\"yaxis\":\"y\",\"type\":\"bar\"},{\"alignmentgroup\":\"True\",\"hovertemplate\":\"State=MS\\u003cbr\\u003eYear=%{x}\\u003cbr\\u003eNumber of Domestic Workers=%{y}\\u003cextra\\u003e\\u003c\\u002fextra\\u003e\",\"legendgroup\":\"MS\",\"marker\":{\"color\":\"#00cc96\",\"pattern\":{\"shape\":\"\"}},\"name\":\"MS\",\"offsetgroup\":\"MS\",\"orientation\":\"v\",\"showlegend\":true,\"textposition\":\"auto\",\"x\":[1953,1954,1955,1956,1957,1958,1959,1960,1961,1962,1963,1964,1965,1966,1967,1968,1969,1970,1971,1972,1973],\"xaxis\":\"x\",\"y\":[4740.5,11486.333333333334,9693.0,11295.166666666666,15841.75,11568.142857142859,14389.0,26406.333333333332,25236.5,21117.428571428572,26625.25,20988.100000000002,17098.88888888889,16121.4,5108.166666666667,9798.5,9663.0,8818.666666666666,5298.0,null,null],\"yaxis\":\"y\",\"type\":\"bar\"},{\"alignmentgroup\":\"True\",\"hovertemplate\":\"State=MT\\u003cbr\\u003eYear=%{x}\\u003cbr\\u003eNumber of Domestic Workers=%{y}\\u003cextra\\u003e\\u003c\\u002fextra\\u003e\",\"legendgroup\":\"MT\",\"marker\":{\"color\":\"#ab63fa\",\"pattern\":{\"shape\":\"\"}},\"name\":\"MT\",\"offsetgroup\":\"MT\",\"orientation\":\"v\",\"showlegend\":true,\"textposition\":\"auto\",\"x\":[1953,1954,1955,1956,1957,1958,1959,1960,1961,1962,1963,1964,1965,1966,1967,1968,1969,1970,1971,1972,1973],\"xaxis\":\"x\",\"y\":[6980.5,8379.333333333334,6723.857142857143,7564.428571428571,5582.5714285714275,7284.428571428571,7288.333333333333,6383.285714285715,5694.857142857143,5595.75,4392.583333333334,4784.5,5305.818181818182,4974.75,5446.6,5331.583333333333,5630.916666666667,6342.111111111111,5037.25,4928.166666666666,4461.428571428572],\"yaxis\":\"y\",\"type\":\"bar\"},{\"alignmentgroup\":\"True\",\"hovertemplate\":\"State=NC\\u003cbr\\u003eYear=%{x}\\u003cbr\\u003eNumber of Domestic Workers=%{y}\\u003cextra\\u003e\\u003c\\u002fextra\\u003e\",\"legendgroup\":\"NC\",\"marker\":{\"color\":\"#FFA15A\",\"pattern\":{\"shape\":\"\"}},\"name\":\"NC\",\"offsetgroup\":\"NC\",\"orientation\":\"v\",\"showlegend\":true,\"textposition\":\"auto\",\"x\":[1953,1954,1955,1956,1957,1958,1959,1960,1961,1962,1963,1964,1965,1966,1967,1968,1969,1970,1971,1972,1973],\"xaxis\":\"x\",\"y\":[10750.0,16006.5,17522.166666666664,19511.5,20089.0,41459.375,56319.14285714286,58345.0,71742.42857142857,70705.375,60515.833333333336,96379.58333333333,92031.08333333333,83412.66666666667,88713.5,76887.33333333334,72208.58333333333,88413.11111111111,65324.41666666667,65687.75,56737.14285714286],\"yaxis\":\"y\",\"type\":\"bar\"},{\"alignmentgroup\":\"True\",\"hovertemplate\":\"State=ND\\u003cbr\\u003eYear=%{x}\\u003cbr\\u003eNumber of Domestic Workers=%{y}\\u003cextra\\u003e\\u003c\\u002fextra\\u003e\",\"legendgroup\":\"ND\",\"marker\":{\"color\":\"#19d3f3\",\"pattern\":{\"shape\":\"\"}},\"name\":\"ND\",\"offsetgroup\":\"ND\",\"orientation\":\"v\",\"showlegend\":true,\"textposition\":\"auto\",\"x\":[1953,1954,1955,1956,1957,1958,1959,1960,1961,1962,1963,1964,1965,1966,1967,1968,1969,1970,1971,1972,1973],\"xaxis\":\"x\",\"y\":[6176.4,6948.999999999999,8775.285714285714,8050.5,9304.57142857143,9786.166666666666,10463.400000000001,9780.666666666666,8633.5,9436.666666666668,8575.714285714286,8436.42857142857,8940.714285714286,8321.857142857143,7922.142857142857,7893.142857142857,7360.714285714286,6781.666666666666,6101.428571428571,5165.857142857143,4749.25],\"yaxis\":\"y\",\"type\":\"bar\"},{\"alignmentgroup\":\"True\",\"hovertemplate\":\"State=NE\\u003cbr\\u003eYear=%{x}\\u003cbr\\u003eNumber of Domestic Workers=%{y}\\u003cextra\\u003e\\u003c\\u002fextra\\u003e\",\"legendgroup\":\"NE\",\"marker\":{\"color\":\"#FF6692\",\"pattern\":{\"shape\":\"\"}},\"name\":\"NE\",\"offsetgroup\":\"NE\",\"orientation\":\"v\",\"showlegend\":true,\"textposition\":\"auto\",\"x\":[1953,1954,1955,1956,1957,1958,1959,1960,1961,1962,1963,1964,1965,1966,1967,1968,1969,1970,1971,1972,1973],\"xaxis\":\"x\",\"y\":[2190.0,2708.0,1552.857142857143,1970.2857142857142,1623.0000000000002,4054.6666666666665,4992.333333333333,5035.857142857143,4812.857142857143,3677.4285714285716,3533.8333333333335,3203.333333333333,4068.8,3171.833333333333,5353.6,5046.400000000001,4238.0,4529.0,6809.75,5747.0,6861.0],\"yaxis\":\"y\",\"type\":\"bar\"},{\"alignmentgroup\":\"True\",\"hovertemplate\":\"State=NH\\u003cbr\\u003eYear=%{x}\\u003cbr\\u003eNumber of Domestic Workers=%{y}\\u003cextra\\u003e\\u003c\\u002fextra\\u003e\",\"legendgroup\":\"NH\",\"marker\":{\"color\":\"#B6E880\",\"pattern\":{\"shape\":\"\"}},\"name\":\"NH\",\"offsetgroup\":\"NH\",\"orientation\":\"v\",\"showlegend\":true,\"textposition\":\"auto\",\"x\":[1953,1954,1955,1956,1957,1958,1959,1960,1961,1962,1963,1964,1965,1966,1967,1968,1969,1970,1971,1972,1973],\"xaxis\":\"x\",\"y\":[1110.8,null,null,1631.0,1700.75,1844.5,1694.8,1497.6,1744.25,1654.8000000000002,1559.0,1311.75,1209.2,1133.1666666666667,1190.0,1033.2,949.8333333333334,1037.8,890.3333333333334,894.0,672.5],\"yaxis\":\"y\",\"type\":\"bar\"},{\"alignmentgroup\":\"True\",\"hovertemplate\":\"State=NJ\\u003cbr\\u003eYear=%{x}\\u003cbr\\u003eNumber of Domestic Workers=%{y}\\u003cextra\\u003e\\u003c\\u002fextra\\u003e\",\"legendgroup\":\"NJ\",\"marker\":{\"color\":\"#FF97FF\",\"pattern\":{\"shape\":\"\"}},\"name\":\"NJ\",\"offsetgroup\":\"NJ\",\"orientation\":\"v\",\"showlegend\":true,\"textposition\":\"auto\",\"x\":[1953,1954,1955,1956,1957,1958,1959,1960,1961,1962,1963,1964,1965,1966,1967,1968,1969,1970,1971,1972,1973],\"xaxis\":\"x\",\"y\":[7004.166666666667,7565.714285714285,5945.75,5893.125,5582.5,6576.375,9750.666666666668,8915.428571428572,8603.285714285714,13779.285714285714,13081.875,13643.0,13345.625,12607.5,13527.857142857143,11201.125,9773.125,10345.0,10148.75,9468.75,8441.25],\"yaxis\":\"y\",\"type\":\"bar\"},{\"alignmentgroup\":\"True\",\"hovertemplate\":\"State=NM\\u003cbr\\u003eYear=%{x}\\u003cbr\\u003eNumber of Domestic Workers=%{y}\\u003cextra\\u003e\\u003c\\u002fextra\\u003e\",\"legendgroup\":\"NM\",\"marker\":{\"color\":\"#FECB52\",\"pattern\":{\"shape\":\"\"}},\"name\":\"NM\",\"offsetgroup\":\"NM\",\"orientation\":\"v\",\"showlegend\":true,\"textposition\":\"auto\",\"x\":[1953,1954,1955,1956,1957,1958,1959,1960,1961,1962,1963,1964,1965,1966,1967,1968,1969,1970,1971,1972,1973],\"xaxis\":\"x\",\"y\":[8325.666666666666,4038.6309523809523,3803.25,2701.375,2849.375,2647.125,2559.8571428571427,2415.1428571428573,2321.285714285714,2317.125,1852.1666666666665,1613.8181818181818,2061.714285714286,1184.6666666666665,948.6666666666666,994.909090909091,1295.0,996.1111111111111,1055.0,1028.888888888889,1302.5],\"yaxis\":\"y\",\"type\":\"bar\"},{\"alignmentgroup\":\"True\",\"hovertemplate\":\"State=NV\\u003cbr\\u003eYear=%{x}\\u003cbr\\u003eNumber of Domestic Workers=%{y}\\u003cextra\\u003e\\u003c\\u002fextra\\u003e\",\"legendgroup\":\"NV\",\"marker\":{\"color\":\"#636efa\",\"pattern\":{\"shape\":\"\"}},\"name\":\"NV\",\"offsetgroup\":\"NV\",\"orientation\":\"v\",\"showlegend\":true,\"textposition\":\"auto\",\"x\":[1953,1954,1955,1956,1957,1958,1959,1960,1961,1962,1963,1964,1965,1966,1967,1968,1969,1970,1971,1972,1973],\"xaxis\":\"x\",\"y\":[109.0,588.5714285714286,803.1666666666666,646.8333333333334,530.375,682.0,578.8571428571429,583.4285714285713,595.7142857142858,324.25,168.875,null,221.83333333333331,null,200.0,null,516.6666666666666,425.0,null,null,null],\"yaxis\":\"y\",\"type\":\"bar\"},{\"alignmentgroup\":\"True\",\"hovertemplate\":\"State=NY\\u003cbr\\u003eYear=%{x}\\u003cbr\\u003eNumber of Domestic Workers=%{y}\\u003cextra\\u003e\\u003c\\u002fextra\\u003e\",\"legendgroup\":\"NY\",\"marker\":{\"color\":\"#EF553B\",\"pattern\":{\"shape\":\"\"}},\"name\":\"NY\",\"offsetgroup\":\"NY\",\"orientation\":\"v\",\"showlegend\":true,\"textposition\":\"auto\",\"x\":[1953,1954,1955,1956,1957,1958,1959,1960,1961,1962,1963,1964,1965,1966,1967,1968,1969,1970,1971,1972,1973],\"xaxis\":\"x\",\"y\":[22902.75,21373.666666666664,21175.625,18781.5,19898.5,19492.625,20137.857142857145,18971.285714285714,19451.285714285714,18092.875,18279.85714285714,18942.428571428572,15999.75,16112.142857142855,17795.166666666664,13165.57142857143,12429.142857142857,11336.285714285714,10689.714285714284,8988.0,6691.666666666666],\"yaxis\":\"y\",\"type\":\"bar\"},{\"alignmentgroup\":\"True\",\"hovertemplate\":\"State=OH\\u003cbr\\u003eYear=%{x}\\u003cbr\\u003eNumber of Domestic Workers=%{y}\\u003cextra\\u003e\\u003c\\u002fextra\\u003e\",\"legendgroup\":\"OH\",\"marker\":{\"color\":\"#00cc96\",\"pattern\":{\"shape\":\"\"}},\"name\":\"OH\",\"offsetgroup\":\"OH\",\"orientation\":\"v\",\"showlegend\":true,\"textposition\":\"auto\",\"x\":[1953,1954,1955,1956,1957,1958,1959,1960,1961,1962,1963,1964,1965,1966,1967,1968,1969,1970,1971,1972,1973],\"xaxis\":\"x\",\"y\":[11565.25,9187.2,13887.500000000002,11016.833333333332,12915.0,17894.0,20621.4,20378.833333333332,20503.0,22990.333333333332,21531.5,22756.000000000004,25114.333333333336,21978.000000000004,23947.166666666668,22341.833333333332,20647.833333333332,20414.666666666668,20576.0,19164.333333333332,14755.000000000002],\"yaxis\":\"y\",\"type\":\"bar\"},{\"alignmentgroup\":\"True\",\"hovertemplate\":\"State=OK\\u003cbr\\u003eYear=%{x}\\u003cbr\\u003eNumber of Domestic Workers=%{y}\\u003cextra\\u003e\\u003c\\u002fextra\\u003e\",\"legendgroup\":\"OK\",\"marker\":{\"color\":\"#ab63fa\",\"pattern\":{\"shape\":\"\"}},\"name\":\"OK\",\"offsetgroup\":\"OK\",\"orientation\":\"v\",\"showlegend\":true,\"textposition\":\"auto\",\"x\":[1953,1954,1955,1956,1957,1958,1959,1960,1961,1962,1963,1964,1965,1966,1967,1968,1969,1970,1971,1972,1973],\"xaxis\":\"x\",\"y\":[9836.166666666668,8347.714285714286,10533.875,8958.125,8883.5,12690.5,16657.0,21247.857142857145,21489.285714285714,20211.25,11612.90909090909,11358.333333333332,11130.0,10345.583333333332,11888.333333333332,11434.166666666666,10156.25,10912.222222222223,7768.333333333334,7530.000000000001,8139.285714285715],\"yaxis\":\"y\",\"type\":\"bar\"},{\"alignmentgroup\":\"True\",\"hovertemplate\":\"State=OR\\u003cbr\\u003eYear=%{x}\\u003cbr\\u003eNumber of Domestic Workers=%{y}\\u003cextra\\u003e\\u003c\\u002fextra\\u003e\",\"legendgroup\":\"OR\",\"marker\":{\"color\":\"#FFA15A\",\"pattern\":{\"shape\":\"\"}},\"name\":\"OR\",\"offsetgroup\":\"OR\",\"orientation\":\"v\",\"showlegend\":true,\"textposition\":\"auto\",\"x\":[1953,1954,1955,1956,1957,1958,1959,1960,1961,1962,1963,1964,1965,1966,1967,1968,1969,1970,1971,1972,1973],\"xaxis\":\"x\",\"y\":[23713.333333333332,36326.42857142857,27181.875,27398.625,28596.875,27699.428571428572,31030.833333333332,30976.142857142855,28973.857142857145,31306.42857142857,23658.333333333332,21708.333333333332,21973.333333333332,23379.0,22113.0,17542.083333333336,19457.007575757576,22248.333333333332,14468.750000000002,13055.833333333334,13363.571428571428],\"yaxis\":\"y\",\"type\":\"bar\"},{\"alignmentgroup\":\"True\",\"hovertemplate\":\"State=PA\\u003cbr\\u003eYear=%{x}\\u003cbr\\u003eNumber of Domestic Workers=%{y}\\u003cextra\\u003e\\u003c\\u002fextra\\u003e\",\"legendgroup\":\"PA\",\"marker\":{\"color\":\"#19d3f3\",\"pattern\":{\"shape\":\"\"}},\"name\":\"PA\",\"offsetgroup\":\"PA\",\"orientation\":\"v\",\"showlegend\":true,\"textposition\":\"auto\",\"x\":[1953,1954,1955,1956,1957,1958,1959,1960,1961,1962,1963,1964,1965,1966,1967,1968,1969,1970,1971,1972,1973],\"xaxis\":\"x\",\"y\":[10459.75,13085.0,12303.0,13800.333333333334,13048.833333333334,15338.166666666666,15823.333333333334,12641.714285714286,12617.57142857143,13568.714285714284,12717.142857142857,14080.0,14559.0,12321.857142857143,12176.333333333332,11914.285714285714,12322.857142857143,12207.5,10946.5,8425.833333333334,5699.285714285714],\"yaxis\":\"y\",\"type\":\"bar\"},{\"alignmentgroup\":\"True\",\"hovertemplate\":\"State=RI\\u003cbr\\u003eYear=%{x}\\u003cbr\\u003eNumber of Domestic Workers=%{y}\\u003cextra\\u003e\\u003c\\u002fextra\\u003e\",\"legendgroup\":\"RI\",\"marker\":{\"color\":\"#FF6692\",\"pattern\":{\"shape\":\"\"}},\"name\":\"RI\",\"offsetgroup\":\"RI\",\"orientation\":\"v\",\"showlegend\":true,\"textposition\":\"auto\",\"x\":[1953,1954,1955,1956,1957,1958,1959,1960,1961,1962,1963,1964,1965,1966,1967,1968,1969,1970,1971,1972,1973],\"xaxis\":\"x\",\"y\":[null,null,null,null,null,null,null,null,null,null,271.0,168.0,168.66666666666666,168.0,40.5,64.0,66.66666666666667,null,null,null,null],\"yaxis\":\"y\",\"type\":\"bar\"},{\"alignmentgroup\":\"True\",\"hovertemplate\":\"State=SC\\u003cbr\\u003eYear=%{x}\\u003cbr\\u003eNumber of Domestic Workers=%{y}\\u003cextra\\u003e\\u003c\\u002fextra\\u003e\",\"legendgroup\":\"SC\",\"marker\":{\"color\":\"#B6E880\",\"pattern\":{\"shape\":\"\"}},\"name\":\"SC\",\"offsetgroup\":\"SC\",\"orientation\":\"v\",\"showlegend\":true,\"textposition\":\"auto\",\"x\":[1953,1954,1955,1956,1957,1958,1959,1960,1961,1962,1963,1964,1965,1966,1967,1968,1969,1970,1971,1972,1973],\"xaxis\":\"x\",\"y\":[21391.5,13302.142857142857,14982.142857142857,13753.125,11828.125,9665.625,17333.333333333332,16367.857142857143,14960.714285714286,14278.125,10837.083333333334,8027.916666666667,8712.916666666666,8062.5,6870.0,8212.5,9611.083333333334,9597.22222222222,5706.25,4535.416666666667,4346.428571428572],\"yaxis\":\"y\",\"type\":\"bar\"},{\"alignmentgroup\":\"True\",\"hovertemplate\":\"State=SD\\u003cbr\\u003eYear=%{x}\\u003cbr\\u003eNumber of Domestic Workers=%{y}\\u003cextra\\u003e\\u003c\\u002fextra\\u003e\",\"legendgroup\":\"SD\",\"marker\":{\"color\":\"#FF97FF\",\"pattern\":{\"shape\":\"\"}},\"name\":\"SD\",\"offsetgroup\":\"SD\",\"orientation\":\"v\",\"showlegend\":true,\"textposition\":\"auto\",\"x\":[1953,1954,1955,1956,1957,1958,1959,1960,1961,1962,1963,1964,1965,1966,1967,1968,1969,1970,1971,1972,1973],\"xaxis\":\"x\",\"y\":[210.0,1518.3333333333335,416.0,403.0,2355.0,2470.3333333333335,1573.3333333333333,362.6666666666667,374.0,434.16666666666663,388.33333333333337,314.3333333333333,2645.0,2345.0,null,null,null,null,null,null,null],\"yaxis\":\"y\",\"type\":\"bar\"},{\"alignmentgroup\":\"True\",\"hovertemplate\":\"State=TN\\u003cbr\\u003eYear=%{x}\\u003cbr\\u003eNumber of Domestic Workers=%{y}\\u003cextra\\u003e\\u003c\\u002fextra\\u003e\",\"legendgroup\":\"TN\",\"marker\":{\"color\":\"#FECB52\",\"pattern\":{\"shape\":\"\"}},\"name\":\"TN\",\"offsetgroup\":\"TN\",\"orientation\":\"v\",\"showlegend\":true,\"textposition\":\"auto\",\"x\":[1953,1954,1955,1956,1957,1958,1959,1960,1961,1962,1963,1964,1965,1966,1967,1968,1969,1970,1971,1972,1973],\"xaxis\":\"x\",\"y\":[12178.800000000001,12167.714285714286,27447.142857142855,25345.714285714286,24525.28571428571,17162.75,23760.428571428572,24457.85714285714,20815.571428571428,21540.714285714283,18237.25,17217.0,17049.85714285714,11297.428571428572,10901.5,18009.14285714286,17891.285714285714,18236.625,23418.777777777777,29053.0,30865.0],\"yaxis\":\"y\",\"type\":\"bar\"},{\"alignmentgroup\":\"True\",\"hovertemplate\":\"State=TX\\u003cbr\\u003eYear=%{x}\\u003cbr\\u003eNumber of Domestic Workers=%{y}\\u003cextra\\u003e\\u003c\\u002fextra\\u003e\",\"legendgroup\":\"TX\",\"marker\":{\"color\":\"#636efa\",\"pattern\":{\"shape\":\"\"}},\"name\":\"TX\",\"offsetgroup\":\"TX\",\"orientation\":\"v\",\"showlegend\":true,\"textposition\":\"auto\",\"x\":[1953,1954,1955,1956,1957,1958,1959,1960,1961,1962,1963,1964,1965,1966,1967,1968,1969,1970,1971,1972,1973],\"xaxis\":\"x\",\"y\":[109554.83333333333,153882.7142857143,165257.375,177423.625,151710.75,156411.0,170952.85714285716,170660.85714285716,161996.0,148526.875,114881.58333333333,109279.16666666666,112975.83333333333,101597.08333333333,97835.5,92757.91666666667,93601.11111111111,98268.88888888888,85874.54545454546,84933.75,84442.85714285714],\"yaxis\":\"y\",\"type\":\"bar\"},{\"alignmentgroup\":\"True\",\"hovertemplate\":\"State=UT\\u003cbr\\u003eYear=%{x}\\u003cbr\\u003eNumber of Domestic Workers=%{y}\\u003cextra\\u003e\\u003c\\u002fextra\\u003e\",\"legendgroup\":\"UT\",\"marker\":{\"color\":\"#EF553B\",\"pattern\":{\"shape\":\"\"}},\"name\":\"UT\",\"offsetgroup\":\"UT\",\"orientation\":\"v\",\"showlegend\":true,\"textposition\":\"auto\",\"x\":[1953,1954,1955,1956,1957,1958,1959,1960,1961,1962,1963,1964,1965,1966,1967,1968,1969,1970,1971,1972,1973],\"xaxis\":\"x\",\"y\":[4588.25,4455.166666666666,6647.166666666667,6640.000000000001,6727.333333333333,6589.0,7863.8,6013.428571428572,5710.0,7476.333333333333,5778.333333333333,5457.571428571429,4442.166666666666,3838.833333333333,3981.666666666667,3448.4999999999995,2882.6666666666665,2159.5,2219.714285714286,1667.0,3908.25],\"yaxis\":\"y\",\"type\":\"bar\"},{\"alignmentgroup\":\"True\",\"hovertemplate\":\"State=VA\\u003cbr\\u003eYear=%{x}\\u003cbr\\u003eNumber of Domestic Workers=%{y}\\u003cextra\\u003e\\u003c\\u002fextra\\u003e\",\"legendgroup\":\"VA\",\"marker\":{\"color\":\"#00cc96\",\"pattern\":{\"shape\":\"\"}},\"name\":\"VA\",\"offsetgroup\":\"VA\",\"orientation\":\"v\",\"showlegend\":true,\"textposition\":\"auto\",\"x\":[1953,1954,1955,1956,1957,1958,1959,1960,1961,1962,1963,1964,1965,1966,1967,1968,1969,1970,1971,1972,1973],\"xaxis\":\"x\",\"y\":[6882.883333333333,7296.095238095238,8280.142857142859,10458.142857142857,7362.857142857143,8890.142857142857,9929.0,9966.999999999998,9822.285714285716,9438.0,8689.714285714286,8973.857142857143,8115.571428571428,7472.285714285715,8940.0,7267.0,6935.285714285714,7322.714285714285,7173.142857142858,7105.857142857142,5606.666666666666],\"yaxis\":\"y\",\"type\":\"bar\"},{\"alignmentgroup\":\"True\",\"hovertemplate\":\"State=VT\\u003cbr\\u003eYear=%{x}\\u003cbr\\u003eNumber of Domestic Workers=%{y}\\u003cextra\\u003e\\u003c\\u002fextra\\u003e\",\"legendgroup\":\"VT\",\"marker\":{\"color\":\"#ab63fa\",\"pattern\":{\"shape\":\"\"}},\"name\":\"VT\",\"offsetgroup\":\"VT\",\"orientation\":\"v\",\"showlegend\":true,\"textposition\":\"auto\",\"x\":[1953,1954,1955,1956,1957,1958,1959,1960,1961,1962,1963,1964,1965,1966,1967,1968,1969,1970,1971,1972,1973],\"xaxis\":\"x\",\"y\":[2175.0,1487.142857142857,1671.0,1466.6,1369.0,1247.4,1114.0,810.0,824.0,897.0,814.8000000000001,855.4000000000001,688.0,432.8,431.6,317.4,526.5,337.5,487.0,309.0,null],\"yaxis\":\"y\",\"type\":\"bar\"},{\"alignmentgroup\":\"True\",\"hovertemplate\":\"State=WA\\u003cbr\\u003eYear=%{x}\\u003cbr\\u003eNumber of Domestic Workers=%{y}\\u003cextra\\u003e\\u003c\\u002fextra\\u003e\",\"legendgroup\":\"WA\",\"marker\":{\"color\":\"#FFA15A\",\"pattern\":{\"shape\":\"\"}},\"name\":\"WA\",\"offsetgroup\":\"WA\",\"orientation\":\"v\",\"showlegend\":true,\"textposition\":\"auto\",\"x\":[1953,1954,1955,1956,1957,1958,1959,1960,1961,1962,1963,1964,1965,1966,1967,1968,1969,1970,1971,1972,1973],\"xaxis\":\"x\",\"y\":[25188.499999999996,31967.714285714283,29034.142857142855,21497.25,26761.0,25755.125,26736.71428571429,29013.714285714283,25120.14285714286,25618.875,17654.916666666668,19759.8,20331.181818181816,20467.583333333336,22855.4,18994.666666666664,21162.40909090909,26297.55555555556,21355.750000000004,18124.833333333332,25679.166666666668],\"yaxis\":\"y\",\"type\":\"bar\"},{\"alignmentgroup\":\"True\",\"hovertemplate\":\"State=WI\\u003cbr\\u003eYear=%{x}\\u003cbr\\u003eNumber of Domestic Workers=%{y}\\u003cextra\\u003e\\u003c\\u002fextra\\u003e\",\"legendgroup\":\"WI\",\"marker\":{\"color\":\"#19d3f3\",\"pattern\":{\"shape\":\"\"}},\"name\":\"WI\",\"offsetgroup\":\"WI\",\"orientation\":\"v\",\"showlegend\":true,\"textposition\":\"auto\",\"x\":[1953,1954,1955,1956,1957,1958,1959,1960,1961,1962,1963,1964,1965,1966,1967,1968,1969,1970,1971,1972,1973],\"xaxis\":\"x\",\"y\":[6441.000000000001,7779.999999999999,8077.142857142857,8312.57142857143,7544.285714285714,6649.285714285715,7189.200000000001,6656.799999999999,6772.333333333333,5077.571428571428,5551.0,5358.833333333333,5031.666666666667,5236.666666666667,5061.5,5072.5,3844.166666666667,4524.666666666666,3637.0,3254.8333333333335,1472.5],\"yaxis\":\"y\",\"type\":\"bar\"},{\"alignmentgroup\":\"True\",\"hovertemplate\":\"State=WV\\u003cbr\\u003eYear=%{x}\\u003cbr\\u003eNumber of Domestic Workers=%{y}\\u003cextra\\u003e\\u003c\\u002fextra\\u003e\",\"legendgroup\":\"WV\",\"marker\":{\"color\":\"#FF6692\",\"pattern\":{\"shape\":\"\"}},\"name\":\"WV\",\"offsetgroup\":\"WV\",\"orientation\":\"v\",\"showlegend\":true,\"textposition\":\"auto\",\"x\":[1953,1954,1955,1956,1957,1958,1959,1960,1961,1962,1963,1964,1965,1966,1967,1968,1969,1970,1971,1972,1973],\"xaxis\":\"x\",\"y\":[360.0,1079.3333333333335,548.0,707.5,2062.0,1525.0,326.5,null,null,null,811.0,1187.0,740.0,695.0,770.5,988.6,1047.8,1194.0,1399.0,1095.5,null],\"yaxis\":\"y\",\"type\":\"bar\"},{\"alignmentgroup\":\"True\",\"hovertemplate\":\"State=WY\\u003cbr\\u003eYear=%{x}\\u003cbr\\u003eNumber of Domestic Workers=%{y}\\u003cextra\\u003e\\u003c\\u002fextra\\u003e\",\"legendgroup\":\"WY\",\"marker\":{\"color\":\"#B6E880\",\"pattern\":{\"shape\":\"\"}},\"name\":\"WY\",\"offsetgroup\":\"WY\",\"orientation\":\"v\",\"showlegend\":true,\"textposition\":\"auto\",\"x\":[1953,1954,1955,1956,1957,1958,1959,1960,1961,1962,1963,1964,1965,1966,1967,1968,1969,1970,1971,1972,1973],\"xaxis\":\"x\",\"y\":[4407.8,4034.1428571428573,1735.1428571428573,2971.5000000000005,3048.833333333333,2722.5,2729.8,2555.6666666666665,2868.0,3164.75,3290.75,2896.75,3395.5,3057.25,3548.25,3644.5,3391.3999999999996,2557.6,1543.6,1399.75,1573.3333333333333],\"yaxis\":\"y\",\"type\":\"bar\"}],                        {\"template\":{\"data\":{\"histogram2dcontour\":[{\"type\":\"histogram2dcontour\",\"colorbar\":{\"outlinewidth\":0,\"ticks\":\"\"},\"colorscale\":[[0.0,\"#0d0887\"],[0.1111111111111111,\"#46039f\"],[0.2222222222222222,\"#7201a8\"],[0.3333333333333333,\"#9c179e\"],[0.4444444444444444,\"#bd3786\"],[0.5555555555555556,\"#d8576b\"],[0.6666666666666666,\"#ed7953\"],[0.7777777777777778,\"#fb9f3a\"],[0.8888888888888888,\"#fdca26\"],[1.0,\"#f0f921\"]]}],\"choropleth\":[{\"type\":\"choropleth\",\"colorbar\":{\"outlinewidth\":0,\"ticks\":\"\"}}],\"histogram2d\":[{\"type\":\"histogram2d\",\"colorbar\":{\"outlinewidth\":0,\"ticks\":\"\"},\"colorscale\":[[0.0,\"#0d0887\"],[0.1111111111111111,\"#46039f\"],[0.2222222222222222,\"#7201a8\"],[0.3333333333333333,\"#9c179e\"],[0.4444444444444444,\"#bd3786\"],[0.5555555555555556,\"#d8576b\"],[0.6666666666666666,\"#ed7953\"],[0.7777777777777778,\"#fb9f3a\"],[0.8888888888888888,\"#fdca26\"],[1.0,\"#f0f921\"]]}],\"heatmap\":[{\"type\":\"heatmap\",\"colorbar\":{\"outlinewidth\":0,\"ticks\":\"\"},\"colorscale\":[[0.0,\"#0d0887\"],[0.1111111111111111,\"#46039f\"],[0.2222222222222222,\"#7201a8\"],[0.3333333333333333,\"#9c179e\"],[0.4444444444444444,\"#bd3786\"],[0.5555555555555556,\"#d8576b\"],[0.6666666666666666,\"#ed7953\"],[0.7777777777777778,\"#fb9f3a\"],[0.8888888888888888,\"#fdca26\"],[1.0,\"#f0f921\"]]}],\"heatmapgl\":[{\"type\":\"heatmapgl\",\"colorbar\":{\"outlinewidth\":0,\"ticks\":\"\"},\"colorscale\":[[0.0,\"#0d0887\"],[0.1111111111111111,\"#46039f\"],[0.2222222222222222,\"#7201a8\"],[0.3333333333333333,\"#9c179e\"],[0.4444444444444444,\"#bd3786\"],[0.5555555555555556,\"#d8576b\"],[0.6666666666666666,\"#ed7953\"],[0.7777777777777778,\"#fb9f3a\"],[0.8888888888888888,\"#fdca26\"],[1.0,\"#f0f921\"]]}],\"contourcarpet\":[{\"type\":\"contourcarpet\",\"colorbar\":{\"outlinewidth\":0,\"ticks\":\"\"}}],\"contour\":[{\"type\":\"contour\",\"colorbar\":{\"outlinewidth\":0,\"ticks\":\"\"},\"colorscale\":[[0.0,\"#0d0887\"],[0.1111111111111111,\"#46039f\"],[0.2222222222222222,\"#7201a8\"],[0.3333333333333333,\"#9c179e\"],[0.4444444444444444,\"#bd3786\"],[0.5555555555555556,\"#d8576b\"],[0.6666666666666666,\"#ed7953\"],[0.7777777777777778,\"#fb9f3a\"],[0.8888888888888888,\"#fdca26\"],[1.0,\"#f0f921\"]]}],\"surface\":[{\"type\":\"surface\",\"colorbar\":{\"outlinewidth\":0,\"ticks\":\"\"},\"colorscale\":[[0.0,\"#0d0887\"],[0.1111111111111111,\"#46039f\"],[0.2222222222222222,\"#7201a8\"],[0.3333333333333333,\"#9c179e\"],[0.4444444444444444,\"#bd3786\"],[0.5555555555555556,\"#d8576b\"],[0.6666666666666666,\"#ed7953\"],[0.7777777777777778,\"#fb9f3a\"],[0.8888888888888888,\"#fdca26\"],[1.0,\"#f0f921\"]]}],\"mesh3d\":[{\"type\":\"mesh3d\",\"colorbar\":{\"outlinewidth\":0,\"ticks\":\"\"}}],\"scatter\":[{\"fillpattern\":{\"fillmode\":\"overlay\",\"size\":10,\"solidity\":0.2},\"type\":\"scatter\"}],\"parcoords\":[{\"type\":\"parcoords\",\"line\":{\"colorbar\":{\"outlinewidth\":0,\"ticks\":\"\"}}}],\"scatterpolargl\":[{\"type\":\"scatterpolargl\",\"marker\":{\"colorbar\":{\"outlinewidth\":0,\"ticks\":\"\"}}}],\"bar\":[{\"error_x\":{\"color\":\"#2a3f5f\"},\"error_y\":{\"color\":\"#2a3f5f\"},\"marker\":{\"line\":{\"color\":\"#E5ECF6\",\"width\":0.5},\"pattern\":{\"fillmode\":\"overlay\",\"size\":10,\"solidity\":0.2}},\"type\":\"bar\"}],\"scattergeo\":[{\"type\":\"scattergeo\",\"marker\":{\"colorbar\":{\"outlinewidth\":0,\"ticks\":\"\"}}}],\"scatterpolar\":[{\"type\":\"scatterpolar\",\"marker\":{\"colorbar\":{\"outlinewidth\":0,\"ticks\":\"\"}}}],\"histogram\":[{\"marker\":{\"pattern\":{\"fillmode\":\"overlay\",\"size\":10,\"solidity\":0.2}},\"type\":\"histogram\"}],\"scattergl\":[{\"type\":\"scattergl\",\"marker\":{\"colorbar\":{\"outlinewidth\":0,\"ticks\":\"\"}}}],\"scatter3d\":[{\"type\":\"scatter3d\",\"line\":{\"colorbar\":{\"outlinewidth\":0,\"ticks\":\"\"}},\"marker\":{\"colorbar\":{\"outlinewidth\":0,\"ticks\":\"\"}}}],\"scattermapbox\":[{\"type\":\"scattermapbox\",\"marker\":{\"colorbar\":{\"outlinewidth\":0,\"ticks\":\"\"}}}],\"scatterternary\":[{\"type\":\"scatterternary\",\"marker\":{\"colorbar\":{\"outlinewidth\":0,\"ticks\":\"\"}}}],\"scattercarpet\":[{\"type\":\"scattercarpet\",\"marker\":{\"colorbar\":{\"outlinewidth\":0,\"ticks\":\"\"}}}],\"carpet\":[{\"aaxis\":{\"endlinecolor\":\"#2a3f5f\",\"gridcolor\":\"white\",\"linecolor\":\"white\",\"minorgridcolor\":\"white\",\"startlinecolor\":\"#2a3f5f\"},\"baxis\":{\"endlinecolor\":\"#2a3f5f\",\"gridcolor\":\"white\",\"linecolor\":\"white\",\"minorgridcolor\":\"white\",\"startlinecolor\":\"#2a3f5f\"},\"type\":\"carpet\"}],\"table\":[{\"cells\":{\"fill\":{\"color\":\"#EBF0F8\"},\"line\":{\"color\":\"white\"}},\"header\":{\"fill\":{\"color\":\"#C8D4E3\"},\"line\":{\"color\":\"white\"}},\"type\":\"table\"}],\"barpolar\":[{\"marker\":{\"line\":{\"color\":\"#E5ECF6\",\"width\":0.5},\"pattern\":{\"fillmode\":\"overlay\",\"size\":10,\"solidity\":0.2}},\"type\":\"barpolar\"}],\"pie\":[{\"automargin\":true,\"type\":\"pie\"}]},\"layout\":{\"autotypenumbers\":\"strict\",\"colorway\":[\"#636efa\",\"#EF553B\",\"#00cc96\",\"#ab63fa\",\"#FFA15A\",\"#19d3f3\",\"#FF6692\",\"#B6E880\",\"#FF97FF\",\"#FECB52\"],\"font\":{\"color\":\"#2a3f5f\"},\"hovermode\":\"closest\",\"hoverlabel\":{\"align\":\"left\"},\"paper_bgcolor\":\"white\",\"plot_bgcolor\":\"#E5ECF6\",\"polar\":{\"bgcolor\":\"#E5ECF6\",\"angularaxis\":{\"gridcolor\":\"white\",\"linecolor\":\"white\",\"ticks\":\"\"},\"radialaxis\":{\"gridcolor\":\"white\",\"linecolor\":\"white\",\"ticks\":\"\"}},\"ternary\":{\"bgcolor\":\"#E5ECF6\",\"aaxis\":{\"gridcolor\":\"white\",\"linecolor\":\"white\",\"ticks\":\"\"},\"baxis\":{\"gridcolor\":\"white\",\"linecolor\":\"white\",\"ticks\":\"\"},\"caxis\":{\"gridcolor\":\"white\",\"linecolor\":\"white\",\"ticks\":\"\"}},\"coloraxis\":{\"colorbar\":{\"outlinewidth\":0,\"ticks\":\"\"}},\"colorscale\":{\"sequential\":[[0.0,\"#0d0887\"],[0.1111111111111111,\"#46039f\"],[0.2222222222222222,\"#7201a8\"],[0.3333333333333333,\"#9c179e\"],[0.4444444444444444,\"#bd3786\"],[0.5555555555555556,\"#d8576b\"],[0.6666666666666666,\"#ed7953\"],[0.7777777777777778,\"#fb9f3a\"],[0.8888888888888888,\"#fdca26\"],[1.0,\"#f0f921\"]],\"sequentialminus\":[[0.0,\"#0d0887\"],[0.1111111111111111,\"#46039f\"],[0.2222222222222222,\"#7201a8\"],[0.3333333333333333,\"#9c179e\"],[0.4444444444444444,\"#bd3786\"],[0.5555555555555556,\"#d8576b\"],[0.6666666666666666,\"#ed7953\"],[0.7777777777777778,\"#fb9f3a\"],[0.8888888888888888,\"#fdca26\"],[1.0,\"#f0f921\"]],\"diverging\":[[0,\"#8e0152\"],[0.1,\"#c51b7d\"],[0.2,\"#de77ae\"],[0.3,\"#f1b6da\"],[0.4,\"#fde0ef\"],[0.5,\"#f7f7f7\"],[0.6,\"#e6f5d0\"],[0.7,\"#b8e186\"],[0.8,\"#7fbc41\"],[0.9,\"#4d9221\"],[1,\"#276419\"]]},\"xaxis\":{\"gridcolor\":\"white\",\"linecolor\":\"white\",\"ticks\":\"\",\"title\":{\"standoff\":15},\"zerolinecolor\":\"white\",\"automargin\":true,\"zerolinewidth\":2},\"yaxis\":{\"gridcolor\":\"white\",\"linecolor\":\"white\",\"ticks\":\"\",\"title\":{\"standoff\":15},\"zerolinecolor\":\"white\",\"automargin\":true,\"zerolinewidth\":2},\"scene\":{\"xaxis\":{\"backgroundcolor\":\"#E5ECF6\",\"gridcolor\":\"white\",\"linecolor\":\"white\",\"showbackground\":true,\"ticks\":\"\",\"zerolinecolor\":\"white\",\"gridwidth\":2},\"yaxis\":{\"backgroundcolor\":\"#E5ECF6\",\"gridcolor\":\"white\",\"linecolor\":\"white\",\"showbackground\":true,\"ticks\":\"\",\"zerolinecolor\":\"white\",\"gridwidth\":2},\"zaxis\":{\"backgroundcolor\":\"#E5ECF6\",\"gridcolor\":\"white\",\"linecolor\":\"white\",\"showbackground\":true,\"ticks\":\"\",\"zerolinecolor\":\"white\",\"gridwidth\":2}},\"shapedefaults\":{\"line\":{\"color\":\"#2a3f5f\"}},\"annotationdefaults\":{\"arrowcolor\":\"#2a3f5f\",\"arrowhead\":0,\"arrowwidth\":1},\"geo\":{\"bgcolor\":\"white\",\"landcolor\":\"#E5ECF6\",\"subunitcolor\":\"white\",\"showland\":true,\"showlakes\":true,\"lakecolor\":\"white\"},\"title\":{\"x\":0.05},\"mapbox\":{\"style\":\"light\"}}},\"xaxis\":{\"anchor\":\"y\",\"domain\":[0.0,1.0],\"title\":{\"text\":\"Year\"}},\"yaxis\":{\"anchor\":\"x\",\"domain\":[0.0,1.0],\"title\":{\"text\":\"Number of Domestic Workers\"}},\"legend\":{\"title\":{\"text\":\"State\"},\"tracegroupgap\":0},\"title\":{\"text\":\"Domestic Farm Workers in the United States\",\"x\":0.5,\"xanchor\":\"center\"},\"barmode\":\"relative\"},                        {\"responsive\": true}                    ).then(function(){\n",
       "                            \n",
       "var gd = document.getElementById('afed5505-0019-4539-9ebf-2e94e966f508');\n",
       "var x = new MutationObserver(function (mutations, observer) {{\n",
       "        var display = window.getComputedStyle(gd).display;\n",
       "        if (!display || display === 'none') {{\n",
       "            console.log([gd, 'removed!']);\n",
       "            Plotly.purge(gd);\n",
       "            observer.disconnect();\n",
       "        }}\n",
       "}});\n",
       "\n",
       "// Listen for the removal of the full notebook cells\n",
       "var notebookContainer = gd.closest('#notebook-container');\n",
       "if (notebookContainer) {{\n",
       "    x.observe(notebookContainer, {childList: true});\n",
       "}}\n",
       "\n",
       "// Listen for the clearing of the current output cell\n",
       "var outputEl = gd.closest('.output');\n",
       "if (outputEl) {{\n",
       "    x.observe(outputEl, {childList: true});\n",
       "}}\n",
       "\n",
       "                        })                };                });            </script>        </div>"
      ]
     },
     "metadata": {},
     "output_type": "display_data"
    }
   ],
   "source": [
    "##Only use relevant date ranges\n",
    "domestic_df = farmworkers_df[farmworkers_df['Year'] >= 1953]\n",
    "domestic_df = domestic_df[domestic_df['Year'] <= 1973]\n",
    "\n",
    "## In the data, there were 3 categories of workers that represented domestic labor: Local, Interstate, and Intrastate.\n",
    "domestic_df = domestic_df.groupby(['State', 'Year'])[['Local', 'Interstate', 'Intrastate']].mean().reset_index()\n",
    "\n",
    "##These three categories can be combined for the total domestic farmworkers\n",
    "domestic_df['TotalDomestic'] = domestic_df['Local']+domestic_df['Interstate']+domestic_df['Intrastate']\n",
    "\n",
    "domesticfig = px.bar(domestic_df, x='Year', y='TotalDomestic', color='State', title='Domestic Farm Workers in the United States',\n",
    "                    labels={'TotalDomestic': 'Number of Domestic Workers'})\n",
    "domesticfig.update_layout(title={'x':0.5, 'xanchor': 'center'})\n",
    "domesticfig.show()"
   ]
  },
  {
   "cell_type": "markdown",
   "id": "72521848-b975-4944-a2c7-fd5715aaec54",
   "metadata": {},
   "source": [
    "**2. A key motivation for ending the Bracero Program was to benefit domestic workers. Based on this data, do you think ending the program succeeded in this goal? Explain why or why not.**\n",
    "*Remember the Bracero Program ended in 1964*"
   ]
  },
  {
   "cell_type": "markdown",
   "id": "26567b4d-f160-413b-8bc8-3fb6c11b1fed",
   "metadata": {},
   "source": [
    "***Like all of the open ended questions, this maninly relies on student interpretation and analysis, which could vary. However, answer should probably be that the program did not succeed in supporting domestic workers because their numbers did not really increase after the end of the program.***"
   ]
  },
  {
   "cell_type": "code",
   "execution_count": null,
   "id": "626c25df-c1c6-43f2-88ce-f32f5971fdbb",
   "metadata": {},
   "outputs": [],
   "source": []
  }
 ],
 "metadata": {
  "kernelspec": {
   "display_name": "Python [conda env:base] *",
   "language": "python",
   "name": "conda-base-py"
  },
  "language_info": {
   "codemirror_mode": {
    "name": "ipython",
    "version": 3
   },
   "file_extension": ".py",
   "mimetype": "text/x-python",
   "name": "python",
   "nbconvert_exporter": "python",
   "pygments_lexer": "ipython3",
   "version": "3.12.7"
  }
 },
 "nbformat": 4,
 "nbformat_minor": 5
}
