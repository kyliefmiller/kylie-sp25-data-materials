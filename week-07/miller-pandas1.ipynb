{
 "cells": [
  {
   "cell_type": "code",
   "execution_count": 1,
   "id": "e5b0647a-801c-4044-b250-74a41ed94224",
   "metadata": {},
   "outputs": [],
   "source": [
    "import pandas as pd"
   ]
  },
  {
   "cell_type": "code",
   "execution_count": 3,
   "id": "a0af38f0-e056-4be3-a842-e68df928ba39",
   "metadata": {},
   "outputs": [],
   "source": [
    "co_df = pd.read_csv('co-census-skinny.csv', delimiter=\",\")"
   ]
  },
  {
   "cell_type": "code",
   "execution_count": 5,
   "id": "17face30-dce3-45ab-abe3-f427c90f633b",
   "metadata": {},
   "outputs": [
    {
     "data": {
      "text/html": [
       "<div>\n",
       "<style scoped>\n",
       "    .dataframe tbody tr th:only-of-type {\n",
       "        vertical-align: middle;\n",
       "    }\n",
       "\n",
       "    .dataframe tbody tr th {\n",
       "        vertical-align: top;\n",
       "    }\n",
       "\n",
       "    .dataframe thead th {\n",
       "        text-align: right;\n",
       "    }\n",
       "</style>\n",
       "<table border=\"1\" class=\"dataframe\">\n",
       "  <thead>\n",
       "    <tr style=\"text-align: right;\">\n",
       "      <th></th>\n",
       "      <th>county</th>\n",
       "      <th>fips</th>\n",
       "      <th>year</th>\n",
       "      <th>population</th>\n",
       "    </tr>\n",
       "  </thead>\n",
       "  <tbody>\n",
       "    <tr>\n",
       "      <th>0</th>\n",
       "      <td>Adams</td>\n",
       "      <td>8001</td>\n",
       "      <td>1900</td>\n",
       "      <td>NaN</td>\n",
       "    </tr>\n",
       "    <tr>\n",
       "      <th>1</th>\n",
       "      <td>Alamosa</td>\n",
       "      <td>8003</td>\n",
       "      <td>1900</td>\n",
       "      <td>NaN</td>\n",
       "    </tr>\n",
       "    <tr>\n",
       "      <th>2</th>\n",
       "      <td>Arapahoe</td>\n",
       "      <td>8005</td>\n",
       "      <td>1900</td>\n",
       "      <td>153017.0</td>\n",
       "    </tr>\n",
       "    <tr>\n",
       "      <th>3</th>\n",
       "      <td>Archuleta</td>\n",
       "      <td>8007</td>\n",
       "      <td>1900</td>\n",
       "      <td>2117.0</td>\n",
       "    </tr>\n",
       "    <tr>\n",
       "      <th>4</th>\n",
       "      <td>Baca</td>\n",
       "      <td>8009</td>\n",
       "      <td>1900</td>\n",
       "      <td>759.0</td>\n",
       "    </tr>\n",
       "    <tr>\n",
       "      <th>5</th>\n",
       "      <td>Bent</td>\n",
       "      <td>8011</td>\n",
       "      <td>1900</td>\n",
       "      <td>3049.0</td>\n",
       "    </tr>\n",
       "    <tr>\n",
       "      <th>6</th>\n",
       "      <td>Boulder</td>\n",
       "      <td>8013</td>\n",
       "      <td>1900</td>\n",
       "      <td>21544.0</td>\n",
       "    </tr>\n",
       "    <tr>\n",
       "      <th>7</th>\n",
       "      <td>Chaffee</td>\n",
       "      <td>8015</td>\n",
       "      <td>1900</td>\n",
       "      <td>7085.0</td>\n",
       "    </tr>\n",
       "    <tr>\n",
       "      <th>8</th>\n",
       "      <td>Cheyenne</td>\n",
       "      <td>8017</td>\n",
       "      <td>1900</td>\n",
       "      <td>501.0</td>\n",
       "    </tr>\n",
       "    <tr>\n",
       "      <th>9</th>\n",
       "      <td>Clear Creek</td>\n",
       "      <td>8019</td>\n",
       "      <td>1900</td>\n",
       "      <td>7082.0</td>\n",
       "    </tr>\n",
       "  </tbody>\n",
       "</table>\n",
       "</div>"
      ],
      "text/plain": [
       "        county  fips  year  population\n",
       "0        Adams  8001  1900         NaN\n",
       "1      Alamosa  8003  1900         NaN\n",
       "2     Arapahoe  8005  1900    153017.0\n",
       "3    Archuleta  8007  1900      2117.0\n",
       "4         Baca  8009  1900       759.0\n",
       "5         Bent  8011  1900      3049.0\n",
       "6      Boulder  8013  1900     21544.0\n",
       "7      Chaffee  8015  1900      7085.0\n",
       "8     Cheyenne  8017  1900       501.0\n",
       "9  Clear Creek  8019  1900      7082.0"
      ]
     },
     "execution_count": 5,
     "metadata": {},
     "output_type": "execute_result"
    }
   ],
   "source": [
    "co_df.head(10)"
   ]
  },
  {
   "cell_type": "code",
   "execution_count": 7,
   "id": "12397a18-7636-4363-b734-edf33932d0a6",
   "metadata": {},
   "outputs": [
    {
     "data": {
      "text/html": [
       "<div>\n",
       "<style scoped>\n",
       "    .dataframe tbody tr th:only-of-type {\n",
       "        vertical-align: middle;\n",
       "    }\n",
       "\n",
       "    .dataframe tbody tr th {\n",
       "        vertical-align: top;\n",
       "    }\n",
       "\n",
       "    .dataframe thead th {\n",
       "        text-align: right;\n",
       "    }\n",
       "</style>\n",
       "<table border=\"1\" class=\"dataframe\">\n",
       "  <thead>\n",
       "    <tr style=\"text-align: right;\">\n",
       "      <th></th>\n",
       "      <th>county</th>\n",
       "      <th>fips</th>\n",
       "      <th>year</th>\n",
       "      <th>population</th>\n",
       "    </tr>\n",
       "  </thead>\n",
       "  <tbody>\n",
       "    <tr>\n",
       "      <th>272</th>\n",
       "      <td>El Paso</td>\n",
       "      <td>8041</td>\n",
       "      <td>1940</td>\n",
       "      <td>54025.0</td>\n",
       "    </tr>\n",
       "    <tr>\n",
       "      <th>1</th>\n",
       "      <td>Alamosa</td>\n",
       "      <td>8003</td>\n",
       "      <td>1900</td>\n",
       "      <td>NaN</td>\n",
       "    </tr>\n",
       "    <tr>\n",
       "      <th>82</th>\n",
       "      <td>Elbert</td>\n",
       "      <td>8039</td>\n",
       "      <td>1910</td>\n",
       "      <td>5331.0</td>\n",
       "    </tr>\n",
       "    <tr>\n",
       "      <th>81</th>\n",
       "      <td>Eagle</td>\n",
       "      <td>8037</td>\n",
       "      <td>1910</td>\n",
       "      <td>2985.0</td>\n",
       "    </tr>\n",
       "    <tr>\n",
       "      <th>350</th>\n",
       "      <td>Las Animas</td>\n",
       "      <td>8071</td>\n",
       "      <td>1950</td>\n",
       "      <td>25902.0</td>\n",
       "    </tr>\n",
       "  </tbody>\n",
       "</table>\n",
       "</div>"
      ],
      "text/plain": [
       "         county  fips  year  population\n",
       "272     El Paso  8041  1940     54025.0\n",
       "1       Alamosa  8003  1900         NaN\n",
       "82       Elbert  8039  1910      5331.0\n",
       "81        Eagle  8037  1910      2985.0\n",
       "350  Las Animas  8071  1950     25902.0"
      ]
     },
     "execution_count": 7,
     "metadata": {},
     "output_type": "execute_result"
    }
   ],
   "source": [
    "co_df.sample(5)"
   ]
  },
  {
   "cell_type": "code",
   "execution_count": 19,
   "id": "d684256f-4bcc-4da9-99c8-8113300ef173",
   "metadata": {},
   "outputs": [],
   "source": [
    "year_1940_filter = co_df['year'] == 1940"
   ]
  },
  {
   "cell_type": "code",
   "execution_count": 21,
   "id": "1305a462-58dc-44fd-b6f7-9decb4907353",
   "metadata": {},
   "outputs": [],
   "source": [
    "co_df_1940 = co_df[year_1940_filter]"
   ]
  },
  {
   "cell_type": "code",
   "execution_count": 31,
   "id": "26775f54-9eec-43a5-9e03-d89ca58fddca",
   "metadata": {},
   "outputs": [
    {
     "data": {
      "text/html": [
       "<div>\n",
       "<style scoped>\n",
       "    .dataframe tbody tr th:only-of-type {\n",
       "        vertical-align: middle;\n",
       "    }\n",
       "\n",
       "    .dataframe tbody tr th {\n",
       "        vertical-align: top;\n",
       "    }\n",
       "\n",
       "    .dataframe thead th {\n",
       "        text-align: right;\n",
       "    }\n",
       "</style>\n",
       "<table border=\"1\" class=\"dataframe\">\n",
       "  <thead>\n",
       "    <tr style=\"text-align: right;\">\n",
       "      <th></th>\n",
       "      <th>county</th>\n",
       "      <th>fips</th>\n",
       "      <th>year</th>\n",
       "      <th>population</th>\n",
       "    </tr>\n",
       "  </thead>\n",
       "  <tbody>\n",
       "    <tr>\n",
       "      <th>252</th>\n",
       "      <td>Adams</td>\n",
       "      <td>8001</td>\n",
       "      <td>1940</td>\n",
       "      <td>22481.0</td>\n",
       "    </tr>\n",
       "    <tr>\n",
       "      <th>253</th>\n",
       "      <td>Alamosa</td>\n",
       "      <td>8003</td>\n",
       "      <td>1940</td>\n",
       "      <td>10484.0</td>\n",
       "    </tr>\n",
       "    <tr>\n",
       "      <th>254</th>\n",
       "      <td>Arapahoe</td>\n",
       "      <td>8005</td>\n",
       "      <td>1940</td>\n",
       "      <td>32150.0</td>\n",
       "    </tr>\n",
       "    <tr>\n",
       "      <th>255</th>\n",
       "      <td>Archuleta</td>\n",
       "      <td>8007</td>\n",
       "      <td>1940</td>\n",
       "      <td>3806.0</td>\n",
       "    </tr>\n",
       "    <tr>\n",
       "      <th>256</th>\n",
       "      <td>Baca</td>\n",
       "      <td>8009</td>\n",
       "      <td>1940</td>\n",
       "      <td>6207.0</td>\n",
       "    </tr>\n",
       "    <tr>\n",
       "      <th>257</th>\n",
       "      <td>Bent</td>\n",
       "      <td>8011</td>\n",
       "      <td>1940</td>\n",
       "      <td>9653.0</td>\n",
       "    </tr>\n",
       "    <tr>\n",
       "      <th>258</th>\n",
       "      <td>Boulder</td>\n",
       "      <td>8013</td>\n",
       "      <td>1940</td>\n",
       "      <td>37438.0</td>\n",
       "    </tr>\n",
       "    <tr>\n",
       "      <th>259</th>\n",
       "      <td>Chaffee</td>\n",
       "      <td>8015</td>\n",
       "      <td>1940</td>\n",
       "      <td>8109.0</td>\n",
       "    </tr>\n",
       "    <tr>\n",
       "      <th>260</th>\n",
       "      <td>Cheyenne</td>\n",
       "      <td>8017</td>\n",
       "      <td>1940</td>\n",
       "      <td>2964.0</td>\n",
       "    </tr>\n",
       "    <tr>\n",
       "      <th>261</th>\n",
       "      <td>Clear Creek</td>\n",
       "      <td>8019</td>\n",
       "      <td>1940</td>\n",
       "      <td>3784.0</td>\n",
       "    </tr>\n",
       "    <tr>\n",
       "      <th>262</th>\n",
       "      <td>Conejos</td>\n",
       "      <td>8021</td>\n",
       "      <td>1940</td>\n",
       "      <td>11648.0</td>\n",
       "    </tr>\n",
       "    <tr>\n",
       "      <th>263</th>\n",
       "      <td>Costilla</td>\n",
       "      <td>8023</td>\n",
       "      <td>1940</td>\n",
       "      <td>7533.0</td>\n",
       "    </tr>\n",
       "    <tr>\n",
       "      <th>264</th>\n",
       "      <td>Crowley</td>\n",
       "      <td>8025</td>\n",
       "      <td>1940</td>\n",
       "      <td>5398.0</td>\n",
       "    </tr>\n",
       "    <tr>\n",
       "      <th>265</th>\n",
       "      <td>Custer</td>\n",
       "      <td>8027</td>\n",
       "      <td>1940</td>\n",
       "      <td>2270.0</td>\n",
       "    </tr>\n",
       "    <tr>\n",
       "      <th>266</th>\n",
       "      <td>Delta</td>\n",
       "      <td>8029</td>\n",
       "      <td>1940</td>\n",
       "      <td>16470.0</td>\n",
       "    </tr>\n",
       "    <tr>\n",
       "      <th>267</th>\n",
       "      <td>Denver</td>\n",
       "      <td>8031</td>\n",
       "      <td>1940</td>\n",
       "      <td>322412.0</td>\n",
       "    </tr>\n",
       "    <tr>\n",
       "      <th>268</th>\n",
       "      <td>Dolores</td>\n",
       "      <td>8033</td>\n",
       "      <td>1940</td>\n",
       "      <td>1958.0</td>\n",
       "    </tr>\n",
       "    <tr>\n",
       "      <th>269</th>\n",
       "      <td>Douglas</td>\n",
       "      <td>8035</td>\n",
       "      <td>1940</td>\n",
       "      <td>3496.0</td>\n",
       "    </tr>\n",
       "    <tr>\n",
       "      <th>270</th>\n",
       "      <td>Eagle</td>\n",
       "      <td>8037</td>\n",
       "      <td>1940</td>\n",
       "      <td>5361.0</td>\n",
       "    </tr>\n",
       "    <tr>\n",
       "      <th>271</th>\n",
       "      <td>Elbert</td>\n",
       "      <td>8039</td>\n",
       "      <td>1940</td>\n",
       "      <td>5460.0</td>\n",
       "    </tr>\n",
       "  </tbody>\n",
       "</table>\n",
       "</div>"
      ],
      "text/plain": [
       "          county  fips  year  population\n",
       "252        Adams  8001  1940     22481.0\n",
       "253      Alamosa  8003  1940     10484.0\n",
       "254     Arapahoe  8005  1940     32150.0\n",
       "255    Archuleta  8007  1940      3806.0\n",
       "256         Baca  8009  1940      6207.0\n",
       "257         Bent  8011  1940      9653.0\n",
       "258      Boulder  8013  1940     37438.0\n",
       "259      Chaffee  8015  1940      8109.0\n",
       "260     Cheyenne  8017  1940      2964.0\n",
       "261  Clear Creek  8019  1940      3784.0\n",
       "262      Conejos  8021  1940     11648.0\n",
       "263     Costilla  8023  1940      7533.0\n",
       "264      Crowley  8025  1940      5398.0\n",
       "265       Custer  8027  1940      2270.0\n",
       "266        Delta  8029  1940     16470.0\n",
       "267       Denver  8031  1940    322412.0\n",
       "268      Dolores  8033  1940      1958.0\n",
       "269      Douglas  8035  1940      3496.0\n",
       "270        Eagle  8037  1940      5361.0\n",
       "271       Elbert  8039  1940      5460.0"
      ]
     },
     "execution_count": 31,
     "metadata": {},
     "output_type": "execute_result"
    }
   ],
   "source": [
    "co_df_1940.head(20)"
   ]
  },
  {
   "cell_type": "code",
   "execution_count": 25,
   "id": "1f5772e4-2d43-4588-b463-e87507e92884",
   "metadata": {},
   "outputs": [],
   "source": [
    "max_1940 = max(co_df_1940['population'])"
   ]
  },
  {
   "cell_type": "code",
   "execution_count": 27,
   "id": "857e516d-0fda-4c8d-a330-9353a0132362",
   "metadata": {},
   "outputs": [
    {
     "name": "stdout",
     "output_type": "stream",
     "text": [
      "322412.0\n"
     ]
    }
   ],
   "source": [
    "print(max_1940)"
   ]
  },
  {
   "cell_type": "code",
   "execution_count": 45,
   "id": "1a46ddee-0e49-4230-bbca-9e615e86175a",
   "metadata": {},
   "outputs": [],
   "source": [
    "max_pop_filter = co_df_1940['population'] == max_1940"
   ]
  },
  {
   "cell_type": "code",
   "execution_count": 49,
   "id": "7c8d063a-4d28-4cf8-b11e-860e709b46d2",
   "metadata": {
    "scrolled": true
   },
   "outputs": [
    {
     "data": {
      "text/html": [
       "<div>\n",
       "<style scoped>\n",
       "    .dataframe tbody tr th:only-of-type {\n",
       "        vertical-align: middle;\n",
       "    }\n",
       "\n",
       "    .dataframe tbody tr th {\n",
       "        vertical-align: top;\n",
       "    }\n",
       "\n",
       "    .dataframe thead th {\n",
       "        text-align: right;\n",
       "    }\n",
       "</style>\n",
       "<table border=\"1\" class=\"dataframe\">\n",
       "  <thead>\n",
       "    <tr style=\"text-align: right;\">\n",
       "      <th></th>\n",
       "      <th>county</th>\n",
       "      <th>fips</th>\n",
       "      <th>year</th>\n",
       "      <th>population</th>\n",
       "    </tr>\n",
       "  </thead>\n",
       "  <tbody>\n",
       "    <tr>\n",
       "      <th>267</th>\n",
       "      <td>Denver</td>\n",
       "      <td>8031</td>\n",
       "      <td>1940</td>\n",
       "      <td>322412.0</td>\n",
       "    </tr>\n",
       "  </tbody>\n",
       "</table>\n",
       "</div>"
      ],
      "text/plain": [
       "     county  fips  year  population\n",
       "267  Denver  8031  1940    322412.0"
      ]
     },
     "execution_count": 49,
     "metadata": {},
     "output_type": "execute_result"
    }
   ],
   "source": [
    "co_df_1940[max_pop_filter]"
   ]
  },
  {
   "cell_type": "code",
   "execution_count": 51,
   "id": "befaecbd-fc4d-42e8-9ea7-1a9fb9aedb2b",
   "metadata": {},
   "outputs": [],
   "source": [
    "denver_filter = co_df['county'] == \"Denver\""
   ]
  },
  {
   "cell_type": "code",
   "execution_count": 53,
   "id": "35431084-bde0-47f2-aaa7-37e268ce724c",
   "metadata": {},
   "outputs": [],
   "source": [
    "denver_df = co_df[denver_filter]"
   ]
  },
  {
   "cell_type": "code",
   "execution_count": 57,
   "id": "2b1617ec-2770-46f4-a32b-1dc2f84bc37a",
   "metadata": {},
   "outputs": [
    {
     "data": {
      "image/png": "[encoded data removed]",
      "text/plain": [
       "<Figure size 640x480 with 1 Axes>"
      ]
     },
     "metadata": {},
     "output_type": "display_data"
    }
   ],
   "source": [
    "ax = denver_df.plot('year', 'population')"
   ]
  },
  {
   "cell_type": "code",
   "execution_count": 61,
   "id": "94052a95-6cf3-41b2-903b-3e870b953796",
   "metadata": {},
   "outputs": [],
   "source": [
    "ax.figure.savefig('denver-pop-linegraph.png')"
   ]
  },
  {
   "cell_type": "code",
   "execution_count": 63,
   "id": "a7df06a4-41b5-40ed-8248-57b23686064b",
   "metadata": {},
   "outputs": [],
   "source": [
    "denver_df.to_csv(\"denver_popdata.csv\", encoding='utf-8', index=False)"
   ]
  },
  {
   "cell_type": "code",
   "execution_count": null,
   "id": "0d49149b-c515-4a5c-bd19-52de19e97f63",
   "metadata": {},
   "outputs": [],
   "source": []
  }
 ],
 "metadata": {
  "kernelspec": {
   "display_name": "Python [conda env:base] *",
   "language": "python",
   "name": "conda-base-py"
  },
  "language_info": {
   "codemirror_mode": {
    "name": "ipython",
    "version": 3
   },
   "file_extension": ".py",
   "mimetype": "text/x-python",
   "name": "python",
   "nbconvert_exporter": "python",
   "pygments_lexer": "ipython3",
   "version": "3.12.7"
  }
 },
 "nbformat": 4,
 "nbformat_minor": 5
}
