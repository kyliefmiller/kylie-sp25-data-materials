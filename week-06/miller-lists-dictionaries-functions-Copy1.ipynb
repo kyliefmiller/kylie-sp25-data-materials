{
 "cells": [
  {
   "cell_type": "markdown",
   "metadata": {},
   "source": [
    "# Overview\n",
    "\n",
    "Today's exercise is going to give you practice with understanding and working with lists, for loops, dictionaries, and functions. Our goals:\n",
    "\n",
    "- Take a list of history faculty members at CU Denver\n",
    "- Use their full names to generate an email address for each of them\n",
    "- Create a dictionary that stores their name and email address\n",
    "\n",
    "Run the following code cell to see the starting list of faculty:\n"
   ]
  },
  {
   "cell_type": "markdown",
   "metadata": {},
   "source": [
    "## Getting the Data\n",
    "\n",
    "The first step is to get the data. To give you some practice with navigating folders and opening files, I've put a list of rostered faculty members from the CU Denver history department in a text file called `history-department.txt` inside a sub-folder named `history-faculty`. We're going to import the `pathlib` library to help us:\n"
   ]
  },
  {
   "cell_type": "code",
   "execution_count": 2,
   "metadata": {},
   "outputs": [],
   "source": [
    "# Import the pathlib library\n",
    "from pathlib import Path"
   ]
  },
  {
   "cell_type": "markdown",
   "metadata": {},
   "source": [
    "Next, we'll use the `pathlib` library to navigate to our folder and give us a list of the files inside it ending in `.txt`.\n"
   ]
  },
  {
   "cell_type": "code",
   "execution_count": 4,
   "metadata": {},
   "outputs": [
    {
     "name": "stdout",
     "output_type": "stream",
     "text": [
      "history-department/history-students.txt\n",
      "history-department/history-faculty.txt\n"
     ]
    }
   ],
   "source": [
    "# Look inside a directory and list all the text files in it\n",
    "files_list = list(Path('history-department').glob('*.txt'))\n",
    "for file in files_list:\n",
    "    print(file)"
   ]
  },
  {
   "cell_type": "markdown",
   "metadata": {},
   "source": [
    "We just want the file `history-faculty.txt`. Let's open the file and take a look:\n"
   ]
  },
  {
   "cell_type": "code",
   "execution_count": 6,
   "metadata": {},
   "outputs": [
    {
     "data": {
      "text/plain": [
       "'Christopher Agee\\nCameron Blevins\\nRyan D. Crewe\\nGabriel Finkelstein\\nXiaofei Gao\\nRachel Gross\\nPeter A. Kopp\\nMarjorie Levine-Clark\\nBrandon Mills\\nDale J. Stahl\\nChristine Sundberg\\nSteven M. Vose\\nWilliam Wagner\\nGreg Whitesides\\nKariann Akemi Yokota\\n'"
      ]
     },
     "execution_count": 6,
     "metadata": {},
     "output_type": "execute_result"
    }
   ],
   "source": [
    "faculty_file = open('history-department/history-faculty.txt', 'r').read()\n",
    "faculty_file"
   ]
  },
  {
   "cell_type": "markdown",
   "metadata": {},
   "source": [
    "Notice how it contains `\\n` characters - those hidden characters indicating a new line. If we were to use the print() function, it would look more legible and indicate that there is one faculty member's name on each line.\n"
   ]
  },
  {
   "cell_type": "code",
   "execution_count": 8,
   "metadata": {},
   "outputs": [
    {
     "name": "stdout",
     "output_type": "stream",
     "text": [
      "Christopher Agee\n",
      "Cameron Blevins\n",
      "Ryan D. Crewe\n",
      "Gabriel Finkelstein\n",
      "Xiaofei Gao\n",
      "Rachel Gross\n",
      "Peter A. Kopp\n",
      "Marjorie Levine-Clark\n",
      "Brandon Mills\n",
      "Dale J. Stahl\n",
      "Christine Sundberg\n",
      "Steven M. Vose\n",
      "William Wagner\n",
      "Greg Whitesides\n",
      "Kariann Akemi Yokota\n",
      "\n"
     ]
    }
   ],
   "source": [
    "print(faculty_file)"
   ]
  },
  {
   "cell_type": "markdown",
   "metadata": {},
   "source": [
    "Now we want to create a new list called `faculty_list` in Python, with each item in the list corresponding to the name of a faculty member pulled from the `history-faculty.txt` file. To do so, we can use the `split()` function to create a list from this text file, splitting it up by each line (ie. on the newline or `\\n` character).\n"
   ]
  },
  {
   "cell_type": "code",
   "execution_count": 10,
   "metadata": {},
   "outputs": [
    {
     "name": "stdout",
     "output_type": "stream",
     "text": [
      "Christopher Agee\n",
      "Cameron Blevins\n",
      "Ryan D. Crewe\n",
      "Gabriel Finkelstein\n",
      "Xiaofei Gao\n",
      "Rachel Gross\n",
      "Peter A. Kopp\n",
      "Marjorie Levine-Clark\n",
      "Brandon Mills\n",
      "Dale J. Stahl\n",
      "Christine Sundberg\n",
      "Steven M. Vose\n",
      "William Wagner\n",
      "Greg Whitesides\n",
      "Kariann Akemi Yokota\n",
      "\n"
     ]
    }
   ],
   "source": [
    "faculty_list = faculty_file.split('\\n')\n",
    "for item in faculty_list:\n",
    "    print(item)"
   ]
  },
  {
   "cell_type": "markdown",
   "metadata": {},
   "source": [
    "## Understanding the Problem\n",
    "\n",
    "First, take a few minutes to think about this problem and brainstorm (in the cell below) all of the steps you can think of you would take to:\n",
    "\n",
    "- Process each name from the faculty list\n",
    "- Generate an email address for each person\n",
    "- Store this information in a structured format (dictionary)\n"
   ]
  },
  {
   "cell_type": "markdown",
   "metadata": {},
   "source": [
    "**Write your steps here:**\n",
    "\n",
    "- create a function that takes a name and turns it into an email address\n",
    "- create a dictionary, which I still kinda struggle with\n",
    "- etc....\n"
   ]
  },
  {
   "cell_type": "markdown",
   "metadata": {},
   "source": [
    "## Email Generation Function\n",
    "\n",
    "### Describe the Problem\n",
    "\n",
    "Let's break this down into smaller pieces. Your first task is to process an individual name into a properly formatted email address (ex. `Ryan D. Crewe` to `ryan.crewe@ucdenver.edu`). Insert your thoughts below about each of the individual steps you would need to do:\n"
   ]
  },
  {
   "cell_type": "markdown",
   "metadata": {},
   "source": [
    "**Write your steps here:**\n",
    "\n",
    "- extract first name and last name individually\n",
    "- put it in where it is [firstnname].[lastname]@ucdenver.edu\n",
    "- etc....\n"
   ]
  },
  {
   "cell_type": "markdown",
   "metadata": {},
   "source": [
    "### Define the Function\n",
    "\n",
    "Create a function called `generate_email` that:\n",
    "\n",
    "- Takes a full name as input\n",
    "- Returns an email address in the format `firstname.lastname@ucdenver.edu`\n",
    "- Handles potentially challenging cases appropriately (names with middle initials, hyphenated last names, etc.)\n",
    "\n",
    "Hints:\n",
    "\n",
    "- You'll need to parse the full name to separate first and last names\n",
    "- Think about how to handle names with multiple parts (e.g., \"Marjorie Levine-Clark\")\n",
    "- String methods like `.lower()` and `.split()` will be useful\n"
   ]
  },
  {
   "cell_type": "code",
   "execution_count": 27,
   "metadata": {},
   "outputs": [
    {
     "data": {
      "text/plain": [
       "'ryan.crewe@ucdenver.edu'"
      ]
     },
     "execution_count": 27,
     "metadata": {},
     "output_type": "execute_result"
    }
   ],
   "source": [
    "def generate_email(full_name):\n",
    "    name_parts = full_name.split()\n",
    "    first_name = name_parts[0].lower()\n",
    "    last_name = name_parts[-1].lower()\n",
    "    email = f\"{first_name}.{last_name}@ucdenver.edu\"\n",
    "    return email\n",
    "\n",
    "test_name = \"Ryan D. Crewe\"\n",
    "generate_email(test_name)"
   ]
  },
  {
   "cell_type": "markdown",
   "metadata": {},
   "source": [
    "### Test the Function\n",
    "\n",
    "Insert a new code cell and test out your function with the test name: `Ryan D. Crewe`\n"
   ]
  },
  {
   "cell_type": "code",
   "execution_count": null,
   "metadata": {},
   "outputs": [],
   "source": [
    "test_name = \"Ryan D. Crewe\"\n",
    "\n",
    "# Your code here\n"
   ]
  },
  {
   "cell_type": "markdown",
   "metadata": {},
   "source": [
    "## Building the Dictionary\n",
    "\n",
    "Using your function and the provided list of faculty names (`history_faculty`):\n",
    "\n",
    "- Create an empty dictionary named `faculty_emails` to store faculty email addresses\n",
    "- Loop through the list of faculty names\n",
    "- For each name in the list, use your function to generate a properly formatted email address for that name\n",
    "- Add each faculty member to the dictionary with their **name** as the `key` and **email** as the `value` for that dictionary entry\n"
   ]
  },
  {
   "cell_type": "code",
   "execution_count": 43,
   "metadata": {},
   "outputs": [
    {
     "name": "stdout",
     "output_type": "stream",
     "text": [
      "{'Christopher Agee': 'christopher.agee@ucdenver.edu'}\n",
      "{'Christopher Agee': 'christopher.agee@ucdenver.edu', 'Cameron Blevins': 'cameron.blevins@ucdenver.edu'}\n",
      "{'Christopher Agee': 'christopher.agee@ucdenver.edu', 'Cameron Blevins': 'cameron.blevins@ucdenver.edu', 'Ryan D. Crewe': 'ryan.crewe@ucdenver.edu'}\n",
      "{'Christopher Agee': 'christopher.agee@ucdenver.edu', 'Cameron Blevins': 'cameron.blevins@ucdenver.edu', 'Ryan D. Crewe': 'ryan.crewe@ucdenver.edu', 'Gabriel Finkelstein': 'gabriel.finkelstein@ucdenver.edu'}\n",
      "{'Christopher Agee': 'christopher.agee@ucdenver.edu', 'Cameron Blevins': 'cameron.blevins@ucdenver.edu', 'Ryan D. Crewe': 'ryan.crewe@ucdenver.edu', 'Gabriel Finkelstein': 'gabriel.finkelstein@ucdenver.edu', 'Xiaofei Gao': 'xiaofei.gao@ucdenver.edu'}\n",
      "{'Christopher Agee': 'christopher.agee@ucdenver.edu', 'Cameron Blevins': 'cameron.blevins@ucdenver.edu', 'Ryan D. Crewe': 'ryan.crewe@ucdenver.edu', 'Gabriel Finkelstein': 'gabriel.finkelstein@ucdenver.edu', 'Xiaofei Gao': 'xiaofei.gao@ucdenver.edu', 'Rachel Gross': 'rachel.gross@ucdenver.edu'}\n",
      "{'Christopher Agee': 'christopher.agee@ucdenver.edu', 'Cameron Blevins': 'cameron.blevins@ucdenver.edu', 'Ryan D. Crewe': 'ryan.crewe@ucdenver.edu', 'Gabriel Finkelstein': 'gabriel.finkelstein@ucdenver.edu', 'Xiaofei Gao': 'xiaofei.gao@ucdenver.edu', 'Rachel Gross': 'rachel.gross@ucdenver.edu', 'Peter A. Kopp': 'peter.kopp@ucdenver.edu'}\n",
      "{'Christopher Agee': 'christopher.agee@ucdenver.edu', 'Cameron Blevins': 'cameron.blevins@ucdenver.edu', 'Ryan D. Crewe': 'ryan.crewe@ucdenver.edu', 'Gabriel Finkelstein': 'gabriel.finkelstein@ucdenver.edu', 'Xiaofei Gao': 'xiaofei.gao@ucdenver.edu', 'Rachel Gross': 'rachel.gross@ucdenver.edu', 'Peter A. Kopp': 'peter.kopp@ucdenver.edu', 'Marjorie Levine-Clark': 'marjorie.levine-clark@ucdenver.edu'}\n",
      "{'Christopher Agee': 'christopher.agee@ucdenver.edu', 'Cameron Blevins': 'cameron.blevins@ucdenver.edu', 'Ryan D. Crewe': 'ryan.crewe@ucdenver.edu', 'Gabriel Finkelstein': 'gabriel.finkelstein@ucdenver.edu', 'Xiaofei Gao': 'xiaofei.gao@ucdenver.edu', 'Rachel Gross': 'rachel.gross@ucdenver.edu', 'Peter A. Kopp': 'peter.kopp@ucdenver.edu', 'Marjorie Levine-Clark': 'marjorie.levine-clark@ucdenver.edu', 'Brandon Mills': 'brandon.mills@ucdenver.edu'}\n",
      "{'Christopher Agee': 'christopher.agee@ucdenver.edu', 'Cameron Blevins': 'cameron.blevins@ucdenver.edu', 'Ryan D. Crewe': 'ryan.crewe@ucdenver.edu', 'Gabriel Finkelstein': 'gabriel.finkelstein@ucdenver.edu', 'Xiaofei Gao': 'xiaofei.gao@ucdenver.edu', 'Rachel Gross': 'rachel.gross@ucdenver.edu', 'Peter A. Kopp': 'peter.kopp@ucdenver.edu', 'Marjorie Levine-Clark': 'marjorie.levine-clark@ucdenver.edu', 'Brandon Mills': 'brandon.mills@ucdenver.edu', 'Dale J. Stahl': 'dale.stahl@ucdenver.edu'}\n",
      "{'Christopher Agee': 'christopher.agee@ucdenver.edu', 'Cameron Blevins': 'cameron.blevins@ucdenver.edu', 'Ryan D. Crewe': 'ryan.crewe@ucdenver.edu', 'Gabriel Finkelstein': 'gabriel.finkelstein@ucdenver.edu', 'Xiaofei Gao': 'xiaofei.gao@ucdenver.edu', 'Rachel Gross': 'rachel.gross@ucdenver.edu', 'Peter A. Kopp': 'peter.kopp@ucdenver.edu', 'Marjorie Levine-Clark': 'marjorie.levine-clark@ucdenver.edu', 'Brandon Mills': 'brandon.mills@ucdenver.edu', 'Dale J. Stahl': 'dale.stahl@ucdenver.edu', 'Christine Sundberg': 'christine.sundberg@ucdenver.edu'}\n",
      "{'Christopher Agee': 'christopher.agee@ucdenver.edu', 'Cameron Blevins': 'cameron.blevins@ucdenver.edu', 'Ryan D. Crewe': 'ryan.crewe@ucdenver.edu', 'Gabriel Finkelstein': 'gabriel.finkelstein@ucdenver.edu', 'Xiaofei Gao': 'xiaofei.gao@ucdenver.edu', 'Rachel Gross': 'rachel.gross@ucdenver.edu', 'Peter A. Kopp': 'peter.kopp@ucdenver.edu', 'Marjorie Levine-Clark': 'marjorie.levine-clark@ucdenver.edu', 'Brandon Mills': 'brandon.mills@ucdenver.edu', 'Dale J. Stahl': 'dale.stahl@ucdenver.edu', 'Christine Sundberg': 'christine.sundberg@ucdenver.edu', 'Steven M. Vose': 'steven.vose@ucdenver.edu'}\n",
      "{'Christopher Agee': 'christopher.agee@ucdenver.edu', 'Cameron Blevins': 'cameron.blevins@ucdenver.edu', 'Ryan D. Crewe': 'ryan.crewe@ucdenver.edu', 'Gabriel Finkelstein': 'gabriel.finkelstein@ucdenver.edu', 'Xiaofei Gao': 'xiaofei.gao@ucdenver.edu', 'Rachel Gross': 'rachel.gross@ucdenver.edu', 'Peter A. Kopp': 'peter.kopp@ucdenver.edu', 'Marjorie Levine-Clark': 'marjorie.levine-clark@ucdenver.edu', 'Brandon Mills': 'brandon.mills@ucdenver.edu', 'Dale J. Stahl': 'dale.stahl@ucdenver.edu', 'Christine Sundberg': 'christine.sundberg@ucdenver.edu', 'Steven M. Vose': 'steven.vose@ucdenver.edu', 'William Wagner': 'william.wagner@ucdenver.edu'}\n",
      "{'Christopher Agee': 'christopher.agee@ucdenver.edu', 'Cameron Blevins': 'cameron.blevins@ucdenver.edu', 'Ryan D. Crewe': 'ryan.crewe@ucdenver.edu', 'Gabriel Finkelstein': 'gabriel.finkelstein@ucdenver.edu', 'Xiaofei Gao': 'xiaofei.gao@ucdenver.edu', 'Rachel Gross': 'rachel.gross@ucdenver.edu', 'Peter A. Kopp': 'peter.kopp@ucdenver.edu', 'Marjorie Levine-Clark': 'marjorie.levine-clark@ucdenver.edu', 'Brandon Mills': 'brandon.mills@ucdenver.edu', 'Dale J. Stahl': 'dale.stahl@ucdenver.edu', 'Christine Sundberg': 'christine.sundberg@ucdenver.edu', 'Steven M. Vose': 'steven.vose@ucdenver.edu', 'William Wagner': 'william.wagner@ucdenver.edu', 'Greg Whitesides': 'greg.whitesides@ucdenver.edu'}\n",
      "{'Christopher Agee': 'christopher.agee@ucdenver.edu', 'Cameron Blevins': 'cameron.blevins@ucdenver.edu', 'Ryan D. Crewe': 'ryan.crewe@ucdenver.edu', 'Gabriel Finkelstein': 'gabriel.finkelstein@ucdenver.edu', 'Xiaofei Gao': 'xiaofei.gao@ucdenver.edu', 'Rachel Gross': 'rachel.gross@ucdenver.edu', 'Peter A. Kopp': 'peter.kopp@ucdenver.edu', 'Marjorie Levine-Clark': 'marjorie.levine-clark@ucdenver.edu', 'Brandon Mills': 'brandon.mills@ucdenver.edu', 'Dale J. Stahl': 'dale.stahl@ucdenver.edu', 'Christine Sundberg': 'christine.sundberg@ucdenver.edu', 'Steven M. Vose': 'steven.vose@ucdenver.edu', 'William Wagner': 'william.wagner@ucdenver.edu', 'Greg Whitesides': 'greg.whitesides@ucdenver.edu', 'Kariann Akemi Yokota': 'kariann.yokota@ucdenver.edu'}\n"
     ]
    },
    {
     "ename": "IndexError",
     "evalue": "list index out of range",
     "output_type": "error",
     "traceback": [
      "\u001b[0;31m---------------------------------------------------------------------------\u001b[0m",
      "\u001b[0;31mIndexError\u001b[0m                                Traceback (most recent call last)",
      "Cell \u001b[0;32mIn[43], line 4\u001b[0m\n\u001b[1;32m      1\u001b[0m faculty_emails \u001b[38;5;241m=\u001b[39m {}\n\u001b[1;32m      3\u001b[0m \u001b[38;5;28;01mfor\u001b[39;00m name \u001b[38;5;129;01min\u001b[39;00m faculty_list:\n\u001b[0;32m----> 4\u001b[0m     email \u001b[38;5;241m=\u001b[39m generate_email(name)\n\u001b[1;32m      5\u001b[0m     faculty_emails[name] \u001b[38;5;241m=\u001b[39m email\n\u001b[1;32m      6\u001b[0m     \u001b[38;5;28mprint\u001b[39m(faculty_emails)\n",
      "Cell \u001b[0;32mIn[27], line 3\u001b[0m, in \u001b[0;36mgenerate_email\u001b[0;34m(full_name)\u001b[0m\n\u001b[1;32m      1\u001b[0m \u001b[38;5;28;01mdef\u001b[39;00m \u001b[38;5;21mgenerate_email\u001b[39m(full_name):\n\u001b[1;32m      2\u001b[0m     name_parts \u001b[38;5;241m=\u001b[39m full_name\u001b[38;5;241m.\u001b[39msplit()\n\u001b[0;32m----> 3\u001b[0m     first_name \u001b[38;5;241m=\u001b[39m name_parts[\u001b[38;5;241m0\u001b[39m]\u001b[38;5;241m.\u001b[39mlower()\n\u001b[1;32m      4\u001b[0m     last_name \u001b[38;5;241m=\u001b[39m name_parts[\u001b[38;5;241m-\u001b[39m\u001b[38;5;241m1\u001b[39m]\u001b[38;5;241m.\u001b[39mlower()\n\u001b[1;32m      5\u001b[0m     email \u001b[38;5;241m=\u001b[39m \u001b[38;5;124mf\u001b[39m\u001b[38;5;124m\"\u001b[39m\u001b[38;5;132;01m{\u001b[39;00mfirst_name\u001b[38;5;132;01m}\u001b[39;00m\u001b[38;5;124m.\u001b[39m\u001b[38;5;132;01m{\u001b[39;00mlast_name\u001b[38;5;132;01m}\u001b[39;00m\u001b[38;5;124m@ucdenver.edu\u001b[39m\u001b[38;5;124m\"\u001b[39m\n",
      "\u001b[0;31mIndexError\u001b[0m: list index out of range"
     ]
    }
   ],
   "source": [
    "faculty_emails = {}\n",
    "\n",
    "for name in faculty_list:\n",
    "    email = generate_email(name)\n",
    "    faculty_emails[name] = email\n",
    "print(faculty_emails)\n",
    "    "
   ]
  },
  {
   "cell_type": "markdown",
   "metadata": {},
   "source": [
    "### Test the Dictionary\n",
    "\n",
    "Print out the contents of the dictionary so that each faculty member's name and email is printed on a separate line.\n"
   ]
  },
  {
   "cell_type": "code",
   "execution_count": null,
   "metadata": {},
   "outputs": [],
   "source": [
    "# Your code here\n"
   ]
  },
  {
   "cell_type": "markdown",
   "metadata": {},
   "source": [
    "## Bonus (Optional)\n",
    "\n",
    "- Complete similar steps to generate a dictionary of names and emails for history \"students\" contained in the `history-students.txt` file\n",
    "- Create a single new dictionary where you can look up emails of BOTH history faculty and students.\n",
    "- Create a second new dictionary where you can access the name of a faculty or student and see a nested dictionary that contains a name, email, and status for that person. For example:\n",
    "\n",
    "```\n",
    "Christopher Agee:\n",
    "   name: Christopher Agee\n",
    "   email: christopher.agee@ucdenver.edu\n",
    "   status: faculty\n",
    "\n",
    "Ada Lovelace:\n",
    "   name: Cameron Blevins\n",
    "   email: ada.lovelace@ucdenver.edu\n",
    "   status: student\n",
    "\n",
    "etc.\n",
    "```\n"
   ]
  },
  {
   "cell_type": "code",
   "execution_count": null,
   "metadata": {},
   "outputs": [],
   "source": [
    "# Your bonus solution here\n"
   ]
  }
 ],
 "metadata": {
  "kernelspec": {
   "display_name": "Python [conda env:base] *",
   "language": "python",
   "name": "conda-base-py"
  },
  "language_info": {
   "codemirror_mode": {
    "name": "ipython",
    "version": 3
   },
   "file_extension": ".py",
   "mimetype": "text/x-python",
   "name": "python",
   "nbconvert_exporter": "python",
   "pygments_lexer": "ipython3",
   "version": "3.12.7"
  }
 },
 "nbformat": 4,
 "nbformat_minor": 4
}
