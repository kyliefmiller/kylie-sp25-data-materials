{
 "cells": [
  {
   "cell_type": "markdown",
   "metadata": {},
   "source": [
    "## Overview\n"
   ]
  },
  {
   "cell_type": "markdown",
   "metadata": {},
   "source": [
    "### ⚠️ Before you start ⚠️\n",
    "\n",
    "_Duplicate this Jupyter Notebook in your `week-06` folder (right-click -> Duplicate) and then add your last name to the beginning of it (ie. `blevins-hw-05.ipynb` - otherwise you risk having all your work overwritten when you try to sync your GitHub repository with your instructor's repository._\n"
   ]
  },
  {
   "cell_type": "markdown",
   "metadata": {},
   "source": [
    "⚠️ _No, seriously: check the name of this file. Is it the copy you made and not the origina file? If so, you can proceed_ ⚠️\n"
   ]
  },
  {
   "cell_type": "markdown",
   "metadata": {},
   "source": [
    "---\n",
    "\n",
    "Student Name: Kylie Miller"
   ]
  },
  {
   "cell_type": "markdown",
   "metadata": {
    "tags": []
   },
   "source": [
    "This will help you better learn how to use [lists and loops](https://melaniewalsh.github.io/Intro-Cultural-Analytics/02-Python/09-Lists-Loops-Part1.html), [dictionaries](https://melaniewalsh.github.io/Intro-Cultural-Analytics/02-Python/11-Dictionaries.html), and [functions](https://melaniewalsh.github.io/Intro-Cultural-Analytics/02-Python/12-Functions.html) in Python in order to work with textual data.\n"
   ]
  },
  {
   "cell_type": "markdown",
   "metadata": {},
   "source": [
    "## Getting to Know the Data\n"
   ]
  },
  {
   "cell_type": "markdown",
   "metadata": {},
   "source": [
    "In this homework you're going to work with the diary of Martha Ballard, a midwife from Maine in the 1700s and early 1800s made famous by historian Laurel Ulrich's _A Midwife's Tale_. A project at George Mason University digitized her diary and put it online. I've done some research using the entries, and am supplying you with two years' worth of Ballard's diary entries (1804 and 1805). Each entry is contained in a separate text file that I've already processed and cleaned.\n",
    "\n",
    "You can find all of her diary entries as several hundred text files in the `data` subfolder. Navigate to the `data` folder in Jupyter Lab and open up a few of the .txt files to get a feel for what sort of historical documents you will be working with and how they are structured.\n"
   ]
  },
  {
   "cell_type": "markdown",
   "metadata": {},
   "source": [
    "1. What are some observations you have about these as **historical sources**? What jumps out at you?\n"
   ]
  },
  {
   "cell_type": "markdown",
   "metadata": {},
   "source": [
    "These diary entries are very brief but also consistent. Therefore, while they do not necessarily include extensive details, they can provide some more routine information for daily life. For instance, from what I could tell the weather of every day was mentioned, which could give insight into weather patterns. (It is also interesting to think about why, in her extremely short entries, weather was important enough to be noted every day.) In general though, such short and not descriptive entries seem fit for data analysis, especially because she seems to track delivering babies, people, etc. (However, spelling errors may make some parts harder to analyze.) While this diary could provide insight into the daily life of a midwife in main in this time period, it is also important to ask questions about Martha Ballard herself - to what extent was her level of literacy common for a midwife at this time? (She had many spelling mistakes but at the same time could write, etc.) "
   ]
  },
  {
   "cell_type": "markdown",
   "metadata": {},
   "source": [
    "2. Look at the filenames of Ballard's diary entries (ex. `18040323.txt`). Try to figure out: what information is stored in the file's name and how is that information structured? What does the file name tell you about the diary entry that is NOT contained in the text file itself?\n"
   ]
  },
  {
   "cell_type": "markdown",
   "metadata": {},
   "source": [
    "These file names show the date of the entry, strutured by year, month, day (0000/00/00). This can tell more about the time of year as well as specific dates. It also shows that these were daily entries as it appears that days were rarely skipped."
   ]
  },
  {
   "cell_type": "markdown",
   "metadata": {},
   "source": [
    "3. Find and open the diary entry for February 5, 1804. What major event happened to Ballard's family that day?\n"
   ]
  },
  {
   "cell_type": "markdown",
   "metadata": {},
   "source": [
    "Ballard's son Ephrain got married, so there was a gathering of many family members.\n",
    "\n",
    "(Clear. Son*s Pollard and Lambard, their wives and par#t$ of their children Came here. Rhoda, Hannah, Samuel & Dolly tarried here, their parents went to meeting. mr Black and Oldes#t$ Daughter Came with them after meeting and partook with me of a Turkey my husband Sent to me Since he went from home. Son Ephraim and Mary Farewel were Joind in wedlock this evening. at home. my children here,mr Black allso. Son Ephraim was Married to Mary Farewel, Oldes#t$Daug#t$ to y#e$ Widdow.)"
   ]
  },
  {
   "cell_type": "markdown",
   "metadata": {},
   "source": [
    "## Wrangling the Data\n"
   ]
  },
  {
   "cell_type": "markdown",
   "metadata": {},
   "source": [
    "The goal of this section is to take your hundreds of text files worth of diary entries and add them into a dictionary. Each entry in the dictionary is going to consist of a **key** that corresponds to the name of the file (diary entry) and a **value** that contains the contents of the file (the written text of the entry).\n",
    "\n",
    "We will be implementing the following steps across several questions:\n",
    "\n",
    "- Look inside data folder and have Python generate a list of filenames of all the files inside that folder\n",
    "- Loop through our list of filenames, open each diary entry, and read its contents\n",
    "- Decide whether each diary entry was written in 1804 or 1805 and put the entry into a corresponding list\n"
   ]
  },
  {
   "cell_type": "markdown",
   "metadata": {},
   "source": [
    "First we're going to import the `pathlib` library, which helps us more easily work with folder and files. Run this code:\n"
   ]
  },
  {
   "cell_type": "code",
   "execution_count": 18,
   "metadata": {},
   "outputs": [],
   "source": [
    "from pathlib import Path"
   ]
  },
  {
   "cell_type": "markdown",
   "metadata": {},
   "source": [
    "I've provided some code below that will allow you to create two new lists: `file_names` and `file_paths`. The list `file_names` contains a list of all the names of the files ending in `.txt` in our `data` folder (ie. `18040101.txt`). The list `file_paths` is a string with the \"path\" to that file within the `data` folder (ie. `data/18040101.txt`). Run the following code cell:\n"
   ]
  },
  {
   "cell_type": "code",
   "execution_count": 20,
   "metadata": {},
   "outputs": [],
   "source": [
    "txt_files = list(Path('data').glob('*.txt'))\n",
    "\n",
    "file_paths = []\n",
    "\n",
    "# Display the files\n",
    "for file in txt_files:\n",
    "    file_paths.append(str(file))"
   ]
  },
  {
   "cell_type": "markdown",
   "metadata": {},
   "source": [
    "4. Add code to loop through the first **10 items** in your list of **file paths** and print out each of those ten file paths in order to make sure you've done this correctly.\n"
   ]
  },
  {
   "cell_type": "code",
   "execution_count": 22,
   "metadata": {},
   "outputs": [
    {
     "name": "stdout",
     "output_type": "stream",
     "text": [
      "data/18040608.txt\n",
      "data/18050427.txt\n",
      "data/18040620.txt\n",
      "data/18040813.txt\n",
      "data/18040807.txt\n",
      "data/18050619.txt\n",
      "data/18050625.txt\n",
      "data/18040422.txt\n",
      "data/18050802.txt\n",
      "data/18050816.txt\n"
     ]
    }
   ],
   "source": [
    "for item in file_paths[:10]:\n",
    "    print(item)"
   ]
  },
  {
   "cell_type": "markdown",
   "metadata": {},
   "source": [
    "We're eventually going to open all of the files in your directory, but with the principal \"start small\" let's start by just opening and reading just **one** of the diary entry files from January 1, 1804. Run the code cell below:\n"
   ]
  },
  {
   "cell_type": "code",
   "execution_count": 24,
   "metadata": {},
   "outputs": [
    {
     "name": "stdout",
     "output_type": "stream",
     "text": [
      "Cloudy, Snowd at night. mr Ballard and Ephraim to meeting. I have been unwell. Son Jonathan, his wife and 6 children Sup#t$ here. we had a puding and roast Spare rib. I was very unwell all nigh#t$ but, as is usual, did with out much Care taken of me. Rachel to bed at 8 oClock. at home, very unwell.\n"
     ]
    }
   ],
   "source": [
    "diary_text=open('data/18040101.txt', encoding='utf-8').read()\n",
    "print(diary_text)"
   ]
  },
  {
   "cell_type": "markdown",
   "metadata": {},
   "source": [
    "5. Open, read, and print out the contents of the **February 5, 1804** diary entry.\n"
   ]
  },
  {
   "cell_type": "code",
   "execution_count": 26,
   "metadata": {},
   "outputs": [
    {
     "name": "stdout",
     "output_type": "stream",
     "text": [
      "Clear. Son*s Pollard and Lambard, their wives and par#t$ of their children Came here. Rhoda, Hannah, Samuel & Dolly tarried here, their parents went to meeting. mr Black and Oldes#t$ Daughter Came with them after meeting and partook with me of a Turkey my husband Sent to me Since he went from home. Son Ephraim and Mary Farewel were Joind in wedlock this evening. at home. my children here,mr Black allso. Son Ephraim was Married to Mary Farewel, Oldes#t$Daug#t$ to y#e$ Widdow.\n"
     ]
    }
   ],
   "source": [
    "diary_text=open('data/18040205.txt', encoding='utf-8').read()\n",
    "print(diary_text)"
   ]
  },
  {
   "cell_type": "markdown",
   "metadata": {},
   "source": [
    "6. Let's try to isolate JUST the filename rather than the full path - ie. we want to go from `data/18040101.txt` to `18040101.txt`. Write a new function called `isolate_filename` that does the following:\n",
    "\n",
    "- Use the `split()` function to separate the string of the full path into a list with two strings: `data` and `18040101.txt`. [Hint](https://www.w3schools.com/python/ref_string_split.asp): you can specify a specific letter or character to \"split\" it on.\n",
    "- Returns the second item in that two-item list (ie. `18040101.txt`)\n"
   ]
  },
  {
   "cell_type": "code",
   "execution_count": 28,
   "metadata": {},
   "outputs": [
    {
     "name": "stdout",
     "output_type": "stream",
     "text": [
      "['18040608.txt', '18050427.txt', '18040620.txt', '18040813.txt', '18040807.txt', '18050619.txt', '18050625.txt', '18040422.txt', '18050802.txt', '18050816.txt']\n"
     ]
    }
   ],
   "source": [
    "def isolate_filename(filename):\n",
    "    filename_divided = filename.split('/')\n",
    "    return(filename_divided[1])\n",
    "\n",
    "filenames = []\n",
    "\n",
    "for name in file_paths:\n",
    "    filenames.append(isolate_filename(name))\n",
    "\n",
    "print(filenames[:10])"
   ]
  },
  {
   "cell_type": "markdown",
   "metadata": {},
   "source": [
    "7. Let's stitch together all of our the above steps and apply them to every diary entry in the folder.\n",
    "\n",
    "- Create an **empty dictionary** named `diary_dictionary`\n",
    "- Set up a `for loop` to go through your `file_paths` list of file names (ex. `data/18040101.txt`, `data/18040102.txt`, etc.) that you generated above.\n",
    "- **Inside** your `for loop` you are going to do the following:\n",
    "  - Assign a new variable called `filename` that gets filled with the returned value from sending the full file path to your function `isolate_filename`\n",
    "  - Assign a new variable called `diary_text` and assign it the contents of the file using your new variable.\n",
    "  - Add a new item to your dictionary, with the `filename` as the **key** (ex. `18040101.txt`) and the contents of the file (`diary_text`) as the **value**.\n",
    "- Print out **the number of entries** that are now in your dictionary\n"
   ]
  },
  {
   "cell_type": "code",
   "execution_count": 30,
   "metadata": {},
   "outputs": [
    {
     "name": "stdout",
     "output_type": "stream",
     "text": [
      "Clear. I have been at home, helped wash. Joanna Smith worked for me this day. mrs Dunfee & Daughter Ballard took Tea here. at home.\n"
     ]
    }
   ],
   "source": [
    "diary_text=open('data/18040608.txt', encoding='utf-8').read()\n",
    "print(diary_text)"
   ]
  },
  {
   "cell_type": "code",
   "execution_count": 31,
   "metadata": {},
   "outputs": [
    {
     "data": {
      "text/plain": [
       "731"
      ]
     },
     "execution_count": 31,
     "metadata": {},
     "output_type": "execute_result"
    }
   ],
   "source": [
    "diary_dictionary = {}\n",
    "\n",
    "for name in file_paths:\n",
    "    filename = isolate_filename(name)\n",
    "    diary_text = open(name, encoding='utf-8').read()\n",
    "    diary_dictionary[filename] = diary_text\n",
    "\n",
    "len(diary_dictionary)"
   ]
  },
  {
   "cell_type": "markdown",
   "metadata": {},
   "source": [
    "8. Complete the following with `diary_dictionary` of entries:\n",
    "\n",
    "- Use the **key** to access and print the contents for Ballard's entry for **February 5, 1804**.\n",
    "- Create a new `list` of **words** in the above entry (hint: [String Methods](https://melaniewalsh.github.io/Intro-Cultural-Analytics/02-Python/06-String-Methods.html))\n",
    "- Print the number of **words** in the above entry.\n"
   ]
  },
  {
   "cell_type": "code",
   "execution_count": 33,
   "metadata": {},
   "outputs": [
    {
     "name": "stdout",
     "output_type": "stream",
     "text": [
      "Clear. I have began a Stockin for my Daughter Lambard and done other matters. we are informd that the wife of George Hodgkins Departed this life this morn abou#t$ 5 O Clock after an illness of 4 years. at home. Death mrs Hodgskens, Varsalboro.\n"
     ]
    }
   ],
   "source": [
    "print(diary_dictionary[\"18050205.txt\"])"
   ]
  },
  {
   "cell_type": "code",
   "execution_count": 34,
   "metadata": {},
   "outputs": [
    {
     "name": "stdout",
     "output_type": "stream",
     "text": [
      "['Clear.', 'I', 'have', 'began', 'a', 'Stockin', 'for', 'my', 'Daughter', 'Lambard', 'and', 'done', 'other', 'matters.', 'we', 'are', 'informd', 'that', 'the', 'wife', 'of', 'George', 'Hodgkins', 'Departed', 'this', 'life', 'this', 'morn', 'abou#t$', '5', 'O', 'Clock', 'after', 'an', 'illness', 'of', '4', 'years.', 'at', 'home.', 'Death', 'mrs', 'Hodgskens,', 'Varsalboro.']\n"
     ]
    }
   ],
   "source": [
    "words_list = diary_dictionary[\"18050205.txt\"].split()\n",
    "print(words_list)"
   ]
  },
  {
   "cell_type": "code",
   "execution_count": 35,
   "metadata": {},
   "outputs": [
    {
     "name": "stdout",
     "output_type": "stream",
     "text": [
      "Ballard wrote 44 words on February 5, 1805.\n"
     ]
    }
   ],
   "source": [
    "print(f\"Ballard wrote {len(words_list)} words on February 5, 1805.\")\n"
   ]
  },
  {
   "cell_type": "markdown",
   "metadata": {},
   "source": [
    "---\n",
    "\n",
    "**Bonus Question 1:**\n",
    "\n",
    "Let's say we want to do the same thing as Question 8 (finding the length of an entry) but we don't want to write the same code over and over. Review Walsh's [Functions chapter](https://melaniewalsh.github.io/Intro-Cultural-Analytics/02-Python/12-Functions.html). Define a new function that calculates and prints the length of any given diary entry measured by **number of words.** After you've defined the function, \"call\" it for the entry written on September 22, 1805.\n"
   ]
  },
  {
   "cell_type": "code",
   "execution_count": 37,
   "metadata": {},
   "outputs": [
    {
     "name": "stdout",
     "output_type": "stream",
     "text": [
      "106\n"
     ]
    }
   ],
   "source": [
    "def entry_numwords(entry):\n",
    "    words_list = diary_dictionary[entry].split()\n",
    "    print(len(words_list))\n",
    "\n",
    "entry_numwords(\"18050922.txt\")"
   ]
  },
  {
   "cell_type": "markdown",
   "metadata": {},
   "source": [
    "**Bonus Question 2:**\n",
    "\n",
    "- How long is the longest entry Ballard wrote in these years measured by the number of words?\n",
    "- Which entry was it?\n",
    "- Print the contents of that entry\n",
    "\n",
    "Functions you might use:\n",
    "\n",
    "- len()\n",
    "- max()\n",
    "- dictionary.values()\n"
   ]
  },
  {
   "cell_type": "markdown",
   "metadata": {},
   "source": [
    "Plan:\n",
    "- run a for loop through the dictionary to calculate number of words\n",
    "- add this number of words to a list\n",
    "- calculate the max number in that list\n",
    "- run through num words again - if the number of words is the max number, print the contents of thatday"
   ]
  },
  {
   "cell_type": "code",
   "execution_count": 40,
   "metadata": {},
   "outputs": [
    {
     "name": "stdout",
     "output_type": "stream",
     "text": [
      "229\n"
     ]
    }
   ],
   "source": [
    "def entry_numwords(entry):\n",
    "    words_list = diary_dictionary[entry].split()\n",
    "    return(len(words_list))\n",
    "\n",
    "entry_lengths = []\n",
    "\n",
    "for entry in diary_dictionary:\n",
    "    entry_lengths.append(entry_numwords(entry))\n",
    "\n",
    "print(max(entry_lengths))"
   ]
  },
  {
   "cell_type": "code",
   "execution_count": 41,
   "metadata": {},
   "outputs": [
    {
     "name": "stdout",
     "output_type": "stream",
     "text": [
      "The longest entry is 18040317.txt with 229 words.\n",
      "Clear Part of the day. Son & Daughter Pollard and part of thier children here. Shee went on to See her Father. I went afternoon Conducted by Lemuel Witham, a lad who is Com to work with Son Ephraim. I returnd at evening very unwell. Lemuel went to take Son Lambard*s hors and Sleigh to Jones*s for Jonathan and him to Come up in but not finding them ready to Come returnd with it. they Came up on foot and Jonathan Came here with ou#t$ his hat. took him from his Supper, pusht him out adors, Drove him home to his house Damning and pushing him down and Struck him. Shaw and Burr went on after to prevent his being deprived of life. I followed on falling as I went till meeting Daughter Lambard was assisted by her. I reacht his house, find him Cursing and Swearing he would go and giv him a Hard whiping. my Daughter Lambard desired Haman to go and Conducted him to Ephraim. he went and tarried all night. Son Lambard brot me home in his Sleigh. O that the God of all Mercy would forgiv him this and all other misconduc#t$. at Shubael Pitts*s, feel very unwel and what a Sceanhad I to go at evening. may a Good God Support me. funeral mr James Hinkley of Hollowell, his Death was very Suden.\n"
     ]
    }
   ],
   "source": [
    "for entry in diary_dictionary:\n",
    "    if entry_numwords(entry) == max(entry_lengths):\n",
    "        print(f\"The longest entry is {entry} with {max(entry_lengths)} words.\")\n",
    "        name = \"data/\"+entry\n",
    "        diary_text = open(name, encoding='utf-8').read()\n",
    "        print(diary_text)"
   ]
  },
  {
   "cell_type": "markdown",
   "metadata": {},
   "source": [
    "**I will be curious how using the \"dictionary.values()\" function would help with this problem, as I did not use it.**"
   ]
  },
  {
   "cell_type": "markdown",
   "metadata": {},
   "source": [
    "*Below I am attempting to translate the name of the entry into a readable date*"
   ]
  },
  {
   "cell_type": "code",
   "execution_count": 44,
   "metadata": {},
   "outputs": [
    {
     "name": "stdout",
     "output_type": "stream",
     "text": [
      "May 15 1804\n"
     ]
    }
   ],
   "source": [
    "entry = \"18040515.txt\"\n",
    "\n",
    "def entry_date(entry):\n",
    "    if entry[4:6] == \"01\":\n",
    "        month = \"January\"\n",
    "    elif entry[4:6] == \"02\":\n",
    "        month = \"February\"\n",
    "    elif entry[4:6] == \"03\":\n",
    "        month = \"March\"\n",
    "    elif entry[4:6] == \"04\":\n",
    "        month = \"April\"\n",
    "    elif entry[4:6] == \"05\":\n",
    "        month = \"May\"\n",
    "    elif entry[4:6] == \"06\":\n",
    "        month = \"June\"\n",
    "    elif entry[4:6] == \"07\":\n",
    "        month = \"July\"\n",
    "    elif entry[4:6] == \"08\":\n",
    "        month = \"August\"\n",
    "    elif entry[4:6] == \"09\":\n",
    "        month = \"September\"\n",
    "    elif entry[4:6] == \"10\":\n",
    "        month = \"October\"\n",
    "    elif entry[4:6] == \"11\":\n",
    "        month = \"November\"\n",
    "    elif entry[4:6] == \"12\":\n",
    "        month = \"December\"\n",
    "    year = entry[:4]\n",
    "    day = entry[6:8]\n",
    "    return month + \" \" + day + \" \" + year\n",
    "\n",
    "print(entry_date(entry))"
   ]
  },
  {
   "cell_type": "markdown",
   "metadata": {},
   "source": [
    "*Now I am adjusting my previous answer to show the date of the entry rather than name of entry*"
   ]
  },
  {
   "cell_type": "code",
   "execution_count": 46,
   "metadata": {},
   "outputs": [
    {
     "name": "stdout",
     "output_type": "stream",
     "text": [
      "The longest entry is March 17 1804 with 229 words.\n",
      "Clear Part of the day. Son & Daughter Pollard and part of thier children here. Shee went on to See her Father. I went afternoon Conducted by Lemuel Witham, a lad who is Com to work with Son Ephraim. I returnd at evening very unwell. Lemuel went to take Son Lambard*s hors and Sleigh to Jones*s for Jonathan and him to Come up in but not finding them ready to Come returnd with it. they Came up on foot and Jonathan Came here with ou#t$ his hat. took him from his Supper, pusht him out adors, Drove him home to his house Damning and pushing him down and Struck him. Shaw and Burr went on after to prevent his being deprived of life. I followed on falling as I went till meeting Daughter Lambard was assisted by her. I reacht his house, find him Cursing and Swearing he would go and giv him a Hard whiping. my Daughter Lambard desired Haman to go and Conducted him to Ephraim. he went and tarried all night. Son Lambard brot me home in his Sleigh. O that the God of all Mercy would forgiv him this and all other misconduc#t$. at Shubael Pitts*s, feel very unwel and what a Sceanhad I to go at evening. may a Good God Support me. funeral mr James Hinkley of Hollowell, his Death was very Suden.\n"
     ]
    }
   ],
   "source": [
    "for entry in diary_dictionary:\n",
    "    if entry_numwords(entry) == max(entry_lengths):\n",
    "        print(f\"The longest entry is {entry_date(entry)} with {max(entry_lengths)} words.\")\n",
    "        name = \"data/\"+entry\n",
    "        diary_text = open(name, encoding='utf-8').read()\n",
    "        print(diary_text)"
   ]
  },
  {
   "cell_type": "markdown",
   "metadata": {},
   "source": [
    "*I was making fun of my long code and showed it to my husband and he gave me the idea of doing that with dictionaries. So I feel like maybe it's a good way to get more dictionary practice because I'm still not super comfortable with them so that is what is below :P*"
   ]
  },
  {
   "cell_type": "code",
   "execution_count": 48,
   "metadata": {},
   "outputs": [
    {
     "name": "stdout",
     "output_type": "stream",
     "text": [
      "May 15 1804\n"
     ]
    }
   ],
   "source": [
    "month_translation = {\"01\": \"January\",\n",
    "                     \"02\": \"February\",\n",
    "                     \"03\": \"March\",\n",
    "                     \"04\": \"April\",\n",
    "                     \"05\": \"May\",\n",
    "                     \"06\": \"June\",\n",
    "                     \"07\": \"July\",\n",
    "                     \"08\": \"August\",\n",
    "                     \"09\": \"September\",\n",
    "                     \"10\": \"October\",\n",
    "                     \"11\": \"November\",\n",
    "                     \"12\": \"December\"}\n",
    "\n",
    "entry = \"18040515.txt\"\n",
    "\n",
    "def entry_date_2(entry):\n",
    "    month = month_translation[entry[4:6]]\n",
    "    year = entry[:4]\n",
    "    day = entry[6:8]\n",
    "    return month + \" \" + day + \" \" + year\n",
    "\n",
    "print(entry_date_2(entry))"
   ]
  },
  {
   "cell_type": "markdown",
   "metadata": {},
   "source": [
    "## Submission\n",
    "\n",
    "Follow the instructions to submit the assignment on Canvas in two files (one `.ipynb` and one `.pdf`).\n",
    "\n",
    "1. Save your notebook\n",
    "2. Go to Kernel -> Restart Kernel and Run All Cells\n",
    "3. Export as PDF or HTML\n"
   ]
  }
 ],
 "metadata": {
  "kernelspec": {
   "display_name": "Python [conda env:base] *",
   "language": "python",
   "name": "conda-base-py"
  },
  "language_info": {
   "codemirror_mode": {
    "name": "ipython",
    "version": 3
   },
   "file_extension": ".py",
   "mimetype": "text/x-python",
   "name": "python",
   "nbconvert_exporter": "python",
   "pygments_lexer": "ipython3",
   "version": "3.12.7"
  }
 },
 "nbformat": 4,
 "nbformat_minor": 4
}
