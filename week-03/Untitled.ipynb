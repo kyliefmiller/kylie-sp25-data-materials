{
 "cells": [
  {
   "cell_type": "code",
   "execution_count": 5,
   "id": "08c652d0-5c5a-4721-b4df-73be05d00abd",
   "metadata": {},
   "outputs": [
    {
     "data": {
      "text/plain": [
       "'venture_smith_copy.txt'"
      ]
     },
     "execution_count": 5,
     "metadata": {},
     "output_type": "execute_result"
    }
   ],
   "source": [
    "open('venture-smith.txt', mode='r', encoding='utf-8').read()"
   ]
  },
  {
   "cell_type": "code",
   "execution_count": null,
   "id": "213930ca-a9a6-4013-a4ca-5711a7bc5858",
   "metadata": {},
   "outputs": [],
   "source": []
  }
 ],
 "metadata": {
  "kernelspec": {
   "display_name": "Python [conda env:base] *",
   "language": "python",
   "name": "conda-base-py"
  },
  "language_info": {
   "codemirror_mode": {
    "name": "ipython",
    "version": 3
   },
   "file_extension": ".py",
   "mimetype": "text/x-python",
   "name": "python",
   "nbconvert_exporter": "python",
   "pygments_lexer": "ipython3",
   "version": "3.12.7"
  }
 },
 "nbformat": 4,
 "nbformat_minor": 5
}
