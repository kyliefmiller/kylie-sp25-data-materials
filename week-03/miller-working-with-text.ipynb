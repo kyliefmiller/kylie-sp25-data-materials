{
 "cells": [
  {
   "cell_type": "markdown",
   "id": "9ab797a1-d38c-4245-bdf6-f24c01ca86e8",
   "metadata": {},
   "source": [
    "Open and read text"
   ]
  },
  {
   "cell_type": "code",
   "execution_count": 5,
   "id": "71d447e9-552a-412d-ab02-54cbb407f450",
   "metadata": {},
   "outputs": [],
   "source": [
    "smith = open('venture-smith.txt', mode='r', encoding='utf-8').read()"
   ]
  },
  {
   "cell_type": "markdown",
   "id": "72eaa04b-132f-4052-b3ed-b0cb8b6561bd",
   "metadata": {},
   "source": [
    "Make venture smith copy"
   ]
  },
  {
   "cell_type": "code",
   "execution_count": 5,
   "id": "59dc624a-e6a9-41de-9632-c841dc8c697e",
   "metadata": {
    "scrolled": true
   },
   "outputs": [
    {
     "data": {
      "text/plain": [
       "54354"
      ]
     },
     "execution_count": 5,
     "metadata": {},
     "output_type": "execute_result"
    }
   ],
   "source": [
    "open('venture-smith-copy.txt', mode='w', encoding='utf-8').write(smith)"
   ]
  },
  {
   "cell_type": "markdown",
   "id": "09f1cad6-9f77-49b0-828b-859771cac87c",
   "metadata": {},
   "source": [
    "Find first letter of narrative"
   ]
  },
  {
   "cell_type": "code",
   "execution_count": 10,
   "id": "9e9aa3c2-69ca-4c62-8429-cac48c510279",
   "metadata": {},
   "outputs": [
    {
     "data": {
      "text/plain": [
       "'A'"
      ]
     },
     "execution_count": 10,
     "metadata": {},
     "output_type": "execute_result"
    }
   ],
   "source": [
    "smith[0]"
   ]
  },
  {
   "cell_type": "markdown",
   "id": "b320384d-a4b5-4835-9ddd-575391189989",
   "metadata": {},
   "source": [
    "First 100 characters"
   ]
  },
  {
   "cell_type": "code",
   "execution_count": 12,
   "id": "777181e5-2ccd-4f30-9626-1d4fb59764d2",
   "metadata": {
    "scrolled": true
   },
   "outputs": [
    {
     "data": {
      "text/plain": [
       "'A NARRATIVE OF THE LIFE AND ADVENTURES\\n\\nOF VENTURE, A NATIVE OF AFRICA,\\n\\nBut resident above sixty ye'"
      ]
     },
     "execution_count": 12,
     "metadata": {},
     "output_type": "execute_result"
    }
   ],
   "source": [
    "smith[:100]"
   ]
  },
  {
   "cell_type": "markdown",
   "id": "deffe3d4-fc2e-48a8-8b9c-ac8bbe1af40e",
   "metadata": {},
   "source": [
    "Turn it into title format"
   ]
  },
  {
   "cell_type": "code",
   "execution_count": 11,
   "id": "31b3566b-bcbc-4b7d-844f-e2d0d7e882a6",
   "metadata": {},
   "outputs": [],
   "source": [
    "smith_title = smith[:157]"
   ]
  },
  {
   "cell_type": "code",
   "execution_count": 16,
   "id": "160f8694-d2bb-4c1f-93fe-3ea50a066d31",
   "metadata": {
    "scrolled": true
   },
   "outputs": [
    {
     "data": {
      "text/plain": [
       "'A Narrative Of The Life And Adventures\\n\\nOf Venture, A Native Of Africa,\\n\\nBut Resident Above Sixty Years In The United States Of America.\\n\\nRelated By Himself.'"
      ]
     },
     "execution_count": 16,
     "metadata": {},
     "output_type": "execute_result"
    }
   ],
   "source": [
    "smith_title.title()"
   ]
  },
  {
   "cell_type": "markdown",
   "id": "8ded2821-60ba-4f83-bbcd-0fffe247522f",
   "metadata": {},
   "source": [
    "print rather than have the new line characters"
   ]
  },
  {
   "cell_type": "code",
   "execution_count": 18,
   "id": "e6f2f3f5-cf08-4dc0-9655-715f5bacf66b",
   "metadata": {},
   "outputs": [
    {
     "name": "stdout",
     "output_type": "stream",
     "text": [
      "A Narrative Of The Life And Adventures\n",
      "\n",
      "Of Venture, A Native Of Africa,\n",
      "\n",
      "But Resident Above Sixty Years In The United States Of America.\n",
      "\n",
      "Related By Himself.\n"
     ]
    }
   ],
   "source": [
    "print(smith_title.title())"
   ]
  },
  {
   "cell_type": "code",
   "execution_count": 17,
   "id": "b9364f21-f011-4e8f-b62c-2cebc57be8a1",
   "metadata": {},
   "outputs": [],
   "source": [
    "smith_lines=smith.split(\"\\n\")"
   ]
  },
  {
   "cell_type": "code",
   "execution_count": 19,
   "id": "2a372165-b496-4e4e-a79a-7abf9047eabb",
   "metadata": {},
   "outputs": [
    {
     "data": {
      "text/plain": [
       "903"
      ]
     },
     "execution_count": 19,
     "metadata": {},
     "output_type": "execute_result"
    }
   ],
   "source": [
    "len(smith_lines)"
   ]
  },
  {
   "cell_type": "code",
   "execution_count": 42,
   "id": "a02f9927-6f21-47b2-b1c7-2f9419a4bcf7",
   "metadata": {},
   "outputs": [
    {
     "name": "stderr",
     "output_type": "stream",
     "text": [
      "<>:6: SyntaxWarning: invalid escape sequence '\\W'\n",
      "<>:6: SyntaxWarning: invalid escape sequence '\\W'\n",
      "/var/folders/4y/l2xhtfxs2msgkp6_82yhlvv40000gn/T/ipykernel_52125/3105587156.py:6: SyntaxWarning: invalid escape sequence '\\W'\n",
      "  split_words = re.split(\"\\W+\", lowercase_text)\n"
     ]
    },
    {
     "data": {
      "text/plain": [
       "[('master', 77),\n",
       " ('one', 51),\n",
       " ('time', 47),\n",
       " ('would', 43),\n",
       " ('two', 41),\n",
       " ('money', 28),\n",
       " ('pounds', 28),\n",
       " ('years', 25),\n",
       " ('father', 24),\n",
       " ('took', 23),\n",
       " ('place', 22),\n",
       " ('went', 22),\n",
       " ('could', 21),\n",
       " ('great', 21),\n",
       " ('six', 21),\n",
       " ('year', 20),\n",
       " ('old', 20),\n",
       " ('immediately', 20),\n",
       " ('island', 20),\n",
       " ('first', 19)]"
      ]
     },
     "execution_count": 42,
     "metadata": {},
     "output_type": "execute_result"
    }
   ],
   "source": [
    "import re\n",
    "from collections import Counter\n",
    "\n",
    "def split_into_words(any_chunk_of_text):\n",
    "    lowercase_text = any_chunk_of_text.lower()\n",
    "    split_words = re.split(\"\\W+\", lowercase_text)\n",
    "    return split_words\n",
    "\n",
    "filepath_of_text = \"venture-smith.txt\"\n",
    "number_of_desired_words = 20\n",
    "\n",
    "stopwords = ['i', 'me', 'my', 'myself', 'we', 'our', 'ours', 'ourselves', 'you', 'your', 'yours',\n",
    " 'yourself', 'yourselves', 'he', 'him', 'his', 'himself', 'she', 'her', 'hers',\n",
    " 'herself', 'it', 'its', 'itself', 'they', 'them', 'their', 'theirs', 'themselves',\n",
    " 'what', 'which', 'who', 'whom', 'this', 'that', 'these', 'those', 'am', 'is', 'are',\n",
    " 'was', 'were', 'be', 'been', 'being', 'have', 'has', 'had', 'having', 'do', 'does',\n",
    " 'did', 'doing', 'a', 'an', 'the', 'and', 'but', 'if', 'or', 'because', 'as', 'until',\n",
    " 'while', 'of', 'at', 'by', 'for', 'with', 'about', 'against', 'between', 'into',\n",
    " 'through', 'during', 'before', 'after', 'above', 'below', 'to', 'from', 'up', 'down',\n",
    " 'in', 'out', 'on', 'off', 'over', 'under', 'again', 'further', 'then', 'once', 'here',\n",
    " 'there', 'when', 'where', 'why', 'how', 'all', 'any', 'both', 'each', 'few', 'more',\n",
    " 'most', 'other', 'some', 'such', 'no', 'nor', 'not', 'only', 'own', 'same', 'so',\n",
    " 'than', 'too', 'very', 's', 't', 'can', 'will', 'just', 'don', 'should', 'now', 've', 'll', 'amp']\n",
    "\n",
    "full_text = open(filepath_of_text, encoding=\"utf-8\").read()\n",
    "\n",
    "all_the_words = split_into_words(full_text)\n",
    "meaningful_words = [word for word in all_the_words if word not in stopwords]\n",
    "meaningful_words_tally = Counter(meaningful_words)\n",
    "most_frequent_meaningful_words = meaningful_words_tally.most_common(number_of_desired_words)\n",
    "\n",
    "most_frequent_meaningful_words\n"
   ]
  },
  {
   "cell_type": "code",
   "execution_count": 48,
   "id": "3e7a911c-2c1e-4313-bf46-196a0e99d4e7",
   "metadata": {},
   "outputs": [
    {
     "data": {
      "text/plain": [
       "'of'"
      ]
     },
     "execution_count": 48,
     "metadata": {},
     "output_type": "execute_result"
    }
   ],
   "source": [
    "ind_words = smith.split(\" \")\n",
    "ind_words[199]"
   ]
  },
  {
   "cell_type": "code",
   "execution_count": 50,
   "id": "2977e22d-acce-40f2-abe8-d67a2f02b5de",
   "metadata": {},
   "outputs": [
    {
     "data": {
      "text/plain": [
       "9742"
      ]
     },
     "execution_count": 50,
     "metadata": {},
     "output_type": "execute_result"
    }
   ],
   "source": [
    "len(ind_words)"
   ]
  },
  {
   "cell_type": "code",
   "execution_count": 61,
   "id": "4af7eaa9-6fbc-4f21-bf3b-ba23d9b04b58",
   "metadata": {},
   "outputs": [],
   "source": [
    "chapters = smith.split(\"CHAPTER\")"
   ]
  },
  {
   "cell_type": "code",
   "execution_count": 63,
   "id": "cc0e146f-349d-40ad-a4e0-17fcbcf34adc",
   "metadata": {},
   "outputs": [
    {
     "data": {
      "text/plain": [
       "4"
      ]
     },
     "execution_count": 63,
     "metadata": {},
     "output_type": "execute_result"
    }
   ],
   "source": [
    "len(chapters)"
   ]
  },
  {
   "cell_type": "code",
   "execution_count": 66,
   "id": "fd6889e2-e189-468b-a493-31f9c708b017",
   "metadata": {},
   "outputs": [],
   "source": [
    "chap_two = chapters[2]"
   ]
  },
  {
   "cell_type": "code",
   "execution_count": 76,
   "id": "b76aca7d-8b27-43bc-a61e-156eb06b7312",
   "metadata": {},
   "outputs": [],
   "source": [
    "string_chap_two = \" \".join(chap_two)"
   ]
  },
  {
   "cell_type": "code",
   "execution_count": 78,
   "id": "c11f4b4b-301d-4f07-aac2-e623fc5b3ab3",
   "metadata": {},
   "outputs": [
    {
     "data": {
      "text/plain": [
       "43065"
      ]
     },
     "execution_count": 78,
     "metadata": {},
     "output_type": "execute_result"
    }
   ],
   "source": [
    "len(string_chap_two)"
   ]
  },
  {
   "cell_type": "code",
   "execution_count": null,
   "id": "755d4d15-a66d-4279-a963-b95ffff84813",
   "metadata": {},
   "outputs": [],
   "source": []
  }
 ],
 "metadata": {
  "kernelspec": {
   "display_name": "Python [conda env:base] *",
   "language": "python",
   "name": "conda-base-py"
  },
  "language_info": {
   "codemirror_mode": {
    "name": "ipython",
    "version": 3
   },
   "file_extension": ".py",
   "mimetype": "text/x-python",
   "name": "python",
   "nbconvert_exporter": "python",
   "pygments_lexer": "ipython3",
   "version": "3.12.7"
  }
 },
 "nbformat": 4,
 "nbformat_minor": 5
}
