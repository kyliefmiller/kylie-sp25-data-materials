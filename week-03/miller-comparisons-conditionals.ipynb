{
 "cells": [
  {
   "cell_type": "markdown",
   "id": "462e3dd4-8d62-44f2-8a7c-c630261fa498",
   "metadata": {},
   "source": [
    "Establishing data"
   ]
  },
  {
   "cell_type": "code",
   "execution_count": 2,
   "id": "b5aec6e0-ce2f-4052-8d8f-1d4a54bbe602",
   "metadata": {},
   "outputs": [],
   "source": [
    "# Boston population data\n",
    "boston_1850 = 136881\n",
    "boston_1860 = 177840\n",
    "boston_1870 = 250526\n",
    "\n",
    "# New York population data\n",
    "ny_1850 = 515547\n",
    "ny_1860 = 813669\n",
    "ny_1870 = 942292\n",
    "\n",
    "# Philadelphia population data\n",
    "phil_1850 = 121376\n",
    "phil_1860 = 565529\n",
    "phil_1870 = 674022\n"
   ]
  },
  {
   "cell_type": "markdown",
   "id": "34624328-ce7c-4791-93ec-f69e04fe0c22",
   "metadata": {},
   "source": [
    "Is Boston's pop over 200,000 in 1870"
   ]
  },
  {
   "cell_type": "code",
   "execution_count": 4,
   "id": "d55ad979-95b4-4fe2-a6f3-3493fb037e71",
   "metadata": {},
   "outputs": [
    {
     "data": {
      "text/plain": [
       "(True, 0)"
      ]
     },
     "execution_count": 4,
     "metadata": {},
     "output_type": "execute_result"
    }
   ],
   "source": [
    "boston_1870 > 200,000"
   ]
  },
  {
   "cell_type": "markdown",
   "id": "14f96c84-35b6-4dc8-afe5-03ef819ffae4",
   "metadata": {},
   "source": [
    "comparing ny & philly 1860 pops"
   ]
  },
  {
   "cell_type": "code",
   "execution_count": 8,
   "id": "5b6e025d-dbaf-4ce1-a287-78b3fb285c55",
   "metadata": {
    "collapsed": true,
    "jupyter": {
     "outputs_hidden": true
    }
   },
   "outputs": [
    {
     "name": "stdout",
     "output_type": "stream",
     "text": [
      "New York had a larger population than Philadelphia in 1860.\n"
     ]
    }
   ],
   "source": [
    "if ny_1860 > phil_1860:\n",
    "    print(\"New York had a larger population than Philadelphia in 1860.\")\n",
    "else:\n",
    "    print(\"New York did not have a larger population than Philadelphia in 1860.\")"
   ]
  },
  {
   "cell_type": "markdown",
   "id": "6f187c25-ce26-4d51-9bd0-0dde686de12f",
   "metadata": {},
   "source": [
    "seeing if philly's pop more than doubled between 1850 & 1860"
   ]
  },
  {
   "cell_type": "code",
   "execution_count": 10,
   "id": "9b9a4c7c-2b8f-4d96-bf3f-ca4e625ce07b",
   "metadata": {},
   "outputs": [
    {
     "name": "stdout",
     "output_type": "stream",
     "text": [
      "Philadelphia's population more than doubled between 1850 and 1860.\n"
     ]
    }
   ],
   "source": [
    "if phil_1860 > 2*phil_1850:\n",
    "    print(\"Philadelphia's population more than doubled between 1850 and 1860.\")\n",
    "else:\n",
    "    print(\"Philadlephia's population did not more than double between 1850 and 1860.\")"
   ]
  },
  {
   "cell_type": "markdown",
   "id": "f543b0d1-f972-4afb-9c56-1131162ebe8e",
   "metadata": {},
   "source": [
    "establishing growth"
   ]
  },
  {
   "cell_type": "code",
   "execution_count": 13,
   "id": "6e746098-61da-486d-97fe-d19949f202f0",
   "metadata": {},
   "outputs": [],
   "source": [
    "# Calculate population growth\n",
    "boston_growth = boston_1870 - boston_1850\n",
    "ny_growth = ny_1870 - ny_1850\n",
    "phil_growth = phil_1870 - phil_1850\n"
   ]
  },
  {
   "cell_type": "markdown",
   "id": "daffde8e-ed82-409e-90b0-ec62c6c2ead8",
   "metadata": {},
   "source": [
    "identify fastest growing city"
   ]
  },
  {
   "cell_type": "code",
   "execution_count": 19,
   "id": "4aa89134-4cf2-4bc2-a9a2-8d0e9e318358",
   "metadata": {},
   "outputs": [
    {
     "name": "stdout",
     "output_type": "stream",
     "text": [
      "New York was the fastest growing city!\n"
     ]
    }
   ],
   "source": [
    "if boston_growth > ny_growth and phil_growth:\n",
    "    print(\"Boston was the fastest growing city!\")\n",
    "elif ny_growth > boston_growth and phil_growth:\n",
    "    print(\"New York was the fastest growing city!\")\n",
    "else:\n",
    "    print(\"Philadelphia was the fastest growing city!\")"
   ]
  },
  {
   "cell_type": "markdown",
   "id": "2f2bf3d7-8ede-4e26-bdb3-5dec414fd5e8",
   "metadata": {},
   "source": [
    "boston pop over 200,000 in 1870 and increased by at least 100,000 from 1850 to 1870"
   ]
  },
  {
   "cell_type": "code",
   "execution_count": 23,
   "id": "13edb5a9-a818-4703-8ba0-3dc222d6010e",
   "metadata": {},
   "outputs": [
    {
     "data": {
      "text/plain": [
       "(True, 0, 0)"
      ]
     },
     "execution_count": 23,
     "metadata": {},
     "output_type": "execute_result"
    }
   ],
   "source": [
    "boston_1870 > 200,000 and boston_growth > 100,000"
   ]
  },
  {
   "cell_type": "markdown",
   "id": "bd0b1576-487b-40c1-8f56-936786654b0b",
   "metadata": {},
   "source": [
    "Use or to check if either one of these condition was true in 1860:\n",
    "New York’s population was over 800,000 in 1860\n",
    "OR Philadelphia’s population was over 800,000 in 1860"
   ]
  },
  {
   "cell_type": "code",
   "execution_count": 26,
   "id": "e9554b30-6e94-4a59-a97b-0c283f927598",
   "metadata": {},
   "outputs": [
    {
     "data": {
      "text/plain": [
       "(True, True, 0)"
      ]
     },
     "execution_count": 26,
     "metadata": {},
     "output_type": "execute_result"
    }
   ],
   "source": [
    "ny_1860 > 800,000 or phil_1860 > 800,000"
   ]
  },
  {
   "cell_type": "markdown",
   "id": "ca3a36e2-c54b-46e0-aba5-b62323afe40e",
   "metadata": {},
   "source": [
    "Create variables for the percent growth (rather than absolute growth) of each city between 1850-1870 - ex. “Philadelphia grew xx% between 1850 and 1870"
   ]
  },
  {
   "cell_type": "code",
   "execution_count": 49,
   "id": "42aa089a-05b5-4891-8c7e-63209882f25c",
   "metadata": {},
   "outputs": [],
   "source": [
    "boston_percent_growth = (boston_growth/boston_1850)*100\n",
    "ny_percent_growth = (ny_growth/ny_1850)*100\n",
    "phil_percent_growth = (phil_growth/phil_1850)*100"
   ]
  },
  {
   "cell_type": "code",
   "execution_count": 59,
   "id": "7e9fac69-dc62-4f46-844f-c65f89492be3",
   "metadata": {},
   "outputs": [
    {
     "name": "stdout",
     "output_type": "stream",
     "text": [
      "Boston was a Low Growth city\n"
     ]
    }
   ],
   "source": [
    "if boston_percent_growth > 100:\n",
    "    boston_growth_cat = \"High Growth\"\n",
    "else:\n",
    "    boston_growth_cat = \"Low Growth\"\n",
    "print(\"Boston was a\",boston_growth_cat,\"city\")"
   ]
  },
  {
   "cell_type": "code",
   "execution_count": null,
   "id": "6fa3bf83-74c3-47b6-a77e-9a5982a0cfde",
   "metadata": {},
   "outputs": [],
   "source": []
  }
 ],
 "metadata": {
  "kernelspec": {
   "display_name": "Python [conda env:base] *",
   "language": "python",
   "name": "conda-base-py"
  },
  "language_info": {
   "codemirror_mode": {
    "name": "ipython",
    "version": 3
   },
   "file_extension": ".py",
   "mimetype": "text/x-python",
   "name": "python",
   "nbconvert_exporter": "python",
   "pygments_lexer": "ipython3",
   "version": "3.12.7"
  }
 },
 "nbformat": 4,
 "nbformat_minor": 5
}
