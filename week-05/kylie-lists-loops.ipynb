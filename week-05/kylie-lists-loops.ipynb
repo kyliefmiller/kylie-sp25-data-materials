{
 "cells": [
  {
   "cell_type": "markdown",
   "id": "16087fdf-48ea-4e4e-a163-8ab9730a55f1",
   "metadata": {},
   "source": [
    "Getting data"
   ]
  },
  {
   "cell_type": "code",
   "execution_count": 45,
   "id": "4b9b4f93-c224-4bfa-bf04-d210f726bf58",
   "metadata": {},
   "outputs": [],
   "source": [
    "ages = [45, 23, 16, 34, 64, 28, 42, 31, 27, 38, 17, 52, 29, 44, 33, 15, 61, 36, 18, 41]\n",
    "\n",
    "occupations = ['farmer', 'servant', 'laborer', 'merchant', 'farmer', 'servant', 'teacher', 'farmer', 'laborer', 'merchant', 'servant', 'farmer', 'laborer', 'blacksmith', 'carpenter', 'servant', 'farmer', 'weaver', 'servant', 'carpenter']\n",
    "\n",
    "birth_places = ['Ireland', 'Ireland', 'New York', 'England', 'Ireland', 'Germany', 'New York', 'Ireland', 'Ireland', 'Scotland', 'Ireland', 'England', 'Ireland', 'Wales', 'Ireland', 'Ireland', 'Scotland', 'Ireland', 'Germany', 'Ireland']"
   ]
  },
  {
   "cell_type": "code",
   "execution_count": 5,
   "id": "e76d07fa-6b56-4c89-8532-ea500b2037c7",
   "metadata": {},
   "outputs": [
    {
     "data": {
      "text/plain": [
       "20"
      ]
     },
     "execution_count": 5,
     "metadata": {},
     "output_type": "execute_result"
    }
   ],
   "source": [
    "len(ages)"
   ]
  },
  {
   "cell_type": "code",
   "execution_count": 7,
   "id": "ed59eb38-3f97-4b85-a7a6-1ff14ac0d4b0",
   "metadata": {},
   "outputs": [
    {
     "data": {
      "text/plain": [
       "20"
      ]
     },
     "execution_count": 7,
     "metadata": {},
     "output_type": "execute_result"
    }
   ],
   "source": [
    "len(occupations)"
   ]
  },
  {
   "cell_type": "code",
   "execution_count": 9,
   "id": "758c65f0-c5b2-45a4-ba54-1bf5443570a5",
   "metadata": {},
   "outputs": [
    {
     "data": {
      "text/plain": [
       "20"
      ]
     },
     "execution_count": 9,
     "metadata": {},
     "output_type": "execute_result"
    }
   ],
   "source": [
    "len(birth_places)"
   ]
  },
  {
   "cell_type": "code",
   "execution_count": 13,
   "id": "349619df-9331-40ff-9b67-dfde52309f5a",
   "metadata": {},
   "outputs": [
    {
     "data": {
      "text/plain": [
       "['farmer', 'servant', 'laborer', 'merchant', 'farmer']"
      ]
     },
     "execution_count": 13,
     "metadata": {},
     "output_type": "execute_result"
    }
   ],
   "source": [
    "occupations[:5]"
   ]
  },
  {
   "cell_type": "code",
   "execution_count": 15,
   "id": "41ee4abc-bd1c-4878-938a-4592d20cd745",
   "metadata": {},
   "outputs": [
    {
     "data": {
      "text/plain": [
       "Counter({'farmer': 5,\n",
       "         'servant': 5,\n",
       "         'laborer': 3,\n",
       "         'merchant': 2,\n",
       "         'carpenter': 2,\n",
       "         'teacher': 1,\n",
       "         'blacksmith': 1,\n",
       "         'weaver': 1})"
      ]
     },
     "execution_count": 15,
     "metadata": {},
     "output_type": "execute_result"
    }
   ],
   "source": [
    "from collections import Counter\n",
    "Counter(occupations)\n"
   ]
  },
  {
   "cell_type": "code",
   "execution_count": 17,
   "id": "5a197fab-a797-4289-84c4-2140a17fc711",
   "metadata": {},
   "outputs": [
    {
     "data": {
      "text/plain": [
       "Counter({'Ireland': 11,\n",
       "         'New York': 2,\n",
       "         'England': 2,\n",
       "         'Germany': 2,\n",
       "         'Scotland': 2,\n",
       "         'Wales': 1})"
      ]
     },
     "execution_count": 17,
     "metadata": {},
     "output_type": "execute_result"
    }
   ],
   "source": [
    "from collections import Counter\n",
    "Counter(birth_places)\n"
   ]
  },
  {
   "cell_type": "code",
   "execution_count": 41,
   "id": "99f67f68-d936-48fe-9a10-2c7fc7966838",
   "metadata": {},
   "outputs": [
    {
     "name": "stdout",
     "output_type": "stream",
     "text": [
      "Person #0: farmer\n",
      "Person #1: servant\n",
      "Person #2: laborer\n",
      "Person #3: merchant\n",
      "Person #4: farmer\n",
      "Person #5: servant\n",
      "Person #6: teacher\n",
      "Person #7: farmer\n",
      "Person #8: laborer\n",
      "Person #9: merchant\n",
      "Person #10: servant\n",
      "Person #11: farmer\n",
      "Person #12: laborer\n",
      "Person #13: blacksmith\n",
      "Person #14: carpenter\n",
      "Person #15: servant\n",
      "Person #16: farmer\n",
      "Person #17: weaver\n",
      "Person #18: servant\n",
      "Person #19: carpenter\n"
     ]
    }
   ],
   "source": [
    "for number, occupation in enumerate(occupations):\n",
    "    print(f\"Person #{number}: {occupation}\")\n"
   ]
  },
  {
   "cell_type": "code",
   "execution_count": 51,
   "id": "54899f1e-2ebb-47c8-b946-5cbbd7577887",
   "metadata": {},
   "outputs": [
    {
     "name": "stdout",
     "output_type": "stream",
     "text": [
      "Person #0: 45\n",
      "Person #1: 23\n",
      "Person #2: 16\n",
      "Person #3: 34\n",
      "Person #4: 64\n",
      "Person #5: 28\n",
      "Person #6: 42\n",
      "Person #7: 31\n",
      "Person #8: 27\n",
      "Person #9: 38\n",
      "Person #10: 17\n",
      "Person #11: 52\n",
      "Person #12: 29\n",
      "Person #13: 44\n",
      "Person #14: 33\n",
      "Person #15: 15\n",
      "Person #16: 61\n",
      "Person #17: 36\n",
      "Person #18: 18\n",
      "Person #19: 41\n"
     ]
    }
   ],
   "source": [
    "for number, age in enumerate(ages):\n",
    "    print(f\"Person #{number}: {age}\")\n"
   ]
  },
  {
   "cell_type": "code",
   "execution_count": 55,
   "id": "bdb8ea05-dbab-483f-9745-c504142f629a",
   "metadata": {},
   "outputs": [
    {
     "ename": "NameError",
     "evalue": "name 'birth' is not defined",
     "output_type": "error",
     "traceback": [
      "\u001b[0;31m---------------------------------------------------------------------------\u001b[0m",
      "\u001b[0;31mNameError\u001b[0m                                 Traceback (most recent call last)",
      "Cell \u001b[0;32mIn[55], line 1\u001b[0m\n\u001b[0;32m----> 1\u001b[0m \u001b[38;5;28;01mfor\u001b[39;00m number, age \u001b[38;5;129;01min\u001b[39;00m \u001b[38;5;28menumerate\u001b[39m(ages), birth \u001b[38;5;129;01min\u001b[39;00m \u001b[38;5;28menumerate\u001b[39m(birth_places):\n\u001b[1;32m      2\u001b[0m     \u001b[38;5;28mprint\u001b[39m(\u001b[38;5;124mf\u001b[39m\u001b[38;5;124m\"\u001b[39m\u001b[38;5;124mPerson #\u001b[39m\u001b[38;5;132;01m{\u001b[39;00mnumber\u001b[38;5;132;01m}\u001b[39;00m\u001b[38;5;124m: \u001b[39m\u001b[38;5;132;01m{\u001b[39;00mage\u001b[38;5;132;01m}\u001b[39;00m\u001b[38;5;124m, \u001b[39m\u001b[38;5;132;01m{\u001b[39;00mbirth\u001b[38;5;132;01m}\u001b[39;00m\u001b[38;5;124m\"\u001b[39m)\n",
      "\u001b[0;31mNameError\u001b[0m: name 'birth' is not defined"
     ]
    }
   ],
   "source": [
    "for number, age in enumerate(ages), birth in enumerate(birth_places):\n",
    "    print(f\"Person #{number}: {age}, {birth}\")"
   ]
  },
  {
   "cell_type": "code",
   "execution_count": 57,
   "id": "366b507d-ed38-4892-b6de-bcf4889cf3a1",
   "metadata": {},
   "outputs": [
    {
     "name": "stdout",
     "output_type": "stream",
     "text": [
      "Number of skilled laborers: 4\n"
     ]
    }
   ],
   "source": [
    "skilled_laborers = []\n",
    "for occupation in occupations:\n",
    "    if occupation == 'blacksmith' or occupation == 'carpenter' or occupation == 'weaver':\n",
    "        skilled_laborers.append(occupation)\n",
    "print(f\"Number of skilled laborers: {len(skilled_laborers)}\")\n"
   ]
  },
  {
   "cell_type": "code",
   "execution_count": 59,
   "id": "3a65bf1a-bc4a-47c0-979a-c7444f54f6a4",
   "metadata": {},
   "outputs": [
    {
     "name": "stdout",
     "output_type": "stream",
     "text": [
      "Number from the United Kingdom: 14\n"
     ]
    }
   ],
   "source": [
    "united_kingdom_origin = []\n",
    "for birth_place in birth_places:\n",
    "    if birth_place == 'Ireland' or birth_place == 'England' or birth_place == 'Wales':\n",
    "        united_kingdom_origin.append(birth_place)\n",
    "print(f\"Number from the United Kingdom: {len(united_kingdom_origin)}\")\n"
   ]
  },
  {
   "cell_type": "code",
   "execution_count": 63,
   "id": "fd425f0d-7297-4221-bd80-034bf33ff7a6",
   "metadata": {},
   "outputs": [
    {
     "name": "stdout",
     "output_type": "stream",
     "text": [
      "Number under 30: 8\n"
     ]
    }
   ],
   "source": [
    "under_30 = []\n",
    "for age in ages:\n",
    "    if age < 30:\n",
    "        under_30.append(age)\n",
    "print(f\"Number under 30: {len(under_30)}\")"
   ]
  },
  {
   "cell_type": "code",
   "execution_count": 69,
   "id": "15e0d834-ecbb-4521-9072-dfd5754c8fb0",
   "metadata": {},
   "outputs": [
    {
     "ename": "ValueError",
     "evalue": "not enough values to unpack (expected 3, got 2)",
     "output_type": "error",
     "traceback": [
      "\u001b[0;31m---------------------------------------------------------------------------\u001b[0m",
      "\u001b[0;31mValueError\u001b[0m                                Traceback (most recent call last)",
      "Cell \u001b[0;32mIn[69], line 1\u001b[0m\n\u001b[0;32m----> 1\u001b[0m \u001b[38;5;28;01mfor\u001b[39;00m number, age, birth_place \u001b[38;5;129;01min\u001b[39;00m \u001b[38;5;28menumerate\u001b[39m(\u001b[38;5;28mzip\u001b[39m(ages, birth_places)):\n\u001b[1;32m      2\u001b[0m     \u001b[38;5;28mprint\u001b[39m(\u001b[38;5;124mf\u001b[39m\u001b[38;5;124m\"\u001b[39m\u001b[38;5;124mPerson #\u001b[39m\u001b[38;5;132;01m{\u001b[39;00mnumber\u001b[38;5;132;01m}\u001b[39;00m\u001b[38;5;124m: \u001b[39m\u001b[38;5;132;01m{\u001b[39;00mage\u001b[38;5;132;01m}\u001b[39;00m\u001b[38;5;124m, \u001b[39m\u001b[38;5;132;01m{\u001b[39;00mbirth_place\u001b[38;5;132;01m}\u001b[39;00m\u001b[38;5;124m\"\u001b[39m)\n",
      "\u001b[0;31mValueError\u001b[0m: not enough values to unpack (expected 3, got 2)"
     ]
    }
   ],
   "source": [
    "for number, age, birth_place in enumerate(zip(ages, birth_places)):\n",
    "    print(f\"Person #{number}: {age}, {birth_place}\")"
   ]
  },
  {
   "cell_type": "code",
   "execution_count": 71,
   "id": "e0311c99-dd54-43a6-a4cb-dfd326448c70",
   "metadata": {},
   "outputs": [
    {
     "data": {
      "text/plain": [
       "Counter({'unskilled laborer': 13, 'skilled laborer': 4, 'other': 3})"
      ]
     },
     "execution_count": 71,
     "metadata": {},
     "output_type": "execute_result"
    }
   ],
   "source": [
    "skilled_unskilled = []\n",
    "for occupation in occupations:\n",
    "    if occupation == 'blacksmith' or occupation == 'carpenter' or occupation == 'weaver':\n",
    "        skilled_unskilled.append(\"skilled laborer\")\n",
    "    elif occupation == 'laborer' or occupation == 'servant' or occupation == 'farmer':\n",
    "        skilled_unskilled.append(\"unskilled laborer\")\n",
    "    else:\n",
    "        skilled_unskilled.append(\"other\")\n",
    "Counter(skilled_unskilled)\n"
   ]
  },
  {
   "cell_type": "code",
   "execution_count": 79,
   "id": "3c44c248-4067-4790-ad6a-ce3730b78f88",
   "metadata": {},
   "outputs": [
    {
     "data": {
      "text/plain": [
       "Counter({'adult': 14, 'youth': 3, 'elderly': 3})"
      ]
     },
     "execution_count": 79,
     "metadata": {},
     "output_type": "execute_result"
    }
   ],
   "source": [
    "age_group = []\n",
    "for age in ages:\n",
    "    if age < 18:\n",
    "        age_group.append(\"youth\")\n",
    "    elif age < 50:\n",
    "        age_group.append(\"adult\")\n",
    "    else:\n",
    "        age_group.append(\"elderly\")\n",
    "Counter(age_group)"
   ]
  },
  {
   "cell_type": "code",
   "execution_count": 81,
   "id": "3f33061d-6c83-459e-90b2-391d83c23019",
   "metadata": {},
   "outputs": [
    {
     "name": "stdout",
     "output_type": "stream",
     "text": [
      "Age 45, worked as farmer, born in Ireland\n",
      "Age 23, worked as servant, born in Ireland\n",
      "Age 16, worked as laborer, born in New York\n",
      "Age 34, worked as merchant, born in England\n",
      "Age 64, worked as farmer, born in Ireland\n",
      "Age 28, worked as servant, born in Germany\n",
      "Age 42, worked as teacher, born in New York\n",
      "Age 31, worked as farmer, born in Ireland\n",
      "Age 27, worked as laborer, born in Ireland\n",
      "Age 38, worked as merchant, born in Scotland\n",
      "Age 17, worked as servant, born in Ireland\n",
      "Age 52, worked as farmer, born in England\n",
      "Age 29, worked as laborer, born in Ireland\n",
      "Age 44, worked as blacksmith, born in Wales\n",
      "Age 33, worked as carpenter, born in Ireland\n",
      "Age 15, worked as servant, born in Ireland\n",
      "Age 61, worked as farmer, born in Scotland\n",
      "Age 36, worked as weaver, born in Ireland\n",
      "Age 18, worked as servant, born in Germany\n",
      "Age 41, worked as carpenter, born in Ireland\n"
     ]
    }
   ],
   "source": [
    "for age, occupation, origin in zip(ages, occupations, birth_places):\n",
    "    print(f\"Age {age}, worked as {occupation}, born in {origin}\")\n"
   ]
  },
  {
   "cell_type": "markdown",
   "id": "c0832219-fa19-4178-81bd-4eed229091c7",
   "metadata": {},
   "source": [
    "Use zip() to identify:\n",
    "\n",
    "- All Irish-born farmers\n",
    "- All merchants under 40"
   ]
  },
  {
   "cell_type": "code",
   "execution_count": 91,
   "id": "6bfd742f-8e34-417b-9783-1eef92778bfc",
   "metadata": {},
   "outputs": [
    {
     "data": {
      "text/plain": [
       "5"
      ]
     },
     "execution_count": 91,
     "metadata": {},
     "output_type": "execute_result"
    }
   ],
   "source": [
    "irish_farmers = []\n",
    "for occupation, origin in zip(occupations, birth_places):\n",
    "    if occupation == 'farmer' and birth_place == 'Ireland':\n",
    "        irish_farmers.append('Irish Farmer')\n",
    "len(irish_farmers)"
   ]
  },
  {
   "cell_type": "code",
   "execution_count": 93,
   "id": "cdcf897b-63a7-4c39-8778-3be7710f3e5e",
   "metadata": {},
   "outputs": [
    {
     "data": {
      "text/plain": [
       "2"
      ]
     },
     "execution_count": 93,
     "metadata": {},
     "output_type": "execute_result"
    }
   ],
   "source": [
    "young_merchants = []\n",
    "for age, occupation in zip(ages, occupations):\n",
    "    if age < 40 and occupation == 'merchant':\n",
    "        young_merchants.append('Merchant under 40')\n",
    "len(young_merchants)"
   ]
  },
  {
   "cell_type": "code",
   "execution_count": null,
   "id": "54edbc52-3d65-482a-b333-fcab99581ae2",
   "metadata": {},
   "outputs": [],
   "source": []
  }
 ],
 "metadata": {
  "kernelspec": {
   "display_name": "Python [conda env:base] *",
   "language": "python",
   "name": "conda-base-py"
  },
  "language_info": {
   "codemirror_mode": {
    "name": "ipython",
    "version": 3
   },
   "file_extension": ".py",
   "mimetype": "text/x-python",
   "name": "python",
   "nbconvert_exporter": "python",
   "pygments_lexer": "ipython3",
   "version": "3.12.7"
  }
 },
 "nbformat": 4,
 "nbformat_minor": 5
}
