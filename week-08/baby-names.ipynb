{
 "cells": [
  {
   "cell_type": "code",
   "execution_count": 1,
   "id": "f07d9863-d3e3-40c0-ab19-588530bc982f",
   "metadata": {},
   "outputs": [],
   "source": [
    "import pandas as pd"
   ]
  },
  {
   "cell_type": "code",
   "execution_count": 3,
   "id": "d7c8d1f4-8a24-4e6b-8e61-54dc16fea726",
   "metadata": {},
   "outputs": [],
   "source": [
    "babynames_df = pd.read_csv('baby-names.csv', delimiter=\",\")"
   ]
  },
  {
   "cell_type": "code",
   "execution_count": 5,
   "id": "6843b296-9917-4767-8725-392abe790484",
   "metadata": {},
   "outputs": [
    {
     "data": {
      "text/html": [
       "<div>\n",
       "<style scoped>\n",
       "    .dataframe tbody tr th:only-of-type {\n",
       "        vertical-align: middle;\n",
       "    }\n",
       "\n",
       "    .dataframe tbody tr th {\n",
       "        vertical-align: top;\n",
       "    }\n",
       "\n",
       "    .dataframe thead th {\n",
       "        text-align: right;\n",
       "    }\n",
       "</style>\n",
       "<table border=\"1\" class=\"dataframe\">\n",
       "  <thead>\n",
       "    <tr style=\"text-align: right;\">\n",
       "      <th></th>\n",
       "      <th>year</th>\n",
       "      <th>name</th>\n",
       "      <th>percent</th>\n",
       "      <th>sex</th>\n",
       "    </tr>\n",
       "  </thead>\n",
       "  <tbody>\n",
       "    <tr>\n",
       "      <th>0</th>\n",
       "      <td>1880</td>\n",
       "      <td>John</td>\n",
       "      <td>0.081541</td>\n",
       "      <td>boy</td>\n",
       "    </tr>\n",
       "    <tr>\n",
       "      <th>1</th>\n",
       "      <td>1880</td>\n",
       "      <td>William</td>\n",
       "      <td>0.080511</td>\n",
       "      <td>boy</td>\n",
       "    </tr>\n",
       "    <tr>\n",
       "      <th>2</th>\n",
       "      <td>1880</td>\n",
       "      <td>James</td>\n",
       "      <td>0.050057</td>\n",
       "      <td>boy</td>\n",
       "    </tr>\n",
       "    <tr>\n",
       "      <th>3</th>\n",
       "      <td>1880</td>\n",
       "      <td>Charles</td>\n",
       "      <td>0.045167</td>\n",
       "      <td>boy</td>\n",
       "    </tr>\n",
       "    <tr>\n",
       "      <th>4</th>\n",
       "      <td>1880</td>\n",
       "      <td>George</td>\n",
       "      <td>0.043292</td>\n",
       "      <td>boy</td>\n",
       "    </tr>\n",
       "    <tr>\n",
       "      <th>...</th>\n",
       "      <td>...</td>\n",
       "      <td>...</td>\n",
       "      <td>...</td>\n",
       "      <td>...</td>\n",
       "    </tr>\n",
       "    <tr>\n",
       "      <th>257995</th>\n",
       "      <td>2008</td>\n",
       "      <td>Carleigh</td>\n",
       "      <td>0.000128</td>\n",
       "      <td>girl</td>\n",
       "    </tr>\n",
       "    <tr>\n",
       "      <th>257996</th>\n",
       "      <td>2008</td>\n",
       "      <td>Iyana</td>\n",
       "      <td>0.000128</td>\n",
       "      <td>girl</td>\n",
       "    </tr>\n",
       "    <tr>\n",
       "      <th>257997</th>\n",
       "      <td>2008</td>\n",
       "      <td>Kenley</td>\n",
       "      <td>0.000127</td>\n",
       "      <td>girl</td>\n",
       "    </tr>\n",
       "    <tr>\n",
       "      <th>257998</th>\n",
       "      <td>2008</td>\n",
       "      <td>Sloane</td>\n",
       "      <td>0.000127</td>\n",
       "      <td>girl</td>\n",
       "    </tr>\n",
       "    <tr>\n",
       "      <th>257999</th>\n",
       "      <td>2008</td>\n",
       "      <td>Elianna</td>\n",
       "      <td>0.000127</td>\n",
       "      <td>girl</td>\n",
       "    </tr>\n",
       "  </tbody>\n",
       "</table>\n",
       "<p>258000 rows × 4 columns</p>\n",
       "</div>"
      ],
      "text/plain": [
       "        year      name   percent   sex\n",
       "0       1880      John  0.081541   boy\n",
       "1       1880   William  0.080511   boy\n",
       "2       1880     James  0.050057   boy\n",
       "3       1880   Charles  0.045167   boy\n",
       "4       1880    George  0.043292   boy\n",
       "...      ...       ...       ...   ...\n",
       "257995  2008  Carleigh  0.000128  girl\n",
       "257996  2008     Iyana  0.000128  girl\n",
       "257997  2008    Kenley  0.000127  girl\n",
       "257998  2008    Sloane  0.000127  girl\n",
       "257999  2008   Elianna  0.000127  girl\n",
       "\n",
       "[258000 rows x 4 columns]"
      ]
     },
     "execution_count": 5,
     "metadata": {},
     "output_type": "execute_result"
    }
   ],
   "source": [
    "babynames_df"
   ]
  },
  {
   "cell_type": "code",
   "execution_count": 7,
   "id": "3c09cc1c-76c5-4328-a454-9672d6d0ec24",
   "metadata": {},
   "outputs": [
    {
     "name": "stdout",
     "output_type": "stream",
     "text": [
      "<class 'pandas.core.frame.DataFrame'>\n",
      "RangeIndex: 258000 entries, 0 to 257999\n",
      "Data columns (total 4 columns):\n",
      " #   Column   Non-Null Count   Dtype  \n",
      "---  ------   --------------   -----  \n",
      " 0   year     258000 non-null  int64  \n",
      " 1   name     258000 non-null  object \n",
      " 2   percent  258000 non-null  float64\n",
      " 3   sex      258000 non-null  object \n",
      "dtypes: float64(1), int64(1), object(2)\n",
      "memory usage: 7.9+ MB\n"
     ]
    }
   ],
   "source": [
    "babynames_df.info()"
   ]
  },
  {
   "cell_type": "code",
   "execution_count": 9,
   "id": "a3cf61a8-6491-423c-919f-a39d84da5b4c",
   "metadata": {},
   "outputs": [
    {
     "data": {
      "text/html": [
       "<div>\n",
       "<style scoped>\n",
       "    .dataframe tbody tr th:only-of-type {\n",
       "        vertical-align: middle;\n",
       "    }\n",
       "\n",
       "    .dataframe tbody tr th {\n",
       "        vertical-align: top;\n",
       "    }\n",
       "\n",
       "    .dataframe thead th {\n",
       "        text-align: right;\n",
       "    }\n",
       "</style>\n",
       "<table border=\"1\" class=\"dataframe\">\n",
       "  <thead>\n",
       "    <tr style=\"text-align: right;\">\n",
       "      <th></th>\n",
       "      <th>year</th>\n",
       "      <th>percent</th>\n",
       "    </tr>\n",
       "  </thead>\n",
       "  <tbody>\n",
       "    <tr>\n",
       "      <th>count</th>\n",
       "      <td>258000.000000</td>\n",
       "      <td>258000.000000</td>\n",
       "    </tr>\n",
       "    <tr>\n",
       "      <th>mean</th>\n",
       "      <td>1944.000000</td>\n",
       "      <td>0.000894</td>\n",
       "    </tr>\n",
       "    <tr>\n",
       "      <th>std</th>\n",
       "      <td>37.238046</td>\n",
       "      <td>0.003016</td>\n",
       "    </tr>\n",
       "    <tr>\n",
       "      <th>min</th>\n",
       "      <td>1880.000000</td>\n",
       "      <td>0.000026</td>\n",
       "    </tr>\n",
       "    <tr>\n",
       "      <th>25%</th>\n",
       "      <td>1912.000000</td>\n",
       "      <td>0.000081</td>\n",
       "    </tr>\n",
       "    <tr>\n",
       "      <th>50%</th>\n",
       "      <td>1944.000000</td>\n",
       "      <td>0.000164</td>\n",
       "    </tr>\n",
       "    <tr>\n",
       "      <th>75%</th>\n",
       "      <td>1976.000000</td>\n",
       "      <td>0.000507</td>\n",
       "    </tr>\n",
       "    <tr>\n",
       "      <th>max</th>\n",
       "      <td>2008.000000</td>\n",
       "      <td>0.081541</td>\n",
       "    </tr>\n",
       "  </tbody>\n",
       "</table>\n",
       "</div>"
      ],
      "text/plain": [
       "                year        percent\n",
       "count  258000.000000  258000.000000\n",
       "mean     1944.000000       0.000894\n",
       "std        37.238046       0.003016\n",
       "min      1880.000000       0.000026\n",
       "25%      1912.000000       0.000081\n",
       "50%      1944.000000       0.000164\n",
       "75%      1976.000000       0.000507\n",
       "max      2008.000000       0.081541"
      ]
     },
     "execution_count": 9,
     "metadata": {},
     "output_type": "execute_result"
    }
   ],
   "source": [
    "babynames_df.describe()"
   ]
  },
  {
   "cell_type": "code",
   "execution_count": 15,
   "id": "0f72127e-35a1-4712-b1a6-45063e6ffb62",
   "metadata": {},
   "outputs": [
    {
     "data": {
      "text/html": [
       "<div>\n",
       "<style scoped>\n",
       "    .dataframe tbody tr th:only-of-type {\n",
       "        vertical-align: middle;\n",
       "    }\n",
       "\n",
       "    .dataframe tbody tr th {\n",
       "        vertical-align: top;\n",
       "    }\n",
       "\n",
       "    .dataframe thead th {\n",
       "        text-align: right;\n",
       "    }\n",
       "</style>\n",
       "<table border=\"1\" class=\"dataframe\">\n",
       "  <thead>\n",
       "    <tr style=\"text-align: right;\">\n",
       "      <th></th>\n",
       "      <th>year</th>\n",
       "      <th>name</th>\n",
       "      <th>percent</th>\n",
       "      <th>sex</th>\n",
       "    </tr>\n",
       "  </thead>\n",
       "  <tbody>\n",
       "    <tr>\n",
       "      <th>count</th>\n",
       "      <td>258000.000000</td>\n",
       "      <td>258000</td>\n",
       "      <td>258000.000000</td>\n",
       "      <td>258000</td>\n",
       "    </tr>\n",
       "    <tr>\n",
       "      <th>unique</th>\n",
       "      <td>NaN</td>\n",
       "      <td>6782</td>\n",
       "      <td>NaN</td>\n",
       "      <td>2</td>\n",
       "    </tr>\n",
       "    <tr>\n",
       "      <th>top</th>\n",
       "      <td>NaN</td>\n",
       "      <td>Jessie</td>\n",
       "      <td>NaN</td>\n",
       "      <td>boy</td>\n",
       "    </tr>\n",
       "    <tr>\n",
       "      <th>freq</th>\n",
       "      <td>NaN</td>\n",
       "      <td>258</td>\n",
       "      <td>NaN</td>\n",
       "      <td>129000</td>\n",
       "    </tr>\n",
       "    <tr>\n",
       "      <th>mean</th>\n",
       "      <td>1944.000000</td>\n",
       "      <td>NaN</td>\n",
       "      <td>0.000894</td>\n",
       "      <td>NaN</td>\n",
       "    </tr>\n",
       "    <tr>\n",
       "      <th>std</th>\n",
       "      <td>37.238046</td>\n",
       "      <td>NaN</td>\n",
       "      <td>0.003016</td>\n",
       "      <td>NaN</td>\n",
       "    </tr>\n",
       "    <tr>\n",
       "      <th>min</th>\n",
       "      <td>1880.000000</td>\n",
       "      <td>NaN</td>\n",
       "      <td>0.000026</td>\n",
       "      <td>NaN</td>\n",
       "    </tr>\n",
       "    <tr>\n",
       "      <th>25%</th>\n",
       "      <td>1912.000000</td>\n",
       "      <td>NaN</td>\n",
       "      <td>0.000081</td>\n",
       "      <td>NaN</td>\n",
       "    </tr>\n",
       "    <tr>\n",
       "      <th>50%</th>\n",
       "      <td>1944.000000</td>\n",
       "      <td>NaN</td>\n",
       "      <td>0.000164</td>\n",
       "      <td>NaN</td>\n",
       "    </tr>\n",
       "    <tr>\n",
       "      <th>75%</th>\n",
       "      <td>1976.000000</td>\n",
       "      <td>NaN</td>\n",
       "      <td>0.000507</td>\n",
       "      <td>NaN</td>\n",
       "    </tr>\n",
       "    <tr>\n",
       "      <th>max</th>\n",
       "      <td>2008.000000</td>\n",
       "      <td>NaN</td>\n",
       "      <td>0.081541</td>\n",
       "      <td>NaN</td>\n",
       "    </tr>\n",
       "  </tbody>\n",
       "</table>\n",
       "</div>"
      ],
      "text/plain": [
       "                 year    name        percent     sex\n",
       "count   258000.000000  258000  258000.000000  258000\n",
       "unique            NaN    6782            NaN       2\n",
       "top               NaN  Jessie            NaN     boy\n",
       "freq              NaN     258            NaN  129000\n",
       "mean      1944.000000     NaN       0.000894     NaN\n",
       "std         37.238046     NaN       0.003016     NaN\n",
       "min       1880.000000     NaN       0.000026     NaN\n",
       "25%       1912.000000     NaN       0.000081     NaN\n",
       "50%       1944.000000     NaN       0.000164     NaN\n",
       "75%       1976.000000     NaN       0.000507     NaN\n",
       "max       2008.000000     NaN       0.081541     NaN"
      ]
     },
     "execution_count": 15,
     "metadata": {},
     "output_type": "execute_result"
    }
   ],
   "source": [
    "babynames_df.describe(include='all')"
   ]
  },
  {
   "cell_type": "code",
   "execution_count": 19,
   "id": "49eefe10-c7e8-4944-a0d3-a7e80a491c25",
   "metadata": {},
   "outputs": [
    {
     "data": {
      "text/plain": [
       "(258000, 4)"
      ]
     },
     "execution_count": 19,
     "metadata": {},
     "output_type": "execute_result"
    }
   ],
   "source": [
    "babynames_df.shape"
   ]
  },
  {
   "cell_type": "code",
   "execution_count": 21,
   "id": "fdecdc42-fcaf-42f6-83a0-7f2bbfaaab2f",
   "metadata": {},
   "outputs": [
    {
     "data": {
      "text/plain": [
       "year       0\n",
       "name       0\n",
       "percent    0\n",
       "sex        0\n",
       "dtype: int64"
      ]
     },
     "execution_count": 21,
     "metadata": {},
     "output_type": "execute_result"
    }
   ],
   "source": [
    "babynames_df.isna().sum()"
   ]
  },
  {
   "cell_type": "markdown",
   "id": "c2e0efed-b976-454b-8042-854623da128b",
   "metadata": {},
   "source": [
    "1. Which baby names commonly span genders? (e.g. I kind of want to know the percentage of Jessie that is boy vs. girl)\n",
    "2. How has the popularity of the name Theodore changed over time?\n",
    "3. How has gender distribution changed over time?"
   ]
  },
  {
   "cell_type": "markdown",
   "id": "aca048fd-1927-4c2d-ad53-b1d002546ab6",
   "metadata": {},
   "source": [
    "**FIRST ANALYSIS: THEODORE**"
   ]
  },
  {
   "cell_type": "code",
   "execution_count": 24,
   "id": "31925c58-8f01-4b58-9e34-98968d241325",
   "metadata": {},
   "outputs": [],
   "source": [
    "theofilter = babynames_df['name'] == 'Theodore'"
   ]
  },
  {
   "cell_type": "code",
   "execution_count": 32,
   "id": "d893683e-190f-46cf-ba1c-cd1fd6954ec5",
   "metadata": {},
   "outputs": [],
   "source": [
    "theo_df = babynames_df[theofilter]"
   ]
  },
  {
   "cell_type": "code",
   "execution_count": 28,
   "id": "409203df-066a-449e-9971-518bc107270a",
   "metadata": {},
   "outputs": [
    {
     "data": {
      "text/html": [
       "<div>\n",
       "<style scoped>\n",
       "    .dataframe tbody tr th:only-of-type {\n",
       "        vertical-align: middle;\n",
       "    }\n",
       "\n",
       "    .dataframe tbody tr th {\n",
       "        vertical-align: top;\n",
       "    }\n",
       "\n",
       "    .dataframe thead th {\n",
       "        text-align: right;\n",
       "    }\n",
       "</style>\n",
       "<table border=\"1\" class=\"dataframe\">\n",
       "  <thead>\n",
       "    <tr style=\"text-align: right;\">\n",
       "      <th></th>\n",
       "      <th>year</th>\n",
       "      <th>name</th>\n",
       "      <th>percent</th>\n",
       "      <th>sex</th>\n",
       "    </tr>\n",
       "  </thead>\n",
       "  <tbody>\n",
       "    <tr>\n",
       "      <th>69</th>\n",
       "      <td>1880</td>\n",
       "      <td>Theodore</td>\n",
       "      <td>0.001959</td>\n",
       "      <td>boy</td>\n",
       "    </tr>\n",
       "    <tr>\n",
       "      <th>1078</th>\n",
       "      <td>1881</td>\n",
       "      <td>Theodore</td>\n",
       "      <td>0.001644</td>\n",
       "      <td>boy</td>\n",
       "    </tr>\n",
       "    <tr>\n",
       "      <th>2074</th>\n",
       "      <td>1882</td>\n",
       "      <td>Theodore</td>\n",
       "      <td>0.001901</td>\n",
       "      <td>boy</td>\n",
       "    </tr>\n",
       "    <tr>\n",
       "      <th>3080</th>\n",
       "      <td>1883</td>\n",
       "      <td>Theodore</td>\n",
       "      <td>0.001645</td>\n",
       "      <td>boy</td>\n",
       "    </tr>\n",
       "    <tr>\n",
       "      <th>4080</th>\n",
       "      <td>1884</td>\n",
       "      <td>Theodore</td>\n",
       "      <td>0.001719</td>\n",
       "      <td>boy</td>\n",
       "    </tr>\n",
       "    <tr>\n",
       "      <th>...</th>\n",
       "      <td>...</td>\n",
       "      <td>...</td>\n",
       "      <td>...</td>\n",
       "      <td>...</td>\n",
       "    </tr>\n",
       "    <tr>\n",
       "      <th>124312</th>\n",
       "      <td>2004</td>\n",
       "      <td>Theodore</td>\n",
       "      <td>0.000476</td>\n",
       "      <td>boy</td>\n",
       "    </tr>\n",
       "    <tr>\n",
       "      <th>125300</th>\n",
       "      <td>2005</td>\n",
       "      <td>Theodore</td>\n",
       "      <td>0.000514</td>\n",
       "      <td>boy</td>\n",
       "    </tr>\n",
       "    <tr>\n",
       "      <th>126295</th>\n",
       "      <td>2006</td>\n",
       "      <td>Theodore</td>\n",
       "      <td>0.000516</td>\n",
       "      <td>boy</td>\n",
       "    </tr>\n",
       "    <tr>\n",
       "      <th>127300</th>\n",
       "      <td>2007</td>\n",
       "      <td>Theodore</td>\n",
       "      <td>0.000513</td>\n",
       "      <td>boy</td>\n",
       "    </tr>\n",
       "    <tr>\n",
       "      <th>128294</th>\n",
       "      <td>2008</td>\n",
       "      <td>Theodore</td>\n",
       "      <td>0.000522</td>\n",
       "      <td>boy</td>\n",
       "    </tr>\n",
       "  </tbody>\n",
       "</table>\n",
       "<p>129 rows × 4 columns</p>\n",
       "</div>"
      ],
      "text/plain": [
       "        year      name   percent  sex\n",
       "69      1880  Theodore  0.001959  boy\n",
       "1078    1881  Theodore  0.001644  boy\n",
       "2074    1882  Theodore  0.001901  boy\n",
       "3080    1883  Theodore  0.001645  boy\n",
       "4080    1884  Theodore  0.001719  boy\n",
       "...      ...       ...       ...  ...\n",
       "124312  2004  Theodore  0.000476  boy\n",
       "125300  2005  Theodore  0.000514  boy\n",
       "126295  2006  Theodore  0.000516  boy\n",
       "127300  2007  Theodore  0.000513  boy\n",
       "128294  2008  Theodore  0.000522  boy\n",
       "\n",
       "[129 rows x 4 columns]"
      ]
     },
     "execution_count": 28,
     "metadata": {},
     "output_type": "execute_result"
    }
   ],
   "source": [
    "theo_df"
   ]
  },
  {
   "cell_type": "code",
   "execution_count": 34,
   "id": "0eb3bd29-6e66-44cb-8dab-67e4350b2ab4",
   "metadata": {},
   "outputs": [
    {
     "data": {
      "text/plain": [
       "year\n",
       "1880    0.001959\n",
       "1881    0.001644\n",
       "1882    0.001901\n",
       "1883    0.001645\n",
       "1884    0.001719\n",
       "          ...   \n",
       "2004    0.000476\n",
       "2005    0.000514\n",
       "2006    0.000516\n",
       "2007    0.000513\n",
       "2008    0.000522\n",
       "Name: percent, Length: 129, dtype: float64"
      ]
     },
     "execution_count": 34,
     "metadata": {},
     "output_type": "execute_result"
    }
   ],
   "source": [
    "theo_df.groupby('year')['percent'].mean()"
   ]
  },
  {
   "cell_type": "code",
   "execution_count": 76,
   "id": "3c467c59-e9e3-4f9a-b73a-ca6434da2d8d",
   "metadata": {},
   "outputs": [
    {
     "data": {
      "text/plain": [
       "<Axes: title={'center': 'Baby Names\\nPercentage of Babies Named Theodore'}, xlabel='year'>"
      ]
     },
     "execution_count": 76,
     "metadata": {},
     "output_type": "execute_result"
    },
    {
     "data": {
      "image/png": "[encoded data removed]",
      "text/plain": [
       "<Figure size 640x480 with 1 Axes>"
      ]
     },
     "metadata": {},
     "output_type": "display_data"
    }
   ],
   "source": [
    "theo_df.groupby('year')['percent'].mean().plot(title = 'Baby Names\\nPercentage of Babies Named Theodore')"
   ]
  },
  {
   "cell_type": "markdown",
   "id": "a7a2fae3-bd0d-4a32-8334-804dc8810e7c",
   "metadata": {},
   "source": [
    "**SECOND ANALYSIS: JESSIE**"
   ]
  },
  {
   "cell_type": "code",
   "execution_count": 40,
   "id": "23071a71-c8f6-41a7-a752-40646a50806d",
   "metadata": {},
   "outputs": [],
   "source": [
    "jessiefilter = babynames_df['name'] == 'Jessie'"
   ]
  },
  {
   "cell_type": "code",
   "execution_count": 45,
   "id": "b10d2c73-0943-4d89-bb9f-676ddde815fb",
   "metadata": {},
   "outputs": [],
   "source": [
    "jessie_df = babynames_df[jessiefilter]"
   ]
  },
  {
   "cell_type": "code",
   "execution_count": 51,
   "id": "49969dd1-5be9-427e-8eeb-2b9aa7a819f9",
   "metadata": {},
   "outputs": [
    {
     "data": {
      "text/plain": [
       "sex\n",
       "boy     129\n",
       "girl    129\n",
       "Name: name, dtype: int64"
      ]
     },
     "execution_count": 51,
     "metadata": {},
     "output_type": "execute_result"
    }
   ],
   "source": [
    "jessie_df.groupby('sex').count()['name']"
   ]
  },
  {
   "cell_type": "code",
   "execution_count": 53,
   "id": "f2be4396-be3f-4137-91d1-34c1a6707e3c",
   "metadata": {},
   "outputs": [
    {
     "data": {
      "text/plain": [
       "year\n",
       "1880    2\n",
       "1881    2\n",
       "1882    2\n",
       "1883    2\n",
       "1884    2\n",
       "       ..\n",
       "2004    2\n",
       "2005    2\n",
       "2006    2\n",
       "2007    2\n",
       "2008    2\n",
       "Name: name, Length: 129, dtype: int64"
      ]
     },
     "execution_count": 53,
     "metadata": {},
     "output_type": "execute_result"
    }
   ],
   "source": [
    "jessie_df.groupby('year')['name'].count()"
   ]
  },
  {
   "cell_type": "code",
   "execution_count": 55,
   "id": "b2f75f4e-7ba2-425a-a6e7-d7b9ec86fe19",
   "metadata": {},
   "outputs": [
    {
     "data": {
      "text/html": [
       "<div>\n",
       "<style scoped>\n",
       "    .dataframe tbody tr th:only-of-type {\n",
       "        vertical-align: middle;\n",
       "    }\n",
       "\n",
       "    .dataframe tbody tr th {\n",
       "        vertical-align: top;\n",
       "    }\n",
       "\n",
       "    .dataframe thead th {\n",
       "        text-align: right;\n",
       "    }\n",
       "</style>\n",
       "<table border=\"1\" class=\"dataframe\">\n",
       "  <thead>\n",
       "    <tr style=\"text-align: right;\">\n",
       "      <th></th>\n",
       "      <th>year</th>\n",
       "      <th>name</th>\n",
       "      <th>percent</th>\n",
       "      <th>sex</th>\n",
       "    </tr>\n",
       "  </thead>\n",
       "  <tbody>\n",
       "    <tr>\n",
       "      <th>114275</th>\n",
       "      <td>1994</td>\n",
       "      <td>Jessie</td>\n",
       "      <td>0.000484</td>\n",
       "      <td>boy</td>\n",
       "    </tr>\n",
       "    <tr>\n",
       "      <th>239253</th>\n",
       "      <td>1990</td>\n",
       "      <td>Jessie</td>\n",
       "      <td>0.000543</td>\n",
       "      <td>girl</td>\n",
       "    </tr>\n",
       "    <tr>\n",
       "      <th>123410</th>\n",
       "      <td>2003</td>\n",
       "      <td>Jessie</td>\n",
       "      <td>0.000299</td>\n",
       "      <td>boy</td>\n",
       "    </tr>\n",
       "    <tr>\n",
       "      <th>183128</th>\n",
       "      <td>1934</td>\n",
       "      <td>Jessie</td>\n",
       "      <td>0.001656</td>\n",
       "      <td>girl</td>\n",
       "    </tr>\n",
       "    <tr>\n",
       "      <th>1090</th>\n",
       "      <td>1881</td>\n",
       "      <td>Jessie</td>\n",
       "      <td>0.001320</td>\n",
       "      <td>boy</td>\n",
       "    </tr>\n",
       "    <tr>\n",
       "      <th>112272</th>\n",
       "      <td>1992</td>\n",
       "      <td>Jessie</td>\n",
       "      <td>0.000500</td>\n",
       "      <td>boy</td>\n",
       "    </tr>\n",
       "    <tr>\n",
       "      <th>178109</th>\n",
       "      <td>1929</td>\n",
       "      <td>Jessie</td>\n",
       "      <td>0.001950</td>\n",
       "      <td>girl</td>\n",
       "    </tr>\n",
       "    <tr>\n",
       "      <th>70201</th>\n",
       "      <td>1950</td>\n",
       "      <td>Jessie</td>\n",
       "      <td>0.000560</td>\n",
       "      <td>boy</td>\n",
       "    </tr>\n",
       "    <tr>\n",
       "      <th>103203</th>\n",
       "      <td>1983</td>\n",
       "      <td>Jessie</td>\n",
       "      <td>0.000624</td>\n",
       "      <td>boy</td>\n",
       "    </tr>\n",
       "    <tr>\n",
       "      <th>236214</th>\n",
       "      <td>1987</td>\n",
       "      <td>Jessie</td>\n",
       "      <td>0.000653</td>\n",
       "      <td>girl</td>\n",
       "    </tr>\n",
       "  </tbody>\n",
       "</table>\n",
       "</div>"
      ],
      "text/plain": [
       "        year    name   percent   sex\n",
       "114275  1994  Jessie  0.000484   boy\n",
       "239253  1990  Jessie  0.000543  girl\n",
       "123410  2003  Jessie  0.000299   boy\n",
       "183128  1934  Jessie  0.001656  girl\n",
       "1090    1881  Jessie  0.001320   boy\n",
       "112272  1992  Jessie  0.000500   boy\n",
       "178109  1929  Jessie  0.001950  girl\n",
       "70201   1950  Jessie  0.000560   boy\n",
       "103203  1983  Jessie  0.000624   boy\n",
       "236214  1987  Jessie  0.000653  girl"
      ]
     },
     "execution_count": 55,
     "metadata": {},
     "output_type": "execute_result"
    }
   ],
   "source": [
    "jessie_df.sample(10)"
   ]
  },
  {
   "cell_type": "code",
   "execution_count": 72,
   "id": "83a34e2b-f014-45a5-8a38-9d2c0f9cc1c9",
   "metadata": {},
   "outputs": [
    {
     "data": {
      "text/html": [
       "<div>\n",
       "<style scoped>\n",
       "    .dataframe tbody tr th:only-of-type {\n",
       "        vertical-align: middle;\n",
       "    }\n",
       "\n",
       "    .dataframe tbody tr th {\n",
       "        vertical-align: top;\n",
       "    }\n",
       "\n",
       "    .dataframe thead th {\n",
       "        text-align: right;\n",
       "    }\n",
       "</style>\n",
       "<table border=\"1\" class=\"dataframe\">\n",
       "  <thead>\n",
       "    <tr style=\"text-align: right;\">\n",
       "      <th></th>\n",
       "      <th>year</th>\n",
       "      <th>name</th>\n",
       "      <th>percent</th>\n",
       "      <th>sex</th>\n",
       "    </tr>\n",
       "  </thead>\n",
       "  <tbody>\n",
       "    <tr>\n",
       "      <th>110230</th>\n",
       "      <td>1990</td>\n",
       "      <td>Jessie</td>\n",
       "      <td>0.000584</td>\n",
       "      <td>boy</td>\n",
       "    </tr>\n",
       "    <tr>\n",
       "      <th>239253</th>\n",
       "      <td>1990</td>\n",
       "      <td>Jessie</td>\n",
       "      <td>0.000543</td>\n",
       "      <td>girl</td>\n",
       "    </tr>\n",
       "  </tbody>\n",
       "</table>\n",
       "</div>"
      ],
      "text/plain": [
       "        year    name   percent   sex\n",
       "110230  1990  Jessie  0.000584   boy\n",
       "239253  1990  Jessie  0.000543  girl"
      ]
     },
     "execution_count": 72,
     "metadata": {},
     "output_type": "execute_result"
    }
   ],
   "source": [
    "jessie_df[jessie_df['year'] == 1990]"
   ]
  },
  {
   "cell_type": "code",
   "execution_count": 90,
   "id": "dbdf427f-7d99-4899-a3e0-ea45740350c3",
   "metadata": {},
   "outputs": [],
   "source": [
    "jessiegirl_filter = jessie_df['sex'] == 'girl'\n",
    "jessieboy_filter = jessie_df['sex'] == 'boy'\n",
    "jessiegirl_df = jessie_df[jessiegirl_filter]\n",
    "jessieboy_df = jessie_df[jessieboy_filter]"
   ]
  },
  {
   "cell_type": "code",
   "execution_count": 96,
   "id": "f2522033-9bbf-4bc2-9506-0cc0331a6a8b",
   "metadata": {},
   "outputs": [],
   "source": [
    "girljessie = jessiegirl_df.groupby('year')['percent'].mean()\n",
    "boyjessie = jessieboy_df.groupby('year')['percent'].mean()"
   ]
  },
  {
   "cell_type": "code",
   "execution_count": 102,
   "id": "eb8a22b9-f135-4d65-8515-6e70905c9d9b",
   "metadata": {},
   "outputs": [
    {
     "data": {
      "text/plain": [
       "<Axes: title={'center': 'Jessie Boy vs. Girl'}, xlabel='year'>"
      ]
     },
     "execution_count": 102,
     "metadata": {},
     "output_type": "execute_result"
    },
    {
     "data": {
      "image/png": "[encoded data removed]",
      "text/plain": [
       "<Figure size 640x480 with 1 Axes>"
      ]
     },
     "metadata": {},
     "output_type": "display_data"
    }
   ],
   "source": [
    "ax = girljessie.plot(kind='line', legend= True, title=\"Jessie Boy vs. Girl\")\n",
    "boyjessie.plot(ax=ax, legend = True)"
   ]
  },
  {
   "cell_type": "markdown",
   "id": "9b6a49b8-8a4d-46fd-aafb-979f50042b1b",
   "metadata": {},
   "source": [
    "**MOVING TO VARIETY OF BOY VS GIRL NAMES**"
   ]
  },
  {
   "cell_type": "code",
   "execution_count": 108,
   "id": "3651f6b1-5b61-4bbe-b556-8487291ddb58",
   "metadata": {},
   "outputs": [],
   "source": [
    "boy_filter = babynames_df['sex'] == 'boy'\n",
    "girl_filter = babynames_df['sex'] == 'girl'\n",
    "girl_df = babynames_df[girl_filter]\n",
    "boy_df = babynames_df[boy_filter]"
   ]
  },
  {
   "cell_type": "code",
   "execution_count": 110,
   "id": "a644da9f-4049-4d27-8d9e-090a87052298",
   "metadata": {},
   "outputs": [
    {
     "data": {
      "text/html": [
       "<div>\n",
       "<style scoped>\n",
       "    .dataframe tbody tr th:only-of-type {\n",
       "        vertical-align: middle;\n",
       "    }\n",
       "\n",
       "    .dataframe tbody tr th {\n",
       "        vertical-align: top;\n",
       "    }\n",
       "\n",
       "    .dataframe thead th {\n",
       "        text-align: right;\n",
       "    }\n",
       "</style>\n",
       "<table border=\"1\" class=\"dataframe\">\n",
       "  <thead>\n",
       "    <tr style=\"text-align: right;\">\n",
       "      <th></th>\n",
       "      <th>name</th>\n",
       "      <th>percent</th>\n",
       "      <th>sex</th>\n",
       "    </tr>\n",
       "    <tr>\n",
       "      <th>year</th>\n",
       "      <th></th>\n",
       "      <th></th>\n",
       "      <th></th>\n",
       "    </tr>\n",
       "  </thead>\n",
       "  <tbody>\n",
       "    <tr>\n",
       "      <th>1880</th>\n",
       "      <td>1000</td>\n",
       "      <td>1000</td>\n",
       "      <td>1000</td>\n",
       "    </tr>\n",
       "    <tr>\n",
       "      <th>1881</th>\n",
       "      <td>1000</td>\n",
       "      <td>1000</td>\n",
       "      <td>1000</td>\n",
       "    </tr>\n",
       "    <tr>\n",
       "      <th>1882</th>\n",
       "      <td>1000</td>\n",
       "      <td>1000</td>\n",
       "      <td>1000</td>\n",
       "    </tr>\n",
       "    <tr>\n",
       "      <th>1883</th>\n",
       "      <td>1000</td>\n",
       "      <td>1000</td>\n",
       "      <td>1000</td>\n",
       "    </tr>\n",
       "    <tr>\n",
       "      <th>1884</th>\n",
       "      <td>1000</td>\n",
       "      <td>1000</td>\n",
       "      <td>1000</td>\n",
       "    </tr>\n",
       "    <tr>\n",
       "      <th>...</th>\n",
       "      <td>...</td>\n",
       "      <td>...</td>\n",
       "      <td>...</td>\n",
       "    </tr>\n",
       "    <tr>\n",
       "      <th>2004</th>\n",
       "      <td>1000</td>\n",
       "      <td>1000</td>\n",
       "      <td>1000</td>\n",
       "    </tr>\n",
       "    <tr>\n",
       "      <th>2005</th>\n",
       "      <td>1000</td>\n",
       "      <td>1000</td>\n",
       "      <td>1000</td>\n",
       "    </tr>\n",
       "    <tr>\n",
       "      <th>2006</th>\n",
       "      <td>1000</td>\n",
       "      <td>1000</td>\n",
       "      <td>1000</td>\n",
       "    </tr>\n",
       "    <tr>\n",
       "      <th>2007</th>\n",
       "      <td>1000</td>\n",
       "      <td>1000</td>\n",
       "      <td>1000</td>\n",
       "    </tr>\n",
       "    <tr>\n",
       "      <th>2008</th>\n",
       "      <td>1000</td>\n",
       "      <td>1000</td>\n",
       "      <td>1000</td>\n",
       "    </tr>\n",
       "  </tbody>\n",
       "</table>\n",
       "<p>129 rows × 3 columns</p>\n",
       "</div>"
      ],
      "text/plain": [
       "      name  percent   sex\n",
       "year                     \n",
       "1880  1000     1000  1000\n",
       "1881  1000     1000  1000\n",
       "1882  1000     1000  1000\n",
       "1883  1000     1000  1000\n",
       "1884  1000     1000  1000\n",
       "...    ...      ...   ...\n",
       "2004  1000     1000  1000\n",
       "2005  1000     1000  1000\n",
       "2006  1000     1000  1000\n",
       "2007  1000     1000  1000\n",
       "2008  1000     1000  1000\n",
       "\n",
       "[129 rows x 3 columns]"
      ]
     },
     "execution_count": 110,
     "metadata": {},
     "output_type": "execute_result"
    }
   ],
   "source": [
    "girl_df.groupby('year').count()"
   ]
  },
  {
   "cell_type": "markdown",
   "id": "56ec3354-d6a4-4cb2-b885-c7d8d28541a6",
   "metadata": {},
   "source": [
    "*lol this was a dumb question would have helped to read the background, top 1000 names means there are 1000 of each. makes me wonder if the percentage is percentage of total babies still though*"
   ]
  },
  {
   "cell_type": "code",
   "execution_count": null,
   "id": "0fb08540-1112-4df3-ab70-0976a827ba24",
   "metadata": {},
   "outputs": [],
   "source": [
    "**"
   ]
  },
  {
   "cell_type": "code",
   "execution_count": 131,
   "id": "60dffce5-6b5c-48f4-9627-c9901ccee72f",
   "metadata": {},
   "outputs": [
    {
     "data": {
      "text/plain": [
       "name\n",
       "Jessie       258\n",
       "Leslie       247\n",
       "Guadalupe    244\n",
       "Jean         244\n",
       "Lee          240\n",
       "James        239\n",
       "John         238\n",
       "William      237\n",
       "Robert       235\n",
       "Francis      229\n",
       "Name: count, dtype: int64"
      ]
     },
     "execution_count": 131,
     "metadata": {},
     "output_type": "execute_result"
    }
   ],
   "source": [
    "babynames_df['name'].value_counts()[:10]"
   ]
  },
  {
   "cell_type": "code",
   "execution_count": null,
   "id": "39baf935-7132-4799-b69e-3d72beb21238",
   "metadata": {},
   "outputs": [],
   "source": []
  }
 ],
 "metadata": {
  "kernelspec": {
   "display_name": "Python [conda env:base] *",
   "language": "python",
   "name": "conda-base-py"
  },
  "language_info": {
   "codemirror_mode": {
    "name": "ipython",
    "version": 3
   },
   "file_extension": ".py",
   "mimetype": "text/x-python",
   "name": "python",
   "nbconvert_exporter": "python",
   "pygments_lexer": "ipython3",
   "version": "3.12.7"
  }
 },
 "nbformat": 4,
 "nbformat_minor": 5
}
