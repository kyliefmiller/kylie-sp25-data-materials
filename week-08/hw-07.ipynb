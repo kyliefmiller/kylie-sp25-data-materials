{
 "cells": [
  {
   "cell_type": "markdown",
   "id": "845b1ca9-0e50-42b0-9544-a0499e983f8b",
   "metadata": {},
   "source": [
    "# Homework 07\n"
   ]
  },
  {
   "cell_type": "markdown",
   "id": "7888a2ab",
   "metadata": {},
   "source": [
    "### ⚠️ Before you start ⚠️\n",
    "\n",
    "_Duplicate this Jupyter Notebook in your `week-08` folder (right-click -> Duplicate) and then add your last name to the beginning of it (ie. `blevins-hw-07.ipynb` - otherwise you risk having all your work overwritten when you try to sync your GitHub repository with your instructor's repository._\n"
   ]
  },
  {
   "cell_type": "markdown",
   "id": "27c2e0ce-b956-45bb-8919-2496b0cd7580",
   "metadata": {},
   "source": [
    "---\n"
   ]
  },
  {
   "cell_type": "markdown",
   "id": "a435628a-7885-481d-b123-a256bdcdb253",
   "metadata": {},
   "source": [
    "We're going to be practing using the Pandas library to explore another dataset: a famouse collection of information about some passengers on board the _Titanic_. To find out more information about this dataset look at the data dictionary on this page: <https://www.kaggle.com/c/titanic/data#:~:text=should%20look%20like.-,data%20dictionary,-Variable>\n"
   ]
  },
  {
   "cell_type": "markdown",
   "id": "62ee83c4-b147-46ce-bc4a-e44a0295e0c2",
   "metadata": {},
   "source": [
    "**Import the pandas library.**\n"
   ]
  },
  {
   "cell_type": "code",
   "execution_count": null,
   "id": "899d19f5-8ac5-475e-9cd1-b78b3a425145",
   "metadata": {},
   "outputs": [],
   "source": [
    "#Your Code Here\n"
   ]
  },
  {
   "cell_type": "markdown",
   "id": "4f65f632-0cfe-41f9-8ca5-fadbb569e82e",
   "metadata": {},
   "source": [
    "**Read in the CSV file.**\n"
   ]
  },
  {
   "cell_type": "code",
   "execution_count": null,
   "id": "9ed7d0d8-1b36-4b2e-9f9d-e2976efd3de0",
   "metadata": {},
   "outputs": [],
   "source": [
    "#Your Code Here"
   ]
  },
  {
   "cell_type": "markdown",
   "id": "4d8991d1-b531-41f1-9d3a-ed4f2da3a265",
   "metadata": {},
   "source": [
    "**Display the first 12 rows of your dataset.**\n"
   ]
  },
  {
   "cell_type": "code",
   "execution_count": null,
   "id": "8cda445f-2fa1-4763-960d-5db2d4cbf502",
   "metadata": {},
   "outputs": [],
   "source": [
    "#Your Code Here"
   ]
  },
  {
   "cell_type": "markdown",
   "id": "44e810b5-5b60-4646-bbb1-05b0b28e52a7",
   "metadata": {},
   "source": [
    "**What are the different data types contained in each column?**\n"
   ]
  },
  {
   "cell_type": "code",
   "execution_count": null,
   "id": "eb1c3b4f-19db-4d0d-81af-97b5c7fd1b90",
   "metadata": {},
   "outputs": [],
   "source": [
    "#Your Code Here\n"
   ]
  },
  {
   "cell_type": "markdown",
   "id": "c0eb2837-04a9-40fd-8067-4f33ca8a91d6",
   "metadata": {},
   "source": [
    "**In your own words, what is the difference in the data types for `Survived` vs. `Age` columns?**\n",
    "\n",
    "_Your Answer Here_\n"
   ]
  },
  {
   "cell_type": "markdown",
   "id": "9baf81f8-0f64-4472-92ee-ce434fa55a55",
   "metadata": {},
   "source": [
    "**Use the `.isna()` or `.notna()` methods in conjunction with a filter to only select rows from your dataframe consisting of passengers for which we have information about the cabin they were in.**\n"
   ]
  },
  {
   "cell_type": "code",
   "execution_count": null,
   "id": "966a8c73-015e-4e38-808e-f5c49123714b",
   "metadata": {},
   "outputs": [],
   "source": [
    "#Your Code Here\n"
   ]
  },
  {
   "cell_type": "markdown",
   "id": "9c774be7-ba2c-4aee-8a92-38d8b7522ea8",
   "metadata": {},
   "source": [
    "**What percentage of rows (passengers) in the dataset have information about their cabin number?**\n"
   ]
  },
  {
   "cell_type": "code",
   "execution_count": null,
   "id": "3cd6735d-a602-45eb-92bb-7436afe7eeb5",
   "metadata": {},
   "outputs": [],
   "source": [
    "#Your Code Here\n"
   ]
  },
  {
   "cell_type": "markdown",
   "id": "d288ff00-bdd5-4efe-9ed2-da0b52dcdccc",
   "metadata": {},
   "source": [
    "Some of our columns are hard to read. **Rename the following columns:**\n",
    "\n",
    "- The`SibSp` column contains information about whether the passenger had family on board (siblings or spouses). **Rename the column `siblings_spouses`.**\n",
    "- The `Pclass` column stands for the ticket class (1st, 2nd, or 3rd). **Rename the column `ticket_class`.**\n",
    "\n",
    "_Hint: remember to change it permanently rather than temporarily_.\n"
   ]
  },
  {
   "cell_type": "code",
   "execution_count": null,
   "id": "c54d00f4-b40b-41db-b809-8f65983b7624",
   "metadata": {},
   "outputs": [],
   "source": [
    "#Your Code Here\n"
   ]
  },
  {
   "cell_type": "markdown",
   "id": "2cf2ee51-8c19-4716-a128-e79573a80dc0",
   "metadata": {},
   "source": [
    "**Which passengers bought the nine most expensive tickets?**\n"
   ]
  },
  {
   "cell_type": "code",
   "execution_count": null,
   "id": "e82d7765-4454-4f94-857a-d0d2b7a12ae6",
   "metadata": {},
   "outputs": [],
   "source": [
    "#Your Code Here\n"
   ]
  },
  {
   "cell_type": "markdown",
   "id": "9f9dca5b-c306-46b3-a5c5-c406678df89a",
   "metadata": {},
   "source": [
    "**What was the median age of passengers on the Titanic?**\n"
   ]
  },
  {
   "cell_type": "code",
   "execution_count": null,
   "id": "016b7d91-132a-4783-9ee3-594bacfa1667",
   "metadata": {},
   "outputs": [],
   "source": [
    "#Your Code Here\n"
   ]
  },
  {
   "cell_type": "markdown",
   "id": "09917036-e2f5-44ff-8d82-50473bffd799",
   "metadata": {},
   "source": [
    "**Who was the oldest passenger on the Titanic in our dataset?**\n"
   ]
  },
  {
   "cell_type": "code",
   "execution_count": null,
   "id": "785b327e-3fcc-43da-962d-f52c54df59e2",
   "metadata": {},
   "outputs": [],
   "source": [
    "#Your Code Here\n"
   ]
  },
  {
   "cell_type": "markdown",
   "id": "e291e766-203e-4a7f-9e39-01a900531012",
   "metadata": {},
   "source": [
    "**Use the `groupby` function to count how many passengers bought each class of ticket.**\n"
   ]
  },
  {
   "cell_type": "code",
   "execution_count": null,
   "id": "6de3655e-a3e4-4f35-b2af-1b1c638bfd58",
   "metadata": {},
   "outputs": [],
   "source": [
    "#Your Code Here\n"
   ]
  },
  {
   "cell_type": "markdown",
   "id": "3f5209cf-acf0-422f-a810-4ad8434a8c65",
   "metadata": {},
   "source": [
    "**Use the `groupby` function to group passengers into different classes of ticket and then calculate the median age of passengers within each ticket class.**\n"
   ]
  },
  {
   "cell_type": "code",
   "execution_count": null,
   "id": "026ce8a0-7af8-4513-88b0-c9cb6580592b",
   "metadata": {},
   "outputs": [],
   "source": [
    "#Your Code Here\n"
   ]
  },
  {
   "cell_type": "markdown",
   "id": "bddd972e-4eb8-4371-9fc4-14cecbf311c9",
   "metadata": {},
   "source": [
    "**Use the `groupby` function to group passengers into different classes of ticket and then calculate the median ticket fare within each ticket class.**\n"
   ]
  },
  {
   "cell_type": "markdown",
   "id": "188bdffb",
   "metadata": {},
   "source": []
  },
  {
   "cell_type": "code",
   "execution_count": null,
   "id": "13387d40-7a99-4a12-9c12-afd33a9c7f7d",
   "metadata": {},
   "outputs": [],
   "source": [
    "#Your Code Here\n"
   ]
  },
  {
   "cell_type": "markdown",
   "id": "f9ac9ed4",
   "metadata": {},
   "source": [
    "## Bonus Questions\n"
   ]
  },
  {
   "cell_type": "markdown",
   "id": "dab99a73",
   "metadata": {},
   "source": [
    "**Bonus: Make the Survived column more legible. Write a function and apply it to the dataframe that changes the 0 and 1 values to \"Died\" and \"Lived.\" Then display the first 10 rows to see if it worked.**\n",
    "\n",
    "Note: when changing the values in columns, you might make mistakes. That's okay! You can always reload the dataframe from the original file to start over. When trying to answer this questions, each time you run it I'm going to have you start with the \"original\" dataframe so that you don't have to go back to the beginning of the notebook and run all the cells again.\n"
   ]
  },
  {
   "cell_type": "code",
   "execution_count": null,
   "id": "1823a48e",
   "metadata": {},
   "outputs": [],
   "source": [
    "titanic_df=pd.read_csv('titanic.csv')\n",
    "\n",
    "# Your Code Here\n"
   ]
  },
  {
   "cell_type": "markdown",
   "id": "99de3828",
   "metadata": {},
   "source": [
    "**Bonus: What percentage of people survived the Titanic?**\n"
   ]
  },
  {
   "cell_type": "code",
   "execution_count": 15,
   "id": "6fc952e2-f346-4b8d-bbba-35c672705fd8",
   "metadata": {},
   "outputs": [],
   "source": [
    "#Your Code Here\n"
   ]
  },
  {
   "cell_type": "markdown",
   "id": "9354b6ec-cf93-4f98-8ffc-724dcd08c72c",
   "metadata": {},
   "source": [
    "**Bonus: Make a pie chart visualizing the proportion of people who survived the Titanic.** Hint: use the total number of rows in the dataframe to calculate the percentage.\n"
   ]
  },
  {
   "cell_type": "code",
   "execution_count": 16,
   "id": "92b3cb7c-a7c9-420b-b019-cf346003c85d",
   "metadata": {},
   "outputs": [],
   "source": [
    "#Your Code Here\n",
    "\n"
   ]
  }
 ],
 "metadata": {
  "kernelspec": {
   "display_name": "base",
   "language": "python",
   "name": "python3"
  },
  "language_info": {
   "codemirror_mode": {
    "name": "ipython",
    "version": 3
   },
   "file_extension": ".py",
   "mimetype": "text/x-python",
   "name": "python",
   "nbconvert_exporter": "python",
   "pygments_lexer": "ipython3",
   "version": "3.12.7"
  }
 },
 "nbformat": 4,
 "nbformat_minor": 5
}
