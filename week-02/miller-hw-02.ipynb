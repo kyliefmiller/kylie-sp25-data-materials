{
 "cells": [
  {
   "cell_type": "markdown",
   "metadata": {},
   "source": [
    "# Homework 02"
   ]
  },
  {
   "cell_type": "markdown",
   "metadata": {},
   "source": [
    "### ⚠️ Before you start ⚠️ \n",
    "_Duplicate this Jupyter Notebook in your `week-02` folder (right-click -> Duplicate) and then your last name to the beginning of it (ie. `hw-02-blevins.ipynb` - otherwise you risk having all your work overwritten when you try to sync your GitHub repository with your instructor's repository._ "
   ]
  },
  {
   "cell_type": "markdown",
   "metadata": {},
   "source": [
    "⚠️ _No, seriously: check the name of this file. Is it the copy you made? (ie. `hw-02-blevins.ipynb`). If so, you can proceed_ ⚠️"
   ]
  },
  {
   "cell_type": "markdown",
   "metadata": {},
   "source": [
    "---"
   ]
  },
  {
   "cell_type": "markdown",
   "metadata": {
    "tags": []
   },
   "source": [
    "Student Name: Kylie Miller"
   ]
  },
  {
   "cell_type": "markdown",
   "metadata": {},
   "source": [
    "---\n",
    "This homework assignment will help you review Jupyter Notebooks and Python variables and data types. Answer the questions below and follow the instructions. When you're finished, you should follow [the instructions on the course website](https://cblevins.github.io/sp25-data/assignments/coding-homework/) to submit it to Canvas."
   ]
  },
  {
   "cell_type": "markdown",
   "metadata": {},
   "source": [
    "---"
   ]
  },
  {
   "cell_type": "markdown",
   "metadata": {},
   "source": [
    "## Madlibs with Christine Darden"
   ]
  },
  {
   "cell_type": "markdown",
   "metadata": {},
   "source": [
    "**1.** The cell below contains the first line of Christine Darden's Wikipedia page. Convert this cell to \"Markdown\" and then make the following revisions:\n",
    "1. Make the words \"Christine Darden\" bolded.\n",
    "2. Add a hyperlink to the word \"Wikipedia\" so that when a user clicks on it they will go to her Wikipedia page: https://en.wikipedia.org/wiki/Christine_Darden.\n",
    "3. Add an unordered (bulleted) list of the three universities she attended (her three alma maters listed on her Wikipedia page).\n",
    "\n",
    "(For help, see [Jupyter Tips & Tricks](https://melaniewalsh.github.io/Intro-Cultural-Analytics/02-Python/EXTRA-Jupyter-Tips-Tricks.html))"
   ]
  },
  {
   "cell_type": "markdown",
   "metadata": {},
   "source": [
    "**Christine Darden** (born September 10, 1942, as Christine Mann) is an American mathematician,\n",
    "data analyst, and aeronautical engineer who devoted much of her 40-year career in aerodynamics\n",
    "at NASA to researching supersonic flight and sonic booms.\n",
    "\n",
    "*Universities Attended:*\n",
    "* Hampton University\n",
    "* Virginia State University\n",
    "* George Washington University\n",
    "\n",
    "–[Wikipedia](https://en.wikipedia.org/wiki/Christine_Darden)"
   ]
  },
  {
   "cell_type": "markdown",
   "metadata": {},
   "source": [
    "**2.** Go to Christine Darden's Wikipedia page and find her name, birth year, and occupation. Assign these values to the variables: `name`, `birth_year`, and `occupation`. You should also assign the current year to the variable `current_year`."
   ]
  },
  {
   "cell_type": "code",
   "execution_count": 12,
   "metadata": {},
   "outputs": [],
   "source": [
    "name = \"Christine Darden\"\n",
    "birth_year = 1942\n",
    "occupation = \"technical leader of NASA's Sonic Boom Group\"\n",
    "current_year = 2025"
   ]
  },
  {
   "cell_type": "markdown",
   "metadata": {},
   "source": [
    "**3.** Double check to make sure that you have made the right kind of variables. Write four lines of code to print out that the following variable **types**: \n",
    "- `name` is a string\n",
    "- `occupation` is a string\n",
    "- `birth_year` is an integer \n",
    "- `current_year` is an integers"
   ]
  },
  {
   "cell_type": "code",
   "execution_count": 14,
   "metadata": {},
   "outputs": [
    {
     "data": {
      "text/plain": [
       "str"
      ]
     },
     "execution_count": 14,
     "metadata": {},
     "output_type": "execute_result"
    }
   ],
   "source": [
    "type(name)"
   ]
  },
  {
   "cell_type": "code",
   "execution_count": 15,
   "metadata": {},
   "outputs": [
    {
     "data": {
      "text/plain": [
       "str"
      ]
     },
     "execution_count": 15,
     "metadata": {},
     "output_type": "execute_result"
    }
   ],
   "source": [
    "type(occupation)"
   ]
  },
  {
   "cell_type": "code",
   "execution_count": 16,
   "metadata": {},
   "outputs": [
    {
     "data": {
      "text/plain": [
       "int"
      ]
     },
     "execution_count": 16,
     "metadata": {},
     "output_type": "execute_result"
    }
   ],
   "source": [
    "type(birth_year)"
   ]
  },
  {
   "cell_type": "code",
   "execution_count": 17,
   "metadata": {},
   "outputs": [
    {
     "data": {
      "text/plain": [
       "int"
      ]
     },
     "execution_count": 17,
     "metadata": {},
     "output_type": "execute_result"
    }
   ],
   "source": [
    "type(current_year)"
   ]
  },
  {
   "cell_type": "markdown",
   "metadata": {},
   "source": [
    "**4.** Calculate Christine Darden's current age in years by using two of the variables above and [a mathematical operator](https://melaniewalsh.github.io/Intro-Cultural-Analytics/02-Python/05-Data-Types.html#integers-floats). (Using this crude method, her calculated age might not match her true age exactly.)"
   ]
  },
  {
   "cell_type": "code",
   "execution_count": 19,
   "metadata": {},
   "outputs": [
    {
     "name": "stdout",
     "output_type": "stream",
     "text": [
      "83\n"
     ]
    }
   ],
   "source": [
    "age = current_year - birth_year\n",
    "print(age)"
   ]
  },
  {
   "cell_type": "markdown",
   "metadata": {},
   "source": [
    "**5.** Assign the Python expression above to a new variable called `current_age`."
   ]
  },
  {
   "cell_type": "code",
   "execution_count": 21,
   "metadata": {},
   "outputs": [
    {
     "name": "stdout",
     "output_type": "stream",
     "text": [
      "83\n"
     ]
    }
   ],
   "source": [
    "current_age = current_year - birth_year\n",
    "print(current_age)"
   ]
  },
  {
   "cell_type": "markdown",
   "metadata": {},
   "source": [
    "**6.** Use `print()` and **f-strings** to write two sentences about Christine Darden using the variables `name`, `occupation`, `birth year` and `current_age`."
   ]
  },
  {
   "cell_type": "code",
   "execution_count": 23,
   "metadata": {},
   "outputs": [
    {
     "name": "stdout",
     "output_type": "stream",
     "text": [
      "Christine Darden was born in 1942. She worked as a technical leader of NASA's Sonic Boom Group and is now 83.\n"
     ]
    }
   ],
   "source": [
    "print(f\"{name} was born in {birth_year}. She worked as a {occupation} and is now {current_age}.\")"
   ]
  },
  {
   "cell_type": "markdown",
   "metadata": {},
   "source": [
    "## Debugging/Troubleshooting Practice"
   ]
  },
  {
   "cell_type": "markdown",
   "metadata": {},
   "source": [
    "**7.** The code below returns an error message. Fix the error and then run the code so that it prints correctly."
   ]
  },
  {
   "cell_type": "code",
   "execution_count": 26,
   "metadata": {},
   "outputs": [
    {
     "name": "stdout",
     "output_type": "stream",
     "text": [
      "Christine Darden was a technical leader of NASA's Sonic Boom Group. She was born in 1942.\n"
     ]
    }
   ],
   "source": [
    "print(f\"{name} was a {occupation}. She was born in {birth_year}.\")"
   ]
  },
  {
   "cell_type": "markdown",
   "metadata": {},
   "source": [
    "**8.** Explain why the code above produced an error message."
   ]
  },
  {
   "cell_type": "markdown",
   "metadata": {},
   "source": [
    "This produced an error message because the quotation marks were not closed out."
   ]
  },
  {
   "cell_type": "markdown",
   "metadata": {},
   "source": [
    "**9.** The code below also doesn't work properly. Fix the problem and then run the code so that it prints correctly."
   ]
  },
  {
   "cell_type": "code",
   "execution_count": 30,
   "metadata": {},
   "outputs": [
    {
     "name": "stdout",
     "output_type": "stream",
     "text": [
      "Christine Darden was a technical leader of NASA's Sonic Boom Group. She was born in 1942.\n"
     ]
    }
   ],
   "source": [
    "print(f\"{name} was a {occupation}. She was born in {birth_year}.\")"
   ]
  },
  {
   "cell_type": "markdown",
   "metadata": {},
   "source": [
    "**10.** Explain why the code above produced an error message."
   ]
  },
  {
   "cell_type": "markdown",
   "metadata": {},
   "source": [
    "This did not include the \"f\" at the beginning to retrieve the variables inserted in the sentence."
   ]
  },
  {
   "cell_type": "markdown",
   "metadata": {},
   "source": [
    "## Bonus"
   ]
  },
  {
   "cell_type": "markdown",
   "metadata": {},
   "source": [
    "Here are some bonus tasks in Python for you to try with Christine Darden:\n",
    "- Try to calculate how many days she's lived (approximately)\n",
    "- Print her name in all capital letters\n",
    "- Print her name in all lowercase letters\n",
    "- Count how many characters are in their name"
   ]
  },
  {
   "cell_type": "code",
   "execution_count": 35,
   "metadata": {},
   "outputs": [
    {
     "name": "stdout",
     "output_type": "stream",
     "text": [
      "30295\n"
     ]
    }
   ],
   "source": [
    "days_in_year = 365\n",
    "age_in_days = days_in_year * current_age\n",
    "print(age_in_days)"
   ]
  },
  {
   "cell_type": "code",
   "execution_count": 36,
   "metadata": {},
   "outputs": [
    {
     "name": "stdout",
     "output_type": "stream",
     "text": [
      "CHRISTINE DARDEN\n"
     ]
    }
   ],
   "source": [
    "print(name.upper())"
   ]
  },
  {
   "cell_type": "code",
   "execution_count": 37,
   "metadata": {},
   "outputs": [
    {
     "name": "stdout",
     "output_type": "stream",
     "text": [
      "christine darden\n"
     ]
    }
   ],
   "source": [
    "print(name.lower())"
   ]
  },
  {
   "cell_type": "code",
   "execution_count": 38,
   "metadata": {},
   "outputs": [
    {
     "name": "stdout",
     "output_type": "stream",
     "text": [
      "16\n"
     ]
    }
   ],
   "source": [
    "name_char = len(name)\n",
    "print(name_char)"
   ]
  },
  {
   "cell_type": "code",
   "execution_count": 39,
   "metadata": {},
   "outputs": [
    {
     "name": "stdout",
     "output_type": "stream",
     "text": [
      "15\n"
     ]
    }
   ],
   "source": [
    "name_char = len(name.replace(\" \",\"\"))\n",
    "print(name_char)"
   ]
  },
  {
   "cell_type": "markdown",
   "metadata": {},
   "source": [
    "## Submission"
   ]
  },
  {
   "cell_type": "markdown",
   "metadata": {},
   "source": [
    "Follow [the instructions](https://cblevins.github.io/sp25-data/assignments/coding-homework/) I've made for submitting homework and then submit your files on [the Canvas assignment page](https://ucdenver.instructure.com/courses/552717/assignments/1911767) in two files (one `.ipynb` and one `.pdf`).\n",
    "\n",
    "- Save your notebook\n",
    "- `Kernel` -> `Restart Kernel and Run All Cells`\n",
    "- `File` -> `Print` and try to find an option to Save/Print to PDF. Depending on your operating system and browser, this might be `Destination` -> `Save as PDF`, `Select Printer` -> `Microsoft Print to PDF` ([instructions for different browsers](https://xodo.com/blog/how-to-save-webpage-as-pdf)). Name the file with the same naming convention as your .ipynb file (ie. `hw-02-yourlastname.pdf`) and save the resulting PDF file (ending in `.pdf`) into the same folder."
   ]
  },
  {
   "cell_type": "code",
   "execution_count": null,
   "metadata": {},
   "outputs": [],
   "source": []
  }
 ],
 "metadata": {
  "kernelspec": {
   "display_name": "Python [conda env:base] *",
   "language": "python",
   "name": "conda-base-py"
  },
  "language_info": {
   "codemirror_mode": {
    "name": "ipython",
    "version": 3
   },
   "file_extension": ".py",
   "mimetype": "text/x-python",
   "name": "python",
   "nbconvert_exporter": "python",
   "pygments_lexer": "ipython3",
   "version": "3.12.7"
  },
  "toc-autonumbering": false
 },
 "nbformat": 4,
 "nbformat_minor": 4
}
